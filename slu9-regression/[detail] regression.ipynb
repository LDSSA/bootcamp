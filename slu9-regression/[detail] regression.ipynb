{
 "cells": [
  {
   "cell_type": "code",
   "execution_count": 1,
   "metadata": {},
   "outputs": [],
   "source": [
    "%matplotlib inline\n",
    "\n",
    "import matplotlib.pyplot as plt"
   ]
  },
  {
   "cell_type": "markdown",
   "metadata": {},
   "source": [
    "# SLU9 - Regression: Learning notebook\n",
    "\n",
    "In this notebook we will cover the following:\n",
    "- Simple Linear Regression\n",
    "- Gradient Descent\n",
    "- The impact of learning rate\n",
    "- Muliple Linear Regression\n",
    "- Using scikit learn linear regression\n",
    "- (Extra) Computational graphs: a conceptual framework for automated differentiation\n",
    "- (Extra) What is that *random_state* thing?\n",
    "\n",
    "\n",
    "A modeling task which objective is to create a map between the *independent variables* (i.e. the columns in your pandas dataframe) and the *dependent variables* (i.e. the variable you want to predict) by estimating a set of *unknown parameters*. TODO"
   ]
  },
  {
   "cell_type": "markdown",
   "metadata": {},
   "source": [
    "## Simple Linear regression\n",
    "\n",
    "$$\\hat{y} = \\beta_0 + \\beta_1 \\cdot x$$"
   ]
  },
  {
   "cell_type": "markdown",
   "metadata": {},
   "source": [
    "In order to estimate the parameters of the regression with the data we have, we have, at least, 4 ways of doing it:\n",
    "1. iterative methods using gradients;\n",
    "2. closed form solution through normal equations;\n",
    "3. evolutionary methods like genetic algorithms or particle swarm.\n",
    "\n",
    "Methods based on 3 are kind of an overkill, they don't guarantee you the optimal set of parameters for the model and just a curiosity. Methods 1 and 2 are the ones that we actually use to optimize the parameters. Let's look into them."
   ]
  },
  {
   "cell_type": "markdown",
   "metadata": {},
   "source": [
    "## Gradient Descent\n",
    "\n",
    "A lot of modern machine learning is based on setting up a really nice function and adjusting its internal parameters according to the data you have. In order to adapt the parameters of a function, you need somekind of optimization procedure. If your function is differentiable (TODO) and convex (TODO), you can find the best set of parameters using something called **gradient descent**. This refers to a whole family of optimization methods based on partial derivatives of functions. But, before going into what gradient descent actually is, we need to talk about **derivatives**!\n",
    "\n",
    "### Derivatives\n",
    "\n",
    "Derivatives is one of the main topics (if not the main topic) of a subfield of calculus called *differential calculus*. They allow you to know how a change in the input might change the output. TODO\n",
    "\n",
    "\n",
    "### Stochastic Gradient Descent\n",
    "\n",
    "$$\\omega_{i+1} = \\omega_{i} - \\alpha \\frac{\\partial f}{\\partial \\omega_{i}}$$\n",
    "\n"
   ]
  },
  {
   "cell_type": "code",
   "execution_count": 6,
   "metadata": {},
   "outputs": [],
   "source": [
    "import numpy as np"
   ]
  },
  {
   "cell_type": "code",
   "execution_count": 257,
   "metadata": {},
   "outputs": [],
   "source": [
    "def sech(x): \n",
    "    return 1 / np.cosh(x)"
   ]
  },
  {
   "cell_type": "code",
   "execution_count": 289,
   "metadata": {},
   "outputs": [],
   "source": [
    "def get_computed_function(x, name='convex-1'):\n",
    "    if name == 'convex-1': \n",
    "        # grad: 2*x\n",
    "        return x**2\n",
    "    if name == 'convex-2':\n",
    "        # grad: 2*x + 3\n",
    "        return x**2 + 3*x +2\n",
    "    if name == 'non-convex-1':\n",
    "        return np.sin(10 * x) * (2 - 1.4 * np.tanh(x ** 2))\n",
    "    if name == 'non-convex-2': \n",
    "        # grad: 2*x + np.cos(x)*(15*x/abs(x)) - abs(15*x)*np.sin(x)\n",
    "        return (x**2) + abs(15*x) * np.cos(x)\n",
    "    if name == 'non-convex-3': \n",
    "        # grad: -3 * np.sin(x) + x / abs(x)\n",
    "        return 3 * np.cos(x) + abs(x)"
   ]
  },
  {
   "cell_type": "code",
   "execution_count": 298,
   "metadata": {},
   "outputs": [],
   "source": [
    "def plot_function(curr_x, name='convex-1', range_def=[-10.0, 10.0, 10000]):\n",
    "    x = np.linspace(*range_def)\n",
    "    y = get_computed_function(x, name=name)\n",
    "    \n",
    "    curr_y = get\n",
    "\n",
    "    #dy = 10 * np.cos(10 * x) * (2 - 1.4 * np.tanh(x**2)) - 2.8 * x * np.sin(10 * x) * (sech(x ** 2)**2)\n",
    "\n",
    "    plt.plot(x, y)\n",
    "    plt.plot([-5], [4], 'o')\n",
    "    #plt.plot(x, dy)"
   ]
  },
  {
   "cell_type": "code",
   "execution_count": 299,
   "metadata": {},
   "outputs": [
    {
     "data": {
      "image/png": "[encoded data removed]",
      "text/plain": [
       "<Figure size 432x288 with 1 Axes>"
      ]
     },
     "metadata": {},
     "output_type": "display_data"
    }
   ],
   "source": [
    "plot_function(4)"
   ]
  },
  {
   "cell_type": "markdown",
   "metadata": {},
   "source": [
    "### Batch Gradient Descent\n",
    "\n",
    "$$\\omega_{i+1} = \\omega_{i} - \\alpha \\frac{\\partial f}{\\partial \\omega_{i}}$$\n",
    "\n",
    "TODO"
   ]
  },
  {
   "cell_type": "code",
   "execution_count": null,
   "metadata": {},
   "outputs": [],
   "source": []
  },
  {
   "cell_type": "code",
   "execution_count": 22,
   "metadata": {},
   "outputs": [],
   "source": [
    "from ipywidgets import interact, interactive, fixed, interact_manual\n",
    "from ipywidgets import FloatSlider, Dropdown\n",
    "import ipywidgets as widgets"
   ]
  },
  {
   "cell_type": "code",
   "execution_count": 23,
   "metadata": {},
   "outputs": [],
   "source": [
    "def f(x):\n",
    "    return x"
   ]
  },
  {
   "cell_type": "code",
   "execution_count": 242,
   "metadata": {},
   "outputs": [
    {
     "data": {
      "application/vnd.jupyter.widget-view+json": {
       "model_id": "149433c0380048fc935444a4beef8dd5",
       "version_major": 2,
       "version_minor": 0
      },
      "text/plain": [
       "interactive(children=(IntSlider(value=10, description='x', max=30, min=-10), Output()), _dom_classes=('widget-…"
      ]
     },
     "metadata": {},
     "output_type": "display_data"
    }
   ],
   "source": [
    "interact(f, x=10);"
   ]
  },
  {
   "cell_type": "code",
   "execution_count": 243,
   "metadata": {},
   "outputs": [
    {
     "data": {
      "application/vnd.jupyter.widget-view+json": {
       "model_id": "e659be1e0b7441719a2c7891d6c91f0b",
       "version_major": 2,
       "version_minor": 0
      },
      "text/plain": [
       "interactive(children=(FloatSlider(value=100000.0, description='x', max=10000000.0, min=100000.0, step=100000.0…"
      ]
     },
     "metadata": {},
     "output_type": "display_data"
    }
   ],
   "source": [
    "interact_manual(f, x=FloatSlider(min=1e5, max=1e7, step=1e5));"
   ]
  },
  {
   "cell_type": "markdown",
   "metadata": {},
   "source": [
    "## Multiple Linear Regression\n",
    "\n",
    "$$\\hat{y} = \\beta_0 + \\beta_1 \\cdot x_1 + \\beta_2 \\cdot x_2 + \\beta_3 \\cdot x_3 + \\beta_4 \\cdot x_4 + \\beta_5 \\cdot x_5$$\n",
    "\n",
    "$$\\hat{y} = \\beta_0 + \\sum_{i=1}^{5} \\beta_i \\cdot x_i$$\n",
    "\n",
    "$$\\hat{y}^{[j]} = \\beta_0 + \\sum_{i=1}^{5} \\beta_i \\cdot x_i^{[j]}$$"
   ]
  },
  {
   "cell_type": "code",
   "execution_count": 171,
   "metadata": {},
   "outputs": [],
   "source": [
    "from sklearn.datasets import make_regression"
   ]
  },
  {
   "cell_type": "code",
   "execution_count": 172,
   "metadata": {},
   "outputs": [],
   "source": [
    "x, y = make_regression(n_features=1, n_samples=500, noise=30.5, random_state=10)"
   ]
  },
  {
   "cell_type": "code",
   "execution_count": 173,
   "metadata": {},
   "outputs": [],
   "source": [
    "import pandas as pd"
   ]
  },
  {
   "cell_type": "code",
   "execution_count": 174,
   "metadata": {},
   "outputs": [],
   "source": [
    "d = pd.concat((pd.DataFrame(x), pd.DataFrame(y)), axis=1)\n",
    "d.columns = ['x', 'y']"
   ]
  },
  {
   "cell_type": "code",
   "execution_count": 175,
   "metadata": {},
   "outputs": [
    {
     "data": {
      "text/plain": [
       "<matplotlib.axes._subplots.AxesSubplot at 0x7f25b846d358>"
      ]
     },
     "execution_count": 175,
     "metadata": {},
     "output_type": "execute_result"
    },
    {
     "data": {
      "image/png": "[encoded data removed]",
      "text/plain": [
       "<Figure size 432x288 with 1 Axes>"
      ]
     },
     "metadata": {},
     "output_type": "display_data"
    }
   ],
   "source": [
    "d.plot.scatter('x', 'y')"
   ]
  },
  {
   "cell_type": "code",
   "execution_count": 176,
   "metadata": {},
   "outputs": [],
   "source": [
    "from sklearn.linear_model import SGDRegressor"
   ]
  },
  {
   "cell_type": "code",
   "execution_count": 177,
   "metadata": {},
   "outputs": [],
   "source": [
    "lr = SGDRegressor(penalty=None, random_state=10)"
   ]
  },
  {
   "cell_type": "code",
   "execution_count": null,
   "metadata": {},
   "outputs": [],
   "source": []
  },
  {
   "cell_type": "code",
   "execution_count": null,
   "metadata": {},
   "outputs": [],
   "source": []
  },
  {
   "cell_type": "code",
   "execution_count": null,
   "metadata": {},
   "outputs": [],
   "source": []
  },
  {
   "cell_type": "code",
   "execution_count": 178,
   "metadata": {},
   "outputs": [],
   "source": [
    "from sklearn.linear_model import LinearRegression"
   ]
  },
  {
   "cell_type": "code",
   "execution_count": 179,
   "metadata": {},
   "outputs": [],
   "source": [
    "lr = LinearRegression()"
   ]
  },
  {
   "cell_type": "code",
   "execution_count": 180,
   "metadata": {},
   "outputs": [
    {
     "data": {
      "text/plain": [
       "LinearRegression(copy_X=True, fit_intercept=True, n_jobs=1, normalize=False)"
      ]
     },
     "execution_count": 180,
     "metadata": {},
     "output_type": "execute_result"
    }
   ],
   "source": [
    "lr.fit(x, y)"
   ]
  },
  {
   "cell_type": "code",
   "execution_count": 181,
   "metadata": {},
   "outputs": [
    {
     "data": {
      "text/plain": [
       "0.8056952217905837"
      ]
     },
     "execution_count": 181,
     "metadata": {},
     "output_type": "execute_result"
    }
   ],
   "source": [
    "lr.score(x, y)"
   ]
  },
  {
   "cell_type": "code",
   "execution_count": 182,
   "metadata": {},
   "outputs": [
    {
     "data": {
      "text/plain": [
       "array([63.83578064])"
      ]
     },
     "execution_count": 182,
     "metadata": {},
     "output_type": "execute_result"
    }
   ],
   "source": [
    "lr.coef_"
   ]
  },
  {
   "cell_type": "code",
   "execution_count": 183,
   "metadata": {},
   "outputs": [
    {
     "data": {
      "text/plain": [
       "[<matplotlib.lines.Line2D at 0x7f25b85dd710>]"
      ]
     },
     "execution_count": 183,
     "metadata": {},
     "output_type": "execute_result"
    },
    {
     "data": {
      "image/png": "[encoded data removed]",
      "text/plain": [
       "<Figure size 432x288 with 1 Axes>"
      ]
     },
     "metadata": {},
     "output_type": "display_data"
    }
   ],
   "source": [
    "plt.scatter(x, y)\n",
    "plt.plot(x, lr.fit(x, y).predict(x), color='blue', linewidth=3)"
   ]
  },
  {
   "cell_type": "code",
   "execution_count": null,
   "metadata": {},
   "outputs": [],
   "source": []
  },
  {
   "cell_type": "code",
   "execution_count": null,
   "metadata": {},
   "outputs": [],
   "source": []
  },
  {
   "cell_type": "code",
   "execution_count": 185,
   "metadata": {},
   "outputs": [],
   "source": [
    "rs = np.random.RandomState(10)\n",
    "x = rs.rand(5000, 1)\n",
    "y = rs.rand(5000, 1)"
   ]
  },
  {
   "cell_type": "code",
   "execution_count": 186,
   "metadata": {},
   "outputs": [
    {
     "data": {
      "text/plain": [
       "<matplotlib.collections.PathCollection at 0x7f25b83c6b70>"
      ]
     },
     "execution_count": 186,
     "metadata": {},
     "output_type": "execute_result"
    },
    {
     "data": {
      "image/png": "[encoded data removed]",
      "text/plain": [
       "<Figure size 432x288 with 1 Axes>"
      ]
     },
     "metadata": {},
     "output_type": "display_data"
    }
   ],
   "source": [
    "plt.scatter(x, y)"
   ]
  },
  {
   "cell_type": "code",
   "execution_count": 187,
   "metadata": {},
   "outputs": [],
   "source": [
    "lr = LinearRegression()"
   ]
  },
  {
   "cell_type": "code",
   "execution_count": 188,
   "metadata": {},
   "outputs": [
    {
     "data": {
      "text/plain": [
       "LinearRegression(copy_X=True, fit_intercept=True, n_jobs=1, normalize=False)"
      ]
     },
     "execution_count": 188,
     "metadata": {},
     "output_type": "execute_result"
    }
   ],
   "source": [
    "lr.fit(x, y)"
   ]
  },
  {
   "cell_type": "code",
   "execution_count": 189,
   "metadata": {},
   "outputs": [
    {
     "data": {
      "text/plain": [
       "[<matplotlib.lines.Line2D at 0x7f25b8371d68>]"
      ]
     },
     "execution_count": 189,
     "metadata": {},
     "output_type": "execute_result"
    },
    {
     "data": {
      "image/png": "[encoded data removed]",
      "text/plain": [
       "<Figure size 432x288 with 1 Axes>"
      ]
     },
     "metadata": {},
     "output_type": "display_data"
    }
   ],
   "source": [
    "plt.scatter(x, y)\n",
    "plt.plot(x, lr.fit(x, y).predict(x), color='blue', linewidth=3)"
   ]
  },
  {
   "cell_type": "code",
   "execution_count": 190,
   "metadata": {},
   "outputs": [
    {
     "data": {
      "text/plain": [
       "0.00017788109353056303"
      ]
     },
     "execution_count": 190,
     "metadata": {},
     "output_type": "execute_result"
    }
   ],
   "source": [
    "lr.score(x, y)"
   ]
  },
  {
   "cell_type": "code",
   "execution_count": 191,
   "metadata": {},
   "outputs": [
    {
     "data": {
      "text/plain": [
       "array([[0.01331052]])"
      ]
     },
     "execution_count": 191,
     "metadata": {},
     "output_type": "execute_result"
    }
   ],
   "source": [
    "lr.coef_"
   ]
  },
  {
   "cell_type": "code",
   "execution_count": 192,
   "metadata": {},
   "outputs": [
    {
     "data": {
      "text/plain": [
       "array([0.48679911])"
      ]
     },
     "execution_count": 192,
     "metadata": {},
     "output_type": "execute_result"
    }
   ],
   "source": [
    "lr.intercept_"
   ]
  },
  {
   "cell_type": "markdown",
   "metadata": {},
   "source": [
    "Hmmm...the coeficient is pretty much close to zero and the intercept is about 0.5. \n",
    "\n",
    "Our completely random data set was generated, for both variables, between 0 and 1."
   ]
  },
  {
   "cell_type": "code",
   "execution_count": null,
   "metadata": {},
   "outputs": [],
   "source": []
  },
  {
   "cell_type": "markdown",
   "metadata": {},
   "source": [
    "## Using scikit learn linear regression\n",
    "\n",
    "Scikit Learn is one of the main pieces of tech stacks for data science throughout the world. It offers a wide range of algorithms to create models for regression, classification and unsupervised learning tasks, as well as methods for preprocessing and visualizations. Also, it provides the users with well-thought abstractions to chain all the transformers and models into a single pipeline. TODO\n",
    "\n",
    "There are two implementations of the basic linear regression: \n",
    "* *sklearn.linear_model.LinearRegression*: TODO\n",
    "* *sklearn.linear_model.SGDRegressor*: TODO"
   ]
  },
  {
   "cell_type": "code",
   "execution_count": 7,
   "metadata": {},
   "outputs": [],
   "source": [
    "from sklearn.linear_model import LinearRegression"
   ]
  },
  {
   "cell_type": "code",
   "execution_count": 8,
   "metadata": {},
   "outputs": [],
   "source": [
    "lr = LinearRegression()"
   ]
  },
  {
   "cell_type": "code",
   "execution_count": 5,
   "metadata": {},
   "outputs": [],
   "source": [
    "from sklearn.linear_model import SGDRegressor"
   ]
  },
  {
   "cell_type": "code",
   "execution_count": 6,
   "metadata": {},
   "outputs": [],
   "source": [
    "lr = SGDRegressor()"
   ]
  },
  {
   "cell_type": "code",
   "execution_count": null,
   "metadata": {},
   "outputs": [],
   "source": []
  },
  {
   "cell_type": "markdown",
   "metadata": {},
   "source": [
    "### (EXTRA) What is that *random_state* thing?\n",
    "\n",
    "You have probably noticed that SGDRegressor used a misterious parameter: *random_state*. \n",
    "\n",
    "The parameter *random_state* is a very common one in scikit-learn and numpy. This parameter is the seed for the random numbers generator.\n",
    "\n",
    "This is actually **very important** for you to know because, by controlling the *random_state* value, you will make the entire process **reproducible** (i.e. everytime we run your code, we get the same results).\n",
    "\n",
    "You might be wondering _\"why does scikit-learn need to generate random numbers?\"_. Machine/Statistical learning and data analysis depend *a lot* on random processes. A random process depends, as the name suggests, on randomness. These random processes are used in many things: sampling probability distributions, initializing the parameters vector of a linear regression or neural network, selecting feature values to be used in cuts on decision trees, selecting subsets of data for cross-validation, etc. So, again, random_state is **really_important**.\n",
    "\n",
    "Inside every piece of scikit-learn code that uses random numbers generators TODO\n",
    "\n",
    "If you set the *random_state* parameter to an integer, you get the same result everytime, unless there is a bug in the implementation."
   ]
  },
  {
   "cell_type": "code",
   "execution_count": 60,
   "metadata": {},
   "outputs": [],
   "source": [
    "import numpy as np\n",
    "from sklearn.utils import check_random_state"
   ]
  },
  {
   "cell_type": "code",
   "execution_count": 61,
   "metadata": {},
   "outputs": [
    {
     "name": "stdout",
     "output_type": "stream",
     "text": [
      "Help on function check_random_state in module sklearn.utils.validation:\n",
      "\n",
      "check_random_state(seed)\n",
      "    Turn seed into a np.random.RandomState instance\n",
      "    \n",
      "    Parameters\n",
      "    ----------\n",
      "    seed : None | int | instance of RandomState\n",
      "        If seed is None, return the RandomState singleton used by np.random.\n",
      "        If seed is an int, return a new RandomState instance seeded with seed.\n",
      "        If seed is already a RandomState instance, return it.\n",
      "        Otherwise raise ValueError.\n",
      "\n"
     ]
    }
   ],
   "source": [
    "help(check_random_state)"
   ]
  },
  {
   "cell_type": "code",
   "execution_count": 62,
   "metadata": {},
   "outputs": [
    {
     "data": {
      "text/plain": [
       "<mtrand.RandomState at 0x7f25ce1b91f8>"
      ]
     },
     "execution_count": 62,
     "metadata": {},
     "output_type": "execute_result"
    }
   ],
   "source": [
    "check_random_state(None)"
   ]
  },
  {
   "cell_type": "code",
   "execution_count": 63,
   "metadata": {},
   "outputs": [
    {
     "data": {
      "text/plain": [
       "<mtrand.RandomState at 0x7f25b8b62558>"
      ]
     },
     "execution_count": 63,
     "metadata": {},
     "output_type": "execute_result"
    }
   ],
   "source": [
    "check_random_state(10)"
   ]
  },
  {
   "cell_type": "code",
   "execution_count": 80,
   "metadata": {},
   "outputs": [],
   "source": [
    "rs1 = np.random.RandomState(10)"
   ]
  },
  {
   "cell_type": "code",
   "execution_count": 81,
   "metadata": {},
   "outputs": [],
   "source": [
    "rs2 = check_random_state(np.random.RandomState(10))"
   ]
  },
  {
   "cell_type": "code",
   "execution_count": 82,
   "metadata": {},
   "outputs": [
    {
     "data": {
      "text/plain": [
       "array([0.77132064, 0.02075195, 0.63364823, 0.74880388, 0.49850701])"
      ]
     },
     "execution_count": 82,
     "metadata": {},
     "output_type": "execute_result"
    }
   ],
   "source": [
    "rs1.rand(5)"
   ]
  },
  {
   "cell_type": "code",
   "execution_count": 83,
   "metadata": {},
   "outputs": [
    {
     "data": {
      "text/plain": [
       "array([0.77132064, 0.02075195, 0.63364823, 0.74880388, 0.49850701])"
      ]
     },
     "execution_count": 83,
     "metadata": {},
     "output_type": "execute_result"
    }
   ],
   "source": [
    "rs2.rand(5)"
   ]
  },
  {
   "cell_type": "code",
   "execution_count": 91,
   "metadata": {},
   "outputs": [],
   "source": [
    "np.random.seed(10)"
   ]
  },
  {
   "cell_type": "code",
   "execution_count": 92,
   "metadata": {},
   "outputs": [
    {
     "data": {
      "text/plain": [
       "array([0.77132064, 0.02075195, 0.63364823, 0.74880388, 0.49850701,\n",
       "       0.22479665, 0.19806286, 0.76053071, 0.16911084, 0.08833981])"
      ]
     },
     "execution_count": 92,
     "metadata": {},
     "output_type": "execute_result"
    }
   ],
   "source": [
    "np.random.rand(10)"
   ]
  },
  {
   "cell_type": "markdown",
   "metadata": {},
   "source": [
    "## (EXTRA) Computational graphs: a conceptual framework for automated differentiation\n",
    "\n",
    "Nowadays, many of the mainstream machine learning models are based on gradient descent in one way or another. Even if they aren't (explicitly), they are obtained through the minimization/maximization of a differentiable function (e.g. K-Means, Support Vector Machines, Probabilistic Graphical Models). \n",
    "\n",
    "Computational graphs aren't a theory that provides a better optimization method nor a better model. It is \"just\" the reframing of our mind set on how we represent functions. TODO\n",
    "\n",
    "MAIN PURPOSES OF CGs:\n",
    "* Make it easy to visually debug TODO\n",
    "* Unify several models, based on differentiable \n",
    "* TODO: shared parameters\n",
    "* TODO: max/min pool\n",
    "* A conceptual framework that allows efficient and parallelizable TODO\n",
    "\n",
    "\n",
    "Computational graphs are, literally, the backbone of frameworks like PyTorch, Autograd, TensorFlow and Chainer.\n",
    "\n",
    "In order to grasp the intuition behind Computational Graphs, let's start with some simple examples\n",
    "\n",
    "$$f(x) = x^2 + y + 2$$\n",
    "\n",
    "$$f(x) = x^2 + x y$$\n",
    "\n",
    "$$f(x) = \\frac{xy + zxy}{2z + y}$$"
   ]
  },
  {
   "cell_type": "code",
   "execution_count": null,
   "metadata": {},
   "outputs": [],
   "source": []
  }
 ],
 "metadata": {
  "kernelspec": {
   "display_name": "Python 3",
   "language": "python",
   "name": "python3"
  },
  "language_info": {
   "codemirror_mode": {
    "name": "ipython",
    "version": 3
   },
   "file_extension": ".py",
   "mimetype": "text/x-python",
   "name": "python",
   "nbconvert_exporter": "python",
   "pygments_lexer": "ipython3",
   "version": "3.6.3"
  }
 },
 "nbformat": 4,
 "nbformat_minor": 2
}
