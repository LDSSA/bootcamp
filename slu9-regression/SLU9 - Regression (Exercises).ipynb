{
 "cells": [
  {
   "cell_type": "markdown",
   "metadata": {},
   "source": [
    "# SLU9 - Regression: Exercise notebook"
   ]
  },
  {
   "cell_type": "code",
   "execution_count": 1,
   "metadata": {},
   "outputs": [],
   "source": [
    "import pandas as pd\n",
    "import numpy as np"
   ]
  },
  {
   "cell_type": "markdown",
   "metadata": {},
   "source": [
    "In this notebook you will practice the following:\n",
    "* Gradient Descent\n",
    "* Simple Linear Regression\n",
    "* Multiple Linear Regression\n",
    "* Using scikit learn linear regression implementations"
   ]
  },
  {
   "cell_type": "markdown",
   "metadata": {},
   "source": [
    "If this is the first time, in a long time, that you see mathematical notation, do not despair. TODO\n",
    "* $\\beta_0$, $\\beta_1$, ..., $\\beta_K$: these are the parameters of your model that you will \n",
    "* $\\sum_{n=0}^N$ means that you will sum all TODO"
   ]
  },
  {
   "cell_type": "markdown",
   "metadata": {},
   "source": [
    "## Simple Linear Regression & Gradient Descent"
   ]
  },
  {
   "cell_type": "markdown",
   "metadata": {},
   "source": [
    "#### Simple Linear Regression formula\n",
    "\n",
    "For starters, let's implement the line equation ($\\hat{y} = \\beta_0 + \\beta_1 x$) in the method bellow. You will receive a "
   ]
  },
  {
   "cell_type": "code",
   "execution_count": 2,
   "metadata": {},
   "outputs": [],
   "source": [
    "def simple_linear_regression_output(x, b0, b1):\n",
    "    \"\"\"\n",
    "    Args:\n",
    "        x : pandas.Series with shape (num_observations, 1)\n",
    "            The input data to be used in y_hat.\n",
    "        b0 : float\n",
    "            The intercept in y_hat.\n",
    "        b1 : float\n",
    "            The coefficient in y_hat.\n",
    "    \n",
    "    Returns:\n",
    "        y_hat : numpy.array with shape\n",
    "            The prediction made by the simple linear regression.\n",
    "    \"\"\"\n",
    "    y_hat = b0 + b1 * x\n",
    "    \n",
    "    return y_hat"
   ]
  },
  {
   "cell_type": "markdown",
   "metadata": {},
   "source": [
    "#### Mean Squared Error"
   ]
  },
  {
   "cell_type": "markdown",
   "metadata": {},
   "source": [
    "$$MSE = \\frac{1}{N} \\sum_{n=1}^N (y_n - \\hat{y}_n)^2 = \\sum_{n=1}^N (y_n - (\\beta_0 + \\beta_1 x_n))^2$$"
   ]
  },
  {
   "cell_type": "code",
   "execution_count": 3,
   "metadata": {},
   "outputs": [],
   "source": [
    "def mean_squared_error(y, y_hat):\n",
    "    \"\"\"\n",
    "    Args: \n",
    "        y : pandas.Series\n",
    "            The targets.\n",
    "        y_hat : pandas.Series\n",
    "            The predictions made by a simple linear regression.\n",
    "    \n",
    "    Returns:\n",
    "        mse : pandas.Series\n",
    "            Mean Squared Error between y and y_hat\n",
    "    \"\"\"\n",
    "    #1) Perform the difference\n",
    "    e = (y - y_hat)\n",
    "    \n",
    "    #2) Now, square the difference\n",
    "    s = e ** 2\n",
    "    \n",
    "    #3) Finally, take the mean.\n",
    "    m = s.mean()\n",
    "    \n",
    "    return m"
   ]
  },
  {
   "cell_type": "markdown",
   "metadata": {},
   "source": [
    "#### Simple Linear Regression partial derivatives"
   ]
  },
  {
   "cell_type": "markdown",
   "metadata": {},
   "source": [
    "$$\\frac{\\partial MSE}{\\partial b_0} = - \\frac{1}{N} \\sum_{n=1}^N 2(y_n - \\hat{y}_n) $$\n",
    "\n",
    "$$\\frac{\\partial MSE}{\\partial b_1} = - \\frac{1}{N} \\sum_{n=1}^N 2(y_n - \\hat{y}_n)x_n $$"
   ]
  },
  {
   "cell_type": "code",
   "execution_count": 111,
   "metadata": {},
   "outputs": [],
   "source": [
    "def simple_linear_regression_gradient(x, y, b0, b1):\n",
    "    \"\"\"\n",
    "    Args:\n",
    "        x : pandas.Series with shape (num_observations, 1)\n",
    "            The input data to be used in y_hat. \n",
    "        y : pandas.Series with shape (num_observations, 1)\n",
    "            TODO\n",
    "        b0 : float\n",
    "            The intercept in y_hat.\n",
    "        b1 : float\n",
    "            The coefficient in y_hat.\n",
    "    \n",
    "    Returns:\n",
    "        dMSE_db0 : TODO\n",
    "        dMSE_db1 : TODO\n",
    "    \"\"\"\n",
    "    # 1) Get the predictions.\n",
    "    y_hat = simple_linear_regression_output(x, b0, b1)\n",
    "    \n",
    "    # 2) Compute the difference between the targets and \n",
    "    #    the predictions.\n",
    "    y_dif = y - y_hat\n",
    "    \n",
    "    # 3) Perform the mean as in the formula.\n",
    "    dMSE_db0 = -(2 * y_dif).mean()\n",
    "    \n",
    "    # 4) Same thing as 'dMSE_db0' but this time you must \n",
    "    #    account for the input 'x'.\n",
    "    dMSE_db1 = -((2 * y_dif) * x).mean()\n",
    "    \n",
    "    return dMSE_db0, dMSE_db1"
   ]
  },
  {
   "cell_type": "markdown",
   "metadata": {},
   "source": [
    "#### Adjusting Simple Linear Regression $\\beta_0$ and $\\beta_1$ parameters with gradient descent"
   ]
  },
  {
   "cell_type": "markdown",
   "metadata": {},
   "source": [
    "1. _For epoch in 1...epochs:_\n",
    "    1. $d_y = (y - \\hat{y})$\n",
    "    2. $\\beta_0 = \\beta_0 - \\alpha \\frac{\\partial MSE}{\\partial \\beta_0} = \\beta_0 + \\alpha \\frac{1}{N} \\sum_{n=1}^N 2 d_y$ \n",
    "    3. _For i in 1..K:_\n",
    "        1. $\\beta_i = \\beta_i - \\alpha \\frac{\\partial MSE}{\\partial \\beta_i} = \\beta_i + \\alpha \\frac{1}{N} \\sum_{n=1}^N 2 d_y x_{i_n}$ "
   ]
  },
  {
   "cell_type": "code",
   "execution_count": 50,
   "metadata": {},
   "outputs": [],
   "source": [
    "def simple_linear_regression_gradient_descent(x, y, b0, b1, learning_rate, epochs): \n",
    "    \"\"\"\n",
    "    Args:\n",
    "        x : pandas.Series\n",
    "            TODO\n",
    "        x : pandas.Series\n",
    "            TODO\n",
    "        b0 : float\n",
    "            TODO\n",
    "        b1 : float\n",
    "            TODO\n",
    "        learning_rate : float\n",
    "            TODO\n",
    "        epochs : integer\n",
    "            TODO\n",
    "    \n",
    "    Returns\n",
    "        b0 : float\n",
    "            TODO\n",
    "        b1 : float\n",
    "            TODO\n",
    "    \"\"\"\n",
    "    # 1) For a number of epochs:\n",
    "    for epoch in range(epochs):\n",
    "        # 1.1) Get the gradients\n",
    "        dMSE_db0, dMSE_db1 = simple_linear_regression_gradient(x, y, b0, b1)\n",
    "        \n",
    "        # 1.2) Change b0\n",
    "        b0 = b0 - learning_rate * dMSE_db0\n",
    "        \n",
    "        # 1.3) Change b1\n",
    "        b1 = b1 - learning_rate * dMSE_db1\n",
    "        \n",
    "    return b0, b1"
   ]
  },
  {
   "cell_type": "markdown",
   "metadata": {},
   "source": [
    "#### Adjusting Simple Linear Regression $\\beta_0$ and $\\beta_1$ parameters with stochastic gradient descent"
   ]
  },
  {
   "cell_type": "markdown",
   "metadata": {},
   "source": [
    "1. _For epoch in 1...epochs:_\n",
    "    1. _X' = shuffle(X)_\n",
    "    2. _For each $x_n$ in $X'$_:\n",
    "        1. $b_0 = b_0 - \\alpha \\frac{\\partial SE}{\\partial b_0} = b_0 + 2 \\alpha (y - \\hat{y})$\n",
    "        2. $b_1 = b_1 - \\alpha \\frac{\\partial SE}{\\partial b_1} = b_1 + 2 \\alpha (y - \\hat{y})x_n$"
   ]
  },
  {
   "cell_type": "code",
   "execution_count": 112,
   "metadata": {},
   "outputs": [],
   "source": [
    "from sklearn.utils import check_random_state\n",
    "\n",
    "def simple_linear_regression_stochastic_gradient_descent(x, y, b0, b1, learning_rate, epochs, random_state): \n",
    "    \"\"\"\n",
    "    \"\"\"\n",
    "    # TODO\n",
    "    # ) Create a random numbers generator using TODO\n",
    "    random_state = check_random_state(random_state)\n",
    "    \n",
    "    # ) TODO\n",
    "    data = pd.concat(\n",
    "        (x.to_frame(), y.to_frame()), \n",
    "        axis=1)\n",
    "    data.columns = ['x', 'y']\n",
    "    \n",
    "    for epoch in range(epochs):\n",
    "        # Get a shuffled version of x\n",
    "        data_ = data.sample(n=data.shape[0], random_state=random_state)\n",
    "        x_ = data['x']\n",
    "        y_ = data['y']\n",
    "        for n in range(x.shape[0]): \n",
    "            dMSE_db0, dMSE_db1 = simple_linear_regression_gradient(x_.iloc[[n]], y_.iloc[[n]], b0, b1)\n",
    "            \n",
    "            b0 = b0 - learning_rate * dMSE_db0\n",
    "\n",
    "            b1 = b1 - learning_rate * dMSE_db1\n",
    "    \n",
    "    return b0, b1"
   ]
  },
  {
   "cell_type": "code",
   "execution_count": 108,
   "metadata": {},
   "outputs": [
    {
     "data": {
      "text/plain": [
       "(-11.590892497548133, 4.163402926925734)"
      ]
     },
     "execution_count": 108,
     "metadata": {},
     "output_type": "execute_result"
    }
   ],
   "source": [
    "b0, b1 = -1, -1\n",
    "\n",
    "xx = StandardScaler().fit_transform(x[['RM']])\n",
    "xx = pd.Series(xx[:, 0])\n",
    "\n",
    "simple_linear_regression_stochastic_gradient_descent(x['RM'], y, b0, b1, 0.01, 50, 10)"
   ]
  },
  {
   "cell_type": "markdown",
   "metadata": {},
   "source": [
    "## Multiple Linear Regression"
   ]
  },
  {
   "cell_type": "markdown",
   "metadata": {},
   "source": [
    "#### Multiple Linear Regression formula\n",
    "\n",
    "$$\\hat{y} = \\beta_0 + \\sum_{i=0}^K \\beta_i$$"
   ]
  },
  {
   "cell_type": "code",
   "execution_count": 8,
   "metadata": {},
   "outputs": [],
   "source": [
    "def multiple_linear_regression_output(x, betas):\n",
    "    \"\"\"\n",
    "    Args:\n",
    "        x : pandas.DataFrame with shape (num_observations, num_features)\n",
    "            TODO\n",
    "        betas : pandas.Series with shape (num_features, 1)\n",
    "            TODO\n",
    "    \n",
    "    Returns:\n",
    "        y_hat : numpy.array with shape\n",
    "            The prediction made by the simple linear regression.\n",
    "    \"\"\"\n",
    "    # 1) TODO\n",
    "    betas = betas.values.reshape((betas.shape[0], 1))\n",
    "    \n",
    "    # 2) TODO\n",
    "    dot_product = x.dot(betas)\n",
    "    \n",
    "    # 3) TODO\n",
    "    y_hat = betas[0] + dot_product\n",
    "    \n",
    "    # 3) TODO\n",
    "    y_hat = y_hat[0]\n",
    "    \n",
    "    return y_hat"
   ]
  },
  {
   "cell_type": "markdown",
   "metadata": {},
   "source": [
    "#### Multiple Linear Regression partial derivatives\n",
    "\n",
    "$$\\frac{\\partial MSE}{\\partial b_0} = - \\frac{1}{N} \\sum_{n=1}^N 2(y_n - \\hat{y}_n) $$\n",
    "\n",
    "$$\\frac{\\partial MSE}{\\partial b_1} = - \\frac{1}{N} \\sum_{n=1}^N 2(y_n - \\hat{y}_n)x_{1_n} $$\n",
    "\n",
    "$$...$$\n",
    "\n",
    "$$\\frac{\\partial MSE}{\\partial b_K} = - \\frac{1}{N} \\sum_{n=1}^N 2(y_n - \\hat{y}_n)x_{K_n} $$"
   ]
  },
  {
   "cell_type": "code",
   "execution_count": 144,
   "metadata": {},
   "outputs": [],
   "source": [
    "def multiple_linear_regression_gradient(x, y, betas):\n",
    "    \"\"\"\n",
    "    Args:\n",
    "        x : pandas.DataFrame with shape (num_observations, num_features)\n",
    "            TODO\n",
    "        y : pandas.Series with shape (num_observations,)\n",
    "            TODO\n",
    "        betas : pandas.Series with shape (num_features,)\n",
    "            TODO\n",
    "    \n",
    "    Returns:\n",
    "        dMSE_dbetas : pandas.Series shape (num_features + 1,)\n",
    "            TODO\n",
    "    \"\"\"\n",
    "    # TODO\n",
    "    # 1) Get the predictions.\n",
    "    y_hat = multiple_linear_regression_output(x, betas)\n",
    "    \n",
    "    # 2) Compute the difference between the targets and \n",
    "    #    the predictions.\n",
    "    y_dif = y - y_hat\n",
    "    \n",
    "    dMSE_dbetas = np.zeros((x.shape[1], 1))\n",
    "    print(dMSE_dbetas.shape)\n",
    "    \n",
    "    # 3) TODO\n",
    "    dMSE_dbetas[0] = -(2 * y_dif).mean()\n",
    "    \n",
    "    # 4) TODO\n",
    "    for k, col in enumerate(x.columns): \n",
    "        dMSE_dbetas[k] = -((2 * y_dif) * x[col]).mean()\n",
    "    \n",
    "    return pd.Series(dMSE_dbetas[:, 0])"
   ]
  },
  {
   "cell_type": "code",
   "execution_count": 174,
   "metadata": {},
   "outputs": [
    {
     "name": "stdout",
     "output_type": "stream",
     "text": [
      "(13, 1)\n"
     ]
    },
    {
     "data": {
      "text/plain": [
       "0      9.156965\n",
       "1     -8.161142\n",
       "2     12.002653\n",
       "3     -1.295976\n",
       "4     10.698392\n",
       "5    -13.182164\n",
       "6      9.520660\n",
       "7     -6.930527\n",
       "8      9.728896\n",
       "9     11.467462\n",
       "10    11.015124\n",
       "11    -6.754270\n",
       "12    15.805320\n",
       "dtype: float64"
      ]
     },
     "execution_count": 174,
     "metadata": {},
     "output_type": "execute_result"
    }
   ],
   "source": [
    "betas = pd.Series(np.random.rand(x.shape[1],))\n",
    "\n",
    "xx = pd.DataFrame(scaler.fit_transform(x), columns=x.columns)\n",
    "multiple_linear_regression_gradient(xx, y, betas)"
   ]
  },
  {
   "cell_type": "code",
   "execution_count": null,
   "metadata": {},
   "outputs": [],
   "source": []
  },
  {
   "cell_type": "code",
   "execution_count": null,
   "metadata": {},
   "outputs": [],
   "source": []
  },
  {
   "cell_type": "markdown",
   "metadata": {},
   "source": [
    "#### Adjusting Multiple Linear Regression $\\beta_i, 0 \\leq i \\leq K$  parameters with gradient descent"
   ]
  },
  {
   "cell_type": "code",
   "execution_count": null,
   "metadata": {},
   "outputs": [],
   "source": []
  },
  {
   "cell_type": "markdown",
   "metadata": {},
   "source": [
    "#### Adjusting Multiple Linear Regression $\\beta_i, 0 \\leq i \\leq K$  parameters with stochastic gradient descent"
   ]
  },
  {
   "cell_type": "code",
   "execution_count": null,
   "metadata": {},
   "outputs": [],
   "source": []
  },
  {
   "cell_type": "markdown",
   "metadata": {},
   "source": [
    "## Using scikit learn linear regression implementations"
   ]
  },
  {
   "cell_type": "code",
   "execution_count": 9,
   "metadata": {},
   "outputs": [],
   "source": [
    "from sklearn.datasets import load_boston\n",
    "\n",
    "data = load_boston()\n",
    "\n",
    "x = pd.DataFrame(data['data'], columns=data['feature_names'])\n",
    "y = pd.Series(data['target'])"
   ]
  },
  {
   "cell_type": "code",
   "execution_count": 10,
   "metadata": {},
   "outputs": [
    {
     "name": "stdout",
     "output_type": "stream",
     "text": [
      "score: -2.5315198275527102e+26\n",
      "[ 1.02627826e+11  3.66158081e+11 -5.04101460e+11 -1.96573916e+10\n",
      " -1.53194028e+11  3.94680454e+11  1.44583612e+11 -4.71698425e+10\n",
      "  1.05109051e+11  2.60591566e+11  2.42687945e+10  6.45655956e+10\n",
      " -1.10882876e+11]\n"
     ]
    }
   ],
   "source": [
    "from sklearn.linear_model import SGDRegressor\n",
    "\n",
    "learning_rate = 0.001\n",
    "epochs = 10000\n",
    "\n",
    "lr1 = SGDRegressor(random_state=10, \n",
    "                   penalty=None, \n",
    "                   shuffle=True, \n",
    "                   learning_rate='constant', \n",
    "                   eta0=learning_rate, \n",
    "                   max_iter=epochs)\n",
    "\n",
    "lr1.fit(x, y)\n",
    "\n",
    "print('score: {}'.format(lr1.score(x, y)))\n",
    "print(lr1.coef_)"
   ]
  },
  {
   "cell_type": "code",
   "execution_count": 11,
   "metadata": {},
   "outputs": [
    {
     "name": "stdout",
     "output_type": "stream",
     "text": [
      "score: 0.7395627209759178\n",
      "[-0.87655783  1.06583781  0.17346109  0.64924857 -2.03868254  2.63270943\n",
      "  0.05614245 -3.13957329  2.70956499 -2.04100582 -2.02340401  0.82869527\n",
      " -3.70319134]\n"
     ]
    }
   ],
   "source": [
    "from sklearn.preprocessing import StandardScaler\n",
    "\n",
    "\n",
    "learning_rate = 0.001\n",
    "epochs = 1000\n",
    "\n",
    "lr1 = SGDRegressor(random_state=10, \n",
    "                   penalty=None, \n",
    "                   shuffle=True, \n",
    "                   learning_rate='constant', \n",
    "                   eta0=learning_rate, \n",
    "                   max_iter=epochs)\n",
    "\n",
    "scaler = StandardScaler()\n",
    "\n",
    "x_ = scaler.fit_transform(x)\n",
    "\n",
    "lr1.fit(x_, y)\n",
    "\n",
    "print('score: {}'.format(lr1.score(x_, y)))\n",
    "print(lr1.coef_)"
   ]
  },
  {
   "cell_type": "code",
   "execution_count": null,
   "metadata": {},
   "outputs": [],
   "source": []
  },
  {
   "cell_type": "code",
   "execution_count": 12,
   "metadata": {},
   "outputs": [],
   "source": [
    "from sklearn.linear_model import LinearRegression"
   ]
  },
  {
   "cell_type": "code",
   "execution_count": 13,
   "metadata": {},
   "outputs": [
    {
     "name": "stdout",
     "output_type": "stream",
     "text": [
      "score: 0.7406077428649427\n",
      "[-1.07170557e-01  4.63952195e-02  2.08602395e-02  2.68856140e+00\n",
      " -1.77957587e+01  3.80475246e+00  7.51061703e-04 -1.47575880e+00\n",
      "  3.05655038e-01 -1.23293463e-02 -9.53463555e-01  9.39251272e-03\n",
      " -5.25466633e-01]\n"
     ]
    }
   ],
   "source": [
    "lr2 = LinearRegression()\n",
    "\n",
    "lr2.fit(x, y)\n",
    "\n",
    "print('score: {}'.format(lr2.score(x, y)))\n",
    "print(lr2.coef_)"
   ]
  },
  {
   "cell_type": "code",
   "execution_count": 14,
   "metadata": {},
   "outputs": [
    {
     "data": {
      "text/plain": [
       "(-55.6348814229249, -359.5994104624505)"
      ]
     },
     "execution_count": 14,
     "metadata": {},
     "output_type": "execute_result"
    }
   ],
   "source": [
    "simple_linear_regression_gradient(x['RM'], y, 1, -1)"
   ]
  },
  {
   "cell_type": "code",
   "execution_count": 41,
   "metadata": {},
   "outputs": [],
   "source": [
    "b0, b1 = 1, -1"
   ]
  },
  {
   "cell_type": "code",
   "execution_count": 42,
   "metadata": {},
   "outputs": [],
   "source": [
    "b0, b1 = simple_linear_regression_gradient_descent(x['RM'], y, b0, b1, 0.01, 10000)"
   ]
  },
  {
   "cell_type": "code",
   "execution_count": 43,
   "metadata": {},
   "outputs": [
    {
     "data": {
      "text/plain": [
       "(-31.388593536020867, 8.586157660135266)"
      ]
     },
     "execution_count": 43,
     "metadata": {},
     "output_type": "execute_result"
    }
   ],
   "source": [
    "b0, b1"
   ]
  },
  {
   "cell_type": "code",
   "execution_count": 44,
   "metadata": {},
   "outputs": [],
   "source": [
    "import matplotlib.pyplot as plt"
   ]
  },
  {
   "cell_type": "code",
   "execution_count": 45,
   "metadata": {},
   "outputs": [
    {
     "data": {
      "text/plain": [
       "[<matplotlib.lines.Line2D at 0x7fe042c4ddd8>]"
      ]
     },
     "execution_count": 45,
     "metadata": {},
     "output_type": "execute_result"
    },
    {
     "data": {
      "image/png": "[encoded data removed]",
      "text/plain": [
       "<Figure size 432x288 with 1 Axes>"
      ]
     },
     "metadata": {},
     "output_type": "display_data"
    }
   ],
   "source": [
    "plt.plot(x['RM'], y, '*')\n",
    "\n",
    "xx = np.linspace(0, 10, x.shape[0])\n",
    "yy = (b0 + b1 * xx)\n",
    "\n",
    "plt.plot(xx, yy)"
   ]
  },
  {
   "cell_type": "code",
   "execution_count": 47,
   "metadata": {},
   "outputs": [
    {
     "data": {
      "text/plain": [
       "SGDRegressor(alpha=0.0001, average=False, epsilon=0.1, eta0=0.001,\n",
       "       fit_intercept=True, l1_ratio=0.15, learning_rate='constant',\n",
       "       loss='squared_loss', max_iter=1000, n_iter=None, penalty=None,\n",
       "       power_t=0.25, random_state=10, shuffle=True, tol=None, verbose=0,\n",
       "       warm_start=False)"
      ]
     },
     "execution_count": 47,
     "metadata": {},
     "output_type": "execute_result"
    }
   ],
   "source": [
    "learning_rate = 0.001\n",
    "epochs = 1000\n",
    "\n",
    "lr1 = SGDRegressor(random_state=10, \n",
    "                   penalty=None, \n",
    "                   shuffle=True, \n",
    "                   learning_rate='constant', \n",
    "                   eta0=learning_rate, \n",
    "                   max_iter=epochs)\n",
    "\n",
    "lr1.fit(x[['RM']], y)"
   ]
  },
  {
   "cell_type": "code",
   "execution_count": 48,
   "metadata": {},
   "outputs": [
    {
     "data": {
      "text/plain": [
       "[<matplotlib.lines.Line2D at 0x7fe042c23cf8>]"
      ]
     },
     "execution_count": 48,
     "metadata": {},
     "output_type": "execute_result"
    },
    {
     "data": {
      "image/png": "[encoded data removed]",
      "text/plain": [
       "<Figure size 432x288 with 1 Axes>"
      ]
     },
     "metadata": {},
     "output_type": "display_data"
    }
   ],
   "source": [
    "plt.plot(x['RM'], y, '*')\n",
    "xx = np.array([np.linspace(0, 10, x.shape[0])]).T\n",
    "yy = lr1.predict(xx)\n",
    "plt.plot(xx, yy)"
   ]
  },
  {
   "cell_type": "code",
   "execution_count": 49,
   "metadata": {},
   "outputs": [
    {
     "data": {
      "text/plain": [
       "array([9.12510576])"
      ]
     },
     "execution_count": 49,
     "metadata": {},
     "output_type": "execute_result"
    }
   ],
   "source": [
    "lr1.coef_"
   ]
  },
  {
   "cell_type": "code",
   "execution_count": null,
   "metadata": {},
   "outputs": [],
   "source": []
  }
 ],
 "metadata": {
  "kernelspec": {
   "display_name": "Python 3",
   "language": "python",
   "name": "python3"
  },
  "language_info": {
   "codemirror_mode": {
    "name": "ipython",
    "version": 3
   },
   "file_extension": ".py",
   "mimetype": "text/x-python",
   "name": "python",
   "nbconvert_exporter": "python",
   "pygments_lexer": "ipython3",
   "version": "3.6.3"
  }
 },
 "nbformat": 4,
 "nbformat_minor": 2
}
