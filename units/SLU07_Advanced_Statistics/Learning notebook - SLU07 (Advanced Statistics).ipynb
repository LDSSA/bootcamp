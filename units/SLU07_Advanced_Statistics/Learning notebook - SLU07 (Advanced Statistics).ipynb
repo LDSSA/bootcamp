{
 "cells": [
  {
   "cell_type": "markdown",
   "metadata": {},
   "source": [
    "## SLU07 - Advanced Statistics: Learning notebook"
   ]
  },
  {
   "cell_type": "markdown",
   "metadata": {},
   "source": [
    "In this notebook we will cover the following:\n",
    "\n",
    "- Probability Distributions\n",
    "\n",
    "    - Normal\n",
    "    - Binomial\n",
    "    - Geometric\n",
    "    - Exponential\n",
    "    - Poisson\n",
    "    - Student's T\n",
    "\n",
    "- Point estimates\n",
    "- Confidence intervals\n",
    "\n",
    "- Significance tests\n",
    "    - One-sample T-test\n",
    "    - Chi-squared goodness of fit test\n"
   ]
  },
  {
   "cell_type": "markdown",
   "metadata": {},
   "source": [
    "## Imports"
   ]
  },
  {
   "cell_type": "code",
   "execution_count": 1,
   "metadata": {},
   "outputs": [],
   "source": [
    "import numpy as np\n",
    "import pandas as pd \n",
    "import matplotlib.pyplot as plt\n",
    "\n",
    "# this allows us to see our plots in the notebook:\n",
    "% matplotlib inline"
   ]
  },
  {
   "cell_type": "markdown",
   "metadata": {},
   "source": [
    "A probability distribution is a mathematical function that describes the values (and the respective probabilities) that a random variable can assume.\n",
    "\n",
    "Now that sounds scary, but this is not your average statistics class! We're not gonna ask you to memorize these formulas. You'll just need to know:\n",
    "\n",
    "> 1. What distribution you're looking at\n",
    "> 2. What functions you can use\n",
    "\n",
    "To do all of this programatically, we'll use a library called [SciPy](https://www.scipy.org/), which has a really cool statistics module."
   ]
  },
  {
   "cell_type": "code",
   "execution_count": 2,
   "metadata": {},
   "outputs": [],
   "source": [
    "import scipy.stats as stats"
   ]
  },
  {
   "cell_type": "markdown",
   "metadata": {},
   "source": [
    "___________"
   ]
  },
  {
   "cell_type": "markdown",
   "metadata": {},
   "source": [
    "# Normal Distribution\n",
    "\n",
    "The normal distribution is a continous probability distribution, and its the most common distribution you'll find. \n",
    "\n",
    "It describes well a lot of random phenomenons, such as human height."
   ]
  },
  {
   "cell_type": "markdown",
   "metadata": {},
   "source": [
    "The notation is:\n",
    "\n",
    "\n",
    "# $ {\\mathcal {N}}(\\mu ,\\sigma ^{2}) $\n",
    "\n",
    "\n",
    "The parameters are just: \n",
    "\n",
    "\n",
    "### $ mean = {\\mathcal \\mu \\in \\mathbb {R} } $\n",
    "### $ variance = { \\sigma ^{2}>0} $"
   ]
  },
  {
   "cell_type": "markdown",
   "metadata": {},
   "source": [
    "### Example\n",
    "Let's model the height of men in Portugal.\n",
    "\n",
    "We know that human height is normally distributed, so our choice of using a normal distribution is solid.\n",
    "\n",
    "We just need the parameters, which are:\n",
    "\n",
    "> $\\mathcal \\mu$ = 174 cm\n",
    "\n",
    "> $\\sigma ^{2}$ = $ 8.2 ^ {2}$ cm\n",
    "\n",
    "\n",
    "So our normal distribution is:\n",
    "## $ {\\mathcal {N}}(174, 67.24) $"
   ]
  },
  {
   "cell_type": "markdown",
   "metadata": {},
   "source": [
    "Let's generate some 10000 datapoints from this distribution.\n",
    "Since we are using a normal distribution, we'll use `stats.norm`. \n",
    "\n",
    "We'll use its `.rsv` method to generated some data from this dristribution. You can see that here, `loc` is the mean, and `scale` is the standard deviation (which gets squared by the function)"
   ]
  },
  {
   "cell_type": "code",
   "execution_count": 3,
   "metadata": {},
   "outputs": [],
   "source": [
    "normal_data = stats.norm.rvs(size=10000, loc=174, scale=8.2, random_state=0)"
   ]
  },
  {
   "cell_type": "markdown",
   "metadata": {},
   "source": [
    "Let's plot it!"
   ]
  },
  {
   "cell_type": "code",
   "execution_count": 4,
   "metadata": {
    "scrolled": true
   },
   "outputs": [
    {
     "data": {
      "text/plain": [
       "<matplotlib.axes._subplots.AxesSubplot at 0x10a214978>"
      ]
     },
     "execution_count": 4,
     "metadata": {},
     "output_type": "execute_result"
    },
    {
     "data": {
      "image/png": "[encoded data removed]",
      "text/plain": [
       "<matplotlib.figure.Figure at 0x10a1c4d30>"
      ]
     },
     "metadata": {},
     "output_type": "display_data"
    }
   ],
   "source": [
    "pd.Series(normal_data).plot(kind=\"hist\", bins=50)"
   ]
  },
  {
   "cell_type": "markdown",
   "metadata": {},
   "source": [
    "You can see the distictive bell-shape. The height of most men sits around in the center, with the extreme values being rarer.\n",
    "\n",
    "Now that we have the distribution, we can use some functions to gain insights."
   ]
  },
  {
   "cell_type": "markdown",
   "metadata": {},
   "source": [
    "## Cumulative distribution function: `.cdf()`\n",
    "\n",
    "This function tells us the probability that the random variable will assume a value less than the one you provide."
   ]
  },
  {
   "cell_type": "markdown",
   "metadata": {},
   "source": [
    "Hugo is 193 cm tall. What percentage of men are shorter than him?"
   ]
  },
  {
   "cell_type": "code",
   "execution_count": 5,
   "metadata": {},
   "outputs": [
    {
     "data": {
      "text/plain": [
       "0.989750126890689"
      ]
     },
     "execution_count": 5,
     "metadata": {},
     "output_type": "execute_result"
    }
   ],
   "source": [
    "stats.norm.cdf(x=193,         # Cutoff value (quantile) to check\n",
    "               loc=174,       # Mean\n",
    "               scale=8.2)     # Standard Deviation"
   ]
  },
  {
   "cell_type": "markdown",
   "metadata": {},
   "source": [
    "He's taller than almost 99% of men!"
   ]
  },
  {
   "cell_type": "markdown",
   "metadata": {},
   "source": [
    "## Percent point function: `.ppf()`\n",
    "\n",
    "This function is the inverse of `.cdf()`; Instead of inputing a quantile and reciveing a probablity, we input a probability and recieve a quantile."
   ]
  },
  {
   "cell_type": "markdown",
   "metadata": {},
   "source": [
    "Below which height are 90% of men?"
   ]
  },
  {
   "cell_type": "code",
   "execution_count": 6,
   "metadata": {},
   "outputs": [
    {
     "data": {
      "text/plain": [
       "184.5087228374657"
      ]
     },
     "execution_count": 6,
     "metadata": {},
     "output_type": "execute_result"
    }
   ],
   "source": [
    "stats.norm.ppf(q=0.9,       # Cutoff value (quantile) to check\n",
    "               loc=174,     # Mean\n",
    "               scale=8.2)   # Standard Deviation"
   ]
  },
  {
   "cell_type": "markdown",
   "metadata": {},
   "source": [
    "This means that 90% of men are under 184.5 cm of height."
   ]
  },
  {
   "cell_type": "markdown",
   "metadata": {},
   "source": [
    "## Probability density function: `.pdf()`\n",
    "\n",
    "This function gives us the relatively likelihood of the random variable assuming a certain value.\n",
    "\n",
    "For example, the relative likelihood of a randomly chosen man from this population being 170 cm tall:"
   ]
  },
  {
   "cell_type": "code",
   "execution_count": 7,
   "metadata": {},
   "outputs": [
    {
     "data": {
      "text/plain": [
       "0.04319418121078366"
      ]
     },
     "execution_count": 7,
     "metadata": {},
     "output_type": "execute_result"
    }
   ],
   "source": [
    "stats.norm.pdf(x=170,         # Value to check\n",
    "               loc=174,       # Distribution start\n",
    "               scale=8.2)     # Distribution end"
   ]
  },
  {
   "cell_type": "markdown",
   "metadata": {},
   "source": [
    "And now the relative likelihood of a randomdly chosen man from this population being 150 cm tall:\n"
   ]
  },
  {
   "cell_type": "code",
   "execution_count": 8,
   "metadata": {},
   "outputs": [
    {
     "data": {
      "text/plain": [
       "0.0006713382361063932"
      ]
     },
     "execution_count": 8,
     "metadata": {},
     "output_type": "execute_result"
    }
   ],
   "source": [
    "stats.norm.pdf(x=150,         # Value to check\n",
    "               loc=174,       # Distribution start\n",
    "               scale=8.2)     # Distribution end"
   ]
  },
  {
   "cell_type": "markdown",
   "metadata": {},
   "source": [
    "You can think of these values as the probability density at value: it's more likely for a man to be 170 cm tall as opposed to 150 cm tall."
   ]
  },
  {
   "cell_type": "markdown",
   "metadata": {},
   "source": [
    "___________"
   ]
  },
  {
   "cell_type": "markdown",
   "metadata": {},
   "source": [
    "# Binomial Distribution\n",
    "\n",
    "The binomial distribution is a discrete probability distribution that models the number of sucesses in a set of independent trials.\n",
    "\n",
    "It describes random phenomenenon such as the number of heads you'll get, when you flip a coin a number of times."
   ]
  },
  {
   "cell_type": "markdown",
   "metadata": {},
   "source": [
    "The notation is: \n",
    "\n",
    "# $ B(n, p) $\n",
    "\n",
    "The parameters are just: \n",
    " \n",
    "### $ n ∈ N0 $ - number of  trials\n",
    "\n",
    "### $ p ∈ [0,1] $ - success probability in each trial"
   ]
  },
  {
   "cell_type": "markdown",
   "metadata": {},
   "source": [
    "### Example\n",
    "Let's model the number of heads we get when we flip a coin 10 times. This is a fair coin, so the chance of getting heads at each trial is 50%.\n",
    "\n",
    "So our parameters are:\n",
    "\n",
    "> n = 10\n",
    "\n",
    "> p = 0.5\n",
    "\n",
    "\n",
    "So our binomial distribution is:\n",
    "## $ B(10, 0.5) $"
   ]
  },
  {
   "cell_type": "markdown",
   "metadata": {},
   "source": [
    "Let's generate some 10000 datapoints from this distribution. \n",
    "This means we'll performing 10000 experiments, in which we flip a coin 10 times.\n",
    "\n",
    "Since we are using a binomial distribution, we'll use `stats.binom`. \n",
    "\n",
    "We'll use its `.rsv` method to generated the data. You can see that here, `n` is the number of trials, and `p` is the probability of success in each trial."
   ]
  },
  {
   "cell_type": "code",
   "execution_count": 9,
   "metadata": {},
   "outputs": [],
   "source": [
    "binomial_data = stats.binom.rvs(size=10000, n=10, p=0.5, random_state=0)"
   ]
  },
  {
   "cell_type": "markdown",
   "metadata": {},
   "source": [
    "Let's plot it!"
   ]
  },
  {
   "cell_type": "code",
   "execution_count": 10,
   "metadata": {},
   "outputs": [
    {
     "data": {
      "text/plain": [
       "<matplotlib.axes._subplots.AxesSubplot at 0x10a3bab38>"
      ]
     },
     "execution_count": 10,
     "metadata": {},
     "output_type": "execute_result"
    },
    {
     "data": {
      "image/png": "[encoded data removed]",
      "text/plain": [
       "<matplotlib.figure.Figure at 0x10a380ba8>"
      ]
     },
     "metadata": {},
     "output_type": "display_data"
    }
   ],
   "source": [
    "pd.Series(binomial_data).plot(kind=\"hist\", bins = 50)"
   ]
  },
  {
   "cell_type": "markdown",
   "metadata": {},
   "source": [
    "Now, unlike the normal distribution, this is a discrete distribution, meaning that the random variable can only assume discrete integer values. It does however sort of look like a normal distribution, in the sense that it is symmetric, but that changes when you use a `p` different from 0.5.\n",
    "\n",
    "Let's now toss a biased coin. This a coin that is more likely to land on heads than tails."
   ]
  },
  {
   "cell_type": "code",
   "execution_count": 11,
   "metadata": {},
   "outputs": [],
   "source": [
    "biased_coin_data = stats.binom.rvs(size=10000, n=10, p=0.8, random_state=0)"
   ]
  },
  {
   "cell_type": "markdown",
   "metadata": {},
   "source": [
    "And let's plot it."
   ]
  },
  {
   "cell_type": "code",
   "execution_count": 12,
   "metadata": {},
   "outputs": [
    {
     "data": {
      "text/plain": [
       "<matplotlib.axes._subplots.AxesSubplot at 0x10a5cb5f8>"
      ]
     },
     "execution_count": 12,
     "metadata": {},
     "output_type": "execute_result"
    },
    {
     "data": {
      "image/png": "[encoded data removed]",
      "text/plain": [
       "<matplotlib.figure.Figure at 0x10a5c27f0>"
      ]
     },
     "metadata": {},
     "output_type": "display_data"
    }
   ],
   "source": [
    "pd.Series(biased_coin_data).plot(kind=\"hist\", bins=50)"
   ]
  },
  {
   "cell_type": "markdown",
   "metadata": {},
   "source": [
    "You can see that this biased coin is more likely to get more heads in 10 trials than the fair coin. The distribution \"shifted\" to the right, so to speak.\n",
    "\n",
    "Let's now use some functions to gain insights."
   ]
  },
  {
   "cell_type": "markdown",
   "metadata": {},
   "source": [
    "## Cumulative distribution function: `.cdf()`\n",
    "\n",
    "This function tells us the probability that the random variable will assume a value less (or equal) to the one you provide.\n",
    "\n",
    "Let's find out the probability of getting 7 heads in 10 trials, with this biased coin.\n"
   ]
  },
  {
   "cell_type": "code",
   "execution_count": 13,
   "metadata": {},
   "outputs": [
    {
     "data": {
      "text/plain": [
       "0.3222004736"
      ]
     },
     "execution_count": 13,
     "metadata": {},
     "output_type": "execute_result"
    }
   ],
   "source": [
    "stats.binom.cdf(k=7,        # Probability of k = 7 heads or less\n",
    "                n=10,       # In 10 trials\n",
    "                p=0.8)      # And success probability 0.8"
   ]
  },
  {
   "cell_type": "markdown",
   "metadata": {},
   "source": [
    "If you want to ask the question \"what is the probablity of getting at least 7 heads in 10 trails?\", you are actually asking \"What is the probability of NOT getting 6 or less heads in 10 trials\". \n",
    "\n",
    "We express the \"NOT\" by subtracting the probability from 1, like this:"
   ]
  },
  {
   "cell_type": "code",
   "execution_count": 14,
   "metadata": {},
   "outputs": [
    {
     "data": {
      "text/plain": [
       "0.8791261184000001"
      ]
     },
     "execution_count": 14,
     "metadata": {},
     "output_type": "execute_result"
    }
   ],
   "source": [
    "1 - stats.binom.cdf(k=6,        # Probability of k = 6 heads or less\n",
    "                    n=10,       # In 10 trials\n",
    "                    p=0.8)      # And success probability 0.8"
   ]
  },
  {
   "cell_type": "markdown",
   "metadata": {},
   "source": [
    "## Probability mass function: `.pmf()`"
   ]
  },
  {
   "cell_type": "markdown",
   "metadata": {},
   "source": [
    "Before, we used `.pdf()` to check the probability density on a certain point of a continuous probability density function. However, the binomial distribution is a discrete probability distribution, so instead we use `.pmf()` to check the proportion of observations at a certain point.\n",
    "\n",
    "Let's find out the probability of getting __exactly__ 5 heads in 10 trails, on our biased coin."
   ]
  },
  {
   "cell_type": "code",
   "execution_count": 15,
   "metadata": {},
   "outputs": [
    {
     "data": {
      "text/plain": [
       "0.02642411520000004"
      ]
     },
     "execution_count": 15,
     "metadata": {},
     "output_type": "execute_result"
    }
   ],
   "source": [
    "stats.binom.pmf(k=5,        # Probability of k = 5 heads\n",
    "                n=10,       # With 10 flips\n",
    "                p=0.8)      # And success probability 0.5"
   ]
  },
  {
   "cell_type": "markdown",
   "metadata": {},
   "source": [
    "_______"
   ]
  },
  {
   "cell_type": "markdown",
   "metadata": {},
   "source": [
    "#  Geometric Distribution and Exponential distribution\n",
    "\n",
    "These distributions are useful when you want to model the time it takes for an event to occur.\n",
    "\n",
    "The geometric distribution is a discrete distribution, and it's useful for modelling things like number of times you need to flip a coin before you see heads.\n",
    "\n",
    "The exponential distribution is its continuous analogue, and it's useful for modelling things like the time you need to wait before your bus arrives, knowing that there is a bus every 15 minutes.\n",
    "\n",
    "While these distributions are useful, we have a lot of ground to cover so we can't explain them here.\n",
    "\n",
    "Refer to these resources if you later want to learn more about them:"
   ]
  },
  {
   "cell_type": "markdown",
   "metadata": {},
   "source": [
    "________"
   ]
  },
  {
   "cell_type": "markdown",
   "metadata": {},
   "source": [
    "# Poisson Distribution\n",
    "\n",
    "This distribution is useful when you want to model the probability of the number of times an event is likely to occur, within a certain timeframe.\n",
    "\n",
    "It's useful to model things such as the number of pacients an hospital will recieve within an hour.\n",
    "\n",
    "While also a very useful distribution, we have a lot to cover, so I leave it up to you to learn more about it if you want."
   ]
  },
  {
   "cell_type": "markdown",
   "metadata": {},
   "source": [
    "__________"
   ]
  },
  {
   "cell_type": "markdown",
   "metadata": {},
   "source": [
    "# Point estimates\n",
    "\n",
    "We need to know 2 important concepts:\n",
    "\n",
    "> 1. Population\n",
    "> 2. Sample\n",
    "\n",
    "Imagine you're selling a product, and your product is in fact so popular, that you have tens of thousands of customers. Now, you'd like to know more about your customers, like what their average age is.\n",
    "\n",
    "Now, if we could reach out to every single one of your customers and ask them their age, we could calculate the __Population mean__.\n",
    "\n",
    "But since we can't do that, we have to settle for asking a sample of costumers their age, and calculating the __Sample mean__.\n",
    "\n",
    "What this means, is that we can use the __Sample mean__ to estimate the __Population mean__.\n",
    "\n",
    "Let's give it a try:"
   ]
  },
  {
   "cell_type": "code",
   "execution_count": 16,
   "metadata": {},
   "outputs": [],
   "source": [
    "np.random.seed(3)\n",
    "population_ages1 = stats.poisson.rvs(loc=18, mu=35, size=150000)\n",
    "population_ages2 = stats.poisson.rvs(loc=18, mu=10, size=100000)\n",
    "population_ages = pd.Series(np.concatenate((population_ages1, population_ages2)))\n"
   ]
  },
  {
   "cell_type": "code",
   "execution_count": 17,
   "metadata": {},
   "outputs": [
    {
     "data": {
      "text/plain": [
       "42.995484"
      ]
     },
     "execution_count": 17,
     "metadata": {},
     "output_type": "execute_result"
    }
   ],
   "source": [
    "population_ages.mean()"
   ]
  },
  {
   "cell_type": "code",
   "execution_count": 18,
   "metadata": {},
   "outputs": [
    {
     "data": {
      "text/plain": [
       "42.654"
      ]
     },
     "execution_count": 18,
     "metadata": {},
     "output_type": "execute_result"
    }
   ],
   "source": [
    "age_sample = population_ages.sample(500, random_state=0)\n",
    "age_sample.mean()"
   ]
  },
  {
   "cell_type": "markdown",
   "metadata": {},
   "source": [
    "Not too bad, right? With just 500 people, we got a pretty good estimate of the mean population age.\n",
    "\n",
    "If we wanted to be even more sure, we could take several samples, to check if that value doesn't change widly a lot from sample to sample. You see where I'm getting at? We plot out sampling distribution!\n",
    "\n",
    "Let's do that then. We'll take a sample of 500, take the mean of that sample, and record that mean. We do that process and bunch of times.\n",
    "\n",
    "Let's try doing that 20 times."
   ]
  },
  {
   "cell_type": "code",
   "execution_count": 19,
   "metadata": {},
   "outputs": [
    {
     "data": {
      "text/plain": [
       "array([[<matplotlib.axes._subplots.AxesSubplot object at 0x10a5470b8>]],\n",
       "      dtype=object)"
      ]
     },
     "execution_count": 19,
     "metadata": {},
     "output_type": "execute_result"
    },
    {
     "data": {
      "image/png": "[encoded data removed]",
      "text/plain": [
       "<matplotlib.figure.Figure at 0x10a6cae10>"
      ]
     },
     "metadata": {},
     "output_type": "display_data"
    }
   ],
   "source": [
    "seed_number = 0\n",
    "\n",
    "point_estimates = []        # Make empty list to hold point estimates\n",
    "for x in range(20):         # Generate 200 samples\n",
    "    np.random.seed(seed_number)\n",
    "    sample = np.random.choice(a= population_ages, size=500)\n",
    "    point_estimates.append( sample.mean() )\n",
    "    \n",
    "    seed_number += 1\n",
    "    \n",
    "pd.DataFrame(point_estimates).hist(bins=30)   "
   ]
  },
  {
   "cell_type": "markdown",
   "metadata": {},
   "source": [
    "The distribution doesn't seem very evident here. Let's take more 50 samples, and see if it helps."
   ]
  },
  {
   "cell_type": "code",
   "execution_count": 20,
   "metadata": {},
   "outputs": [
    {
     "data": {
      "text/plain": [
       "array([[<matplotlib.axes._subplots.AxesSubplot object at 0x10a3c89e8>]],\n",
       "      dtype=object)"
      ]
     },
     "execution_count": 20,
     "metadata": {},
     "output_type": "execute_result"
    },
    {
     "data": {
      "image/png": "[encoded data removed]",
      "text/plain": [
       "<matplotlib.figure.Figure at 0x10a6936d8>"
      ]
     },
     "metadata": {},
     "output_type": "display_data"
    }
   ],
   "source": [
    "seed_number = 0\n",
    "\n",
    "point_estimates = []         # Make empty list to hold point estimates\n",
    "for x in range(50):          # Generate 200 samples\n",
    "    np.random.seed(seed_number)\n",
    "    sample = np.random.choice(a= population_ages, size=500)\n",
    "    point_estimates.append( sample.mean() )\n",
    "    \n",
    "    seed_number += 1\n",
    "    \n",
    "pd.DataFrame(point_estimates).hist(bins=30)   "
   ]
  },
  {
   "cell_type": "markdown",
   "metadata": {},
   "source": [
    "It's starting to look like something even seen before, no? Let's take 1000 samples!"
   ]
  },
  {
   "cell_type": "code",
   "execution_count": 21,
   "metadata": {},
   "outputs": [
    {
     "data": {
      "text/plain": [
       "array([[<matplotlib.axes._subplots.AxesSubplot object at 0x10aa2f2b0>]],\n",
       "      dtype=object)"
      ]
     },
     "execution_count": 21,
     "metadata": {},
     "output_type": "execute_result"
    },
    {
     "data": {
      "image/png": "[encoded data removed]",
      "text/plain": [
       "<matplotlib.figure.Figure at 0x10a763978>"
      ]
     },
     "metadata": {},
     "output_type": "display_data"
    }
   ],
   "source": [
    "seed_number = 0\n",
    "\n",
    "point_estimates = []         # Make empty list to hold point estimates\n",
    "for x in range(1000):         # Generate 200 samples\n",
    "    np.random.seed(seed_number)\n",
    "    sample = np.random.choice(a= population_ages, size=500)\n",
    "    point_estimates.append( sample.mean() )\n",
    "    \n",
    "    seed_number += 1\n",
    "    \n",
    "pd.DataFrame(point_estimates).hist(bins=30)   "
   ]
  },
  {
   "cell_type": "markdown",
   "metadata": {},
   "source": [
    "Cool, isn't it? If we take the mean of a lot of samples, the resulting distribution will be a normal distribution! This is one of the most concepts in probability theory, and it's called the Central Limit Theorem. It tells us that distribution of many sample means will be normally distributed, no matter the underlying distribution.\n",
    "\n",
    "Wait, no matter the underlying distribution? Let's look at the distribution of ages for a sample of our population."
   ]
  },
  {
   "cell_type": "code",
   "execution_count": 22,
   "metadata": {},
   "outputs": [
    {
     "data": {
      "text/plain": [
       "array([[<matplotlib.axes._subplots.AxesSubplot object at 0x10b33c588>]],\n",
       "      dtype=object)"
      ]
     },
     "execution_count": 22,
     "metadata": {},
     "output_type": "execute_result"
    },
    {
     "data": {
      "image/png": "[encoded data removed]",
      "text/plain": [
       "<matplotlib.figure.Figure at 0x10a6a7eb8>"
      ]
     },
     "metadata": {},
     "output_type": "display_data"
    }
   ],
   "source": [
    "pd.DataFrame(population_ages.sample(500)).hist(bins=58,\n",
    "                                  range=(17.5,75.5))\n"
   ]
  },
  {
   "cell_type": "markdown",
   "metadata": {},
   "source": [
    "Well, the distribution of ages on our sample doesn't look normally distributed at all. Maybe this is just an anomally?\n",
    "Let's now take a look at the distribution of ages for our entire population."
   ]
  },
  {
   "cell_type": "code",
   "execution_count": 23,
   "metadata": {},
   "outputs": [
    {
     "data": {
      "text/plain": [
       "array([[<matplotlib.axes._subplots.AxesSubplot object at 0x10a698cf8>]],\n",
       "      dtype=object)"
      ]
     },
     "execution_count": 23,
     "metadata": {},
     "output_type": "execute_result"
    },
    {
     "data": {
      "image/png": "[encoded data removed]",
      "text/plain": [
       "<matplotlib.figure.Figure at 0x10b3582b0>"
      ]
     },
     "metadata": {},
     "output_type": "display_data"
    }
   ],
   "source": [
    "pd.DataFrame(population_ages).hist(bins=58,\n",
    "                                  range=(17.5,75.5))"
   ]
  },
  {
   "cell_type": "markdown",
   "metadata": {},
   "source": [
    "Yup, the distribution of the population is the same; the distribution of the sample mirrors it.\n",
    "\n",
    "This is what we mean by \"distribution of many sample means will be normally distributed, no matter the underlying distribution\". And this is an extremely useful concept, because it means we can apply a bunch of statistical techniques that assume that our distribution is normal!\n",
    "\n",
    "Now, remember that we were trying to estimate the mean age of our population using the mean age of a sample. Let's assume we can only take a single sample of 500. \n",
    "\n",
    "We're going to get a value for the mean age, sure, but as we've seen before, that value is subject to randomness, and that randomness is described by a normal distribution.\n",
    "\n",
    "Maybe what we want is not to present a single value for our estimated population mean, but a confidence interval; An interval of values, for which we can say something like: \"We are 95% confident that the population mean is between 42 and 44.\"\n",
    "\n",
    "The cool thing about our sampling distribution for the mean being a normal distribution, is that it makes it easy to calculate those confidence intervals. Let me show you."
   ]
  },
  {
   "cell_type": "markdown",
   "metadata": {},
   "source": [
    "# Confidence Intervals"
   ]
  },
  {
   "cell_type": "markdown",
   "metadata": {},
   "source": [
    "The way we calculate a confidence interval is by taking point estimate (the mean) and then adding and subtracting a margin of error.\n",
    "\n",
    "The formula for the margin of error is:\n",
    "\n",
    "# $ Z * \\frac{\\sigma}{\\sqrt{n}} $\n",
    "\n",
    "The parameters are:\n",
    "\n",
    "__Z__ - it stands for Z-score, which is the number of standard deviations from the mean that you need to capture the desired confidence level. \n",
    "\n",
    ">For example, if we wanted a confidence interval of 95%, we could use a Z-score of 2, because roughly 95% of the data is within 2 standard deviations from the mean. But to be more exact, we can use `stats.norm.ppf()` to get the Z-score, by inputing the quantile.\n",
    "\n",
    "$ {\\sigma} $ - standard deviation of the population.\n",
    "\n",
    "> Uh oh. You might be asking yourself, how are we supposed to know the standard deviation of the population, if all we have access is a sample? We'll see ahead a stategy to deal with this.\n",
    "\n",
    "__n__ - the number of samples.\n",
    "\n",
    "Since we don't have access to the standard deviation of the population, we can use the standard deviation of the sample instead. But by doing this, we are introducing a source of error; To compensate for it, instead of using the Z-score, we'll use something called the T-score. \n",
    "\n",
    "The T-score comes from a special distribution, called the Student's T-distribution. It resembles the normal distribution, except it gets wider if the sample size is low, and as the sample size increases, it becomes equal to the Normal distribution.\n",
    "The T-distribution needs a parameter called the `degrees of freedom`, which is just the sample size minus 1.\n",
    "\n",
    "Let's see:"
   ]
  },
  {
   "cell_type": "markdown",
   "metadata": {},
   "source": [
    "![title](data/t-dist.gif)"
   ]
  },
  {
   "cell_type": "markdown",
   "metadata": {},
   "source": [
    "As you can see, as we increase our sample size, the T-distribution gets closer to the Normal distribution.\n",
    "\n",
    "So we end up with:\n",
    "\n",
    "# $ T * \\frac{\\sigma}{\\sqrt{n}} $\n",
    "\n",
    "In which T is the T-score, $\\sigma$ is the standard deviation of the sample, and n is the number of samples.\n",
    "\n",
    "Let's put it all together, and calculate the 95% confidence interval for the mean age of the population!"
   ]
  },
  {
   "cell_type": "markdown",
   "metadata": {},
   "source": [
    "First we get the mean age in the sample:"
   ]
  },
  {
   "cell_type": "code",
   "execution_count": 24,
   "metadata": {},
   "outputs": [],
   "source": [
    "mean_sample_age = age_sample.mean()"
   ]
  },
  {
   "cell_type": "markdown",
   "metadata": {},
   "source": [
    "Now we get the T-score. Since we want a 95% confidence interval, that means our significance level ($\\alpha$) is 0.05.\n",
    "\n",
    "And since the distribution has two tails, we need to do:\n",
    "\n",
    "1 - 0.95 = 0.05\n",
    "\n",
    "0.05 / 2 = 0.025\n",
    "\n",
    "1 - 0.025 = 0.975\n",
    "\n",
    "0.975 is then the quantile we want.\n",
    "\n",
    "`df`, aka degrees of freedom, is 499 because it's the sample size minus 1."
   ]
  },
  {
   "cell_type": "code",
   "execution_count": 25,
   "metadata": {},
   "outputs": [],
   "source": [
    "t_critical = stats.t.ppf(q = 0.975, df=499)"
   ]
  },
  {
   "cell_type": "markdown",
   "metadata": {},
   "source": [
    "Now we need $\\sigma$, which is the standard deviation for the sample:"
   ]
  },
  {
   "cell_type": "code",
   "execution_count": 26,
   "metadata": {},
   "outputs": [],
   "source": [
    "std_sample_age = age_sample.std()"
   ]
  },
  {
   "cell_type": "markdown",
   "metadata": {},
   "source": [
    "And $\\sqrt{n}$, which is just the square root for the number of samples."
   ]
  },
  {
   "cell_type": "code",
   "execution_count": 27,
   "metadata": {},
   "outputs": [],
   "source": [
    "sqrt_of_n_samples = np.sqrt(500)"
   ]
  },
  {
   "cell_type": "markdown",
   "metadata": {},
   "source": [
    "Putting it all together:"
   ]
  },
  {
   "cell_type": "code",
   "execution_count": 28,
   "metadata": {},
   "outputs": [
    {
     "name": "stdout",
     "output_type": "stream",
     "text": [
      "(41.502911561527775, 43.80508843847223)\n"
     ]
    }
   ],
   "source": [
    "error_margin = t_critical * std_sample_age / sqrt_of_n_samples\n",
    "\n",
    "confidence_interval = (mean_sample_age - error_margin,\n",
    "                       mean_sample_age + error_margin)\n",
    "\n",
    "print(confidence_interval)"
   ]
  },
  {
   "cell_type": "markdown",
   "metadata": {},
   "source": [
    "Tada! Now, while it was important to understand how a confidence interval is calculated, for convinience, we can do it all using `t.interval()`!"
   ]
  },
  {
   "cell_type": "code",
   "execution_count": 29,
   "metadata": {},
   "outputs": [
    {
     "data": {
      "text/plain": [
       "(41.502911561527775, 43.80508843847223)"
      ]
     },
     "execution_count": 29,
     "metadata": {},
     "output_type": "execute_result"
    }
   ],
   "source": [
    "stats.t.interval(alpha = 0.95,                               # Confidence level\n",
    "                 df= 499,                                    # Degrees of freedom\n",
    "                 loc = mean_sample_age,                      # Sample mean\n",
    "                 scale = std_sample_age / sqrt_of_n_samples) # Standard deviation of the sample divided by the square root of the number of samples"
   ]
  },
  {
   "cell_type": "markdown",
   "metadata": {},
   "source": [
    "___ "
   ]
  },
  {
   "cell_type": "markdown",
   "metadata": {},
   "source": [
    "# Hypotesis testing"
   ]
  },
  {
   "cell_type": "markdown",
   "metadata": {},
   "source": [
    "Hypthesis testing is based on making a statement, the \"null hypothesis\", that nothing interesting is going on between the variables you're studying. Then, you at the evidence, and ask yourself \"Does the evidence support this idea that nothing interesting is going on?\". \n",
    "\n",
    "For example, imagine you take the data you have on your clients, `age_sample`. For the purposes of  this, we're going to consider this as our population.\n",
    "\n",
    "Now, you're selling your product on a given day, and you got 15 new clients. You ask yourself: \"Is the mean age of the costumers who bought my product today different from the mean age of my typical costumers?\"\n",
    "\n",
    "In other words, you want to know if the possible difference in mean age is so great, that it would be very unlikely for it to happen by pure chance. A difference so significant, that makes you think some other factor may be at hand.\n",
    "\n",
    "When the difference is so great that it is very unlikely for it to happen by pure chance, you reject the \"null hypothesis\" (that nothing interesting is going on) in favor of the \"alternative hypothesis\" (that something interesting is going on). In our case, it could be that on this particular day there was a school holiday, causing a bunch of kids to come to your store.\n",
    "\n",
    "Now, to define what we mean by \"very unlikely for it to happen by pure chance\", we have to define what very unlikely is. I won't go very deep into the pitfalls associated with defining a confidence level, but a very common confidence level is $\\alpha$ = 0.05.\n",
    "\n",
    "When doing a significance test, there two possible types of error:\n",
    "\n",
    "__Type I error__\n",
    "> You reject the null hypothesis in favor of the alternative hypothesis, but the null hypothesis was actually true. Also know as a false positive. With a $\\alpha$ = 0.05 significance level, you expect this type of error to happen 5% of the time. The higher the $\\alpha$, the less likely you are to make this error.\n",
    "\n",
    "\n",
    "__Type II error__\n",
    ">You do not reject the null hypothesis in favor of the alternative hypothesis, but the alternative hypothesis was actually true. Also know as a false negative. The lower the $\\alpha$, the less likely you are to make this error.\n",
    "\n",
    "Now, what we want to do is to check if the mean age from our new sample differs from the mean age of our population. for that, we're going to use a __One Sample T-Test__. For that, we'll use `stats.ttest_1samp()`."
   ]
  },
  {
   "cell_type": "markdown",
   "metadata": {},
   "source": [
    "# One Sample T-Test\n",
    "\n",
    "Let's first check the mean age of the costumers we have on record:"
   ]
  },
  {
   "cell_type": "code",
   "execution_count": 30,
   "metadata": {},
   "outputs": [
    {
     "data": {
      "text/plain": [
       "42.654"
      ]
     },
     "execution_count": 30,
     "metadata": {},
     "output_type": "execute_result"
    }
   ],
   "source": [
    "mean_population_age = age_sample.mean() # Remember, right now we're considering the data we have on 500 costumers as our population\n",
    "\n",
    "mean_population_age"
   ]
  },
  {
   "cell_type": "markdown",
   "metadata": {},
   "source": [
    "Let's now check the mean age of the clients we had today:"
   ]
  },
  {
   "cell_type": "code",
   "execution_count": 31,
   "metadata": {},
   "outputs": [
    {
     "data": {
      "text/plain": [
       "20.8"
      ]
     },
     "execution_count": 31,
     "metadata": {},
     "output_type": "execute_result"
    }
   ],
   "source": [
    "new_client_ages = np.array([15, 13, 14, 54, 16, 12, 10, 16, 14, 12, 10, 13, 60, 42, 11])\n",
    "\n",
    "new_client_ages.mean()"
   ]
  },
  {
   "cell_type": "markdown",
   "metadata": {},
   "source": [
    "Alright, the mean age seems pretty different; But how do we know if this difference is significant? In other words, how do we know if a result as extreme as this is unlikely to happen due to chance?\n",
    "\n",
    "For that, we'll use the One Sample T-Test, which compares the mean of a new sample with the mean of the population, and tests if the difference is significant."
   ]
  },
  {
   "cell_type": "code",
   "execution_count": 32,
   "metadata": {},
   "outputs": [
    {
     "data": {
      "text/plain": [
       "Ttest_1sampResult(statistic=-5.093158539099996, pvalue=0.00016374485160662263)"
      ]
     },
     "execution_count": 32,
     "metadata": {},
     "output_type": "execute_result"
    }
   ],
   "source": [
    "stats.ttest_1samp(a= new_client_ages,               # New client ages\n",
    "                  popmean= mean_population_age)     # Population mean"
   ]
  },
  {
   "cell_type": "markdown",
   "metadata": {},
   "source": [
    "The test returned a p-value of 0.00016374485160662263; \n",
    "\n",
    "Since this value is lower than the $\\alpha$ = 0.05 confidence level we defined, we reject the null hypothesis; We say that the evidence supports the alternative hypothesis; That some other factor is at play, because it's unlikely to get a result as extreme as this by pure chance.\n",
    "\n",
    "There are types of T-tests, adequate for other situations, which we can't cover here. You can find them [here](https://hamelg.blogspot.pt/2015/11/python-for-data-analysis-part-24.html).\n",
    "\n",
    "Now what if you want to investigate a categorical variable? You're going to need another type of test, called a Chi-Squared Test."
   ]
  },
  {
   "cell_type": "markdown",
   "metadata": {},
   "source": [
    "# Chi-Squared Goodness-Of-Fit Test"
   ]
  },
  {
   "cell_type": "markdown",
   "metadata": {},
   "source": [
    "The Chi-Squared goodness-of-fit test allows us to test if a sample of categorical data matches an expected distribution.\n",
    "\n",
    "For example, let's say we have 4 different products: A, B, C.\n",
    "\n",
    "We expect A to represent on average 0.2 of our sales, B on average 0.5, and C on average 0.3.\n",
    "\n",
    "Let's say today our sales were:"
   ]
  },
  {
   "cell_type": "code",
   "execution_count": 33,
   "metadata": {},
   "outputs": [
    {
     "data": {
      "text/html": [
       "<div>\n",
       "<style>\n",
       "    .dataframe thead tr:only-child th {\n",
       "        text-align: right;\n",
       "    }\n",
       "\n",
       "    .dataframe thead th {\n",
       "        text-align: left;\n",
       "    }\n",
       "\n",
       "    .dataframe tbody tr th {\n",
       "        vertical-align: top;\n",
       "    }\n",
       "</style>\n",
       "<table border=\"1\" class=\"dataframe\">\n",
       "  <thead>\n",
       "    <tr style=\"text-align: right;\">\n",
       "      <th></th>\n",
       "      <th>A</th>\n",
       "      <th>B</th>\n",
       "      <th>C</th>\n",
       "    </tr>\n",
       "  </thead>\n",
       "  <tbody>\n",
       "    <tr>\n",
       "      <th>sales</th>\n",
       "      <td>37</td>\n",
       "      <td>110</td>\n",
       "      <td>50</td>\n",
       "    </tr>\n",
       "  </tbody>\n",
       "</table>\n",
       "</div>"
      ],
      "text/plain": [
       "        A    B   C\n",
       "sales  37  110  50"
      ]
     },
     "execution_count": 33,
     "metadata": {},
     "output_type": "execute_result"
    }
   ],
   "source": [
    "sales_df = pd.DataFrame({\n",
    "    'A': 37,\n",
    "    'B': 110,\n",
    "    'C': 50\n",
    "}, index=['sales'])\n",
    "\n",
    "sales_df"
   ]
  },
  {
   "cell_type": "markdown",
   "metadata": {},
   "source": [
    "A total of:"
   ]
  },
  {
   "cell_type": "code",
   "execution_count": 34,
   "metadata": {},
   "outputs": [
    {
     "data": {
      "text/plain": [
       "197"
      ]
     },
     "execution_count": 34,
     "metadata": {},
     "output_type": "execute_result"
    }
   ],
   "source": [
    "sales_df.loc['sales'].sum()"
   ]
  },
  {
   "cell_type": "markdown",
   "metadata": {},
   "source": [
    "The expected counts are:"
   ]
  },
  {
   "cell_type": "code",
   "execution_count": 35,
   "metadata": {},
   "outputs": [
    {
     "name": "stdout",
     "output_type": "stream",
     "text": [
      "Expected count for 197 sales: \n",
      "Product A: 39.400000000000006\n",
      "Product B: 98.5\n",
      "Product C: 59.099999999999994\n"
     ]
    }
   ],
   "source": [
    "print('Expected count for 197 sales: ')\n",
    "print('Product A: ' + str(197 * 0.2))\n",
    "print('Product B: ' + str(197 * 0.5))\n",
    "print('Product C: ' + str(197 * 0.3))"
   ]
  },
  {
   "cell_type": "markdown",
   "metadata": {},
   "source": [
    "We want to know if the observed counts are in line with the expected counts (the null hypothesis), or if the observed count differ from the expected counts (alternative hypothesis). \n",
    "\n",
    "We'll define $\\alpha$ = 0.05 as our significance level.\n",
    "To do the test itself, we use `stats.chisquare()`."
   ]
  },
  {
   "cell_type": "code",
   "execution_count": 36,
   "metadata": {},
   "outputs": [
    {
     "data": {
      "text/plain": [
       "Power_divergenceResult(statistic=2.890016920473774, pvalue=0.23574408209664746)"
      ]
     },
     "execution_count": 36,
     "metadata": {},
     "output_type": "execute_result"
    }
   ],
   "source": [
    "stats.chisquare(f_obs= [37, 110, 50],        # Array of observed counts\n",
    "                f_exp= [39.4, 98.5, 59.1])   # Array of expected counts"
   ]
  },
  {
   "cell_type": "markdown",
   "metadata": {},
   "source": [
    "As you can see, the p-value is much higher than our significance level, so we do not reject the null hypothesis; the observed counts are in line with the expected counts."
   ]
  },
  {
   "cell_type": "markdown",
   "metadata": {},
   "source": [
    "# Wrap up\n",
    "\n",
    "That was a lot to cover! There are all sorts of distributions and statistical tests, but we can use them easily using python libraries such as [Scipy.stats](https://docs.scipy.org/doc/scipy/reference/stats.html).\n",
    "\n",
    "To learn more about using statistics in practice, I recommend you look at this brilliant series of blog posts on [data analysis in python](https://hamelg.blogspot.pt/2015/12/python-for-data-analysis-index.html) (you'll see that a lot of the content in this learning unit was inspired / borrowed from these blogposts!)\n",
    "\n",
    "To learn more about statistics on a theoretical standpoint, I recommend [this free book](https://www.openintro.org/stat/textbook.php?stat_book=os) which will teach you all the foundations you need in a motivating way!"
   ]
  }
 ],
 "metadata": {
  "kernelspec": {
   "display_name": "Python 3",
   "language": "python",
   "name": "python3"
  },
  "language_info": {
   "codemirror_mode": {
    "name": "ipython",
    "version": 3
   },
   "file_extension": ".py",
   "mimetype": "text/x-python",
   "name": "python",
   "nbconvert_exporter": "python",
   "pygments_lexer": "ipython3",
   "version": "3.5.4"
  }
 },
 "nbformat": 4,
 "nbformat_minor": 2
}
