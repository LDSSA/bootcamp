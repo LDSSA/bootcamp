{
 "cells": [
  {
   "cell_type": "markdown",
   "metadata": {},
   "source": [
    "# SLU6 - Advanced Statistics: Learning notebook"
   ]
  },
  {
   "cell_type": "code",
   "execution_count": 3,
   "metadata": {},
   "outputs": [],
   "source": [
    "import numpy as np\n",
    "import pandas as pd \n",
    "\n",
    "import scipy.stats as stats"
   ]
  },
  {
   "cell_type": "markdown",
   "metadata": {},
   "source": [
    "In this notebook you will practice the following:\n",
    "\n",
    "- Probability Distributions\n",
    "    - Normal\n",
    "    - Binomial\n",
    "\n",
    "- Point estimates\n",
    "\n",
    "- Confidence intervals\n",
    "\n",
    "- Significance tests\n",
    "    - One-sample T-test\n",
    "    - Chi-squared goodness of fit test"
   ]
  },
  {
   "cell_type": "markdown",
   "metadata": {},
   "source": [
    "# Exercise 1: Normal Distribution\n",
    "\n",
    "You wake up, and you see on the TV news that a pack of bloodthirsty Chihuahuas is terrorizying a small village in Portugal. \n",
    "\n",
    "![title](data/chihuahua.jpg)\n",
    "\n",
    "\n",
    "You curiously google some data on Chihuahuas, and you learn that their height is normally distributed, with a mean height is 18 cm, and a standard deviation is 3 cm.\n",
    "\n",
    "You ask youself: What portion of these terryfing beasts is under 20 cm? Set the variable `portion_under_20_cm` as that value."
   ]
  },
  {
   "cell_type": "code",
   "execution_count": null,
   "metadata": {},
   "outputs": [],
   "source": [
    "portion_under_20_cm = "
   ]
  },
  {
   "cell_type": "markdown",
   "metadata": {},
   "source": [
    "What portion is over 18 cm? Set the variable `portion_over_20_cm` as that value. (HINT: 1 - x)"
   ]
  },
  {
   "cell_type": "code",
   "execution_count": null,
   "metadata": {},
   "outputs": [],
   "source": [
    "portion_over_18_cm ="
   ]
  },
  {
   "cell_type": "markdown",
   "metadata": {},
   "source": [
    "What portion is the portion of chihuahuas with a height between 18 cm and 20 cm? \n",
    "\n",
    "Set the variable `portion_between_18_and_20_cm` as that value."
   ]
  },
  {
   "cell_type": "code",
   "execution_count": null,
   "metadata": {},
   "outputs": [],
   "source": [
    "portion_between_18_and_20_cm = "
   ]
  },
  {
   "cell_type": "markdown",
   "metadata": {},
   "source": [
    "Below which height are 90% of chihuahuas? Set the variable `height_90_percent_critical_value` as that value."
   ]
  },
  {
   "cell_type": "code",
   "execution_count": 1,
   "metadata": {},
   "outputs": [
    {
     "ename": "SyntaxError",
     "evalue": "invalid syntax (<ipython-input-1-14809b97d3a9>, line 1)",
     "output_type": "error",
     "traceback": [
      "\u001b[0;36m  File \u001b[0;32m\"<ipython-input-1-14809b97d3a9>\"\u001b[0;36m, line \u001b[0;32m1\u001b[0m\n\u001b[0;31m    height_90_percent_critical_value =\u001b[0m\n\u001b[0m                                       ^\u001b[0m\n\u001b[0;31mSyntaxError\u001b[0m\u001b[0;31m:\u001b[0m invalid syntax\n"
     ]
    }
   ],
   "source": [
    "height_90_percent_critical_value = "
   ]
  },
  {
   "cell_type": "markdown",
   "metadata": {},
   "source": [
    "# Exercise 2: Binomial Distribution\n",
    "\n",
    "You wake up in the middle of the night, out of a nightmare about tiny, malevolent demons tearing at your ankles.\n",
    "\n",
    "Relieved it was just a dream, you look to the window, and for a split second you swear you could see a chihuahua out of your window.\n",
    "\n",
    "<img src=\"data/scary_chihuahua2.jpg\" alt=\"Drawing\" style=\"width: 400px;\"/>\n",
    "\n",
    "You blink and it's no longer there. You curse your mind for playing you tricks, and go back to bed.\n",
    "\n",
    "Unable to sleep, you read in an article that in some of the places most densely populated by chihuahuas, the odds of being attack by one when you go out of the house are 0.05.\n",
    "\n",
    "What is the probablity that you would be attacked more than twice in 30 days by chihuahuas? \n",
    "\n",
    "Set the variable `prob_of_over_2_attacks_in_30_days` as that value."
   ]
  },
  {
   "cell_type": "code",
   "execution_count": null,
   "metadata": {},
   "outputs": [],
   "source": [
    "prob_of_over_2_attacks_in_30_days = "
   ]
  },
  {
   "cell_type": "markdown",
   "metadata": {},
   "source": [
    "What is the probability that you would be attacked exactly 5 times in 30 days?\n",
    "\n",
    "Set the variable `prob_of_5_attacks_in_30_days` as that value."
   ]
  },
  {
   "cell_type": "code",
   "execution_count": null,
   "metadata": {},
   "outputs": [],
   "source": [
    "prob_of_5_attacks_in_30_days = "
   ]
  },
  {
   "cell_type": "markdown",
   "metadata": {},
   "source": [
    "# Exercise 3: One Sample T-Test"
   ]
  },
  {
   "cell_type": "markdown",
   "metadata": {},
   "source": [
    "You wake up a few hours later, with the sound of your phone. Who could be calling you in the middle of the night? \n",
    "\n",
    "You pick up your phone, and you're greeted by a very anxious animal control expert.\n",
    "\n",
    "They send you a sample of measurements of the canine teeth of 20 chihuahuas that were captured. \n",
    "\n",
    "<img src=\"data/canine_teeth.jpg\" alt=\"Drawing\" style=\"width: 400px;\"/>\n",
    "\n",
    "They say they need a 95% confidence interval on the size of those teeth. Knowing that canine teeth size is normally distributed, use the sample `canine_teeth_size_sample`, and set `canine_teeth_confidence_interval` as those values.\n",
    "\n",
    "(HINT: Use `stats.t.interval()`!)"
   ]
  },
  {
   "cell_type": "code",
   "execution_count": 7,
   "metadata": {},
   "outputs": [],
   "source": [
    "canine_teeth_size_sample = np.array([\n",
    "       4.8, 5.1, 4.7, 5.3, 4.2 ,\n",
    "       5.4, 5.7, 5.2, 4.8, 5.2,\n",
    "       5.4, 4.4, 5.0, 5.2, 5.0,\n",
    "       4.8, 5.3, 4.9, 5.2, 5.1])"
   ]
  },
  {
   "cell_type": "code",
   "execution_count": null,
   "metadata": {},
   "outputs": [],
   "source": [
    "canine_teeth_confidence_interval="
   ]
  },
  {
   "cell_type": "markdown",
   "metadata": {},
   "source": [
    "You send the anxious animal control expert the confidence interval on the canine teeth. While you guess that these are particularly big teeth for chihuahuas, you feel it's best not to mention that, as the expert seemed troubled enough already.\n",
    "\n",
    "You recieve another phone call, again from the animal control expert; He seems to be doing his best to not not stutter, as he asks you: \"... b-but is this a significant deviation from the average canine teeth size? The average canine teeth of a chihuahua is 2 cm long. I-is this just a random thing? Can it j-just happen b-by chance?\"\n",
    "\n",
    "You know this is a job for `stats.ttest_1samp()`. To be super sure, you define a 99.9% confidence interval. \n",
    "\n",
    "You take the sample `canine_teeth_size_sample`, and the average that the animal control expert told you, and do this statistical test. \n",
    "\n",
    "What is the p-value for the test? Set it as `t_test_p_value`.\n",
    "Do you reject the null hypothesis? Set `t_test_reject_null_hypothesis` as True or False."
   ]
  },
  {
   "cell_type": "code",
   "execution_count": 11,
   "metadata": {},
   "outputs": [
    {
     "ename": "SyntaxError",
     "evalue": "invalid syntax (<ipython-input-11-9517d02a797e>, line 1)",
     "output_type": "error",
     "traceback": [
      "\u001b[0;36m  File \u001b[0;32m\"<ipython-input-11-9517d02a797e>\"\u001b[0;36m, line \u001b[0;32m1\u001b[0m\n\u001b[0;31m    t_test_p_value =\u001b[0m\n\u001b[0m                     ^\u001b[0m\n\u001b[0;31mSyntaxError\u001b[0m\u001b[0;31m:\u001b[0m invalid syntax\n"
     ]
    }
   ],
   "source": [
    "t_test_p_value = \n",
    "\n",
    "t_test_reject_null_hypothesis = "
   ]
  },
  {
   "cell_type": "markdown",
   "metadata": {},
   "source": [
    "# Exercise 4: Chi-Squared Goodness-of-Fit Test\n",
    "\n",
    "You tell the bad news to the animal control expert. You can only hear him, but you can tell he is on the verge of crying.\n",
    "\n",
    "He holds back the tears as he sends you data about chihuahua attack incidents in the last month, in 3 portuguese cities. The data is in a DataFrame called `chihuahua_attack_incidents`.\n",
    "\n",
    "He says that, on average:\n",
    "\n",
    "> Faro has 2 chihuahua attacks per month.\n",
    "> Lisboa has 10 chihuahua attacks per month.\n",
    "> Porto has 4 chihuahua attacks per month.\n",
    "\n",
    "He asks you: \"Is th-his number of i-incidents just a chance t-thing? P-please tell me it-t can be. P-please.\"\n",
    "\n",
    "You put your hands in face. This can't be happening. You write down `stats.chisquare()`, and define a 99.9% confidence interval. \n",
    "\n",
    "What is the p-value for the test? Set it as `chi_squared_p_value`.\n",
    "Do you reject the null hypothesis? Set `chi_squared_reject_null_hypothesis` as True or False."
   ]
  },
  {
   "cell_type": "code",
   "execution_count": 16,
   "metadata": {},
   "outputs": [
    {
     "data": {
      "text/html": [
       "<div>\n",
       "<style>\n",
       "    .dataframe thead tr:only-child th {\n",
       "        text-align: right;\n",
       "    }\n",
       "\n",
       "    .dataframe thead th {\n",
       "        text-align: left;\n",
       "    }\n",
       "\n",
       "    .dataframe tbody tr th {\n",
       "        vertical-align: top;\n",
       "    }\n",
       "</style>\n",
       "<table border=\"1\" class=\"dataframe\">\n",
       "  <thead>\n",
       "    <tr style=\"text-align: right;\">\n",
       "      <th></th>\n",
       "      <th>Faro</th>\n",
       "      <th>Lisboa</th>\n",
       "      <th>Porto</th>\n",
       "    </tr>\n",
       "  </thead>\n",
       "  <tbody>\n",
       "    <tr>\n",
       "      <th>number_of_attacks</th>\n",
       "      <td>890</td>\n",
       "      <td>423</td>\n",
       "      <td>213</td>\n",
       "    </tr>\n",
       "  </tbody>\n",
       "</table>\n",
       "</div>"
      ],
      "text/plain": [
       "                   Faro  Lisboa  Porto\n",
       "number_of_attacks   890     423    213"
      ]
     },
     "execution_count": 16,
     "metadata": {},
     "output_type": "execute_result"
    }
   ],
   "source": [
    "chihuahua_attack_incidents = pd.DataFrame({\n",
    "    'Lisboa': 4235,\n",
    "    'Porto': 2123,\n",
    "    'Faro': 8980\n",
    "}, index=['number_of_attacks'])\n",
    "\n",
    "chihuahua_attack_incidents"
   ]
  },
  {
   "cell_type": "code",
   "execution_count": null,
   "metadata": {},
   "outputs": [],
   "source": [
    "chi_squared_p_value = \n",
    "chi_squared_reject_null_hypothesis ="
   ]
  },
  {
   "cell_type": "markdown",
   "metadata": {},
   "source": [
    "The animal control expert cannot hold back his tears anymore. He seems to have dropped his phone, and you just hear him sobbing in the distance. He doesn't seem to respond, so you hang up.\n",
    "\n",
    "You question the reality of all of this. It's too absurd, and you don't feel you can make sense of it right now, so you go back to sleep.\n",
    "\n",
    "You wake up. There's no light in the room, and opening your eyes reveals nothing. Instinctively, you stay still,\n",
    "as you feel your body touched by dozens of small balls of fur. You shake as you reach for your bed lamp.\n",
    "\n",
    "<img src=\"data/death_chihuahua.png\" alt=\"Drawing\" style=\"width: 400px;\"/>"
   ]
  },
  {
   "cell_type": "code",
   "execution_count": null,
   "metadata": {},
   "outputs": [],
   "source": []
  }
 ],
 "metadata": {
  "kernelspec": {
   "display_name": "Python 3",
   "language": "python",
   "name": "python3"
  },
  "language_info": {
   "codemirror_mode": {
    "name": "ipython",
    "version": 3
   },
   "file_extension": ".py",
   "mimetype": "text/x-python",
   "name": "python",
   "nbconvert_exporter": "python",
   "pygments_lexer": "ipython3",
   "version": "3.5.4"
  }
 },
 "nbformat": 4,
 "nbformat_minor": 2
}
