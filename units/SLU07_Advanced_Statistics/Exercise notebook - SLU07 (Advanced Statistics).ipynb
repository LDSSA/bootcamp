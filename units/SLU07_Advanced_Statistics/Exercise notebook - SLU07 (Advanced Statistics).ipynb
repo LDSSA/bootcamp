{
 "cells": [
  {
   "cell_type": "markdown",
   "metadata": {
    "deletable": false,
    "editable": false,
    "nbgrader": {
     "checksum": "43d7c4ab62b758587b3c48ccca99fe86",
     "grade": false,
     "grade_id": "cell-c7d878af3f6b0edb",
     "locked": true,
     "schema_version": 1,
     "solution": false
    }
   },
   "source": [
    "## SLU6 - Advanced Statistics: Learning notebook"
   ]
  },
  {
   "cell_type": "code",
   "execution_count": null,
   "metadata": {
    "deletable": false,
    "editable": false,
    "nbgrader": {
     "checksum": "b9debbc865e8f304a32c39055fac820f",
     "grade": false,
     "grade_id": "cell-ba905e2a6cdd45f9",
     "locked": true,
     "schema_version": 1,
     "solution": false
    }
   },
   "outputs": [],
   "source": [
    "import numpy as np\n",
    "import pandas as pd \n",
    "import math\n",
    "import scipy.stats as stats"
   ]
  },
  {
   "cell_type": "markdown",
   "metadata": {
    "deletable": false,
    "editable": false,
    "nbgrader": {
     "checksum": "86b9b57d48cfc5ce30f53df7fd921304",
     "grade": false,
     "grade_id": "cell-26cf206ce29bae72",
     "locked": true,
     "schema_version": 1,
     "solution": false
    }
   },
   "source": [
    "In this notebook you will practice the following:\n",
    "\n",
    "- Probability Distributions\n",
    "    - Normal\n",
    "    - Binomial\n",
    "\n",
    "- Point estimates\n",
    "\n",
    "- Confidence intervals\n",
    "\n",
    "- Significance tests\n",
    "    - One-sample T-test\n",
    "    - Chi-squared goodness of fit test"
   ]
  },
  {
   "cell_type": "markdown",
   "metadata": {
    "deletable": false,
    "editable": false,
    "nbgrader": {
     "checksum": "9656efc9378b0d8e84647c3fb1b1f788",
     "grade": false,
     "grade_id": "cell-bd5664c874793a5f",
     "locked": true,
     "schema_version": 1,
     "solution": false
    }
   },
   "source": [
    "# Exercise 1: Normal Distribution\n",
    "\n",
    "You wake up, and you see on the TV news that a pack of bloodthirsty Chihuahuas is terrorizying a small village in Portugal. \n",
    "\n",
    "![title](data/chihuahua.jpg)\n",
    "\n",
    "\n",
    "You curiously google some data on Chihuahuas, and you learn that their height is normally distributed, with a mean height is 18 cm, and a standard deviation is 3 cm.\n",
    "\n",
    "You ask youself: What portion of these terrifying beasts is under 20 cm? Set the variable `portion_under_20_cm` as that value."
   ]
  },
  {
   "cell_type": "code",
   "execution_count": null,
   "metadata": {
    "deletable": false,
    "nbgrader": {
     "checksum": "32fa5580b9dc2002822873824d8158bb",
     "grade": false,
     "grade_id": "cell-9b6dfe84ea39633a",
     "locked": false,
     "schema_version": 1,
     "solution": true
    }
   },
   "outputs": [],
   "source": [
    "# portion_under_20_cm = ...\n",
    "# YOUR CODE HERE\n",
    "raise NotImplementedError()"
   ]
  },
  {
   "cell_type": "code",
   "execution_count": null,
   "metadata": {
    "deletable": false,
    "editable": false,
    "nbgrader": {
     "checksum": "071433d2de46e14e99edab4ec4be317d",
     "grade": true,
     "grade_id": "cell-d00c3fd67080ea00",
     "locked": true,
     "points": 2.222222222222222,
     "schema_version": 1,
     "solution": false
    }
   },
   "outputs": [],
   "source": []
  },
  {
   "cell_type": "markdown",
   "metadata": {
    "deletable": false,
    "editable": false,
    "nbgrader": {
     "checksum": "00619ec71e29d59050ebfd4ad3dbe8e3",
     "grade": false,
     "grade_id": "cell-6fc1d767c6b45c7b",
     "locked": true,
     "schema_version": 1,
     "solution": false
    }
   },
   "source": [
    "What portion is over 18 cm? Set the variable `portion_over_20_cm` as that value. (HINT: 1 - x)"
   ]
  },
  {
   "cell_type": "code",
   "execution_count": null,
   "metadata": {
    "deletable": false,
    "nbgrader": {
     "checksum": "13b5e0019e9672e203e2b9eae2170d7b",
     "grade": false,
     "grade_id": "cell-a31f97975030b8a0",
     "locked": false,
     "schema_version": 1,
     "solution": true
    }
   },
   "outputs": [],
   "source": [
    "# portion_over_18_cm = ...\n",
    "# YOUR CODE HERE\n",
    "raise NotImplementedError()"
   ]
  },
  {
   "cell_type": "code",
   "execution_count": null,
   "metadata": {
    "deletable": false,
    "editable": false,
    "nbgrader": {
     "checksum": "db26fabfb2b6d48f1ed5283eb4486717",
     "grade": true,
     "grade_id": "cell-bb0bc8ff264c6c04",
     "locked": true,
     "points": 2.222222222222222,
     "schema_version": 1,
     "solution": false
    }
   },
   "outputs": [],
   "source": []
  },
  {
   "cell_type": "markdown",
   "metadata": {
    "deletable": false,
    "editable": false,
    "nbgrader": {
     "checksum": "af5a377388af9c5cca1a071023f91904",
     "grade": false,
     "grade_id": "cell-e366b351b7ffc44b",
     "locked": true,
     "schema_version": 1,
     "solution": false
    }
   },
   "source": [
    "What portion is the portion of chihuahuas with a height between 18 cm and 20 cm? \n",
    "\n",
    "Set the variable `portion_between_18_and_20_cm` as that value."
   ]
  },
  {
   "cell_type": "code",
   "execution_count": null,
   "metadata": {
    "deletable": false,
    "nbgrader": {
     "checksum": "e3f9912c51148c454b27934dbd5bde2f",
     "grade": false,
     "grade_id": "cell-8665fd01045275f5",
     "locked": false,
     "schema_version": 1,
     "solution": true
    }
   },
   "outputs": [],
   "source": [
    "# portion_between_18_and_20_cm = ...\n",
    "# YOUR CODE HERE\n",
    "raise NotImplementedError()"
   ]
  },
  {
   "cell_type": "code",
   "execution_count": null,
   "metadata": {
    "deletable": false,
    "editable": false,
    "nbgrader": {
     "checksum": "5d476f18238e0e9a6d6262f641ea024a",
     "grade": true,
     "grade_id": "cell-96641513caf2e6b2",
     "locked": true,
     "points": 2.222222222222222,
     "schema_version": 1,
     "solution": false
    }
   },
   "outputs": [],
   "source": []
  },
  {
   "cell_type": "markdown",
   "metadata": {
    "deletable": false,
    "editable": false,
    "nbgrader": {
     "checksum": "d657cabfee608651dbecc6b87ff467ba",
     "grade": false,
     "grade_id": "cell-4ef4ce926bb02a1f",
     "locked": true,
     "schema_version": 1,
     "solution": false
    }
   },
   "source": [
    "Below which height are 90% of chihuahuas? Set the variable `height_90_percent_critical_value` as that value."
   ]
  },
  {
   "cell_type": "code",
   "execution_count": null,
   "metadata": {
    "deletable": false,
    "nbgrader": {
     "checksum": "35e2c7d9564a6068c34f8c8d88d94815",
     "grade": false,
     "grade_id": "cell-4ec7ab6b6dab3f2d",
     "locked": false,
     "schema_version": 1,
     "solution": true
    }
   },
   "outputs": [],
   "source": [
    "# height_90_percent_critical_value = ...\n",
    "# YOUR CODE HERE\n",
    "raise NotImplementedError()"
   ]
  },
  {
   "cell_type": "code",
   "execution_count": null,
   "metadata": {
    "deletable": false,
    "editable": false,
    "nbgrader": {
     "checksum": "34dba9e2587de3c22409b32510f7084a",
     "grade": true,
     "grade_id": "cell-69438d40885b24c2",
     "locked": true,
     "points": 2.222222222222222,
     "schema_version": 1,
     "solution": false
    }
   },
   "outputs": [],
   "source": []
  },
  {
   "cell_type": "markdown",
   "metadata": {
    "deletable": false,
    "editable": false,
    "nbgrader": {
     "checksum": "2d3b3360211f51b1f156b19b5b056f8e",
     "grade": false,
     "grade_id": "cell-a4bd65c3f2ed7119",
     "locked": true,
     "schema_version": 1,
     "solution": false
    }
   },
   "source": [
    "# Exercise 2: Binomial Distribution\n",
    "\n",
    "You wake up in the middle of the night, out of a nightmare about tiny, malevolent demons tearing at your ankles.\n",
    "\n",
    "Relieved it was just a dream, you look to the window, and for a split second you swear you could see a chihuahua out of your window.\n",
    "\n",
    "<img src=\"data/scary_chihuahua2.jpg\" alt=\"Drawing\" style=\"width: 400px;\"/>\n",
    "\n",
    "You blink and it's no longer there. You curse your mind for playing you tricks, and go back to bed.\n",
    "\n",
    "Unable to sleep, you read in an article that in some of the places most densely populated by chihuahuas, the odds of being attack by one when you go out of the house are 0.05.\n",
    "\n",
    "What is the probablity that you would be attacked more than twice in 30 days by chihuahuas? \n",
    "\n",
    "Set the variable `prob_of_over_2_attacks_in_30_days` as that value."
   ]
  },
  {
   "cell_type": "code",
   "execution_count": null,
   "metadata": {
    "deletable": false,
    "nbgrader": {
     "checksum": "37950564844ac4dc6b0387e8cce7f121",
     "grade": false,
     "grade_id": "cell-9e30c1de67b1bc6f",
     "locked": false,
     "schema_version": 1,
     "solution": true
    }
   },
   "outputs": [],
   "source": [
    "# prob_of_over_2_attacks_in_30_days = ...\n",
    "# YOUR CODE HERE\n",
    "raise NotImplementedError()"
   ]
  },
  {
   "cell_type": "code",
   "execution_count": null,
   "metadata": {
    "deletable": false,
    "editable": false,
    "nbgrader": {
     "checksum": "f192267e4ff7abca16454b2551da2f7f",
     "grade": true,
     "grade_id": "cell-4cf521e1ff6c1f66",
     "locked": true,
     "points": 2.222222222222222,
     "schema_version": 1,
     "solution": false
    }
   },
   "outputs": [],
   "source": []
  },
  {
   "cell_type": "markdown",
   "metadata": {
    "deletable": false,
    "editable": false,
    "nbgrader": {
     "checksum": "a8644c89d243929375590df14a46a99f",
     "grade": false,
     "grade_id": "cell-8fe7c7ed31a3ddbd",
     "locked": true,
     "schema_version": 1,
     "solution": false
    }
   },
   "source": [
    "What is the probability that you would be attacked exactly 5 times in 30 days?\n",
    "\n",
    "Set the variable `prob_of_5_attacks_in_30_days` as that value."
   ]
  },
  {
   "cell_type": "code",
   "execution_count": null,
   "metadata": {
    "deletable": false,
    "nbgrader": {
     "checksum": "39083d5f8de440f71cc432f633715c92",
     "grade": false,
     "grade_id": "cell-9cca0f1faab5d4c1",
     "locked": false,
     "schema_version": 1,
     "solution": true
    }
   },
   "outputs": [],
   "source": [
    "# prob_of_5_attacks_in_30_days = ...\n",
    "# YOUR CODE HERE\n",
    "raise NotImplementedError()"
   ]
  },
  {
   "cell_type": "code",
   "execution_count": null,
   "metadata": {
    "deletable": false,
    "editable": false,
    "nbgrader": {
     "checksum": "bf0b189b81543ec88fed3e821bae9cd8",
     "grade": true,
     "grade_id": "cell-4f5edb41483fa8c9",
     "locked": true,
     "points": 2.222222222222222,
     "schema_version": 1,
     "solution": false
    }
   },
   "outputs": [],
   "source": []
  },
  {
   "cell_type": "markdown",
   "metadata": {
    "deletable": false,
    "editable": false,
    "nbgrader": {
     "checksum": "38cec77fc2c6bcdfae4d1f406482494c",
     "grade": false,
     "grade_id": "cell-090f3c45df694808",
     "locked": true,
     "schema_version": 1,
     "solution": false
    }
   },
   "source": [
    "# Exercise 3: Confidence Intervals"
   ]
  },
  {
   "cell_type": "markdown",
   "metadata": {
    "deletable": false,
    "editable": false,
    "nbgrader": {
     "checksum": "1820ca62c39a4a87dc23800d06b43d57",
     "grade": false,
     "grade_id": "cell-1d07e80b01de919a",
     "locked": true,
     "schema_version": 1,
     "solution": false
    }
   },
   "source": [
    "You wake up a few hours later, with the sound of your phone. Who could be calling you in the middle of the night? \n",
    "\n",
    "You pick up your phone, and you're greeted by a very anxious animal control expert.\n",
    "\n",
    "They send you a sample of measurements of the canine teeth of 20 chihuahuas that were captured. \n",
    "\n",
    "<img src=\"data/canine_teeth.jpg\" alt=\"Drawing\" style=\"width: 400px;\"/>\n",
    "\n",
    "They say they need a 95% confidence interval on the size of those teeth. Knowing that canine teeth size is normally distributed, use the sample `canine_teeth_size_sample`, and set `canine_teeth_confidence_interval` as those values.\n",
    "\n",
    "(HINT: Use `stats.t.interval()`!)"
   ]
  },
  {
   "cell_type": "code",
   "execution_count": null,
   "metadata": {
    "deletable": false,
    "editable": false,
    "nbgrader": {
     "checksum": "7188f09f6aae33d7db69c306ad348e18",
     "grade": false,
     "grade_id": "cell-de01c654f2e83463",
     "locked": true,
     "schema_version": 1,
     "solution": false
    }
   },
   "outputs": [],
   "source": [
    "canine_teeth_size_sample = np.array([\n",
    "       4.8, 5.1, 4.7, 5.3, 4.2 ,\n",
    "       5.4, 5.7, 5.2, 4.8, 5.2,\n",
    "       5.4, 4.4, 5.0, 5.2, 5.0,\n",
    "       4.8, 5.3, 4.9, 5.2, 5.1])"
   ]
  },
  {
   "cell_type": "code",
   "execution_count": null,
   "metadata": {
    "deletable": false,
    "nbgrader": {
     "checksum": "b66cffe8f1236490171f3d8745635d17",
     "grade": false,
     "grade_id": "cell-cb4d9e930f30304b",
     "locked": false,
     "schema_version": 1,
     "solution": true
    }
   },
   "outputs": [],
   "source": [
    "# canine_teeth_confidence_interval = ...\n",
    "# YOUR CODE HERE\n",
    "raise NotImplementedError()"
   ]
  },
  {
   "cell_type": "code",
   "execution_count": null,
   "metadata": {
    "deletable": false,
    "editable": false,
    "nbgrader": {
     "checksum": "348463182520d5010fb252c5dfe6d720",
     "grade": true,
     "grade_id": "cell-941f1c05769962fa",
     "locked": true,
     "points": 2.222222222222222,
     "schema_version": 1,
     "solution": false
    }
   },
   "outputs": [],
   "source": []
  },
  {
   "cell_type": "markdown",
   "metadata": {
    "deletable": false,
    "editable": false,
    "nbgrader": {
     "checksum": "3fe68db2e73f5d78b72e505ac5abccf1",
     "grade": false,
     "grade_id": "cell-0e024688981b8f8d",
     "locked": true,
     "schema_version": 1,
     "solution": false
    }
   },
   "source": [
    "# Exercise 4: One Sample T-Test"
   ]
  },
  {
   "cell_type": "markdown",
   "metadata": {
    "deletable": false,
    "editable": false,
    "nbgrader": {
     "checksum": "aec6a6edeb9df0a4fbe998a8497319b4",
     "grade": false,
     "grade_id": "cell-3c742a6f8df54615",
     "locked": true,
     "schema_version": 1,
     "solution": false
    }
   },
   "source": [
    "You send the anxious animal control expert the confidence interval on the canine teeth. While you guess that these are particularly big teeth for chihuahuas, you feel it's best not to mention that, as the expert seemed troubled enough already.\n",
    "\n",
    "You recieve another phone call, again from the animal control expert; He seems to be doing his best to not not stutter, as he asks you: \"... b-but is this a significant deviation from the average canine teeth size? The average canine teeth of a chihuahua is 2 cm long. I-is this just a random thing? Can it j-just happen b-by chance?\"\n",
    "\n",
    "You know this is a job for `stats.ttest_1samp()`. To be super sure, you define a 99.9% confidence interval. \n",
    "\n",
    "You take the sample `canine_teeth_size_sample`, and the average that the animal control expert told you, and do this statistical test. \n",
    "\n",
    "What is the p-value for the test? Set it as `t_test_p_value`.\n",
    "Do you reject the null hypothesis? Set `t_test_reject_null_hypothesis` as True or False."
   ]
  },
  {
   "cell_type": "code",
   "execution_count": null,
   "metadata": {
    "deletable": false,
    "nbgrader": {
     "checksum": "9dd4159af6c229f7ef9507d67ffe3bff",
     "grade": false,
     "grade_id": "cell-2857befc2d5e3eaa",
     "locked": false,
     "schema_version": 1,
     "solution": true
    }
   },
   "outputs": [],
   "source": [
    "# t_test_p_value = ...\n",
    "# YOUR CODE HERE\n",
    "raise NotImplementedError()\n",
    "\n",
    "# t_test_reject_null_hypothesis = ...\n",
    "# YOUR CODE HERE\n",
    "raise NotImplementedError()"
   ]
  },
  {
   "cell_type": "code",
   "execution_count": null,
   "metadata": {
    "deletable": false,
    "editable": false,
    "nbgrader": {
     "checksum": "edf047966b3bf8fd1aea8e5f8a81dd11",
     "grade": true,
     "grade_id": "cell-bc75b1c3b9f1fbf4",
     "locked": true,
     "points": 2.222222222222222,
     "schema_version": 1,
     "solution": false
    }
   },
   "outputs": [],
   "source": []
  },
  {
   "cell_type": "markdown",
   "metadata": {
    "deletable": false,
    "editable": false,
    "nbgrader": {
     "checksum": "50d394721280db7307a6b5746935da2a",
     "grade": false,
     "grade_id": "cell-63050636e33e3857",
     "locked": true,
     "schema_version": 1,
     "solution": false
    }
   },
   "source": [
    "# Exercise 5: Chi-Squared Goodness-of-Fit Test\n",
    "\n",
    "You tell the bad news to the animal control expert. You can only hear him, but you can tell he is on the verge of crying.\n",
    "\n",
    "He holds back the tears as he sends you data about chihuahua attack incidents in the last month, in 3 portuguese cities. The data is in a DataFrame called `chihuahua_attack_incidents`.\n",
    "\n",
    "He says that, on average:\n",
    "\n",
    "> Faro has 2 chihuahua attacks per month.\n",
    "> Lisboa has 10 chihuahua attacks per month.\n",
    "> Porto has 4 chihuahua attacks per month.\n",
    "\n",
    "He asks you: \"Is th-his number of i-incidents just a chance t-thing? P-please tell me it-t can be. P-please.\"\n",
    "\n",
    "You put your hands in face. This can't be happening. You write down `stats.chisquare()`, and define a 99.9% confidence interval. \n",
    "\n",
    "What is the p-value for the test? Set it as `chi_squared_p_value`.\n",
    "Do you reject the null hypothesis? Set `chi_squared_reject_null_hypothesis` as True or False."
   ]
  },
  {
   "cell_type": "code",
   "execution_count": null,
   "metadata": {
    "deletable": false,
    "editable": false,
    "nbgrader": {
     "checksum": "a7074aa36a6d7069da46303d78a19f49",
     "grade": false,
     "grade_id": "cell-3f4e04f4890c4f8f",
     "locked": true,
     "schema_version": 1,
     "solution": false
    }
   },
   "outputs": [],
   "source": [
    "chihuahua_attack_incidents = pd.DataFrame({\n",
    "    'Lisboa': 4235,\n",
    "    'Porto': 2123,\n",
    "    'Faro': 8980\n",
    "}, index=['number_of_attacks'])\n",
    "\n",
    "chihuahua_attack_incidents"
   ]
  },
  {
   "cell_type": "code",
   "execution_count": null,
   "metadata": {
    "deletable": false,
    "nbgrader": {
     "checksum": "32a5fd33b02a754d9ca1ff89a9ab8807",
     "grade": false,
     "grade_id": "cell-8f9f70c73967cfdb",
     "locked": false,
     "schema_version": 1,
     "solution": true
    }
   },
   "outputs": [],
   "source": [
    "# chi_squared_p_value = ...\n",
    "# YOUR CODE HERE\n",
    "raise NotImplementedError()\n",
    "\n",
    "# chi_squared_reject_null_hypothesis = ...\n",
    "# YOUR CODE HERE\n",
    "raise NotImplementedError()"
   ]
  },
  {
   "cell_type": "code",
   "execution_count": null,
   "metadata": {
    "deletable": false,
    "editable": false,
    "nbgrader": {
     "checksum": "dfb27157e58f22d8b255090f87f2056d",
     "grade": true,
     "grade_id": "cell-414e97ff884443cd",
     "locked": true,
     "points": 2.222222222222222,
     "schema_version": 1,
     "solution": false
    }
   },
   "outputs": [],
   "source": []
  },
  {
   "cell_type": "markdown",
   "metadata": {
    "deletable": false,
    "editable": false,
    "nbgrader": {
     "checksum": "2c2f888f4e234af707adfa6169d18d4f",
     "grade": false,
     "grade_id": "cell-64fc0df3bbe035de",
     "locked": true,
     "schema_version": 1,
     "solution": false
    }
   },
   "source": [
    "The animal control expert cannot hold back his tears anymore. He seems to have dropped his phone, and you just hear him sobbing in the distance. He doesn't seem to respond, so you hang up.\n",
    "\n",
    "You question the reality of all of this. It's too absurd, and you don't feel you can make sense of it right now, so you go back to sleep.\n",
    "\n",
    "You wake up. There's no light in the room, and opening your eyes reveals nothing. Instinctively, you stay still,\n",
    "as you feel your body touched by dozens of small balls of fur. You shake as you reach for your bed lamp.\n",
    "\n",
    "<img src=\"data/death_chihuahua.png\" alt=\"Drawing\" style=\"width: 500px;\"/>"
   ]
  }
 ],
 "metadata": {
  "kernelspec": {
   "display_name": "Python 3",
   "language": "python",
   "name": "python3"
  },
  "language_info": {
   "codemirror_mode": {
    "name": "ipython",
    "version": 3
   },
   "file_extension": ".py",
   "mimetype": "text/x-python",
   "name": "python",
   "nbconvert_exporter": "python",
   "pygments_lexer": "ipython3",
   "version": "3.6.4"
  }
 },
 "nbformat": 4,
 "nbformat_minor": 2
}
