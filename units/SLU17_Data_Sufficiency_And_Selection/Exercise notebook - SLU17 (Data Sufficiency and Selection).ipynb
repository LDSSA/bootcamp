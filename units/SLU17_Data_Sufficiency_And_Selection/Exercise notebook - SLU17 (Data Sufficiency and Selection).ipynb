{
 "cells": [
  {
   "cell_type": "markdown",
   "metadata": {
    "deletable": false,
    "editable": false,
    "nbgrader": {
     "checksum": "cef6bb2fa2f9bf18a3ede5d2a094b4ad",
     "grade": false,
     "grade_id": "cell-dc148b069032ac72",
     "locked": true,
     "schema_version": 1,
     "solution": false
    }
   },
   "source": [
    "# SLU17 - Data Sufficiency and Selection\n",
    "\n",
    "In this notebook you will cover the following:\n",
    "\n",
    "- Feature Importance\n",
    "- Single Factor Analysis\n",
    "- Learning Curves"
   ]
  },
  {
   "cell_type": "code",
   "execution_count": 3,
   "metadata": {
    "deletable": false,
    "editable": false,
    "nbgrader": {
     "checksum": "7ade1be2eb9e8de9734b08e27dee179d",
     "grade": false,
     "grade_id": "cell-73d0f28288cec5d9",
     "locked": true,
     "schema_version": 1,
     "solution": false
    }
   },
   "outputs": [],
   "source": [
    "import pandas as pd\n",
    "import numpy as np\n",
    "import sklearn\n",
    "from sklearn.datasets import make_classification\n",
    "from sklearn.model_selection import train_test_split, learning_curve\n",
    "from sklearn.metrics import roc_auc_score\n",
    "from matplotlib import pyplot as plt\n",
    "from base64 import b64encode # just for grading purposes\n",
    "\n",
    "%matplotlib inline"
   ]
  },
  {
   "cell_type": "code",
   "execution_count": 4,
   "metadata": {
    "deletable": false,
    "editable": false,
    "nbgrader": {
     "checksum": "30e6205da1ea3f9c8fb0ff95b860508e",
     "grade": false,
     "grade_id": "cell-e47d27916830bf56",
     "locked": true,
     "schema_version": 1,
     "solution": false
    }
   },
   "outputs": [
    {
     "data": {
      "text/html": [
       "<div>\n",
       "<style scoped>\n",
       "    .dataframe tbody tr th:only-of-type {\n",
       "        vertical-align: middle;\n",
       "    }\n",
       "\n",
       "    .dataframe tbody tr th {\n",
       "        vertical-align: top;\n",
       "    }\n",
       "\n",
       "    .dataframe thead th {\n",
       "        text-align: right;\n",
       "    }\n",
       "</style>\n",
       "<table border=\"1\" class=\"dataframe\">\n",
       "  <thead>\n",
       "    <tr style=\"text-align: right;\">\n",
       "      <th></th>\n",
       "      <th>feature_0</th>\n",
       "      <th>feature_1</th>\n",
       "      <th>feature_2</th>\n",
       "      <th>feature_3</th>\n",
       "      <th>feature_4</th>\n",
       "      <th>feature_5</th>\n",
       "      <th>feature_6</th>\n",
       "      <th>feature_7</th>\n",
       "      <th>feature_8</th>\n",
       "      <th>id</th>\n",
       "    </tr>\n",
       "  </thead>\n",
       "  <tbody>\n",
       "    <tr>\n",
       "      <th>0</th>\n",
       "      <td>1.588078</td>\n",
       "      <td>0.078159</td>\n",
       "      <td>-3.352761</td>\n",
       "      <td>-0.456998</td>\n",
       "      <td>-1.537050</td>\n",
       "      <td>-1.540990</td>\n",
       "      <td>0.697395</td>\n",
       "      <td>-2.263426</td>\n",
       "      <td>Meerkat</td>\n",
       "      <td>0</td>\n",
       "    </tr>\n",
       "    <tr>\n",
       "      <th>1</th>\n",
       "      <td>0.600816</td>\n",
       "      <td>0.862691</td>\n",
       "      <td>-0.282597</td>\n",
       "      <td>2.212205</td>\n",
       "      <td>-0.167844</td>\n",
       "      <td>-0.530334</td>\n",
       "      <td>0.344190</td>\n",
       "      <td>0.116734</td>\n",
       "      <td>Meerkat</td>\n",
       "      <td>1</td>\n",
       "    </tr>\n",
       "    <tr>\n",
       "      <th>2</th>\n",
       "      <td>1.322777</td>\n",
       "      <td>1.686777</td>\n",
       "      <td>-2.026925</td>\n",
       "      <td>2.669834</td>\n",
       "      <td>-0.977835</td>\n",
       "      <td>-2.636982</td>\n",
       "      <td>-1.325553</td>\n",
       "      <td>0.698066</td>\n",
       "      <td>Meerkat</td>\n",
       "      <td>2</td>\n",
       "    </tr>\n",
       "    <tr>\n",
       "      <th>3</th>\n",
       "      <td>-0.617705</td>\n",
       "      <td>0.211531</td>\n",
       "      <td>1.131231</td>\n",
       "      <td>0.441285</td>\n",
       "      <td>-0.237977</td>\n",
       "      <td>0.147819</td>\n",
       "      <td>0.901299</td>\n",
       "      <td>1.146880</td>\n",
       "      <td>Meerkat</td>\n",
       "      <td>3</td>\n",
       "    </tr>\n",
       "    <tr>\n",
       "      <th>4</th>\n",
       "      <td>1.368048</td>\n",
       "      <td>0.847212</td>\n",
       "      <td>-2.562404</td>\n",
       "      <td>1.410269</td>\n",
       "      <td>0.123509</td>\n",
       "      <td>-1.814067</td>\n",
       "      <td>-0.561118</td>\n",
       "      <td>-1.243117</td>\n",
       "      <td>Meerkat</td>\n",
       "      <td>4</td>\n",
       "    </tr>\n",
       "  </tbody>\n",
       "</table>\n",
       "</div>"
      ],
      "text/plain": [
       "   feature_0  feature_1  feature_2  feature_3  feature_4  feature_5  \\\n",
       "0   1.588078   0.078159  -3.352761  -0.456998  -1.537050  -1.540990   \n",
       "1   0.600816   0.862691  -0.282597   2.212205  -0.167844  -0.530334   \n",
       "2   1.322777   1.686777  -2.026925   2.669834  -0.977835  -2.636982   \n",
       "3  -0.617705   0.211531   1.131231   0.441285  -0.237977   0.147819   \n",
       "4   1.368048   0.847212  -2.562404   1.410269   0.123509  -1.814067   \n",
       "\n",
       "   feature_6  feature_7 feature_8  id  \n",
       "0   0.697395  -2.263426   Meerkat   0  \n",
       "1   0.344190   0.116734   Meerkat   1  \n",
       "2  -1.325553   0.698066   Meerkat   2  \n",
       "3   0.901299   1.146880   Meerkat   3  \n",
       "4  -0.561118  -1.243117   Meerkat   4  "
      ]
     },
     "execution_count": 4,
     "metadata": {},
     "output_type": "execute_result"
    }
   ],
   "source": [
    "# load up a classification dataset\n",
    "\n",
    "X = pd.read_csv('data/exercise_X.csv')\n",
    "y = pd.read_csv('data/exercise_y.csv')['label']\n",
    "# give X a quick look\n",
    "X.head()"
   ]
  },
  {
   "cell_type": "code",
   "execution_count": 5,
   "metadata": {
    "deletable": false,
    "editable": false,
    "nbgrader": {
     "checksum": "1a34048e1f88a78cad22634f4219bd81",
     "grade": false,
     "grade_id": "cell-a7ff45300c5ff1f4",
     "locked": true,
     "schema_version": 1,
     "solution": false
    }
   },
   "outputs": [
    {
     "data": {
      "text/plain": [
       "0    502\n",
       "1    498\n",
       "Name: label, dtype: int64"
      ]
     },
     "execution_count": 5,
     "metadata": {},
     "output_type": "execute_result"
    }
   ],
   "source": [
    "# looks like a balanced binary target\n",
    "y.value_counts()"
   ]
  },
  {
   "cell_type": "markdown",
   "metadata": {
    "deletable": false,
    "editable": false,
    "nbgrader": {
     "checksum": "ea6e38d659d3c7ea6f1203a502821b69",
     "grade": false,
     "grade_id": "cell-bd5e4f00e0c6d410",
     "locked": true,
     "schema_version": 1,
     "solution": false
    }
   },
   "source": [
    "# Find the first obviously useless feature\n",
    "\n",
    "Can you determine which of the features contains all uniques and therefore cannot have any predictive power?"
   ]
  },
  {
   "cell_type": "code",
   "execution_count": 6,
   "metadata": {},
   "outputs": [],
   "source": [
    "# Use this cell to determine which of the features serves as a categorical\n",
    "# feature and contains all uniques\n"
   ]
  },
  {
   "cell_type": "code",
   "execution_count": 7,
   "metadata": {
    "deletable": false,
    "nbgrader": {
     "checksum": "e73a5de4aede79c69018b84492e19258",
     "grade": false,
     "grade_id": "cell-a584b7a530c36ed0",
     "locked": false,
     "schema_version": 1,
     "solution": true
    }
   },
   "outputs": [],
   "source": [
    "# set the variable feature_all_unique to the name of the feature\n",
    "# that contains all uniques\n",
    "feature_all_unique = None\n",
    "\n",
    "# YOUR CODE HERE\n",
    "feature_all_unique = 'id'"
   ]
  },
  {
   "cell_type": "code",
   "execution_count": 8,
   "metadata": {
    "deletable": false,
    "editable": false,
    "nbgrader": {
     "checksum": "18f412a34616603c21831b329a97188b",
     "grade": true,
     "grade_id": "cell-805f4867b353fe96",
     "locked": true,
     "points": 1,
     "schema_version": 1,
     "solution": false
    }
   },
   "outputs": [],
   "source": [
    "### BEGIN TESTS\n",
    "assert b64encode(feature_all_unique.encode()) == b'aWQ='\n",
    "### END TESTS"
   ]
  },
  {
   "cell_type": "markdown",
   "metadata": {
    "deletable": false,
    "editable": false,
    "nbgrader": {
     "checksum": "646fb4d725a6bf431f8f4869deac0194",
     "grade": false,
     "grade_id": "cell-602ec15412879335",
     "locked": true,
     "schema_version": 1,
     "solution": false
    }
   },
   "source": [
    "# Find the second obviously useless feature\n",
    "\n",
    "This one doesn't contain all uniques but based upon some Single Factor Analysis you should be able to determine which feature isn't worth\n",
    "bothering with."
   ]
  },
  {
   "cell_type": "code",
   "execution_count": null,
   "metadata": {},
   "outputs": [],
   "source": [
    "# use this cell to do some more SFA on other features to determine\n",
    "# which of them is useless\n"
   ]
  },
  {
   "cell_type": "code",
   "execution_count": 9,
   "metadata": {
    "deletable": false,
    "nbgrader": {
     "checksum": "bf348c96362a983d55ee71535f699338",
     "grade": false,
     "grade_id": "cell-f99bab2575793069",
     "locked": false,
     "schema_version": 1,
     "solution": true
    }
   },
   "outputs": [],
   "source": [
    "# Use this cell to determine the other obviously useless feature\n",
    "other_useless_feature = None\n",
    "\n",
    "# YOUR CODE HERE\n",
    "other_useless_feature = 'feature_8'"
   ]
  },
  {
   "cell_type": "code",
   "execution_count": 10,
   "metadata": {
    "deletable": false,
    "editable": false,
    "nbgrader": {
     "checksum": "7f485b82b127c3a7f6cad2e8745db79b",
     "grade": true,
     "grade_id": "cell-6964c9cd17f443b8",
     "locked": true,
     "points": 1,
     "schema_version": 1,
     "solution": false
    }
   },
   "outputs": [],
   "source": [
    "### BEGIN TESTS\n",
    "assert b64encode(other_useless_feature.encode()) == b'ZmVhdHVyZV84'\n",
    "### END TESTS"
   ]
  },
  {
   "cell_type": "code",
   "execution_count": 11,
   "metadata": {
    "deletable": false,
    "nbgrader": {
     "checksum": "e76f06c30f3783db0c7ab26b16d16037",
     "grade": false,
     "grade_id": "cell-949c10443e311151",
     "locked": false,
     "schema_version": 1,
     "solution": true
    }
   },
   "outputs": [],
   "source": [
    "# now drop the features that you determined to be useless\n",
    "\n",
    "# YOUR CODE HERE\n",
    "X = X.drop(['id', 'feature_8'], axis=1)"
   ]
  },
  {
   "cell_type": "code",
   "execution_count": 12,
   "metadata": {
    "deletable": false,
    "editable": false,
    "nbgrader": {
     "checksum": "c22db436a31d2caa6673496591e7b620",
     "grade": true,
     "grade_id": "cell-476d75f82723fb0c",
     "locked": true,
     "points": 1,
     "schema_version": 1,
     "solution": false
    }
   },
   "outputs": [],
   "source": [
    "### BEGIN TESTS\n",
    "assert b64encode(str(sorted(X.columns)).encode()) == b'WydmZWF0dXJlXzAnLCAnZmVhdHVyZV8xJywgJ2ZlYXR1cmVfMicsICdmZWF0dXJlXzMnLCAnZmVhdHVyZV80JywgJ2ZlYXR1cmVfNScsICdmZWF0dXJlXzYnLCAnZmVhdHVyZV83J10='\n",
    "### END TESTS"
   ]
  },
  {
   "cell_type": "markdown",
   "metadata": {
    "deletable": false,
    "editable": false,
    "nbgrader": {
     "checksum": "fd0a1284d6d8056e2011932a0963c865",
     "grade": false,
     "grade_id": "cell-d29f316d3f5c61e1",
     "locked": true,
     "schema_version": 1,
     "solution": false
    }
   },
   "source": [
    "# Find the rest of the useless features\n",
    "\n",
    "Single Factor Analysis isn't likely to do much in helping us to determine\n",
    "which of the rest of the features are useless. We'll need to use feature_importances in order to find the rest of these bad boys"
   ]
  },
  {
   "cell_type": "code",
   "execution_count": 13,
   "metadata": {
    "deletable": false,
    "nbgrader": {
     "checksum": "57162a9eab6b89dc4063a580f37d4aa2",
     "grade": false,
     "grade_id": "cell-2f4e8d74d1f01c95",
     "locked": false,
     "schema_version": 1,
     "solution": true
    }
   },
   "outputs": [],
   "source": [
    "# in order to use feature importances you will need to import a tree\n",
    "# based algorithm. Let's use a decision tree classifier\n",
    "\n",
    "# import your decision tree classifier here the exact same way that\n",
    "# it is done in the learning notebooks\n",
    "\n",
    "# YOUR CODE HERE\n",
    "from sklearn.tree import DecisionTreeClassifier"
   ]
  },
  {
   "cell_type": "code",
   "execution_count": 14,
   "metadata": {
    "deletable": false,
    "editable": false,
    "nbgrader": {
     "checksum": "71bd54d08b1cb94c4af19ff45f56d40c",
     "grade": true,
     "grade_id": "cell-cbc4c686952738f8",
     "locked": true,
     "points": 1,
     "schema_version": 1,
     "solution": false
    }
   },
   "outputs": [],
   "source": [
    "### BEGIN TESTS\n",
    "assert b64encode(str(DecisionTreeClassifier).encode()) == b'PGNsYXNzICdza2xlYXJuLnRyZWUudHJlZS5EZWNpc2lvblRyZWVDbGFzc2lmaWVyJz4='\n",
    "### END TESTS"
   ]
  },
  {
   "cell_type": "code",
   "execution_count": 17,
   "metadata": {
    "deletable": false,
    "nbgrader": {
     "checksum": "c0470e440a9b9f3ef12e879348be18a5",
     "grade": false,
     "grade_id": "cell-6fbdfd50396e632f",
     "locked": false,
     "schema_version": 1,
     "solution": true
    }
   },
   "outputs": [],
   "source": [
    "# Now let's train the classifier and get the feature importances\n",
    "\n",
    "# Create your classifier, assign it to the clf variable and then\n",
    "# train it on X and y\n",
    "clf = None\n",
    "\n",
    "# once the classifier is trained, set the feature importances here\n",
    "# make it a pandas series with the index being the column names\n",
    "# so that we can visualize the results\n",
    "feature_importances = None\n",
    "\n",
    "# set the random_state=1 and max_depth=5 or the tests won't pass!\n",
    "# YOUR CODE HERE\n",
    "clf = DecisionTreeClassifier(random_state=1, max_depth=5)\n",
    "clf.fit(X, y)\n",
    "feature_importances = pd.Series(clf.feature_importances_)"
   ]
  },
  {
   "cell_type": "code",
   "execution_count": 18,
   "metadata": {
    "deletable": false,
    "editable": false,
    "nbgrader": {
     "checksum": "113b9a32590af28b5070f40a82943233",
     "grade": true,
     "grade_id": "cell-ca84ae67d444979f",
     "locked": true,
     "points": 4,
     "schema_version": 1,
     "solution": false
    }
   },
   "outputs": [
    {
     "ename": "AttributeError",
     "evalue": "'numpy.ndarray' object has no attribute 'equals'",
     "output_type": "error",
     "traceback": [
      "\u001b[0;31m---------------------------------------------------------------------------\u001b[0m",
      "\u001b[0;31mAttributeError\u001b[0m                            Traceback (most recent call last)",
      "\u001b[0;32m<ipython-input-18-232f389039e1>\u001b[0m in \u001b[0;36m<module>\u001b[0;34m()\u001b[0m\n\u001b[1;32m      3\u001b[0m \u001b[0;32massert\u001b[0m \u001b[0mclf\u001b[0m\u001b[0;34m.\u001b[0m\u001b[0mrandom_state\u001b[0m \u001b[0;34m==\u001b[0m \u001b[0;36m1\u001b[0m\u001b[0;34m,\u001b[0m \u001b[0;34m'random_state must be 1'\u001b[0m\u001b[0;34m\u001b[0m\u001b[0m\n\u001b[1;32m      4\u001b[0m \u001b[0;32massert\u001b[0m \u001b[0mclf\u001b[0m\u001b[0;34m.\u001b[0m\u001b[0mmax_depth\u001b[0m \u001b[0;34m==\u001b[0m \u001b[0;36m5\u001b[0m\u001b[0;34m,\u001b[0m \u001b[0;34m'max_depth must be 5'\u001b[0m\u001b[0;34m\u001b[0m\u001b[0m\n\u001b[0;32m----> 5\u001b[0;31m \u001b[0;32massert\u001b[0m \u001b[0mfeature_importances\u001b[0m\u001b[0;34m.\u001b[0m\u001b[0mequals\u001b[0m\u001b[0;34m(\u001b[0m\u001b[0mpd\u001b[0m\u001b[0;34m.\u001b[0m\u001b[0mSeries\u001b[0m\u001b[0;34m(\u001b[0m\u001b[0mclf\u001b[0m\u001b[0;34m.\u001b[0m\u001b[0mfeature_importances_\u001b[0m\u001b[0;34m,\u001b[0m \u001b[0mindex\u001b[0m\u001b[0;34m=\u001b[0m\u001b[0mX\u001b[0m\u001b[0;34m.\u001b[0m\u001b[0mcolumns\u001b[0m\u001b[0;34m)\u001b[0m\u001b[0;34m)\u001b[0m\u001b[0;34m,\u001b[0m \u001b[0;34m'feature_importances must be a pandas series with the X columns as the index'\u001b[0m\u001b[0;34m\u001b[0m\u001b[0m\n\u001b[0m\u001b[1;32m      6\u001b[0m \u001b[0;31m### END TESTS\u001b[0m\u001b[0;34m\u001b[0m\u001b[0;34m\u001b[0m\u001b[0m\n",
      "\u001b[0;31mAttributeError\u001b[0m: 'numpy.ndarray' object has no attribute 'equals'"
     ]
    }
   ],
   "source": [
    "### BEGIN TESTS\n",
    "assert isinstance(clf, sklearn.tree.DecisionTreeClassifier), 'The classifier must be a DecisionTreeClassifier'\n",
    "assert clf.random_state == 1, 'random_state must be 1'\n",
    "assert clf.max_depth == 5, 'max_depth must be 5'\n",
    "assert feature_importances.equals(pd.Series(clf.feature_importances_, index=X.columns)), 'feature_importances must be a pandas series with the X columns as the index'\n",
    "### END TESTS"
   ]
  },
  {
   "cell_type": "code",
   "execution_count": null,
   "metadata": {
    "deletable": false,
    "editable": false,
    "nbgrader": {
     "checksum": "85eba0812c4f246803c1e22c2a6a4b29",
     "grade": false,
     "grade_id": "cell-662fccd5e1566e6a",
     "locked": true,
     "schema_version": 1,
     "solution": false
    }
   },
   "outputs": [],
   "source": [
    "feature_importances.plot.barh();"
   ]
  },
  {
   "cell_type": "code",
   "execution_count": null,
   "metadata": {
    "deletable": false,
    "nbgrader": {
     "checksum": "41aa8d671e7cb66a2b0bcdeb86046277",
     "grade": false,
     "grade_id": "cell-0dc20755ad6d11ce",
     "locked": false,
     "schema_version": 1,
     "solution": true
    }
   },
   "outputs": [],
   "source": [
    "# now remove 3 additional useless features\n",
    "\n",
    "# YOUR CODE HERE\n",
    "raise NotImplementedError()"
   ]
  },
  {
   "cell_type": "code",
   "execution_count": null,
   "metadata": {
    "deletable": false,
    "editable": false,
    "nbgrader": {
     "checksum": "f1d8b5ef27fa31a651e1d1420d504a22",
     "grade": true,
     "grade_id": "cell-47bb1f540f749a88",
     "locked": true,
     "points": 1,
     "schema_version": 1,
     "solution": false
    }
   },
   "outputs": [],
   "source": [
    "### BEGIN TESTS\n",
    "assert b64encode(str(sorted(X.columns)).encode()) == b'WydmZWF0dXJlXzInLCAnZmVhdHVyZV8zJywgJ2ZlYXR1cmVfNCcsICdmZWF0dXJlXzYnLCAnZmVhdHVyZV83J10='\n",
    "### END TESTS"
   ]
  },
  {
   "cell_type": "markdown",
   "metadata": {
    "deletable": false,
    "editable": false,
    "nbgrader": {
     "checksum": "3b5f48d5aeb9a90f048e029531b64f7d",
     "grade": false,
     "grade_id": "cell-168fac9d07e35232",
     "locked": true,
     "schema_version": 1,
     "solution": false
    }
   },
   "source": [
    "# The learning curve\n",
    "\n",
    "Okay now that we have gotten rid of all those useless features, let's focus on getting a sense for how much data we need in order to have\n",
    "reasonable performance."
   ]
  },
  {
   "cell_type": "code",
   "execution_count": null,
   "metadata": {
    "deletable": false,
    "nbgrader": {
     "checksum": "c6aa2c432b311b81319d8b5a87492df7",
     "grade": false,
     "grade_id": "cell-f22e3c91b478ba32",
     "locked": false,
     "schema_version": 1,
     "solution": true
    }
   },
   "outputs": [],
   "source": [
    "# Now create a dataframe that has a single feature that is the\n",
    "# cross validation score in order to help us understand\n",
    "# how increasing amounts of data affect the performance\n",
    "\n",
    "# HINT: just use the snippet from the Learning Notebook\n",
    "cross_val_scores = None\n",
    "\n",
    "# instantiate a classifier that you will inspect the learning rate of\n",
    "clf = DecisionTreeClassifier(max_depth=5, random_state=1)\n",
    "\n",
    "# YOUR CODE HERE\n",
    "raise NotImplementedError()"
   ]
  },
  {
   "cell_type": "code",
   "execution_count": null,
   "metadata": {
    "deletable": false,
    "editable": false,
    "nbgrader": {
     "checksum": "427e0aedf045699ac6c8e72dce2a8886",
     "grade": true,
     "grade_id": "cell-d1bded5a2e391786",
     "locked": true,
     "points": 2,
     "schema_version": 1,
     "solution": false
    }
   },
   "outputs": [],
   "source": [
    "### BEGIN TESTS\n",
    "# round in order to compensate for implementation details\n",
    "expected = [round(x, 3) for x in [\n",
    "    0.7139696510593271,\n",
    "    0.7659680638722555,\n",
    "    0.7669600557920303,\n",
    "    0.7719741240410745,\n",
    "    0.7729961763220548\n",
    "]]\n",
    "\n",
    "assert cross_val_scores is not None, 'Did you forget to set the cross_val_scores variable?'\n",
    "assert 'Cross-validation Score' in cross_val_scores.columns, 'Did you forget'\n",
    "actual = [round(x, 3) for x in cross_val_scores['Cross-validation Score']]\n",
    "assert bool(actual == expected), 'Are your numbers off?'\n",
    "### END TESTS"
   ]
  },
  {
   "cell_type": "code",
   "execution_count": null,
   "metadata": {
    "deletable": false,
    "editable": false,
    "nbgrader": {
     "checksum": "769368eb17d53bfe3709364e964e719d",
     "grade": false,
     "grade_id": "cell-b91ef37925959db9",
     "locked": true,
     "schema_version": 1,
     "solution": false
    }
   },
   "outputs": [],
   "source": [
    "cross_val_scores.plot.line(\n",
    "    title='Decision Tree Learning Curve',\n",
    "    ylim=(0.7, 0.8)\n",
    ");"
   ]
  },
  {
   "cell_type": "code",
   "execution_count": null,
   "metadata": {
    "deletable": false,
    "nbgrader": {
     "checksum": "d7caf570ed44f9ba21315731a405bd46",
     "grade": false,
     "grade_id": "cell-fc4e8393bc289ff2",
     "locked": false,
     "schema_version": 1,
     "solution": true
    }
   },
   "outputs": [],
   "source": [
    "# Now select the minimum training set size that this particular classifier\n",
    "# seems to need in order to maximize it's learning from this dataset.\n",
    "\n",
    "min_train_set_size = None\n",
    "\n",
    "# YOUR CODE HERE\n",
    "raise NotImplementedError()"
   ]
  },
  {
   "cell_type": "code",
   "execution_count": null,
   "metadata": {
    "deletable": false,
    "editable": false,
    "nbgrader": {
     "checksum": "7de6d2f39e02d4a77141722439421ce0",
     "grade": true,
     "grade_id": "cell-1669e239252c8492",
     "locked": true,
     "points": 1,
     "schema_version": 1,
     "solution": false
    }
   },
   "outputs": [],
   "source": [
    "### BEGIN TESTS\n",
    "assert min_train_set_size <= int(b64decode(b'MzAw'))\n",
    "### END TESTS"
   ]
  }
 ],
 "metadata": {
  "kernelspec": {
   "display_name": "Python 3",
   "language": "python",
   "name": "python3"
  },
  "language_info": {
   "codemirror_mode": {
    "name": "ipython",
    "version": 3
   },
   "file_extension": ".py",
   "mimetype": "text/x-python",
   "name": "python",
   "nbconvert_exporter": "python",
   "pygments_lexer": "ipython3",
   "version": "3.5.5"
  }
 },
 "nbformat": 4,
 "nbformat_minor": 2
}
