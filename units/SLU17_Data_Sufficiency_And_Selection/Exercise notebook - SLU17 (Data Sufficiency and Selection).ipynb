{
 "cells": [
  {
   "cell_type": "markdown",
   "metadata": {
    "deletable": false,
    "editable": false,
    "nbgrader": {
     "checksum": "9e28d39b7dcc09d8395fff02d5cab32e",
     "grade": false,
     "grade_id": "cell-ffd19da8ad9eb287",
     "locked": true,
     "schema_version": 1,
     "solution": false
    }
   },
   "source": [
    "# SLU6 - Intermediate statistics: Exercise notebook"
   ]
  },
  {
   "cell_type": "code",
   "execution_count": null,
   "metadata": {
    "deletable": false,
    "editable": false,
    "nbgrader": {
     "checksum": "ad76fc9b0c69e6834d44ea7d6ec29239",
     "grade": false,
     "grade_id": "cell-5db9010e5f96be4c",
     "locked": true,
     "schema_version": 1,
     "solution": false
    }
   },
   "outputs": [],
   "source": [
    "import pandas as pd \n",
    "import numpy as np \n",
    "import math "
   ]
  },
  {
   "cell_type": "markdown",
   "metadata": {
    "deletable": false,
    "editable": false,
    "nbgrader": {
     "checksum": "e86455c904b2af9ff4bd1407c9f96939",
     "grade": false,
     "grade_id": "cell-4e02c47394f90045",
     "locked": true,
     "schema_version": 1,
     "solution": false
    }
   },
   "source": [
    "In this notebook you will practice the following: \n",
    "\n",
    "    - Covariance \n",
    "    - Pearson correlation\n",
    "    - Spearman correlation\n",
    "    - Correlation matrix\n",
    "    - Spurious correlations"
   ]
  },
  {
   "cell_type": "markdown",
   "metadata": {
    "deletable": false,
    "editable": false,
    "nbgrader": {
     "checksum": "1a339a37aa6df11c24b5fc9b6bac7195",
     "grade": false,
     "grade_id": "cell-eb64fecb75377742",
     "locked": true,
     "schema_version": 1,
     "solution": false
    }
   },
   "source": [
    "# Exercise 1: implement covariance "
   ]
  },
  {
   "cell_type": "markdown",
   "metadata": {
    "deletable": false,
    "editable": false,
    "nbgrader": {
     "checksum": "5c82fb82c5430329b1ca806e9b09baee",
     "grade": false,
     "grade_id": "cell-f10b687a642dbf13",
     "locked": true,
     "schema_version": 1,
     "solution": false
    }
   },
   "source": [
    "Here you will implment covariance, by completing the following function. \n",
    "\n",
    "Don't worry too much about generalizing, this will be an extremely naïve implementation, just to get your hands dirty! \n",
    "\n",
    "Quick reminder of the formula: \n",
    "$$ cov = \\frac{\\sum{(X - X_{avg})(Y - Y_{avg})}}{n-1} $$"
   ]
  },
  {
   "cell_type": "markdown",
   "metadata": {
    "deletable": false,
    "editable": false,
    "nbgrader": {
     "checksum": "8495c8ff5b3cede91068298eeef32a8a",
     "grade": false,
     "grade_id": "cell-37eedff00dee9dc8",
     "locked": true,
     "schema_version": 1,
     "solution": false
    }
   },
   "source": [
    "#### Complete here: "
   ]
  },
  {
   "cell_type": "code",
   "execution_count": null,
   "metadata": {
    "deletable": false,
    "nbgrader": {
     "checksum": "b7c9f8f66f37527b7df87dd92854291b",
     "grade": false,
     "grade_id": "cell-31802707a6bea6cf",
     "locked": false,
     "schema_version": 1,
     "solution": true
    }
   },
   "outputs": [],
   "source": [
    "def covariance_by_hand(s1, s2):\n",
    "    \"\"\" \n",
    "    Naive implementation of covariance by hand \n",
    "    \n",
    "    Args:\n",
    "        s1 (Pd.Series): a pandas series \n",
    "        s2 (Pd.Series): a pandas series (the same index and length as s1)\n",
    "\n",
    "    Returns:\n",
    "        covariance (float): the covariance between s1 and s2 \n",
    "\n",
    "    \"\"\"\n",
    "    \n",
    "    # get the mean of each series, save them as s1_avg and s2_avg (~2 lines)\n",
    "    # s1_avg = ... \n",
    "    # s2_avg = ...\n",
    "    # YOUR CODE HERE\n",
    "    raise NotImplementedError()\n",
    "\n",
    "    \n",
    "    # for each series, subtract the mean to each point (~2 lines)\n",
    "    # s1_minus_s1_avg = ... \n",
    "    # s2_minus_s2_avg = ... \n",
    "    # YOUR CODE HERE\n",
    "    raise NotImplementedError()\n",
    "    \n",
    "    # get the element-wise product between the two columns (~1 line)\n",
    "    # element_wise_product = ...\n",
    "    # YOUR CODE HERE\n",
    "    raise NotImplementedError()\n",
    "    \n",
    "    # sum the element-wise product series, to get the top side of the equasion (~1 line)\n",
    "    # element_wise_product_sum = ...\n",
    "    # YOUR CODE HERE\n",
    "    raise NotImplementedError()\n",
    "    \n",
    "    # divide the upper part of the equasion by the (number of elements - 1)  (~2 lines)\n",
    "    # clue: use s1 to get the number of elements \n",
    "    # n = ...\n",
    "    # covariance = ...\n",
    "    # YOUR CODE HERE\n",
    "    raise NotImplementedError()\n",
    "\n",
    "    return covariance "
   ]
  },
  {
   "cell_type": "code",
   "execution_count": null,
   "metadata": {
    "deletable": false,
    "editable": false,
    "nbgrader": {
     "checksum": "6c7bac4356bcb00f53f2023b23f59b51",
     "grade": false,
     "grade_id": "cell-a2975ec922a08f98",
     "locked": true,
     "schema_version": 1,
     "solution": false
    }
   },
   "outputs": [],
   "source": [
    "a = pd.Series([1, 5, 7, 10, 25])\n",
    "b = pd.Series([15, 30, 28, 45, 50])\n",
    "print('Covariance by hand between a and b: %0.02f' % covariance_by_hand(a, b))"
   ]
  },
  {
   "cell_type": "markdown",
   "metadata": {
    "deletable": false,
    "editable": false,
    "nbgrader": {
     "checksum": "18c748bbdaeda528c2e07402be344815",
     "grade": false,
     "grade_id": "cell-fb01abfb8843985d",
     "locked": true,
     "schema_version": 1,
     "solution": false
    }
   },
   "source": [
    "Expected output:   \n",
    "\n",
    "    Covariance by hand between a and b: 112.05"
   ]
  },
  {
   "cell_type": "code",
   "execution_count": null,
   "metadata": {
    "deletable": false,
    "editable": false,
    "nbgrader": {
     "checksum": "e4ccb4b91f641d077201e263ffe91952",
     "grade": true,
     "grade_id": "cell-110d6cc4cdab8695",
     "locked": true,
     "points": 2,
     "schema_version": 1,
     "solution": false
    }
   },
   "outputs": [],
   "source": [
    "a = pd.Series([1, 5, 7, 10, 25])\n",
    "b = pd.Series([15, 30, 28, 45, 50])\n",
    "c = pd.Series([22, 55, 23, 15, 92])\n",
    "assert math.isclose(covariance_by_hand(a, b), 112.05)\n",
    "assert math.isclose(covariance_by_hand(a, c), 230.2)"
   ]
  },
  {
   "cell_type": "markdown",
   "metadata": {
    "deletable": false,
    "editable": false,
    "nbgrader": {
     "checksum": "2e395251ab589f55e67e27de53dd624e",
     "grade": false,
     "grade_id": "cell-34d6949936535344",
     "locked": true,
     "schema_version": 1,
     "solution": false
    }
   },
   "source": [
    "# Exercise 2: implement pearson correlation\n",
    "\n",
    "Correlation is simply normalized covariance! \n",
    "\n",
    "$$ correlation = \\frac{covariance(X, Y)}{\\sqrt{Var(X) * Var(Y)}} $$"
   ]
  },
  {
   "cell_type": "markdown",
   "metadata": {
    "deletable": false,
    "editable": false,
    "nbgrader": {
     "checksum": "c8fa643e258b5a70501b2b09cd07179c",
     "grade": false,
     "grade_id": "cell-3157a3fa30feb0d3",
     "locked": true,
     "schema_version": 1,
     "solution": false
    }
   },
   "source": [
    "#### Complete here: "
   ]
  },
  {
   "cell_type": "code",
   "execution_count": null,
   "metadata": {
    "deletable": false,
    "nbgrader": {
     "checksum": "19ef856ce88d4b2d7abba2cbb7e31ad0",
     "grade": false,
     "grade_id": "cell-7e2c47095ccc50ef",
     "locked": false,
     "schema_version": 1,
     "solution": true
    }
   },
   "outputs": [],
   "source": [
    "def pearson_correlation_by_hand(s1, s2): \n",
    "    \"\"\" \n",
    "    Naive implementation of pearson correlation\n",
    "    \n",
    "    Args:\n",
    "        s1 (Pd.Series): a pandas series \n",
    "        s2 (Pd.Series): a pandas series (the same index and length as s1)\n",
    "\n",
    "    Returns:\n",
    "        correlation (float): the correlation between s1 and s2 \n",
    "\n",
    "    \"\"\"\n",
    "    \n",
    "    # get the variance of s1 and s2 (~2 lines)\n",
    "    # var_s1 = ...\n",
    "    # var_s2 = ...\n",
    "    # YOUR CODE HERE\n",
    "    raise NotImplementedError()\n",
    "    \n",
    "    # calculate the bottom half of the correlation formula (~2 lines)\n",
    "    # clue: to do the square root, use np.sqrt(var_s1_times_var_s2)\n",
    "    # var_s1_times_var_s2 = ...\n",
    "    # bottom_half_of_correlation_formula = ... \n",
    "    # YOUR CODE HERE\n",
    "    raise NotImplementedError()\n",
    "    \n",
    "    # finally, calculate the correlation \n",
    "    # clue: remember, you've already implemented the top half in exercise one, you can use that now \n",
    "    # correlation = ...\n",
    "    # YOUR CODE HERE\n",
    "    raise NotImplementedError()\n",
    "    \n",
    "    return correlation"
   ]
  },
  {
   "cell_type": "code",
   "execution_count": null,
   "metadata": {
    "deletable": false,
    "editable": false,
    "nbgrader": {
     "checksum": "29d19efd2f219fc69b097f5bed1cda06",
     "grade": false,
     "grade_id": "cell-9086bbc15cf70597",
     "locked": true,
     "schema_version": 1,
     "solution": false
    }
   },
   "outputs": [],
   "source": [
    "print('Correlation by hand between a and b: %0.02f' % pearson_correlation_by_hand(a, b))"
   ]
  },
  {
   "cell_type": "markdown",
   "metadata": {
    "deletable": false,
    "editable": false,
    "nbgrader": {
     "checksum": "907705cd7475a20f725c8c4e53bb0d69",
     "grade": false,
     "grade_id": "cell-9c37db071639babe",
     "locked": true,
     "schema_version": 1,
     "solution": false
    }
   },
   "source": [
    "Expected output:   \n",
    "\n",
    "    Correlation by hand between a and b: 0.87"
   ]
  },
  {
   "cell_type": "markdown",
   "metadata": {
    "deletable": false,
    "editable": false,
    "nbgrader": {
     "checksum": "ee286744872abd19cd7e7672fe173176",
     "grade": false,
     "grade_id": "cell-64e02a5b97c368ad",
     "locked": true,
     "schema_version": 1,
     "solution": false
    }
   },
   "source": [
    "# Exercise 3: using the pandas versions "
   ]
  },
  {
   "cell_type": "code",
   "execution_count": null,
   "metadata": {
    "deletable": false,
    "nbgrader": {
     "checksum": "319f4d196f853f4100dfc2fce309b657",
     "grade": false,
     "grade_id": "cell-ec9d27cfc3bcfc8c",
     "locked": false,
     "schema_version": 1,
     "solution": true
    }
   },
   "outputs": [],
   "source": [
    "def summarize_relationship(s1, s2): \n",
    "    \"\"\" \n",
    "    Uses the pandas implementation to summarize relationships between series \n",
    "    \n",
    "    Args:\n",
    "        s1 (Pd.Series): a pandas series \n",
    "        s2 (Pd.Series): a pandas series (the same index and length as s1)\n",
    "\n",
    "    Returns:\n",
    "        summary (dict): dictionary containing covariance, pearson and spearman correlation\n",
    "\n",
    "    \"\"\"\n",
    "    # using pandas, compute the covariance between s1 and s2 (1 line)\n",
    "    # covariance = ...\n",
    "    # YOUR CODE HERE\n",
    "    raise NotImplementedError()\n",
    "\n",
    "    # using pandas, compute the pearson correlation between s1 and s2 (1 line)\n",
    "    # pearson_corr = ...  \n",
    "    # YOUR CODE HERE\n",
    "    raise NotImplementedError()\n",
    "    # using pandas, compute the spearman correlation between s1 and s2 (1 line)\n",
    "    # spearman_corr = ...\n",
    "    # YOUR CODE HERE\n",
    "    raise NotImplementedError()\n",
    "    return {'covariance': covariance, 'pearson': pearson_corr, 'spearman': spearman_corr}"
   ]
  },
  {
   "cell_type": "code",
   "execution_count": null,
   "metadata": {
    "deletable": false,
    "editable": false,
    "nbgrader": {
     "checksum": "a58e4ac36d769333096b2ebc2b50f1b4",
     "grade": false,
     "grade_id": "cell-7eb02964d5809b01",
     "locked": true,
     "schema_version": 1,
     "solution": false
    }
   },
   "outputs": [],
   "source": [
    "a = pd.Series([1, 5, 7, 10, 25])\n",
    "b = pd.Series([15, 30, 28, 45, 50])\n",
    "c = b * 7\n",
    "\n",
    "for name, series in {'b': b, 'c': c}.items(): \n",
    "    summary = summarize_relationship(a, series)\n",
    "    print('Between a and %s, the covariance is %0.0f, '\n",
    "      'the pearson correlation is %0.02f and the spearman '\n",
    "      'correlation is %0.02f' % (name, \n",
    "                                 summary['covariance'], \n",
    "                                 summary['pearson'], \n",
    "                                 summary['spearman']))"
   ]
  },
  {
   "cell_type": "markdown",
   "metadata": {
    "deletable": false,
    "editable": false,
    "nbgrader": {
     "checksum": "11655474d860bc7c11c1c434d0e38fc9",
     "grade": false,
     "grade_id": "cell-52811ecbad85c3ca",
     "locked": true,
     "schema_version": 1,
     "solution": false
    }
   },
   "source": [
    "Expected output: \n",
    "   \n",
    "    Between a and c, the covariance is 784, the pearson correlation is 0.87 and the spearman correlation is 0.90\n",
    "    Between a and b, the covariance is 112, the pearson correlation is 0.87 and the spearman correlation is 0.90"
   ]
  },
  {
   "cell_type": "code",
   "execution_count": null,
   "metadata": {
    "deletable": false,
    "editable": false,
    "nbgrader": {
     "checksum": "a04d9d88a55e923cee5493e09439b576",
     "grade": true,
     "grade_id": "cell-72f5267bec424887",
     "locked": true,
     "points": 2,
     "schema_version": 1,
     "solution": false
    }
   },
   "outputs": [],
   "source": [
    "summary_a_c = summarize_relationship(a, c)\n",
    "assert math.isclose(summary_a_c['covariance'], 784.35, abs_tol=0.01)\n",
    "assert math.isclose(summary_a_c['pearson'],  0.86626, abs_tol=0.01)\n",
    "assert math.isclose(summary_a_c['spearman'],  0.9, abs_tol=0.01)"
   ]
  },
  {
   "cell_type": "markdown",
   "metadata": {
    "deletable": false,
    "editable": false,
    "nbgrader": {
     "checksum": "ab14246c8eb2c13c6064bdaf082954ec",
     "grade": false,
     "grade_id": "cell-fee5be327e522741",
     "locked": true,
     "schema_version": 1,
     "solution": false
    }
   },
   "source": [
    "Side question (optional): can you remember why the correlation is the same, given that `c = b * 7`? "
   ]
  },
  {
   "cell_type": "markdown",
   "metadata": {
    "deletable": false,
    "editable": false,
    "nbgrader": {
     "checksum": "31881128c0dfb13eff3a607e3987d043",
     "grade": false,
     "grade_id": "cell-020d96e143b5eded",
     "locked": true,
     "schema_version": 1,
     "solution": false
    }
   },
   "source": [
    "# Exercise 4: time for some fun "
   ]
  },
  {
   "cell_type": "markdown",
   "metadata": {
    "deletable": false,
    "editable": false,
    "nbgrader": {
     "checksum": "eb21b03ffc70b9479c00ce617c8202c0",
     "grade": false,
     "grade_id": "cell-d49353b5bd8d1128",
     "locked": true,
     "schema_version": 1,
     "solution": false
    }
   },
   "source": [
    "The 'affairs' dataset is a data science classic. It is the result of a questionaire of US marriages, and attempts to understand what factors are correlated with couples having affairs. \n",
    "\n",
    "Your job, is to analyze this dataset using whatever tools you wish, and complete the following analysis. \n",
    "\n",
    "_Hint: the correlation matrix, and the heatmap visualization might come in handy_"
   ]
  },
  {
   "cell_type": "code",
   "execution_count": null,
   "metadata": {
    "deletable": false,
    "nbgrader": {
     "checksum": "8a845bc979f85b237dbf48b7325f04af",
     "grade": false,
     "grade_id": "cell-de272afdcb6695e5",
     "locked": false,
     "schema_version": 1,
     "solution": true
    }
   },
   "outputs": [],
   "source": [
    "# This time you will have more freedom to play around. \n",
    "# We've loaded the dataset for your, but from here on you are on your own! \n",
    "data = pd.read_csv('data/affairs.csv')\n",
    "analysis = {}\n",
    "\n",
    "# Explore the dataset\n",
    "# YOUR CODE HERE\n",
    "raise NotImplementedError()\n",
    "\n",
    "# Complete the following questions: \n",
    "# what is the name of the variable with the highest correlation with the number of affairs? \n",
    "# analysis['highest_correlation_with_affair'] = ... \n",
    "# YOUR CODE HERE\n",
    "raise NotImplementedError()\n",
    "\n",
    "# what is the name of the variable with the lowest (most negative) correlation with the number of affairs? \n",
    "# analysis['lowest_correlation_with_affair'] = ...\n",
    "# YOUR CODE HERE\n",
    "raise NotImplementedError()\n",
    "\n",
    "# what is the correlation between having a child, and having an affair? \n",
    "# analysis['corr_between_child_and_affair'] = ...\n",
    "# YOUR CODE HERE\n",
    "raise NotImplementedError()\n",
    "\n",
    "# can you think of a confounding variable that might suggest children don't actually cause affairs? \n",
    "# analysis['possible confounding variable'] = ...\n",
    "# YOUR CODE HERE\n",
    "raise NotImplementedError()"
   ]
  },
  {
   "cell_type": "code",
   "execution_count": null,
   "metadata": {
    "deletable": false,
    "editable": false,
    "nbgrader": {
     "checksum": "8da1528e9e93cc76dca0e7f80a5f1762",
     "grade": false,
     "grade_id": "cell-05b11691ed78f41d",
     "locked": true,
     "schema_version": 1,
     "solution": false
    }
   },
   "outputs": [],
   "source": [
    "print('The variable that correlates most positively with having an affair is '\n",
    "      '\"%s\". \\n\\nThe variable \"%s\" seems to correlate negatively with the number of affairs, \\nbut '\n",
    "      'there is no way to establish a direction of causality. \\n\\nWe did find '\n",
    "      'a correlation between the presence of a child and an affair of \"%0.02f\", '\n",
    "      '\\nhowever this might be partially or entirely explained '\n",
    "      'by the presence confounding variable \"%s\"' % \n",
    "      (analysis['highest_correlation_with_affair'], \n",
    "      analysis['lowest_correlation_with_affair'],\n",
    "      analysis['corr_between_child_and_affair'],\n",
    "      analysis['possible confounding variable']))"
   ]
  },
  {
   "cell_type": "markdown",
   "metadata": {
    "deletable": false,
    "editable": false,
    "nbgrader": {
     "checksum": "baf42dab42bed3be1ac66a6b2678c360",
     "grade": false,
     "grade_id": "cell-2a9d337dadf68949",
     "locked": true,
     "schema_version": 1,
     "solution": false
    }
   },
   "source": [
    "Expected output \n",
    "\n",
    "    No expected output on this one, see if it passes the test output ;) "
   ]
  },
  {
   "cell_type": "markdown",
   "metadata": {
    "deletable": false,
    "editable": false,
    "nbgrader": {
     "checksum": "d40b66d940aa584d1be8163f87c573cd",
     "grade": false,
     "grade_id": "cell-bb1ebc00f1a506d8",
     "locked": true,
     "schema_version": 1,
     "solution": false
    }
   },
   "source": [
    "#### Test output (don't change code here) "
   ]
  },
  {
   "cell_type": "code",
   "execution_count": null,
   "metadata": {
    "deletable": false,
    "editable": false,
    "nbgrader": {
     "checksum": "904763072d41b2b7487481d3cccd0e2a",
     "grade": true,
     "grade_id": "cell-61ec8bb442300a8e",
     "locked": true,
     "points": 2,
     "schema_version": 1,
     "solution": false
    }
   },
   "outputs": [],
   "source": []
  },
  {
   "cell_type": "markdown",
   "metadata": {
    "deletable": false,
    "editable": false,
    "nbgrader": {
     "checksum": "6ec0a8dfba276e633b8cb58343c158a0",
     "grade": false,
     "grade_id": "cell-49b275e9149146f2",
     "locked": true,
     "schema_version": 1,
     "solution": false
    }
   },
   "source": [
    "# If you have some free time (optional) "
   ]
  },
  {
   "cell_type": "markdown",
   "metadata": {
    "deletable": false,
    "editable": false,
    "nbgrader": {
     "checksum": "108db9d8d0e5cd98c5da04b5fb3a9642",
     "grade": false,
     "grade_id": "cell-9ef503cec5205390",
     "locked": true,
     "schema_version": 1,
     "solution": false
    }
   },
   "source": [
    "If you have free time, try exploring the housing dataset from the learning notebook further. "
   ]
  },
  {
   "cell_type": "code",
   "execution_count": null,
   "metadata": {},
   "outputs": [],
   "source": [
    "housing_data = pd.read_csv('data/HousingData.csv')"
   ]
  }
 ],
 "metadata": {
  "kernelspec": {
   "display_name": "Python 3",
   "language": "python",
   "name": "python3"
  },
  "language_info": {
   "codemirror_mode": {
    "name": "ipython",
    "version": 3
   },
   "file_extension": ".py",
   "mimetype": "text/x-python",
   "name": "python",
   "nbconvert_exporter": "python",
   "pygments_lexer": "ipython3",
   "version": "3.5.1"
  }
 },
 "nbformat": 4,
 "nbformat_minor": 2
}
