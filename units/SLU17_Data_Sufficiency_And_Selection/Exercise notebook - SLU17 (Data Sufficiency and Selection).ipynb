{
 "cells": [
  {
   "cell_type": "markdown",
   "metadata": {
    "deletable": false,
    "editable": false,
    "nbgrader": {
     "checksum": "cef6bb2fa2f9bf18a3ede5d2a094b4ad",
     "grade": false,
     "grade_id": "cell-dc148b069032ac72",
     "locked": true,
     "schema_version": 1,
     "solution": false
    }
   },
   "source": [
    "# SLU17 - Data Sufficiency and Selection\n",
    "\n",
    "In this notebook you will cover the following:\n",
    "\n",
    "- Feature Importance\n",
    "- Single Factor Analysis\n",
    "- Learning Curves"
   ]
  },
  {
   "cell_type": "code",
   "execution_count": null,
   "metadata": {
    "deletable": false,
    "editable": false,
    "nbgrader": {
     "checksum": "5bf98464b6fc4d66fe64493fd0e92af3",
     "grade": false,
     "grade_id": "cell-73d0f28288cec5d9",
     "locked": true,
     "schema_version": 1,
     "solution": false
    }
   },
   "outputs": [],
   "source": [
    "import math\n",
    "import pandas as pd\n",
    "import numpy as np\n",
    "import sklearn\n",
    "from sklearn.datasets import make_classification\n",
    "from sklearn.model_selection import train_test_split, learning_curve\n",
    "from sklearn.metrics import roc_auc_score\n",
    "from matplotlib import pyplot as plt\n",
    "from base64 import b64encode, b64decode # just for grading purposes\n",
    "\n",
    "%matplotlib inline"
   ]
  },
  {
   "cell_type": "code",
   "execution_count": null,
   "metadata": {
    "deletable": false,
    "editable": false,
    "nbgrader": {
     "checksum": "30e6205da1ea3f9c8fb0ff95b860508e",
     "grade": false,
     "grade_id": "cell-e47d27916830bf56",
     "locked": true,
     "schema_version": 1,
     "solution": false
    }
   },
   "outputs": [],
   "source": [
    "# load up a classification dataset\n",
    "\n",
    "X = pd.read_csv('data/exercise_X.csv')\n",
    "y = pd.read_csv('data/exercise_y.csv')['label']\n",
    "# give X a quick look\n",
    "X.head()"
   ]
  },
  {
   "cell_type": "code",
   "execution_count": null,
   "metadata": {
    "deletable": false,
    "editable": false,
    "nbgrader": {
     "checksum": "1a34048e1f88a78cad22634f4219bd81",
     "grade": false,
     "grade_id": "cell-a7ff45300c5ff1f4",
     "locked": true,
     "schema_version": 1,
     "solution": false
    }
   },
   "outputs": [],
   "source": [
    "# looks like a balanced binary target\n",
    "y.value_counts()"
   ]
  },
  {
   "cell_type": "markdown",
   "metadata": {
    "deletable": false,
    "editable": false,
    "nbgrader": {
     "checksum": "ea6e38d659d3c7ea6f1203a502821b69",
     "grade": false,
     "grade_id": "cell-bd5e4f00e0c6d410",
     "locked": true,
     "schema_version": 1,
     "solution": false
    }
   },
   "source": [
    "# Find the first obviously useless feature\n",
    "\n",
    "Can you determine which of the features contains all uniques and therefore cannot have any predictive power?"
   ]
  },
  {
   "cell_type": "code",
   "execution_count": null,
   "metadata": {},
   "outputs": [],
   "source": [
    "# Use this cell to determine which of the features serves as a categorical\n",
    "# feature and contains all uniques\n"
   ]
  },
  {
   "cell_type": "code",
   "execution_count": null,
   "metadata": {
    "deletable": false,
    "nbgrader": {
     "checksum": "e73a5de4aede79c69018b84492e19258",
     "grade": false,
     "grade_id": "cell-a584b7a530c36ed0",
     "locked": false,
     "schema_version": 1,
     "solution": true
    }
   },
   "outputs": [],
   "source": [
    "# set the variable feature_all_unique to the name of the feature\n",
    "# that contains all uniques\n",
    "feature_all_unique = None\n",
    "\n",
    "# YOUR CODE HERE\n",
    "raise NotImplementedError()"
   ]
  },
  {
   "cell_type": "code",
   "execution_count": null,
   "metadata": {
    "deletable": false,
    "editable": false,
    "nbgrader": {
     "checksum": "18f412a34616603c21831b329a97188b",
     "grade": true,
     "grade_id": "cell-805f4867b353fe96",
     "locked": true,
     "points": 1,
     "schema_version": 1,
     "solution": false
    }
   },
   "outputs": [],
   "source": [
    "### BEGIN TESTS\n",
    "assert b64encode(feature_all_unique.encode()) == b'aWQ='\n",
    "### END TESTS"
   ]
  },
  {
   "cell_type": "markdown",
   "metadata": {
    "deletable": false,
    "editable": false,
    "nbgrader": {
     "checksum": "646fb4d725a6bf431f8f4869deac0194",
     "grade": false,
     "grade_id": "cell-602ec15412879335",
     "locked": true,
     "schema_version": 1,
     "solution": false
    }
   },
   "source": [
    "# Find the second obviously useless feature\n",
    "\n",
    "This one doesn't contain all uniques but based upon some Single Factor Analysis you should be able to determine which feature isn't worth\n",
    "bothering with."
   ]
  },
  {
   "cell_type": "code",
   "execution_count": null,
   "metadata": {},
   "outputs": [],
   "source": [
    "# use this cell to do some more SFA on other features to determine\n",
    "# which of them is useless\n"
   ]
  },
  {
   "cell_type": "code",
   "execution_count": null,
   "metadata": {
    "deletable": false,
    "nbgrader": {
     "checksum": "bf348c96362a983d55ee71535f699338",
     "grade": false,
     "grade_id": "cell-f99bab2575793069",
     "locked": false,
     "schema_version": 1,
     "solution": true
    }
   },
   "outputs": [],
   "source": [
    "# Use this cell to determine the other obviously useless feature\n",
    "other_useless_feature = None\n",
    "\n",
    "# YOUR CODE HERE\n",
    "raise NotImplementedError()"
   ]
  },
  {
   "cell_type": "code",
   "execution_count": null,
   "metadata": {
    "deletable": false,
    "editable": false,
    "nbgrader": {
     "checksum": "7f485b82b127c3a7f6cad2e8745db79b",
     "grade": true,
     "grade_id": "cell-6964c9cd17f443b8",
     "locked": true,
     "points": 1,
     "schema_version": 1,
     "solution": false
    }
   },
   "outputs": [],
   "source": [
    "### BEGIN TESTS\n",
    "assert b64encode(other_useless_feature.encode()) == b'ZmVhdHVyZV84'\n",
    "### END TESTS"
   ]
  },
  {
   "cell_type": "code",
   "execution_count": null,
   "metadata": {
    "deletable": false,
    "nbgrader": {
     "checksum": "e76f06c30f3783db0c7ab26b16d16037",
     "grade": false,
     "grade_id": "cell-949c10443e311151",
     "locked": false,
     "schema_version": 1,
     "solution": true
    }
   },
   "outputs": [],
   "source": [
    "# now drop the features that you determined to be useless\n",
    "\n",
    "# YOUR CODE HERE\n",
    "raise NotImplementedError()"
   ]
  },
  {
   "cell_type": "code",
   "execution_count": null,
   "metadata": {
    "deletable": false,
    "editable": false,
    "nbgrader": {
     "checksum": "c22db436a31d2caa6673496591e7b620",
     "grade": true,
     "grade_id": "cell-476d75f82723fb0c",
     "locked": true,
     "points": 1,
     "schema_version": 1,
     "solution": false
    }
   },
   "outputs": [],
   "source": [
    "### BEGIN TESTS\n",
    "assert b64encode(str(sorted(X.columns)).encode()) == b'WydmZWF0dXJlXzAnLCAnZmVhdHVyZV8xJywgJ2ZlYXR1cmVfMicsICdmZWF0dXJlXzMnLCAnZmVhdHVyZV80JywgJ2ZlYXR1cmVfNScsICdmZWF0dXJlXzYnLCAnZmVhdHVyZV83J10='\n",
    "### END TESTS"
   ]
  },
  {
   "cell_type": "markdown",
   "metadata": {
    "deletable": false,
    "editable": false,
    "nbgrader": {
     "checksum": "fd0a1284d6d8056e2011932a0963c865",
     "grade": false,
     "grade_id": "cell-d29f316d3f5c61e1",
     "locked": true,
     "schema_version": 1,
     "solution": false
    }
   },
   "source": [
    "# Find the rest of the useless features\n",
    "\n",
    "Single Factor Analysis isn't likely to do much in helping us to determine\n",
    "which of the rest of the features are useless. We'll need to use feature_importances in order to find the rest of these bad boys"
   ]
  },
  {
   "cell_type": "code",
   "execution_count": null,
   "metadata": {
    "deletable": false,
    "nbgrader": {
     "checksum": "57162a9eab6b89dc4063a580f37d4aa2",
     "grade": false,
     "grade_id": "cell-2f4e8d74d1f01c95",
     "locked": false,
     "schema_version": 1,
     "solution": true
    }
   },
   "outputs": [],
   "source": [
    "# in order to use feature importances you will need to import a tree\n",
    "# based algorithm. Let's use a decision tree classifier\n",
    "\n",
    "# import your decision tree classifier here the exact same way that\n",
    "# it is done in the learning notebooks\n",
    "\n",
    "# YOUR CODE HERE\n",
    "raise NotImplementedError()"
   ]
  },
  {
   "cell_type": "code",
   "execution_count": null,
   "metadata": {
    "deletable": false,
    "editable": false,
    "nbgrader": {
     "checksum": "97d9e83e7d09a7ef62a48dcf4c2cde2a",
     "grade": true,
     "grade_id": "cell-cbc4c686952738f8",
     "locked": true,
     "points": 1,
     "schema_version": 1,
     "solution": false
    }
   },
   "outputs": [],
   "source": [
    "### BEGIN TESTS\n",
    "assert DecisionTreeClassifier, 'Import that bad boy from the sklearn.tree module'\n",
    "### END TESTS"
   ]
  },
  {
   "cell_type": "code",
   "execution_count": null,
   "metadata": {
    "deletable": false,
    "nbgrader": {
     "checksum": "c0470e440a9b9f3ef12e879348be18a5",
     "grade": false,
     "grade_id": "cell-6fbdfd50396e632f",
     "locked": false,
     "schema_version": 1,
     "solution": true
    }
   },
   "outputs": [],
   "source": [
    "# Now let's train the classifier and get the feature importances\n",
    "\n",
    "# Create your classifier, assign it to the clf variable and then\n",
    "# train it on X and y\n",
    "clf = None\n",
    "\n",
    "# once the classifier is trained, set the feature importances here\n",
    "# make it a pandas series with the index being the column names\n",
    "# so that we can visualize the results\n",
    "feature_importances = None\n",
    "\n",
    "# set the random_state=1 and max_depth=5 or the tests won't pass!\n",
    "# YOUR CODE HERE\n",
    "raise NotImplementedError()"
   ]
  },
  {
   "cell_type": "code",
   "execution_count": null,
   "metadata": {
    "deletable": false,
    "editable": false,
    "nbgrader": {
     "checksum": "113b9a32590af28b5070f40a82943233",
     "grade": true,
     "grade_id": "cell-ca84ae67d444979f",
     "locked": true,
     "points": 4,
     "schema_version": 1,
     "solution": false
    }
   },
   "outputs": [],
   "source": [
    "### BEGIN TESTS\n",
    "assert isinstance(clf, sklearn.tree.DecisionTreeClassifier), 'The classifier must be a DecisionTreeClassifier'\n",
    "assert clf.random_state == 1, 'random_state must be 1'\n",
    "assert clf.max_depth == 5, 'max_depth must be 5'\n",
    "assert feature_importances.equals(pd.Series(clf.feature_importances_, index=X.columns)), 'feature_importances must be a pandas series with the X columns as the index'\n",
    "### END TESTS"
   ]
  },
  {
   "cell_type": "code",
   "execution_count": null,
   "metadata": {
    "deletable": false,
    "editable": false,
    "nbgrader": {
     "checksum": "85eba0812c4f246803c1e22c2a6a4b29",
     "grade": false,
     "grade_id": "cell-662fccd5e1566e6a",
     "locked": true,
     "schema_version": 1,
     "solution": false
    }
   },
   "outputs": [],
   "source": [
    "feature_importances.plot.barh();"
   ]
  },
  {
   "cell_type": "code",
   "execution_count": null,
   "metadata": {
    "deletable": false,
    "nbgrader": {
     "checksum": "41aa8d671e7cb66a2b0bcdeb86046277",
     "grade": false,
     "grade_id": "cell-0dc20755ad6d11ce",
     "locked": false,
     "schema_version": 1,
     "solution": true
    }
   },
   "outputs": [],
   "source": [
    "# now remove 3 additional useless features\n",
    "\n",
    "# YOUR CODE HERE\n",
    "raise NotImplementedError()"
   ]
  },
  {
   "cell_type": "code",
   "execution_count": null,
   "metadata": {
    "deletable": false,
    "editable": false,
    "nbgrader": {
     "checksum": "f1d8b5ef27fa31a651e1d1420d504a22",
     "grade": true,
     "grade_id": "cell-47bb1f540f749a88",
     "locked": true,
     "points": 1,
     "schema_version": 1,
     "solution": false
    }
   },
   "outputs": [],
   "source": [
    "### BEGIN TESTS\n",
    "assert b64encode(str(sorted(X.columns)).encode()) == b'WydmZWF0dXJlXzInLCAnZmVhdHVyZV8zJywgJ2ZlYXR1cmVfNCcsICdmZWF0dXJlXzYnLCAnZmVhdHVyZV83J10='\n",
    "### END TESTS"
   ]
  },
  {
   "cell_type": "markdown",
   "metadata": {
    "deletable": false,
    "editable": false,
    "nbgrader": {
     "checksum": "3b5f48d5aeb9a90f048e029531b64f7d",
     "grade": false,
     "grade_id": "cell-168fac9d07e35232",
     "locked": true,
     "schema_version": 1,
     "solution": false
    }
   },
   "source": [
    "# The learning curve\n",
    "\n",
    "Okay now that we have gotten rid of all those useless features, let's focus on getting a sense for how much data we need in order to have\n",
    "reasonable performance."
   ]
  },
  {
   "cell_type": "code",
   "execution_count": null,
   "metadata": {
    "deletable": false,
    "nbgrader": {
     "checksum": "a588e65365e234102cc9ac7ac3b9345e",
     "grade": false,
     "grade_id": "cell-f22e3c91b478ba32",
     "locked": false,
     "schema_version": 1,
     "solution": true
    }
   },
   "outputs": [],
   "source": [
    "# Now create a dataframe that has a single feature that is the\n",
    "# cross validation score in order to help us understand\n",
    "# how increasing amounts of data affect the performance\n",
    "\n",
    "# HINT: just use the snippet from the Learning Notebook\n",
    "train_scores_mean = None\n",
    "test_scores_mean = None\n",
    "\n",
    "# instantiate a classifier that you will inspect the learning rate of\n",
    "clf = DecisionTreeClassifier(max_depth=5, random_state=1)\n",
    "\n",
    "# YOUR CODE HERE\n",
    "raise NotImplementedError()"
   ]
  },
  {
   "cell_type": "code",
   "execution_count": null,
   "metadata": {},
   "outputs": [],
   "source": [
    "sum(train_scores_mean)"
   ]
  },
  {
   "cell_type": "code",
   "execution_count": null,
   "metadata": {},
   "outputs": [],
   "source": [
    "sum(test_scores_mean)"
   ]
  },
  {
   "cell_type": "code",
   "execution_count": null,
   "metadata": {
    "deletable": false,
    "editable": false,
    "nbgrader": {
     "checksum": "7c87b07198b56fd36e5eae9b43479fdb",
     "grade": true,
     "grade_id": "cell-d1bded5a2e391786",
     "locked": true,
     "points": 2,
     "schema_version": 1,
     "solution": false
    }
   },
   "outputs": [],
   "source": [
    "### BEGIN TESTS\n",
    "# round in order to compensate for implementation details\n",
    "\n",
    "assert math.isclose(sum(train_scores_mean), 4.5, rel_tol=1e-2)\n",
    "assert math.isclose(sum(test_scores_mean), 3.8, rel_tol=1e-2)\n",
    "### END TESTS"
   ]
  },
  {
   "cell_type": "code",
   "execution_count": null,
   "metadata": {
    "deletable": false,
    "editable": false,
    "nbgrader": {
     "checksum": "77d8574b36cf0e2bf33d09c8f8ea5ee7",
     "grade": false,
     "grade_id": "cell-b91ef37925959db9",
     "locked": true,
     "schema_version": 1,
     "solution": false
    }
   },
   "outputs": [],
   "source": [
    "learning_curve_df = pd.DataFrame({\n",
    "    'Training Scores': train_scores_mean,\n",
    "    'Test Set scores': test_scores_mean\n",
    "}, index=train_sizes)\n",
    "\n",
    "learning_curve_df.plot.line(\n",
    "    title='Decision Tree Learning Curve'\n",
    ");"
   ]
  },
  {
   "cell_type": "code",
   "execution_count": null,
   "metadata": {
    "deletable": false,
    "nbgrader": {
     "checksum": "e39403a6a366d8dd269e73f76977575e",
     "grade": false,
     "grade_id": "cell-fc4e8393bc289ff2",
     "locked": false,
     "schema_version": 1,
     "solution": true
    }
   },
   "outputs": [],
   "source": [
    "# Now select the minimum training set size that this particular classifier\n",
    "# seems to need before it's learning rate stabilizes\n",
    "\n",
    "min_train_set_size = None\n",
    "\n",
    "# YOUR CODE HERE\n",
    "raise NotImplementedError()"
   ]
  },
  {
   "cell_type": "code",
   "execution_count": null,
   "metadata": {
    "deletable": false,
    "editable": false,
    "nbgrader": {
     "checksum": "7de6d2f39e02d4a77141722439421ce0",
     "grade": true,
     "grade_id": "cell-1669e239252c8492",
     "locked": true,
     "points": 1,
     "schema_version": 1,
     "solution": false
    }
   },
   "outputs": [],
   "source": [
    "### BEGIN TESTS\n",
    "assert min_train_set_size <= int(b64decode(b'MzAw'))\n",
    "### END TESTS"
   ]
  },
  {
   "cell_type": "code",
   "execution_count": null,
   "metadata": {},
   "outputs": [],
   "source": []
  }
 ],
 "metadata": {
  "kernelspec": {
   "display_name": "Python 3",
   "language": "python",
   "name": "python3"
  },
  "language_info": {
   "codemirror_mode": {
    "name": "ipython",
    "version": 3
   },
   "file_extension": ".py",
   "mimetype": "text/x-python",
   "name": "python",
   "nbconvert_exporter": "python",
   "pygments_lexer": "ipython3",
   "version": "3.6.4"
  }
 },
 "nbformat": 4,
 "nbformat_minor": 2
}
