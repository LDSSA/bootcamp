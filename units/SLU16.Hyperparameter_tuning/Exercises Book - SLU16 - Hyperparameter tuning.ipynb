{
 "cells": [
  {
   "cell_type": "markdown",
   "metadata": {},
   "source": [
    "In this ocasion we are going to use a dataset containing information for Airbnb rooms in Lisbon. The target variable (we want to predict) is the numerical variable `price`. Thus, this is a regression problem."
   ]
  },
  {
   "cell_type": "code",
   "execution_count": 119,
   "metadata": {},
   "outputs": [],
   "source": [
    "import pandas as pd\n",
    "import numpy as np\n",
    "np.random.seed()\n",
    "import random\n",
    "random.seed()"
   ]
  },
  {
   "cell_type": "code",
   "execution_count": 29,
   "metadata": {},
   "outputs": [],
   "source": [
    "airbnb = pd.read_csv(\"data/airbnb.csv\")"
   ]
  },
  {
   "cell_type": "code",
   "execution_count": 30,
   "metadata": {},
   "outputs": [
    {
     "data": {
      "text/html": [
       "<div>\n",
       "<style scoped>\n",
       "    .dataframe tbody tr th:only-of-type {\n",
       "        vertical-align: middle;\n",
       "    }\n",
       "\n",
       "    .dataframe tbody tr th {\n",
       "        vertical-align: top;\n",
       "    }\n",
       "\n",
       "    .dataframe thead th {\n",
       "        text-align: right;\n",
       "    }\n",
       "</style>\n",
       "<table border=\"1\" class=\"dataframe\">\n",
       "  <thead>\n",
       "    <tr style=\"text-align: right;\">\n",
       "      <th></th>\n",
       "      <th>room_id</th>\n",
       "      <th>host_id</th>\n",
       "      <th>room_type</th>\n",
       "      <th>neighborhood</th>\n",
       "      <th>reviews</th>\n",
       "      <th>overall_satisfaction</th>\n",
       "      <th>accommodates</th>\n",
       "      <th>bedrooms</th>\n",
       "      <th>price</th>\n",
       "    </tr>\n",
       "  </thead>\n",
       "  <tbody>\n",
       "    <tr>\n",
       "      <th>0</th>\n",
       "      <td>6499</td>\n",
       "      <td>14455</td>\n",
       "      <td>Entire home/apt</td>\n",
       "      <td>Belém</td>\n",
       "      <td>8</td>\n",
       "      <td>5.0</td>\n",
       "      <td>2</td>\n",
       "      <td>1.0</td>\n",
       "      <td>57.0</td>\n",
       "    </tr>\n",
       "    <tr>\n",
       "      <th>1</th>\n",
       "      <td>17031</td>\n",
       "      <td>66015</td>\n",
       "      <td>Entire home/apt</td>\n",
       "      <td>Alvalade</td>\n",
       "      <td>0</td>\n",
       "      <td>0.0</td>\n",
       "      <td>2</td>\n",
       "      <td>1.0</td>\n",
       "      <td>46.0</td>\n",
       "    </tr>\n",
       "    <tr>\n",
       "      <th>2</th>\n",
       "      <td>25659</td>\n",
       "      <td>107347</td>\n",
       "      <td>Entire home/apt</td>\n",
       "      <td>Santa Maria Maior</td>\n",
       "      <td>63</td>\n",
       "      <td>5.0</td>\n",
       "      <td>3</td>\n",
       "      <td>1.0</td>\n",
       "      <td>69.0</td>\n",
       "    </tr>\n",
       "    <tr>\n",
       "      <th>3</th>\n",
       "      <td>29248</td>\n",
       "      <td>125768</td>\n",
       "      <td>Entire home/apt</td>\n",
       "      <td>Santa Maria Maior</td>\n",
       "      <td>225</td>\n",
       "      <td>4.5</td>\n",
       "      <td>4</td>\n",
       "      <td>1.0</td>\n",
       "      <td>58.0</td>\n",
       "    </tr>\n",
       "    <tr>\n",
       "      <th>4</th>\n",
       "      <td>29396</td>\n",
       "      <td>126415</td>\n",
       "      <td>Entire home/apt</td>\n",
       "      <td>Santa Maria Maior</td>\n",
       "      <td>132</td>\n",
       "      <td>5.0</td>\n",
       "      <td>4</td>\n",
       "      <td>1.0</td>\n",
       "      <td>67.0</td>\n",
       "    </tr>\n",
       "  </tbody>\n",
       "</table>\n",
       "</div>"
      ],
      "text/plain": [
       "   room_id  host_id        room_type       neighborhood  reviews  \\\n",
       "0     6499    14455  Entire home/apt              Belém        8   \n",
       "1    17031    66015  Entire home/apt           Alvalade        0   \n",
       "2    25659   107347  Entire home/apt  Santa Maria Maior       63   \n",
       "3    29248   125768  Entire home/apt  Santa Maria Maior      225   \n",
       "4    29396   126415  Entire home/apt  Santa Maria Maior      132   \n",
       "\n",
       "   overall_satisfaction  accommodates  bedrooms  price  \n",
       "0                   5.0             2       1.0   57.0  \n",
       "1                   0.0             2       1.0   46.0  \n",
       "2                   5.0             3       1.0   69.0  \n",
       "3                   4.5             4       1.0   58.0  \n",
       "4                   5.0             4       1.0   67.0  "
      ]
     },
     "execution_count": 30,
     "metadata": {},
     "output_type": "execute_result"
    }
   ],
   "source": [
    "airbnb.head()"
   ]
  },
  {
   "cell_type": "markdown",
   "metadata": {},
   "source": [
    "We clean the dataset. First we remove the columns we dont need (the host_id and room_id have no predictive power for us in this scenario."
   ]
  },
  {
   "cell_type": "code",
   "execution_count": 31,
   "metadata": {},
   "outputs": [],
   "source": [
    "airbnb = airbnb.drop([\"room_id\", \"host_id\"], axis=1)"
   ]
  },
  {
   "cell_type": "markdown",
   "metadata": {},
   "source": [
    "Now we replace null values in numerical columns by the column mean."
   ]
  },
  {
   "cell_type": "code",
   "execution_count": 32,
   "metadata": {},
   "outputs": [],
   "source": [
    "numerical_columns = airbnb.select_dtypes([int, float]).columns\n",
    "airbnb = airbnb.replace({col:airbnb[col].mean() for col in numerical_columns})"
   ]
  },
  {
   "cell_type": "markdown",
   "metadata": {},
   "source": [
    "Now we turn the categorical variables (text) into numerical with `get_dummies`."
   ]
  },
  {
   "cell_type": "code",
   "execution_count": 41,
   "metadata": {},
   "outputs": [],
   "source": [
    "airbnb = pd.get_dummies(airbnb)"
   ]
  },
  {
   "cell_type": "code",
   "execution_count": 42,
   "metadata": {},
   "outputs": [
    {
     "data": {
      "text/html": [
       "<div>\n",
       "<style scoped>\n",
       "    .dataframe tbody tr th:only-of-type {\n",
       "        vertical-align: middle;\n",
       "    }\n",
       "\n",
       "    .dataframe tbody tr th {\n",
       "        vertical-align: top;\n",
       "    }\n",
       "\n",
       "    .dataframe thead th {\n",
       "        text-align: right;\n",
       "    }\n",
       "</style>\n",
       "<table border=\"1\" class=\"dataframe\">\n",
       "  <thead>\n",
       "    <tr style=\"text-align: right;\">\n",
       "      <th></th>\n",
       "      <th>reviews</th>\n",
       "      <th>overall_satisfaction</th>\n",
       "      <th>accommodates</th>\n",
       "      <th>bedrooms</th>\n",
       "      <th>price</th>\n",
       "      <th>room_type_Entire home/apt</th>\n",
       "      <th>room_type_Private room</th>\n",
       "      <th>room_type_Shared room</th>\n",
       "      <th>neighborhood_Ajuda</th>\n",
       "      <th>neighborhood_Alcântara</th>\n",
       "      <th>...</th>\n",
       "      <th>neighborhood_Marvila</th>\n",
       "      <th>neighborhood_Misericórdia</th>\n",
       "      <th>neighborhood_Olivais</th>\n",
       "      <th>neighborhood_Parque das Nações</th>\n",
       "      <th>neighborhood_Penha de França</th>\n",
       "      <th>neighborhood_Santa Clara</th>\n",
       "      <th>neighborhood_Santa Maria Maior</th>\n",
       "      <th>neighborhood_Santo António</th>\n",
       "      <th>neighborhood_São Domingos de Benfica</th>\n",
       "      <th>neighborhood_São Vicente</th>\n",
       "    </tr>\n",
       "  </thead>\n",
       "  <tbody>\n",
       "    <tr>\n",
       "      <th>0</th>\n",
       "      <td>8</td>\n",
       "      <td>5.0</td>\n",
       "      <td>2</td>\n",
       "      <td>1.0</td>\n",
       "      <td>57.0</td>\n",
       "      <td>1</td>\n",
       "      <td>0</td>\n",
       "      <td>0</td>\n",
       "      <td>0</td>\n",
       "      <td>0</td>\n",
       "      <td>...</td>\n",
       "      <td>0</td>\n",
       "      <td>0</td>\n",
       "      <td>0</td>\n",
       "      <td>0</td>\n",
       "      <td>0</td>\n",
       "      <td>0</td>\n",
       "      <td>0</td>\n",
       "      <td>0</td>\n",
       "      <td>0</td>\n",
       "      <td>0</td>\n",
       "    </tr>\n",
       "    <tr>\n",
       "      <th>1</th>\n",
       "      <td>0</td>\n",
       "      <td>0.0</td>\n",
       "      <td>2</td>\n",
       "      <td>1.0</td>\n",
       "      <td>46.0</td>\n",
       "      <td>1</td>\n",
       "      <td>0</td>\n",
       "      <td>0</td>\n",
       "      <td>0</td>\n",
       "      <td>0</td>\n",
       "      <td>...</td>\n",
       "      <td>0</td>\n",
       "      <td>0</td>\n",
       "      <td>0</td>\n",
       "      <td>0</td>\n",
       "      <td>0</td>\n",
       "      <td>0</td>\n",
       "      <td>0</td>\n",
       "      <td>0</td>\n",
       "      <td>0</td>\n",
       "      <td>0</td>\n",
       "    </tr>\n",
       "    <tr>\n",
       "      <th>2</th>\n",
       "      <td>63</td>\n",
       "      <td>5.0</td>\n",
       "      <td>3</td>\n",
       "      <td>1.0</td>\n",
       "      <td>69.0</td>\n",
       "      <td>1</td>\n",
       "      <td>0</td>\n",
       "      <td>0</td>\n",
       "      <td>0</td>\n",
       "      <td>0</td>\n",
       "      <td>...</td>\n",
       "      <td>0</td>\n",
       "      <td>0</td>\n",
       "      <td>0</td>\n",
       "      <td>0</td>\n",
       "      <td>0</td>\n",
       "      <td>0</td>\n",
       "      <td>1</td>\n",
       "      <td>0</td>\n",
       "      <td>0</td>\n",
       "      <td>0</td>\n",
       "    </tr>\n",
       "    <tr>\n",
       "      <th>3</th>\n",
       "      <td>225</td>\n",
       "      <td>4.5</td>\n",
       "      <td>4</td>\n",
       "      <td>1.0</td>\n",
       "      <td>58.0</td>\n",
       "      <td>1</td>\n",
       "      <td>0</td>\n",
       "      <td>0</td>\n",
       "      <td>0</td>\n",
       "      <td>0</td>\n",
       "      <td>...</td>\n",
       "      <td>0</td>\n",
       "      <td>0</td>\n",
       "      <td>0</td>\n",
       "      <td>0</td>\n",
       "      <td>0</td>\n",
       "      <td>0</td>\n",
       "      <td>1</td>\n",
       "      <td>0</td>\n",
       "      <td>0</td>\n",
       "      <td>0</td>\n",
       "    </tr>\n",
       "    <tr>\n",
       "      <th>4</th>\n",
       "      <td>132</td>\n",
       "      <td>5.0</td>\n",
       "      <td>4</td>\n",
       "      <td>1.0</td>\n",
       "      <td>67.0</td>\n",
       "      <td>1</td>\n",
       "      <td>0</td>\n",
       "      <td>0</td>\n",
       "      <td>0</td>\n",
       "      <td>0</td>\n",
       "      <td>...</td>\n",
       "      <td>0</td>\n",
       "      <td>0</td>\n",
       "      <td>0</td>\n",
       "      <td>0</td>\n",
       "      <td>0</td>\n",
       "      <td>0</td>\n",
       "      <td>1</td>\n",
       "      <td>0</td>\n",
       "      <td>0</td>\n",
       "      <td>0</td>\n",
       "    </tr>\n",
       "  </tbody>\n",
       "</table>\n",
       "<p>5 rows × 32 columns</p>\n",
       "</div>"
      ],
      "text/plain": [
       "   reviews  overall_satisfaction  accommodates  bedrooms  price  \\\n",
       "0        8                   5.0             2       1.0   57.0   \n",
       "1        0                   0.0             2       1.0   46.0   \n",
       "2       63                   5.0             3       1.0   69.0   \n",
       "3      225                   4.5             4       1.0   58.0   \n",
       "4      132                   5.0             4       1.0   67.0   \n",
       "\n",
       "   room_type_Entire home/apt  room_type_Private room  room_type_Shared room  \\\n",
       "0                          1                       0                      0   \n",
       "1                          1                       0                      0   \n",
       "2                          1                       0                      0   \n",
       "3                          1                       0                      0   \n",
       "4                          1                       0                      0   \n",
       "\n",
       "   neighborhood_Ajuda  neighborhood_Alcântara            ...             \\\n",
       "0                   0                       0            ...              \n",
       "1                   0                       0            ...              \n",
       "2                   0                       0            ...              \n",
       "3                   0                       0            ...              \n",
       "4                   0                       0            ...              \n",
       "\n",
       "   neighborhood_Marvila  neighborhood_Misericórdia  neighborhood_Olivais  \\\n",
       "0                     0                          0                     0   \n",
       "1                     0                          0                     0   \n",
       "2                     0                          0                     0   \n",
       "3                     0                          0                     0   \n",
       "4                     0                          0                     0   \n",
       "\n",
       "   neighborhood_Parque das Nações  neighborhood_Penha de França  \\\n",
       "0                               0                             0   \n",
       "1                               0                             0   \n",
       "2                               0                             0   \n",
       "3                               0                             0   \n",
       "4                               0                             0   \n",
       "\n",
       "   neighborhood_Santa Clara  neighborhood_Santa Maria Maior  \\\n",
       "0                         0                               0   \n",
       "1                         0                               0   \n",
       "2                         0                               1   \n",
       "3                         0                               1   \n",
       "4                         0                               1   \n",
       "\n",
       "   neighborhood_Santo António  neighborhood_São Domingos de Benfica  \\\n",
       "0                           0                                     0   \n",
       "1                           0                                     0   \n",
       "2                           0                                     0   \n",
       "3                           0                                     0   \n",
       "4                           0                                     0   \n",
       "\n",
       "   neighborhood_São Vicente  \n",
       "0                         0  \n",
       "1                         0  \n",
       "2                         0  \n",
       "3                         0  \n",
       "4                         0  \n",
       "\n",
       "[5 rows x 32 columns]"
      ]
     },
     "execution_count": 42,
     "metadata": {},
     "output_type": "execute_result"
    }
   ],
   "source": [
    "airbnb.head()"
   ]
  },
  {
   "cell_type": "markdown",
   "metadata": {},
   "source": [
    "### 1.Create a gridsearch with a Decision Tree Regressor using this hyperparameters space:\n",
    "\n",
    "- max_depth: range(2, 10)\n",
    "- max_features: range(3, 10)\n",
    "\n",
    "### Set the scoring function as the MAE (use the scikit-learn scorer)\n",
    "\n",
    "*Note: Name the grid search `\"grid_search\"` (without the quotes) so it can be validated*"
   ]
  },
  {
   "cell_type": "code",
   "execution_count": 167,
   "metadata": {
    "nbgrader": {
     "grade": false,
     "grade_id": "cell-7db2107d016b5313",
     "locked": false,
     "schema_version": 1,
     "solution": true
    }
   },
   "outputs": [],
   "source": [
    "# YOUR ANSWER HERE"
   ]
  },
  {
   "cell_type": "code",
   "execution_count": 174,
   "metadata": {
    "nbgrader": {
     "grade": true,
     "grade_id": "cell-f17ae330eedfcd89",
     "locked": true,
     "points": 5,
     "schema_version": 1,
     "solution": false
    }
   },
   "outputs": [],
   "source": [
    "from sklearn.model_selection import GridSearchCV\n",
    "\n",
    "evaluation_space =  grid_search_parameter_space = {\n",
    "    'max_depth': range(2, 10),\n",
    "    'max_features': range(3, 10)\n",
    "}\n",
    "\n",
    "assert evaluation_space == grid_search.param_grid\n",
    "assert type(grid_search) == GridSearchCV\n",
    "assert grid_search.scoring == \"neg_mean_absolute_error\""
   ]
  },
  {
   "cell_type": "markdown",
   "metadata": {},
   "source": [
    "### 2. Adjust it to the data, and save the score for the best model to the variable `grid_search_tree_best_score`"
   ]
  },
  {
   "cell_type": "code",
   "execution_count": 1,
   "metadata": {
    "nbgrader": {
     "grade": false,
     "grade_id": "cell-26e8979bed7b5896",
     "locked": false,
     "schema_version": 1,
     "solution": true
    }
   },
   "outputs": [],
   "source": [
    "# YOUR ANSWER HERE"
   ]
  },
  {
   "cell_type": "code",
   "execution_count": 137,
   "metadata": {
    "nbgrader": {
     "grade": true,
     "grade_id": "cell-1b5ba1a7272ba05d",
     "locked": true,
     "points": 5,
     "schema_version": 1,
     "solution": false
    }
   },
   "outputs": [],
   "source": [
    "# we cannot ensure GridSearch's KfoldCV deterministic behavior. I run the code 1000 times to set \n",
    "# a reasonable range\n",
    "assert -45< grid_search_tree_best_score<-35"
   ]
  },
  {
   "cell_type": "markdown",
   "metadata": {},
   "source": [
    "### 3. Create a randomsearch with a KNN regressor and a random search distribution with the following hyperparameter distribution. Set the random_state to 42, and the number of iterations to 100:\n",
    "\n",
    "- Number of neighbours between 3 and 20\n",
    "- distante weight `uniform` or `weight`\n",
    "\n",
    "*Note: Name the random search `\"random_search\"` so it can be validated*\n"
   ]
  },
  {
   "cell_type": "code",
   "execution_count": 78,
   "metadata": {
    "nbgrader": {
     "grade": false,
     "grade_id": "cell-277007cae66b40cc",
     "locked": false,
     "schema_version": 1,
     "solution": true
    }
   },
   "outputs": [],
   "source": [
    "# YOUR ANSWER HERE"
   ]
  },
  {
   "cell_type": "code",
   "execution_count": 79,
   "metadata": {
    "nbgrader": {
     "grade": true,
     "grade_id": "cell-38229db7eeb31f44",
     "locked": true,
     "points": 5,
     "schema_version": 1,
     "solution": false
    }
   },
   "outputs": [],
   "source": [
    "from sklearn.neighbors import KNeighborsRegressor\n",
    "from scipy.stats import randint\n",
    "evaluation_space = {\n",
    "                   \"n_neighbors\": randint(3, 20),\n",
    "                   \"weights\": [\"uniform\", \"distance\"]\n",
    "                  }\n",
    "for key in evaluation_space:\n",
    "    assert type(random_search_parameter_space_dist[key]) == type(evaluation_space[key])\n",
    "    \n",
    "assert random_search.random_state == 42\n",
    "assert random_search.n_iter == 100\n",
    "assert type(random_search.estimator == KNeighborsRegressor.__class__)"
   ]
  },
  {
   "cell_type": "markdown",
   "metadata": {},
   "source": [
    "### 4. Adjust the KNN random search to the data, and save the score for the best model to the variable `random_search_knn_best_score`, and the best parameters to the variable `random_search_knn_best_params`."
   ]
  },
  {
   "cell_type": "code",
   "execution_count": 80,
   "metadata": {
    "nbgrader": {
     "grade": false,
     "grade_id": "cell-958ce717623e71c5",
     "locked": false,
     "schema_version": 1,
     "solution": true
    }
   },
   "outputs": [],
   "source": [
    "# YOUR ANSWER HERE"
   ]
  },
  {
   "cell_type": "code",
   "execution_count": 142,
   "metadata": {
    "nbgrader": {
     "grade": true,
     "grade_id": "cell-aed988faddbb1e35",
     "locked": true,
     "points": 5,
     "schema_version": 1,
     "solution": false
    }
   },
   "outputs": [],
   "source": [
    "import math\n",
    "assert math.isclose(random_search_knn_best_params, random_search_knn_best_params, abs_tol=0.1)"
   ]
  },
  {
   "cell_type": "markdown",
   "metadata": {},
   "source": [
    "**BONUS EXERCISE (not graded)**. Try to beat section #2 best decision tree estimator by expanding the hyperparameter search. Name the new Random Search `random_search_expanded`."
   ]
  },
  {
   "cell_type": "code",
   "execution_count": 2,
   "metadata": {
    "nbgrader": {
     "grade": false,
     "grade_id": "cell-28a28f2f99459c59",
     "locked": false,
     "schema_version": 1,
     "solution": true
    }
   },
   "outputs": [],
   "source": [
    "# YOUR ANSWER HERE"
   ]
  },
  {
   "cell_type": "code",
   "execution_count": 170,
   "metadata": {
    "nbgrader": {
     "grade": true,
     "grade_id": "cell-eef4c2e74d87cc54",
     "locked": true,
     "points": 0,
     "schema_version": 1,
     "solution": false
    }
   },
   "outputs": [],
   "source": [
    "baseline_performance = grid_search.best_score_\n",
    "\n",
    "assert random_search_expanded.best_score_ > grid_search.best_score_"
   ]
  }
 ],
 "metadata": {
  "kernelspec": {
   "display_name": "Python 3",
   "language": "python",
   "name": "python3"
  },
  "language_info": {
   "codemirror_mode": {
    "name": "ipython",
    "version": 3
   },
   "file_extension": ".py",
   "mimetype": "text/x-python",
   "name": "python",
   "nbconvert_exporter": "python",
   "pygments_lexer": "ipython3",
   "version": "3.5.5"
  }
 },
 "nbformat": 4,
 "nbformat_minor": 2
}
