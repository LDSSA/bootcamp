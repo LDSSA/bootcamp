{
 "cells": [
  {
   "cell_type": "markdown",
   "metadata": {},
   "source": [
    "## SLU07 - Advanced Statistics: Learning notebook"
   ]
  },
  {
   "cell_type": "markdown",
   "metadata": {},
   "source": [
    "In this notebook we will cover the following:\n",
    "- Skew\n",
    "- Kurtosis\n",
    "- Distributions\n",
    "    - Binomial\n",
    "    - Poisson\n",
    "    - Normal\n",
    "    - Student's t\n",
    "- Significance tests\n",
    "- A/B testing\n",
    "- Confidence intervals"
   ]
  },
  {
   "cell_type": "markdown",
   "metadata": {},
   "source": [
    "## Normal Distribution\n",
    "\n",
    "TODO: \n",
    "Here we explain what the normal distribution is, and how in the real world, the distribution of many continuous random variables is well described by it.\n",
    "We explain Skew and Kurtosis, to measure how much a distribution is deviating from the normal distribution."
   ]
  },
  {
   "cell_type": "markdown",
   "metadata": {},
   "source": [
    "## Point Estimates and Confidence Intervals\n",
    "\n",
    "TODO: Here we talk about:\n",
    "* Sampling distributions\n",
    "* Central limit theorem\n",
    "* Calculate Confidence interval for the mean using Student's T distribution\n"
   ]
  },
  {
   "cell_type": "markdown",
   "metadata": {},
   "source": [
    "## Hypothesis testing\n",
    "\n",
    "\n",
    "TODO: here we explain the framework of hypothesis testing; We focus on the idea of \"how unlikely is this event to happen by chance\", so that we can explain rejecting the null hypothesis as \"it is very unlikely for this to happen by pure chance, so there's likely a change\""
   ]
  },
  {
   "cell_type": "markdown",
   "metadata": {},
   "source": [
    "## T-test\n",
    "\n",
    "TODO: Explain the T-test as a way to test the difference of means; for example, do these 2 groups of people have the same age on average?"
   ]
  },
  {
   "cell_type": "markdown",
   "metadata": {},
   "source": [
    "## Chi-squared test\n",
    "\n",
    "TODO: Explain the Chi-squared test as a way to test if frequencies between categories are the same or not; for example, do these 2 groups of people share the same frequency in the categories of a categorical variable? "
   ]
  },
  {
   "cell_type": "markdown",
   "metadata": {},
   "source": [
    "## Binomial Distribution\n",
    "\n",
    "TODO: Quick explaination of the Binomial Distribution"
   ]
  },
  {
   "cell_type": "markdown",
   "metadata": {},
   "source": [
    "## Binomial test (?)"
   ]
  },
  {
   "cell_type": "markdown",
   "metadata": {},
   "source": [
    "## Poisson Distribution\n",
    "TODO: Quick explaination of the Poisson Distribution"
   ]
  },
  {
   "cell_type": "markdown",
   "metadata": {},
   "source": [
    "## A/B testing\n",
    "\n",
    "TODO: Brief description of the method, but more of a warning regarding common pitfalls. Explain that it can't be covered in this learning unit, and refer to sources for learning, such as: https://eu.udacity.com/course/ab-testing--ud257-certified"
   ]
  },
  {
   "cell_type": "code",
   "execution_count": null,
   "metadata": {},
   "outputs": [],
   "source": []
  }
 ],
 "metadata": {
  "kernelspec": {
   "display_name": "Python 3",
   "language": "python",
   "name": "python3"
  },
  "language_info": {
   "codemirror_mode": {
    "name": "ipython",
    "version": 3
   },
   "file_extension": ".py",
   "mimetype": "text/x-python",
   "name": "python",
   "nbconvert_exporter": "python",
   "pygments_lexer": "ipython3",
   "version": "3.5.4"
  }
 },
 "nbformat": 4,
 "nbformat_minor": 2
}
