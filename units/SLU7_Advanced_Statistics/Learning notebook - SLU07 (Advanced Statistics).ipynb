{
 "cells": [
  {
   "cell_type": "markdown",
   "metadata": {},
   "source": [
    "## SLU07 - Advanced Statistics: Learning notebook"
   ]
  },
  {
   "cell_type": "markdown",
   "metadata": {},
   "source": [
    "In this notebook we will cover the following:\n",
    "\n",
    "- Probability Distributions\n",
    "\n",
    "    - Normal\n",
    "    - Binomial\n",
    "    - Geometric\n",
    "    - Exponential\n",
    "    - Poisson\n",
    "    - Student's T\n",
    "    \n",
    "- Skew\n",
    "- Kurtosis\n",
    "\n",
    "- Point estimates\n",
    "- Confidence intervals\n",
    "\n",
    "- Significance tests\n"
   ]
  },
  {
   "cell_type": "markdown",
   "metadata": {},
   "source": [
    "## Imports"
   ]
  },
  {
   "cell_type": "code",
   "execution_count": 1,
   "metadata": {},
   "outputs": [],
   "source": [
    "import numpy as np\n",
    "import pandas as pd \n",
    "import matplotlib.pyplot as plt\n",
    "\n",
    "# this allows us to see our plots in the notebook:\n",
    "% matplotlib inline"
   ]
  },
  {
   "cell_type": "markdown",
   "metadata": {},
   "source": [
    "A probability distribution is a mathematical function that describes the values (and the respective probabilities) that a random variable can assume.\n",
    "\n",
    "Now that sounds scary, but this is not your average statistics class! We're not gonna ask you to memorize these formulas. You'll just need to know:\n",
    "\n",
    "> 1. What distribution you're looking at\n",
    "> 2. What functions you can use\n",
    "\n",
    "To do all of this programatically, we'll use a library called [SciPy](https://www.scipy.org/), which has a really cool statistics module."
   ]
  },
  {
   "cell_type": "code",
   "execution_count": 59,
   "metadata": {},
   "outputs": [],
   "source": [
    "import scipy.stats as stats"
   ]
  },
  {
   "cell_type": "markdown",
   "metadata": {},
   "source": [
    "___________"
   ]
  },
  {
   "cell_type": "markdown",
   "metadata": {},
   "source": [
    "# Normal Distribution\n",
    "\n",
    "The normal distribution is a continous probability distribution, and its the most common distribution you'll find. \n",
    "\n",
    "It describes well a lot of random phenomenons, such as human height."
   ]
  },
  {
   "cell_type": "markdown",
   "metadata": {},
   "source": [
    "The notation is:\n",
    "\n",
    "\n",
    "# $ {\\mathcal {N}}(\\mu ,\\sigma ^{2}) $\n",
    "\n",
    "\n",
    "The parameters are just: \n",
    "\n",
    "\n",
    "### $ mean = {\\mathcal \\mu \\in \\mathbb {R} } $\n",
    "### $ variance = { \\sigma ^{2}>0} $"
   ]
  },
  {
   "cell_type": "markdown",
   "metadata": {},
   "source": [
    "### Example\n",
    "Let's model the height of men worldwide.\n",
    "\n",
    "We know that human height is normally distributed, so our choice of using a normal distribution is solid.\n",
    "\n",
    "We just need the parameters, which are:\n",
    "\n",
    "> $\\mathcal \\mu$ = 174 cm\n",
    "\n",
    "> $\\sigma ^{2}$ = $ 8.2 ^ {2}$ cm\n",
    "\n",
    "\n",
    "So our normal distribution is:\n",
    "## $ {\\mathcal {N}}(174, 67.24) $"
   ]
  },
  {
   "cell_type": "markdown",
   "metadata": {},
   "source": [
    "Let's generate some 10000 datapoints from this distribution.\n",
    "Since we are using a normal distribution, we'll use `stats.norm`. \n",
    "\n",
    "We'll use its `.rsv` method to generated some data from this dristribution. You can see that here, `loc` is the mean, and `scale` is the standard deviation (which gets squared by the function)"
   ]
  },
  {
   "cell_type": "code",
   "execution_count": 84,
   "metadata": {},
   "outputs": [],
   "source": [
    "normal_data = stats.norm.rvs(size=10000, loc=174, scale=8.2, random_state=0)"
   ]
  },
  {
   "cell_type": "markdown",
   "metadata": {},
   "source": [
    "Let's plot it!"
   ]
  },
  {
   "cell_type": "code",
   "execution_count": 85,
   "metadata": {
    "scrolled": true
   },
   "outputs": [
    {
     "data": {
      "text/plain": [
       "<matplotlib.axes._subplots.AxesSubplot at 0x116c09a58>"
      ]
     },
     "execution_count": 85,
     "metadata": {},
     "output_type": "execute_result"
    },
    {
     "data": {
      "image/png": "[encoded data removed]",
      "text/plain": [
       "<matplotlib.figure.Figure at 0x111dce438>"
      ]
     },
     "metadata": {},
     "output_type": "display_data"
    }
   ],
   "source": [
    "pd.Series(normal_data).plot(kind=\"hist\", bins=50)"
   ]
  },
  {
   "cell_type": "markdown",
   "metadata": {},
   "source": [
    "You can see the distictive bell-shape. The height of most men sits around in the center, with the extreme values being rarer.\n",
    "\n",
    "Now that we have the distribution, we can use some functions to gain insights."
   ]
  },
  {
   "cell_type": "markdown",
   "metadata": {},
   "source": [
    "## Cumulative distribution function: `.cdf()`\n",
    "\n",
    "This function tells us the probability that the random variable will assume a value less than the one you provide."
   ]
  },
  {
   "cell_type": "markdown",
   "metadata": {},
   "source": [
    "Hugo is 193 cm tall. What percentage of men are shorter than him?"
   ]
  },
  {
   "cell_type": "code",
   "execution_count": 119,
   "metadata": {},
   "outputs": [
    {
     "data": {
      "text/plain": [
       "0.989750126890689"
      ]
     },
     "execution_count": 119,
     "metadata": {},
     "output_type": "execute_result"
    }
   ],
   "source": [
    "stats.norm.cdf(x=193,         # Cutoff value (quantile) to check\n",
    "               loc=174,       # Mean\n",
    "               scale=8.2)     # Standard Deviation"
   ]
  },
  {
   "cell_type": "markdown",
   "metadata": {},
   "source": [
    "He's taller than almost 99% of men!"
   ]
  },
  {
   "cell_type": "markdown",
   "metadata": {},
   "source": [
    "## Percent point function: `.ppf()`\n",
    "\n",
    "This function is the inverse of `.cdf()`; Instead of inputing a quantile and reciveing a probablity, we input a probability and recieve a quantile."
   ]
  },
  {
   "cell_type": "markdown",
   "metadata": {},
   "source": [
    "Below which height are 90% of men?"
   ]
  },
  {
   "cell_type": "code",
   "execution_count": 87,
   "metadata": {},
   "outputs": [
    {
     "data": {
      "text/plain": [
       "184.5087228374657"
      ]
     },
     "execution_count": 87,
     "metadata": {},
     "output_type": "execute_result"
    }
   ],
   "source": [
    "stats.norm.ppf(q=0.9,       # Cutoff value (quantile) to check\n",
    "               loc=174,     # Mean\n",
    "               scale=8.2)   # Standard Deviation"
   ]
  },
  {
   "cell_type": "markdown",
   "metadata": {},
   "source": [
    "This means that 90% of men are under 184.5 cm of height."
   ]
  },
  {
   "cell_type": "markdown",
   "metadata": {},
   "source": [
    "## Probability density function: `.pdf()`\n",
    "\n",
    "This function gives us the relatively likelihood of the random variable assuming a certain value.\n",
    "\n",
    "For example, the relative likelihood of a randomly chosen man from this population being 170 cm tall:"
   ]
  },
  {
   "cell_type": "code",
   "execution_count": 131,
   "metadata": {},
   "outputs": [
    {
     "data": {
      "text/plain": [
       "0.04319418121078366"
      ]
     },
     "execution_count": 131,
     "metadata": {},
     "output_type": "execute_result"
    }
   ],
   "source": [
    "stats.norm.pdf(x=170,         # Value to check\n",
    "               loc=174,       # Distribution start\n",
    "               scale=8.2)     # Distribution end"
   ]
  },
  {
   "cell_type": "markdown",
   "metadata": {},
   "source": [
    "And now the relative likelihood of a randomdly chosen man from this population being 150 cm tall:\n"
   ]
  },
  {
   "cell_type": "code",
   "execution_count": 132,
   "metadata": {},
   "outputs": [
    {
     "data": {
      "text/plain": [
       "0.0006713382361063932"
      ]
     },
     "execution_count": 132,
     "metadata": {},
     "output_type": "execute_result"
    }
   ],
   "source": [
    "stats.norm.pdf(x=150,         # Value to check\n",
    "               loc=174,       # Distribution start\n",
    "               scale=8.2)     # Distribution end"
   ]
  },
  {
   "cell_type": "markdown",
   "metadata": {},
   "source": [
    "You can think of these values as the probability density at value: it's more likely for a man to be 170 cm tall as opposed to 150 cm tall."
   ]
  },
  {
   "cell_type": "markdown",
   "metadata": {},
   "source": [
    "___________"
   ]
  },
  {
   "cell_type": "markdown",
   "metadata": {},
   "source": [
    "# Binomial Distribution\n",
    "\n",
    "The binomial distribution is a discrete probability distribution that models the number of sucesses in a set of independent trials.\n",
    "\n",
    "It describes random phenomenenon such as the number of heads you'll get, when you flip a coin a number of times."
   ]
  },
  {
   "cell_type": "markdown",
   "metadata": {},
   "source": [
    "The notation is: \n",
    "\n",
    "# $ B(n, p) $\n",
    "\n",
    "The parameters are just: \n",
    " \n",
    "### $ n ∈ N0 $ - number of  trials\n",
    "\n",
    "### $ p ∈ [0,1] $ - success probability in each trial"
   ]
  },
  {
   "cell_type": "markdown",
   "metadata": {},
   "source": [
    "### Example\n",
    "Let's model the number of heads we get when we flip a coin 10 times. This is a fair coin, so the chance of getting heads at each trial is 50%.\n",
    "\n",
    "So our parameters are:\n",
    "\n",
    "> n = 10\n",
    "\n",
    "> p = 0.5\n",
    "\n",
    "\n",
    "So our binomial distribution is:\n",
    "## $ B(10, 0.5) $"
   ]
  },
  {
   "cell_type": "markdown",
   "metadata": {},
   "source": [
    "Let's generate some 10000 datapoints from this distribution. \n",
    "This means we'll performing 10000 experiments, in which we flip a coin 10 times.\n",
    "\n",
    "Since we are using a binomial distribution, we'll use `stats.binom`. \n",
    "\n",
    "We'll use its `.rsv` method to generated the data. You can see that here, `n` is the number of trials, and `p` is the probability of success in each trial."
   ]
  },
  {
   "cell_type": "code",
   "execution_count": 90,
   "metadata": {},
   "outputs": [],
   "source": [
    "binomial_data = stats.binom.rvs(size=10000, n=10, p=0.5, random_state=0)"
   ]
  },
  {
   "cell_type": "markdown",
   "metadata": {},
   "source": [
    "Let's plot it!"
   ]
  },
  {
   "cell_type": "code",
   "execution_count": 112,
   "metadata": {},
   "outputs": [
    {
     "data": {
      "text/plain": [
       "<matplotlib.axes._subplots.AxesSubplot at 0x118d79dd8>"
      ]
     },
     "execution_count": 112,
     "metadata": {},
     "output_type": "execute_result"
    },
    {
     "data": {
      "image/png": "[encoded data removed]",
      "text/plain": [
       "<matplotlib.figure.Figure at 0x118861128>"
      ]
     },
     "metadata": {},
     "output_type": "display_data"
    }
   ],
   "source": [
    "pd.Series(binomial_data).plot(kind=\"hist\", bins = 50)"
   ]
  },
  {
   "cell_type": "markdown",
   "metadata": {},
   "source": [
    "Now, unlike the normal distribution, this is a discrete distribution, meaning that the random variable can only assume discrete integer values. It does however sort of look like a normal distribution, in the sense that it is symmetric, but that changes when you use a `p` different from 0.5.\n",
    "\n",
    "Let's now toss a biased coin. This a coin that is more likely to land on heads than tails."
   ]
  },
  {
   "cell_type": "code",
   "execution_count": 117,
   "metadata": {},
   "outputs": [],
   "source": [
    "biased_coin_data = stats.binom.rvs(size=10000, n=10, p=0.8, random_state=0)"
   ]
  },
  {
   "cell_type": "markdown",
   "metadata": {},
   "source": [
    "And let's plot it."
   ]
  },
  {
   "cell_type": "code",
   "execution_count": 118,
   "metadata": {},
   "outputs": [
    {
     "data": {
      "text/plain": [
       "<matplotlib.axes._subplots.AxesSubplot at 0x1190b4c18>"
      ]
     },
     "execution_count": 118,
     "metadata": {},
     "output_type": "execute_result"
    },
    {
     "data": {
      "image/png": "[encoded data removed]",
      "text/plain": [
       "<matplotlib.figure.Figure at 0x119087710>"
      ]
     },
     "metadata": {},
     "output_type": "display_data"
    }
   ],
   "source": [
    "pd.Series(biased_coin_data).plot(kind=\"hist\", bins=50)"
   ]
  },
  {
   "cell_type": "markdown",
   "metadata": {},
   "source": [
    "You can see that this biased coin is more likely to get more heads in 10 trials than the fair coin. The distribution \"shifted\" to the right, so to speak.\n",
    "\n",
    "Let's now use some functions to gain insights."
   ]
  },
  {
   "cell_type": "markdown",
   "metadata": {},
   "source": [
    "## Cumulative distribution function: `.cdf()`\n",
    "\n",
    "This function tells us the probability that the random variable will assume a value less (or equal) to the one you provide.\n",
    "\n",
    "Let's find out the probability of getting 7 heads in 10 trials, with this biased coin.\n"
   ]
  },
  {
   "cell_type": "code",
   "execution_count": 120,
   "metadata": {},
   "outputs": [
    {
     "data": {
      "text/plain": [
       "0.3222004736"
      ]
     },
     "execution_count": 120,
     "metadata": {},
     "output_type": "execute_result"
    }
   ],
   "source": [
    "stats.binom.cdf(k=7,        # Probability of k = 7 heads or less\n",
    "                n=10,       # In 10 trials\n",
    "                p=0.8)      # And success probability 0.8"
   ]
  },
  {
   "cell_type": "markdown",
   "metadata": {},
   "source": [
    "If you want to ask the question \"what is the probablity of getting at least 7 heads in 10 trails?\", you are actually asking \"What is the probability of NOT getting 6 or less heads in 10 trials\". \n",
    "\n",
    "We express the \"NOT\" by subtracting the probability from 1, like this:"
   ]
  },
  {
   "cell_type": "code",
   "execution_count": 121,
   "metadata": {},
   "outputs": [
    {
     "data": {
      "text/plain": [
       "0.8791261184000001"
      ]
     },
     "execution_count": 121,
     "metadata": {},
     "output_type": "execute_result"
    }
   ],
   "source": [
    "1 - stats.binom.cdf(k=6,        # Probability of k = 6 heads or less\n",
    "                    n=10,       # In 10 trials\n",
    "                    p=0.8)      # And success probability 0.8"
   ]
  },
  {
   "cell_type": "markdown",
   "metadata": {},
   "source": [
    "## Probability mass function: `.pmf()`"
   ]
  },
  {
   "cell_type": "markdown",
   "metadata": {},
   "source": [
    "Before, we used `.pdf()` to check the probability density on a certain point of a continuous probability density function. However, the binomial distribution is a discrete probability distribution, so instead we use `.pmf()` to check the proportion of observations at a certain point.\n",
    "\n",
    "Let's find out the probability of getting __exactly__ 5 heads in 10 trails, on our biased coin."
   ]
  },
  {
   "cell_type": "code",
   "execution_count": 127,
   "metadata": {},
   "outputs": [
    {
     "data": {
      "text/plain": [
       "0.02642411520000004"
      ]
     },
     "execution_count": 127,
     "metadata": {},
     "output_type": "execute_result"
    }
   ],
   "source": [
    "stats.binom.pmf(k=5,        # Probability of k = 5 heads\n",
    "                n=10,       # With 10 flips\n",
    "                p=0.8)      # And success probability 0.5"
   ]
  },
  {
   "cell_type": "markdown",
   "metadata": {},
   "source": [
    "#  Geometric Distribution and Exponential distribution\n",
    "\n",
    "These distributions are useful when you want to model the time it takes for an event to occur.\n",
    "\n",
    "The geometric distribution is a discrete distribution, and it's useful for modelling things like number of times you need to flip a coin before you see heads.\n",
    "\n",
    "The exponential distribution is its continuous analogue, and it's useful for modelling things like the time you need to wait before your bus arrives, knowing that there is a bus every 15 minutes.\n",
    "\n",
    "While these distributions are useful, we have a lot of ground to cover so we can't explain them here.\n",
    "\n",
    "Refer to these resources if you later want to learn more about them:"
   ]
  },
  {
   "cell_type": "markdown",
   "metadata": {},
   "source": [
    "# Poisson Distribution\n",
    "\n",
    "This distribution is useful when you want to model the probability of the number of times an event is likely to occur, within a certain timeframe.\n",
    "\n",
    "It's useful to model things such as the number of pacients an hospital will recieve within an hour.\n",
    "\n",
    "While also a very useful distribution, we have a lot to cover, so I leave it up to you to learn more about it if you want."
   ]
  },
  {
   "cell_type": "markdown",
   "metadata": {},
   "source": [
    "## Point estimates\n",
    "\n",
    "We need to know 2 important concepts:\n",
    "\n",
    "> 1. Population\n",
    "> 2. Sample\n",
    "\n",
    "Imagine you're selling a product, and your product is in fact so popular, that you have tens of thousands of customers. Now, you'd like to know more about your customers, like what their average age is.\n",
    "\n",
    "Now, if we could reach out to every single one of your customers and ask them their age, we could calculate the __Population mean__.\n",
    "\n",
    "But since we can't do that, we have to settle for asking a sample of costumers their age, and calculating the __Sample mean__.\n",
    "\n",
    "What this means, is that we can use the __Sample mean__ to estimate the __Population mean__.\n",
    "\n",
    "Let's give it a try:"
   ]
  },
  {
   "cell_type": "code",
   "execution_count": 176,
   "metadata": {},
   "outputs": [],
   "source": [
    "np.random.seed(3)\n",
    "population_ages1 = stats.poisson.rvs(loc=18, mu=35, size=150000)\n",
    "population_ages2 = stats.poisson.rvs(loc=18, mu=10, size=100000)\n",
    "population_ages = pd.Series(np.concatenate((population_ages1, population_ages2)))\n"
   ]
  },
  {
   "cell_type": "code",
   "execution_count": 177,
   "metadata": {},
   "outputs": [
    {
     "data": {
      "text/plain": [
       "42.995484"
      ]
     },
     "execution_count": 177,
     "metadata": {},
     "output_type": "execute_result"
    }
   ],
   "source": [
    "population_ages.mean()"
   ]
  },
  {
   "cell_type": "code",
   "execution_count": 182,
   "metadata": {},
   "outputs": [
    {
     "data": {
      "text/plain": [
       "42.654"
      ]
     },
     "execution_count": 182,
     "metadata": {},
     "output_type": "execute_result"
    }
   ],
   "source": [
    "age_sample = population_ages.sample(500, random_state=0)\n",
    "age_sample.mean()"
   ]
  },
  {
   "cell_type": "markdown",
   "metadata": {},
   "source": [
    "Not too bad, right? With just 500 people, we get a pretty good idea of the mean age of our population "
   ]
  },
  {
   "cell_type": "code",
   "execution_count": null,
   "metadata": {},
   "outputs": [],
   "source": []
  },
  {
   "cell_type": "code",
   "execution_count": null,
   "metadata": {},
   "outputs": [],
   "source": []
  },
  {
   "cell_type": "code",
   "execution_count": null,
   "metadata": {},
   "outputs": [],
   "source": []
  },
  {
   "cell_type": "code",
   "execution_count": null,
   "metadata": {},
   "outputs": [],
   "source": []
  },
  {
   "cell_type": "code",
   "execution_count": null,
   "metadata": {},
   "outputs": [],
   "source": []
  },
  {
   "cell_type": "code",
   "execution_count": 173,
   "metadata": {},
   "outputs": [
    {
     "data": {
      "text/plain": [
       "<matplotlib.axes._subplots.AxesSubplot at 0x11187df60>"
      ]
     },
     "execution_count": 173,
     "metadata": {},
     "output_type": "execute_result"
    },
    {
     "data": {
      "image/png": "[encoded data removed]",
      "text/plain": [
       "<matplotlib.figure.Figure at 0x1111b4860>"
      ]
     },
     "metadata": {},
     "output_type": "display_data"
    }
   ],
   "source": [
    "pd.Series(population_ages).hist(bins=60, figsize=(9,9))"
   ]
  },
  {
   "cell_type": "code",
   "execution_count": 168,
   "metadata": {},
   "outputs": [
    {
     "ename": "SyntaxError",
     "evalue": "invalid syntax (<ipython-input-168-62d2bf405d03>, line 3)",
     "output_type": "error",
     "traceback": [
      "\u001b[0;36m  File \u001b[0;32m\"<ipython-input-168-62d2bf405d03>\"\u001b[0;36m, line \u001b[0;32m3\u001b[0m\n\u001b[0;31m    TODO: Here we talk about:\u001b[0m\n\u001b[0m        ^\u001b[0m\n\u001b[0;31mSyntaxError\u001b[0m\u001b[0;31m:\u001b[0m invalid syntax\n"
     ]
    }
   ],
   "source": [
    "## Point Estimates and Confidence Intervals\n",
    "\n",
    "TODO: Here we talk about:\n",
    "* Sampling distributions\n",
    "* Central limit theorem\n",
    "* Calculate Confidence interval for the mean using Student's T distribution\n"
   ]
  },
  {
   "cell_type": "markdown",
   "metadata": {},
   "source": [
    "## Hypothesis testing\n",
    "\n",
    "\n",
    "TODO: here we explain the framework of hypothesis testing; We focus on the idea of \"how unlikely is this event to happen by chance\", so that we can explain rejecting the null hypothesis as \"it is very unlikely for this to happen by pure chance, so there's likely a change\""
   ]
  },
  {
   "cell_type": "markdown",
   "metadata": {},
   "source": [
    "## T-test\n",
    "\n",
    "TODO: Explain the T-test as a way to test the difference of means; for example, do these 2 groups of people have the same age on average?"
   ]
  },
  {
   "cell_type": "markdown",
   "metadata": {},
   "source": [
    "## Chi-squared test\n",
    "\n",
    "TODO: Explain the Chi-squared test as a way to test if frequencies between categories are the same or not; for example, do these 2 groups of people share the same frequency in the categories of a categorical variable? "
   ]
  },
  {
   "cell_type": "markdown",
   "metadata": {},
   "source": [
    "## Binomial Distribution\n",
    "\n",
    "TODO: Quick explaination of the Binomial Distribution"
   ]
  },
  {
   "cell_type": "markdown",
   "metadata": {},
   "source": [
    "## Binomial test (?)"
   ]
  },
  {
   "cell_type": "markdown",
   "metadata": {},
   "source": [
    "## Poisson Distribution\n",
    "TODO: Quick explaination of the Poisson Distribution"
   ]
  },
  {
   "cell_type": "markdown",
   "metadata": {},
   "source": [
    "## A/B testing\n",
    "\n",
    "TODO: Brief description of the method, but more of a warning regarding common pitfalls. Explain that it can't be covered in this learning unit, and refer to sources for learning, such as: https://eu.udacity.com/course/ab-testing--ud257-certified"
   ]
  },
  {
   "cell_type": "code",
   "execution_count": null,
   "metadata": {},
   "outputs": [],
   "source": []
  }
 ],
 "metadata": {
  "kernelspec": {
   "display_name": "Python 3",
   "language": "python",
   "name": "python3"
  },
  "language_info": {
   "codemirror_mode": {
    "name": "ipython",
    "version": 3
   },
   "file_extension": ".py",
   "mimetype": "text/x-python",
   "name": "python",
   "nbconvert_exporter": "python",
   "pygments_lexer": "ipython3",
   "version": "3.5.4"
  }
 },
 "nbformat": 4,
 "nbformat_minor": 2
}
