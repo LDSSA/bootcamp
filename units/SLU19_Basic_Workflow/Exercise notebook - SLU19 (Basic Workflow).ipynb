{
 "cells": [
  {
   "cell_type": "markdown",
   "metadata": {
    "deletable": false,
    "editable": false,
    "nbgrader": {
     "checksum": "aa40a1d0c2eeff958a6c838d40efffa1",
     "grade": false,
     "grade_id": "cell-f1f108c2efb94d44",
     "locked": true,
     "schema_version": 1,
     "solution": false
    }
   },
   "source": [
    "# Basic Workflow"
   ]
  },
  {
   "cell_type": "code",
   "execution_count": null,
   "metadata": {
    "deletable": false,
    "editable": false,
    "nbgrader": {
     "checksum": "aa7da9189d53a8a7d926b6f17d396489",
     "grade": false,
     "grade_id": "cell-4781dbdb443e5573",
     "locked": true,
     "schema_version": 1,
     "solution": false
    }
   },
   "outputs": [],
   "source": [
    "# Always have your imports at the top\n",
    "import pandas as pd\n",
    "from sklearn.pipeline import make_pipeline\n",
    "from sklearn.preprocessing import Imputer\n",
    "from sklearn.ensemble import RandomForestClassifier\n",
    "from sklearn.base import TransformerMixin"
   ]
  },
  {
   "cell_type": "markdown",
   "metadata": {},
   "source": [
    "# Immutability\n",
    "\n",
    "Never change your inputs!\n",
    "\n",
    "Write a function that drops the first column of a dataframe and then returns the result. Make sure that it doesn't change the input dataframe!"
   ]
  },
  {
   "cell_type": "code",
   "execution_count": null,
   "metadata": {
    "deletable": false,
    "nbgrader": {
     "checksum": "26e19a8751c1dbde1021078d384bb2ba",
     "grade": false,
     "grade_id": "cell-6c8218e1615228f0",
     "locked": false,
     "schema_version": 1,
     "solution": true
    }
   },
   "outputs": [],
   "source": [
    "def drop_column(_df, colname):\n",
    "    # first copy the dataframe just to be safe\n",
    "    # YOUR CODE HERE\n",
    "    raise NotImplementedError()\n",
    "    # now drop the column without using inplace=True\n",
    "    # YOUR CODE HERE\n",
    "    raise NotImplementedError()\n",
    "    "
   ]
  },
  {
   "cell_type": "code",
   "execution_count": null,
   "metadata": {
    "deletable": false,
    "editable": false,
    "nbgrader": {
     "checksum": "2886b766979ef91fc0d7c404f26af778",
     "grade": true,
     "grade_id": "cell-d15af97ae329a075",
     "locked": true,
     "points": 2,
     "schema_version": 1,
     "solution": false
    }
   },
   "outputs": [],
   "source": [
    "df = pd.DataFrame({\n",
    "    'hello': [1, 2, 3],\n",
    "    'world': [4, 5, 6]\n",
    "})\n",
    "\n",
    "drop_column(df, 'hello')\n",
    "drop_column(df, 'world')\n",
    "\n",
    "assert 'hello' in df.columns\n",
    "assert 'world' in df.columns"
   ]
  },
  {
   "cell_type": "markdown",
   "metadata": {
    "deletable": false,
    "editable": false,
    "nbgrader": {
     "checksum": "3eaf5c972f31e805d78b62771d6af800",
     "grade": false,
     "grade_id": "cell-fb212306fe32d1fc",
     "locked": true,
     "schema_version": 1,
     "solution": false
    }
   },
   "source": [
    "# Use functions!\n"
   ]
  },
  {
   "cell_type": "code",
   "execution_count": null,
   "metadata": {
    "deletable": false,
    "editable": false,
    "nbgrader": {
     "checksum": "f4ef2b83cf79b6f1dd6673ccdd02e02d",
     "grade": false,
     "grade_id": "cell-1402c3c1ee7d97b0",
     "locked": true,
     "schema_version": 1,
     "solution": false
    }
   },
   "outputs": [],
   "source": [
    "# given this dataframe\n",
    "df = pd.DataFrame({\n",
    "    'hello': [1, 2, 3],\n",
    "    'world': [4, 5, 6]\n",
    "})"
   ]
  },
  {
   "cell_type": "code",
   "execution_count": null,
   "metadata": {
    "deletable": false,
    "editable": false,
    "nbgrader": {
     "checksum": "1a627cc2173c318576fd39518a1ea561",
     "grade": false,
     "grade_id": "cell-3d6e0c4f4f6f07f2",
     "locked": true,
     "schema_version": 1,
     "solution": false
    }
   },
   "outputs": [],
   "source": [
    "# this cell\n",
    "df['hello'] = df['hello'] * 10\n",
    "df['world'] = df['hello'] * 5"
   ]
  },
  {
   "cell_type": "code",
   "execution_count": null,
   "metadata": {
    "deletable": false,
    "editable": false,
    "nbgrader": {
     "checksum": "36b6f954c243045a8970a4c7686dc07e",
     "grade": false,
     "grade_id": "cell-c330b7ed68a9e8b5",
     "locked": true,
     "schema_version": 1,
     "solution": false
    }
   },
   "outputs": [],
   "source": [
    "# and this cell\n",
    "df['hello'] = df['hello'] * 100\n",
    "df['world'] = df['hello'] * 30"
   ]
  },
  {
   "cell_type": "code",
   "execution_count": null,
   "metadata": {
    "deletable": false,
    "nbgrader": {
     "checksum": "890a7df8cde7c9f0d2d6978ae40d3be1",
     "grade": false,
     "grade_id": "cell-5d190a8fbb5c1762",
     "locked": false,
     "schema_version": 1,
     "solution": true
    }
   },
   "outputs": [],
   "source": [
    "# create a function called multiply_by that abstracts away\n",
    "# the need for duplicate code\n",
    "\n",
    "# remember to respect immutability!\n",
    "def multiply_by(_df, hello_multiply, world_multiply):\n",
    "    # YOUR CODE HERE\n",
    "    raise NotImplementedError()"
   ]
  },
  {
   "cell_type": "code",
   "execution_count": null,
   "metadata": {
    "deletable": false,
    "editable": false,
    "nbgrader": {
     "checksum": "2e63e8736570bfab775934908aa5d9c1",
     "grade": true,
     "grade_id": "cell-c9bbe4853895e71a",
     "locked": true,
     "points": 4,
     "schema_version": 1,
     "solution": false
    }
   },
   "outputs": [],
   "source": [
    "df = pd.DataFrame({\n",
    "    'hello': [1, 2, 3],\n",
    "    'world': [4, 5, 6]\n",
    "})\n",
    "\n",
    "new_df = multiply_by(df, 10, 15)\n",
    "\n",
    "assert new_df.hello.equals(df.hello * 10)\n",
    "assert new_df.world.equals(df.world * 15)\n",
    "\n",
    "new_df = multiply_by(df, 100, 150)\n",
    "\n",
    "assert new_df.hello.equals(df.hello * 100)\n",
    "assert new_df.world.equals(df.world * 150)"
   ]
  },
  {
   "cell_type": "markdown",
   "metadata": {
    "deletable": false,
    "editable": false,
    "nbgrader": {
     "checksum": "b421f516908aa90799f82854ace799ad",
     "grade": false,
     "grade_id": "cell-5790b6079fcdd3a1",
     "locked": true,
     "schema_version": 1,
     "solution": false
    }
   },
   "source": [
    "# scikit pipelines\n",
    "\n",
    "Make a simple pipeline that\n",
    "1. Drops all columns that start with the string `evil`\n",
    "1. Fills all nulls with the median"
   ]
  },
  {
   "cell_type": "code",
   "execution_count": null,
   "metadata": {
    "deletable": false,
    "nbgrader": {
     "checksum": "3ba27f77709ae4559c7d710f70adb36f",
     "grade": false,
     "grade_id": "cell-e9663ebd68ad68f8",
     "locked": false,
     "schema_version": 1,
     "solution": true
    }
   },
   "outputs": [],
   "source": [
    "# Create a pipeline step called RemoveEvilColumns\n",
    "# YOUR CODE HERE\n",
    "raise NotImplementedError()\n",
    "\n",
    "\n",
    "# Create an pipeline using make_pipeline\n",
    "# 1. removes evil columns\n",
    "# 2. imputes with the mean\n",
    "# 3. has a random forest classifier as the last step\n",
    "\n",
    "# YOUR CODE HERE\n",
    "raise NotImplementedError()"
   ]
  },
  {
   "cell_type": "code",
   "execution_count": null,
   "metadata": {
    "deletable": false,
    "editable": false,
    "nbgrader": {
     "checksum": "8b6ffffe38c3b9bb9f0447ce506d6bd0",
     "grade": true,
     "grade_id": "cell-87b055898e579a1a",
     "locked": true,
     "points": 14,
     "schema_version": 1,
     "solution": false
    }
   },
   "outputs": [],
   "source": [
    "X = pd.DataFrame({\n",
    "    'evil_1': ['X'] * 100,\n",
    "    'evil_2': ['Y'] * 100,\n",
    "    'not_so_evil': list(range(0, 100))\n",
    "})\n",
    "y = pd.Series([x % 2 for x in range(0, 100)])\n",
    "\n",
    "pipeline.fit(X, y)\n",
    "\n",
    "assert pipeline.steps[0][0] == 'removeevilcolumns'\n",
    "assert pipeline.steps[1][0] == 'imputer'\n",
    "assert pipeline.steps[2][0] == 'randomforestclassifier'"
   ]
  }
 ],
 "metadata": {
  "kernelspec": {
   "display_name": "Python 3",
   "language": "python",
   "name": "python3"
  },
  "language_info": {
   "codemirror_mode": {
    "name": "ipython",
    "version": 3
   },
   "file_extension": ".py",
   "mimetype": "text/x-python",
   "name": "python",
   "nbconvert_exporter": "python",
   "pygments_lexer": "ipython3",
   "version": "3.6.4"
  }
 },
 "nbformat": 4,
 "nbformat_minor": 2
}
