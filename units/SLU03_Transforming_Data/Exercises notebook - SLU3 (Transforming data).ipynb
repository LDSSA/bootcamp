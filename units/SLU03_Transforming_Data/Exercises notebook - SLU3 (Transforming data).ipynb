{
 "cells": [
  {
   "cell_type": "markdown",
   "metadata": {
    "deletable": false,
    "editable": false,
    "nbgrader": {
     "checksum": "5dddebd00b68be14638479cc9a1f47f5",
     "grade": false,
     "grade_id": "cell-98a18952c7ed2edb",
     "locked": true,
     "schema_version": 1,
     "solution": false
    }
   },
   "source": [
    "# SLU3 - Transforming data: Exercise notebook"
   ]
  },
  {
   "cell_type": "markdown",
   "metadata": {
    "deletable": false,
    "editable": false,
    "nbgrader": {
     "checksum": "375fe5954507983af4f241ea28d9f583",
     "grade": false,
     "grade_id": "cell-dc50bb56bef822e9",
     "locked": true,
     "schema_version": 1,
     "solution": false
    }
   },
   "source": [
    "In this notebook you'll practice the following:\n",
    "\n",
    "    - Dropping rows and columns \n",
    "    - Inplace\n",
    "    - Copying dataframes\n",
    "    - Basic math operations with dataframes\n",
    "    - Group by (split/apply/combine)\n",
    "    - Concat\n",
    "    - Sorting the index\n",
    "    - Setting the index\n",
    "    - Resetting the index\n",
    "    - Sorting values"
   ]
  },
  {
   "cell_type": "code",
   "execution_count": null,
   "metadata": {
    "deletable": false,
    "editable": false,
    "nbgrader": {
     "checksum": "93a7d33bb8f4ebc6acdc70d4a13c5dc3",
     "grade": false,
     "grade_id": "cell-b90a5f44e26a1cea",
     "locked": true,
     "schema_version": 1,
     "solution": false
    }
   },
   "outputs": [],
   "source": [
    "import pandas as pd"
   ]
  },
  {
   "cell_type": "code",
   "execution_count": null,
   "metadata": {
    "deletable": false,
    "editable": false,
    "nbgrader": {
     "checksum": "eca213a07a6eba40dd2a510caa8ee31c",
     "grade": false,
     "grade_id": "cell-c95dcfc8c47b044c",
     "locked": true,
     "schema_version": 1,
     "solution": false
    }
   },
   "outputs": [],
   "source": [
    "# Data source: https://www.kaggle.com/nickhould/craft-cans/data\n",
    "# Import beers data\n",
    "beers = pd.read_csv('data/beers.csv', index_col=0)\n",
    "\n",
    "# Import breweries data\n",
    "breweries = pd.read_csv('data/breweries.csv', index_col=0)"
   ]
  },
  {
   "cell_type": "markdown",
   "metadata": {
    "deletable": false,
    "editable": false,
    "nbgrader": {
     "checksum": "457b6adfe0273373cd935b5c9b92886c",
     "grade": false,
     "grade_id": "cell-e9fe42bd63e8bac8",
     "locked": true,
     "schema_version": 1,
     "solution": false
    }
   },
   "source": [
    "## Exercise 1\n",
    "\n",
    "The first thing we'll practice is dropping rows in a DataFrame.\n",
    "But since we don't want this change to be permanent, we'll also practice copying DataFrames.\n",
    "\n",
    "So, start by creating a copy of the beers DataFrame and call it original_beers.\n",
    "\n",
    "Then, on beers DataFrame drop lines 3, 14, 15, 92 and 65.\n",
    "\n",
    "Finally, return the original_beers and beers DataFrames."
   ]
  },
  {
   "cell_type": "code",
   "execution_count": null,
   "metadata": {
    "deletable": false,
    "nbgrader": {
     "checksum": "066637d584db3e6c18dc14431d865aef",
     "grade": false,
     "grade_id": "cell-03f936dd5b051d05",
     "locked": false,
     "schema_version": 1,
     "solution": true
    }
   },
   "outputs": [],
   "source": [
    "def exercise_1(beers):\n",
    "    \"\"\" \n",
    "    Create a copy of the beers DataFrame called original_beers\n",
    "    Drop lines 3, 14, 15, 92 and 65 of beers\n",
    "    \n",
    "    Args:\n",
    "        beers (pd.DataFrame): the input DataFrame\n",
    "\n",
    "    Returns:\n",
    "        original_beers (pd.DataFrame): the original beers DataFrame\n",
    "        beers (pd.DataFrame): the transformed DataFrame\n",
    "\n",
    "    \"\"\"\n",
    "    \n",
    "    # create the original_beers DataFrame\n",
    "    # YOUR CODE HERE\n",
    "    raise NotImplementedError()\n",
    "    \n",
    "    # drop lines 3, 14, 15, 92 and 65 of beers\n",
    "    # YOUR CODE HERE\n",
    "    raise NotImplementedError()\n",
    "    \n",
    "    # return original_beers and beers\n",
    "    # YOUR CODE HERE\n",
    "    raise NotImplementedError()"
   ]
  },
  {
   "cell_type": "code",
   "execution_count": null,
   "metadata": {
    "deletable": false,
    "editable": false,
    "nbgrader": {
     "checksum": "32e2b44fc70a97ceffc44efd84770793",
     "grade": true,
     "grade_id": "cell-c2b99c75ec39d8a5",
     "locked": true,
     "points": 2,
     "schema_version": 1,
     "solution": false
    }
   },
   "outputs": [],
   "source": [
    "# This cell is what will test your code, please ignore it!"
   ]
  },
  {
   "cell_type": "markdown",
   "metadata": {
    "deletable": false,
    "editable": false,
    "nbgrader": {
     "checksum": "2db7057b79b0cfa86ef8b7307b46fd48",
     "grade": false,
     "grade_id": "cell-411dedaa82e1bd23",
     "locked": true,
     "schema_version": 1,
     "solution": false
    }
   },
   "source": [
    "## Exercise 2\n",
    "\n",
    "Drop column ibu. You can either do it inplace or not :)\n",
    "Then return the transformed DataFrame."
   ]
  },
  {
   "cell_type": "code",
   "execution_count": null,
   "metadata": {
    "deletable": false,
    "nbgrader": {
     "checksum": "24a58f937cab4cb47a02b51fa9770471",
     "grade": false,
     "grade_id": "cell-18e631c0c5e73581",
     "locked": false,
     "schema_version": 1,
     "solution": true
    }
   },
   "outputs": [],
   "source": [
    "def exercise_2(beers):\n",
    "    \"\"\" \n",
    "    Drop column ibu\n",
    "    \n",
    "    Args:\n",
    "        beers (pd.DataFrame): the input DataFrame\n",
    "\n",
    "    Returns:\n",
    "        beers (pd.DataFrame): the transformed DataFrame\n",
    "\n",
    "    \"\"\"\n",
    "    \n",
    "    # drop column ibu\n",
    "    # YOUR CODE HERE\n",
    "    raise NotImplementedError()\n",
    "    \n",
    "    # return the transformed DataFrame\n",
    "    # YOUR CODE HERE\n",
    "    raise NotImplementedError()"
   ]
  },
  {
   "cell_type": "code",
   "execution_count": null,
   "metadata": {
    "deletable": false,
    "editable": false,
    "nbgrader": {
     "checksum": "6f02919da83fbc04ce8373c2774e3d7c",
     "grade": true,
     "grade_id": "cell-47a0c09df3a46a63",
     "locked": true,
     "points": 2,
     "schema_version": 1,
     "solution": false
    }
   },
   "outputs": [],
   "source": [
    "# This cell is what will test your code, please ignore it!"
   ]
  },
  {
   "cell_type": "markdown",
   "metadata": {
    "deletable": false,
    "editable": false,
    "nbgrader": {
     "checksum": "1f3283beabb02de80c75f07af03218b4",
     "grade": false,
     "grade_id": "cell-09e521d9e4a07d4d",
     "locked": true,
     "schema_version": 1,
     "solution": false
    }
   },
   "source": [
    "## Exercise 3\n",
    "\n",
    "Set column brewery_id as index and sort it.\n",
    "Then return the resulting DataFrame."
   ]
  },
  {
   "cell_type": "code",
   "execution_count": null,
   "metadata": {
    "deletable": false,
    "nbgrader": {
     "checksum": "641be9d1dffd1977360dddbaecc0b157",
     "grade": false,
     "grade_id": "cell-6c71f016f81caf64",
     "locked": false,
     "schema_version": 1,
     "solution": true
    }
   },
   "outputs": [],
   "source": [
    "def exercise_3(beers):\n",
    "    \"\"\" \n",
    "    Set column brewery_id as index\n",
    "    Sort the index\n",
    "    \n",
    "    Args:\n",
    "        beers (pd.DataFrame): the input DataFrame\n",
    "\n",
    "    Returns:\n",
    "        beers (pd.DataFrame): the transformed DataFrame\n",
    "\n",
    "    \"\"\"\n",
    "    \n",
    "    # set brewery_id as index\n",
    "    # YOUR CODE HERE\n",
    "    raise NotImplementedError()\n",
    "    \n",
    "    # sort the index\n",
    "    # YOUR CODE HERE\n",
    "    raise NotImplementedError()\n",
    "    \n",
    "    # return the transformed DataFrame\n",
    "    # YOUR CODE HERE\n",
    "    raise NotImplementedError()"
   ]
  },
  {
   "cell_type": "code",
   "execution_count": null,
   "metadata": {
    "deletable": false,
    "editable": false,
    "nbgrader": {
     "checksum": "31d5c71e56c1694cb90323a448a1e910",
     "grade": true,
     "grade_id": "cell-7b1dea8ba7f0967b",
     "locked": true,
     "points": 2,
     "schema_version": 1,
     "solution": false
    }
   },
   "outputs": [],
   "source": [
    "# This cell is what will test your code, please ignore it!"
   ]
  },
  {
   "cell_type": "markdown",
   "metadata": {
    "deletable": false,
    "editable": false,
    "nbgrader": {
     "checksum": "8d8a0527661343c04f26e129c7cc24f8",
     "grade": false,
     "grade_id": "cell-a2ccc2e603429af1",
     "locked": true,
     "schema_version": 1,
     "solution": false
    }
   },
   "source": [
    "## Exercise 4\n",
    "\n",
    "Now, we want to concatenate the two DataFrames along the columns.\n",
    "\n",
    "On this question, you have to find the algorithm to determine the shape of the concatenation of beers and breweries DataFrames __without__ actually concatenating them!\n",
    "\n",
    "You should think of the concatenation function from Pandas, with default options.\n",
    "\n",
    "The return values should be a tupple like (number_of_rows, number_of_columns).\n",
    "\n",
    "Hint: the index doesn't count in the number of columns."
   ]
  },
  {
   "cell_type": "code",
   "execution_count": null,
   "metadata": {
    "deletable": false,
    "nbgrader": {
     "checksum": "bb3cad6324d5e39da9b26660bf86a04e",
     "grade": false,
     "grade_id": "cell-cd8df3e556e5cef4",
     "locked": false,
     "schema_version": 1,
     "solution": true
    }
   },
   "outputs": [],
   "source": [
    "def exercise_4(beers, breweries):\n",
    "    \"\"\" \n",
    "    Define the formula to compute the shape of the concatenation of the beers and breweries DataFrames\n",
    "    \n",
    "    Args:\n",
    "        beers (pd.DataFrame): input DataFrame\n",
    "        breweries (pd.DataFrame): input DataFrame\n",
    "\n",
    "    Returns:\n",
    "        shape (tuple): the shape of the DataFrame that results from concatenating the two input DataFrames\n",
    "\n",
    "    \"\"\"\n",
    "    \n",
    "    # find the resulting number of rows \n",
    "    # rows = ...\n",
    "    # YOUR CODE HERE\n",
    "    raise NotImplementedError()\n",
    "    \n",
    "    # find the resulting number of columns \n",
    "    # columns = ...\n",
    "    # YOUR CODE HERE\n",
    "    raise NotImplementedError()\n",
    "    \n",
    "    # return a tuple with the shape\n",
    "    # YOUR CODE HERE\n",
    "    raise NotImplementedError()"
   ]
  },
  {
   "cell_type": "code",
   "execution_count": null,
   "metadata": {
    "deletable": false,
    "editable": false,
    "nbgrader": {
     "checksum": "94663fcf4e7647a85f9416f0ae0241a5",
     "grade": true,
     "grade_id": "cell-fb52850e91d58034",
     "locked": true,
     "points": 2,
     "schema_version": 1,
     "solution": false
    }
   },
   "outputs": [],
   "source": [
    "# This cell is what will test your code, please ignore it!"
   ]
  },
  {
   "cell_type": "markdown",
   "metadata": {
    "deletable": false,
    "editable": false,
    "nbgrader": {
     "checksum": "5b00243b195b092718500373af6785db",
     "grade": false,
     "grade_id": "cell-4bb90e3f98fb0c8d",
     "locked": true,
     "schema_version": 1,
     "solution": false
    }
   },
   "source": [
    "## Exercise 5\n",
    "\n",
    "Now let's concatenate the two DataFrames along the columns!\n",
    "\n",
    "The function should return the concatenation of the two DataFrames, and the shape of the resulting DataFrame."
   ]
  },
  {
   "cell_type": "code",
   "execution_count": null,
   "metadata": {
    "deletable": false,
    "nbgrader": {
     "checksum": "b5974197057be384daad35eabffee42c",
     "grade": false,
     "grade_id": "cell-ed640eefffed8845",
     "locked": false,
     "schema_version": 1,
     "solution": true
    }
   },
   "outputs": [],
   "source": [
    "def exercise_5(beers, breweries):\n",
    "    \"\"\" \n",
    "    Concatenate the beers and breweries DataFrames\n",
    "    Get the shape of the resulting DataFrame\n",
    "    \n",
    "    Args:\n",
    "        beers (pd.DataFrame): input DataFrame\n",
    "        breweries (pd.DataFrame): input DataFrame\n",
    "\n",
    "    Returns:\n",
    "        df (pd.DataFrame): the result of concatenating beers and breweries\n",
    "        shape (tuple): the shape of df\n",
    "\n",
    "    \"\"\"\n",
    "\n",
    "    # YOUR CODE HERE\n",
    "    raise NotImplementedError()"
   ]
  },
  {
   "cell_type": "code",
   "execution_count": null,
   "metadata": {
    "deletable": false,
    "editable": false,
    "nbgrader": {
     "checksum": "151665f15ebb2def4e3d7c333d9eba54",
     "grade": true,
     "grade_id": "cell-5ede850df62a3778",
     "locked": true,
     "points": 2,
     "schema_version": 1,
     "solution": false
    }
   },
   "outputs": [],
   "source": [
    "# This cell is what will test your code, please ignore it!"
   ]
  },
  {
   "cell_type": "markdown",
   "metadata": {
    "deletable": false,
    "editable": false,
    "nbgrader": {
     "checksum": "8d78bd860f5699eb57acc67d5529d52f",
     "grade": false,
     "grade_id": "cell-bdc1e7182c1d0f46",
     "locked": true,
     "schema_version": 1,
     "solution": false
    }
   },
   "source": [
    "## Exercise 6\n",
    "\n",
    "Reset the DataFrame index, and make sure that the current index is kept as a column in the DataFrame."
   ]
  },
  {
   "cell_type": "code",
   "execution_count": null,
   "metadata": {
    "deletable": false,
    "nbgrader": {
     "checksum": "2cc3d7f11439a488aa3b2ebcc7838595",
     "grade": false,
     "grade_id": "cell-f1e094e973af306e",
     "locked": false,
     "schema_version": 1,
     "solution": true
    }
   },
   "outputs": [],
   "source": [
    "def exercise_6(df):\n",
    "    \"\"\" \n",
    "    Reset the DataFrame index\n",
    "    \n",
    "    Args:\n",
    "        df (pd.DataFrame): input DataFrame\n",
    "\n",
    "    Returns:\n",
    "        df (pd.DataFrame): transformed DataFrame\n",
    "\n",
    "    \"\"\"\n",
    "    \n",
    "    # Reset the DataFrame index\n",
    "    # df = ...\n",
    "    # YOUR CODE HERE\n",
    "    raise NotImplementedError()\n",
    "    \n",
    "    # NOT GRADED -> when we reset the index, the new column will be called index.\n",
    "    # This instruction renames that column brewery_id\n",
    "    df = df.rename(columns={'index': 'brewery_id'})\n",
    "    \n",
    "    # Return the transformed DataFrame\n",
    "    # YOUR CODE HERE\n",
    "    raise NotImplementedError()"
   ]
  },
  {
   "cell_type": "code",
   "execution_count": null,
   "metadata": {
    "deletable": false,
    "editable": false,
    "nbgrader": {
     "checksum": "155be5bd8db156497955a97fb2547ff1",
     "grade": true,
     "grade_id": "cell-d37fa0fc41bd27ca",
     "locked": true,
     "points": 2,
     "schema_version": 1,
     "solution": false
    }
   },
   "outputs": [],
   "source": [
    "# This cell is what will test your code, please ignore it!"
   ]
  },
  {
   "cell_type": "markdown",
   "metadata": {
    "deletable": false,
    "editable": false,
    "nbgrader": {
     "checksum": "d5881964ddbda670e49efb5c7319d6db",
     "grade": false,
     "grade_id": "cell-b682bd95440598f5",
     "locked": true,
     "schema_version": 1,
     "solution": false
    }
   },
   "source": [
    "## Exercise 7\n",
    "\n",
    "Add a column to the DataFrame called centilitres, which is the can size in cl.\n",
    "\n",
    "The formula to convert from ounces to centilitres is the following:\n",
    "```\n",
    "1 oz = 2.95735296 cl\n",
    "```"
   ]
  },
  {
   "cell_type": "code",
   "execution_count": null,
   "metadata": {
    "deletable": false,
    "nbgrader": {
     "checksum": "01d330f9ade7093392ec7a80525c93f1",
     "grade": false,
     "grade_id": "cell-efa5457ed106f13a",
     "locked": false,
     "schema_version": 1,
     "solution": true
    }
   },
   "outputs": [],
   "source": [
    "def exercise_7(df):\n",
    "    \"\"\" \n",
    "    Add a centilitres column to the DataFrame\n",
    "    \n",
    "    Args:\n",
    "        df (pd.DataFrame): input DataFrame\n",
    "\n",
    "    Returns:\n",
    "        df (pd.DataFrame): transformed DataFrame\n",
    "\n",
    "    \"\"\"\n",
    "    \n",
    "    # YOUR CODE HERE\n",
    "    raise NotImplementedError()"
   ]
  },
  {
   "cell_type": "code",
   "execution_count": null,
   "metadata": {
    "deletable": false,
    "editable": false,
    "nbgrader": {
     "checksum": "8781e5e2555eea1bf9802730e537d280",
     "grade": true,
     "grade_id": "cell-deb3bf62b08f7978",
     "locked": true,
     "points": 2,
     "schema_version": 1,
     "solution": false
    }
   },
   "outputs": [],
   "source": [
    "# This cell is what will test your code, please ignore it!"
   ]
  },
  {
   "cell_type": "markdown",
   "metadata": {
    "deletable": false,
    "editable": false,
    "nbgrader": {
     "checksum": "8b2aafbd6ac935a4f6d7ed33e03a523f",
     "grade": false,
     "grade_id": "cell-59019645df37c8a3",
     "locked": true,
     "schema_version": 1,
     "solution": false
    }
   },
   "source": [
    "## Exercise 8\n",
    "\n",
    "Now let's find out the average abv in each beer style.\n",
    "Then, order the results from the most alcoholic to the least alcoholic and select only the top three rows."
   ]
  },
  {
   "cell_type": "code",
   "execution_count": null,
   "metadata": {
    "deletable": false,
    "nbgrader": {
     "checksum": "10f248b7d718461bb4b3c72c6037dd56",
     "grade": false,
     "grade_id": "cell-46b7eb8cd206adb0",
     "locked": false,
     "schema_version": 1,
     "solution": true
    }
   },
   "outputs": [],
   "source": [
    "def exercise_8(df):\n",
    "    \"\"\" \n",
    "    Compute the average abv per beer style\n",
    "    Order the results from the most alcoholic to the leat alcoholic style\n",
    "    Return the top three rows\n",
    "    \n",
    "    Args:\n",
    "        df (pd.DataFrame): input DataFrame\n",
    "\n",
    "    Returns:\n",
    "        df (pd.DataFrame): transformed DataFrame\n",
    "\n",
    "    \"\"\"\n",
    "    \n",
    "    # Compute the average abvs and order the resulting DataFrame\n",
    "    # df = ...\n",
    "    # YOUR CODE HERE\n",
    "    raise NotImplementedError()\n",
    "    \n",
    "    # Return the top three rows\n",
    "    # YOUR CODE HERE\n",
    "    raise NotImplementedError()"
   ]
  },
  {
   "cell_type": "code",
   "execution_count": null,
   "metadata": {
    "deletable": false,
    "editable": false,
    "nbgrader": {
     "checksum": "8aa6862734ce47d22358edf2ca07f566",
     "grade": true,
     "grade_id": "cell-024ece5928c4f6cd",
     "locked": true,
     "points": 2,
     "schema_version": 1,
     "solution": false
    }
   },
   "outputs": [],
   "source": [
    "# This cell is what will test your code, please ignore it!"
   ]
  },
  {
   "cell_type": "markdown",
   "metadata": {
    "deletable": false,
    "editable": false,
    "nbgrader": {
     "checksum": "192f67f02122b6857db24287ac79c274",
     "grade": false,
     "grade_id": "cell-c1d0683a34e72d69",
     "locked": true,
     "schema_version": 1,
     "solution": false
    }
   },
   "source": [
    "## Exercise 9\n",
    "\n",
    "Some people really like beer, but don't want to drinking alcohol, so they prefer the least alcoholic beers.\n",
    "\n",
    "So, first, find the least alcoholic beer per brewery. And then find the five breweries that have the least alcoholic beers.\n",
    "\n",
    "The result should be a list with the brewery names."
   ]
  },
  {
   "cell_type": "code",
   "execution_count": null,
   "metadata": {
    "deletable": false,
    "nbgrader": {
     "checksum": "cabff5541ddcd67d5065f31e35c70b00",
     "grade": false,
     "grade_id": "cell-4a7eb8bc85878860",
     "locked": false,
     "schema_version": 1,
     "solution": true
    }
   },
   "outputs": [],
   "source": [
    "def exercise_9(df):\n",
    "    \"\"\" \n",
    "    Get the least alcoholic beers per brewery\n",
    "    Return the top 5 brewery names\n",
    "    \n",
    "    Args:\n",
    "        df (pd.DataFrame): input DataFrame\n",
    "\n",
    "    Returns:\n",
    "        brewery_names (list): the top 5 least alcoholic breweries, name list\n",
    "\n",
    "    \"\"\"\n",
    "    \n",
    "    # Group the breweries, get the average abv per brewery and get the top 5 least alcoholic ones\n",
    "    # YOUR CODE HERE\n",
    "    raise NotImplementedError()\n",
    "    \n",
    "    # Return the brewery names\n",
    "    # YOUR CODE HERE\n",
    "    raise NotImplementedError()"
   ]
  },
  {
   "cell_type": "code",
   "execution_count": null,
   "metadata": {
    "deletable": false,
    "editable": false,
    "nbgrader": {
     "checksum": "9a298e8f8df7006287a6eadb887f5ffd",
     "grade": true,
     "grade_id": "cell-2ca16fd854e89cf9",
     "locked": true,
     "points": 2,
     "schema_version": 1,
     "solution": false
    }
   },
   "outputs": [],
   "source": [
    "# This cell is what will test your code, please ignore it!"
   ]
  },
  {
   "cell_type": "markdown",
   "metadata": {
    "deletable": false,
    "editable": false,
    "nbgrader": {
     "checksum": "f5451a96abfd43b69cb97a78a4c06b33",
     "grade": false,
     "grade_id": "cell-643db380cc5eb933",
     "locked": true,
     "schema_version": 1,
     "solution": false
    }
   },
   "source": [
    "## Exercise 10\n",
    "\n",
    "Find out the state which has produced more beers.\n",
    "Return the state code."
   ]
  },
  {
   "cell_type": "code",
   "execution_count": null,
   "metadata": {
    "deletable": false,
    "nbgrader": {
     "checksum": "68e339ed59a6c6fdca8a620e19eb3149",
     "grade": false,
     "grade_id": "cell-0a04912480f9af1f",
     "locked": false,
     "schema_version": 1,
     "solution": true
    }
   },
   "outputs": [],
   "source": [
    "def exercise_10(df):\n",
    "    \"\"\" \n",
    "    Get the state with more beers produced\n",
    "    Return the state code\n",
    "    \n",
    "    Args:\n",
    "        df (pd.DataFrame): input DataFrame\n",
    "\n",
    "    Returns:\n",
    "        state_code (string): the state code of the state which has produce more beers\n",
    "\n",
    "    \"\"\"\n",
    "\n",
    "    # YOUR CODE HERE\n",
    "    raise NotImplementedError()"
   ]
  },
  {
   "cell_type": "code",
   "execution_count": null,
   "metadata": {
    "deletable": false,
    "editable": false,
    "nbgrader": {
     "checksum": "b0975b9e32c51e92d23e379dc6c94636",
     "grade": true,
     "grade_id": "cell-da24768eaf6a0a2a",
     "locked": true,
     "points": 2,
     "schema_version": 1,
     "solution": false
    }
   },
   "outputs": [],
   "source": [
    "# This cell is what will test your code, please ignore it!"
   ]
  },
  {
   "cell_type": "code",
   "execution_count": null,
   "metadata": {},
   "outputs": [],
   "source": []
  }
 ],
 "metadata": {
  "kernelspec": {
   "display_name": "Python 3",
   "language": "python",
   "name": "python3"
  },
  "language_info": {
   "codemirror_mode": {
    "name": "ipython",
    "version": 3
   },
   "file_extension": ".py",
   "mimetype": "text/x-python",
   "name": "python",
   "nbconvert_exporter": "python",
   "pygments_lexer": "ipython3",
   "version": "3.6.4"
  }
 },
 "nbformat": 4,
 "nbformat_minor": 2
}
