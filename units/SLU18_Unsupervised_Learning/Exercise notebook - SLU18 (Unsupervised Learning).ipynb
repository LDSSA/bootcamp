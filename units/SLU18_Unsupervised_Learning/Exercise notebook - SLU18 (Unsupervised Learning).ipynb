{
 "cells": [
  {
   "cell_type": "markdown",
   "metadata": {
    "collapsed": true,
    "deletable": false,
    "editable": false,
    "nbgrader": {
     "checksum": "06343a14b723cc0e1a9cf7d841c89bb6",
     "grade": false,
     "grade_id": "cell-026bc94e76933821",
     "locked": true,
     "schema_version": 1,
     "solution": false
    }
   },
   "source": [
    "# SLU18 - Unsupervised Learning: Exercise notebook"
   ]
  },
  {
   "cell_type": "code",
   "execution_count": null,
   "metadata": {
    "deletable": false,
    "editable": false,
    "nbgrader": {
     "checksum": "73d5848c24ede9c82bbbf72bffc25bcf",
     "grade": false,
     "grade_id": "cell-efc18469bbd34abb",
     "locked": true,
     "schema_version": 1,
     "solution": false
    }
   },
   "outputs": [],
   "source": [
    "import pandas as pd \n",
    "import numpy as np "
   ]
  },
  {
   "cell_type": "markdown",
   "metadata": {
    "deletable": false,
    "editable": false,
    "nbgrader": {
     "checksum": "0a5d5cc53777ec342cbe614b5974b31f",
     "grade": false,
     "grade_id": "cell-5c38f07a13eb6fd6",
     "locked": true,
     "schema_version": 1,
     "solution": false
    }
   },
   "source": [
    "In this notebook you will practice the following: \n",
    "\n",
    "    - Clustering\n",
    "    - K-means\n",
    "    \n",
    "You thought that you would get away without implementing your own little K-means algorithm?\n",
    "\n",
    "\n",
    "# Exercise 1. Implement the Manhattan Distance Function\n",
    "\n",
    "Only because the euclidean distance is too mainstream. And trust me on this one.\n",
    "\n",
    "Here's a quick reminder of the formula:\n",
    "\n",
    "$$d_{manhattan}(X,Y) = \\left \\| \\ \\mathbf{X} - \\mathbf{Y} \\ \\right \\|_1 = \\left | \\ x_1-y_1 \\ \\right | + \\left | \\ x_2-y_2 \\ \\right | + \\ ...$$\n",
    "\n",
    "If you have problems completing this, consider that you want to subtract the feature values of index $i$ between an `origin` and a `point`. You would do it this way:\n",
    "\n",
    "```python\n",
    "result = origin[i] - point[i]\n",
    "```\n",
    "\n",
    "**Complete here:**"
   ]
  },
  {
   "cell_type": "code",
   "execution_count": null,
   "metadata": {
    "deletable": false,
    "nbgrader": {
     "checksum": "71f6268530ab052838407a24b366293d",
     "grade": false,
     "grade_id": "cell-46baf701155ad59a",
     "locked": false,
     "schema_version": 1,
     "solution": true
    }
   },
   "outputs": [],
   "source": [
    "def manhattan_distance(origin, point):\n",
    "    \"\"\" \n",
    "    Implementation of the manhattan distance by hand\n",
    "    \n",
    "    Args:\n",
    "        origin (np.array): a numpy array containing the coordinates of an observation. Has shape (n,) where:\n",
    "            - n: The number of features\n",
    "        point (np.array): a numpy array containing the coordinates of another observation. Has shape (,n) where:\n",
    "            - n: The number of features\n",
    "\n",
    "    Returns:\n",
    "        distance (np.float64): the  for a given observation pair\n",
    "\n",
    "    \"\"\"\n",
    "    \n",
    "    # initialize the distance with a zero\n",
    "    distance = None\n",
    "    # YOUR CODE HERE\n",
    "    raise NotImplementedError()\n",
    "    \n",
    "    # compute the manhattan distance between origin and point\n",
    "    # clue: use np.abs() to obtain the absolute value\n",
    "    for i in range(None):            # iterate through each feature column index i (clue: use len() or .shape[0])\n",
    "        distance += None             # add the absolute value of the difference between the points' feature values \n",
    "    # YOUR CODE HERE\n",
    "    raise NotImplementedError()\n",
    "    \n",
    "    return distance"
   ]
  },
  {
   "cell_type": "code",
   "execution_count": null,
   "metadata": {
    "deletable": false,
    "editable": false,
    "nbgrader": {
     "checksum": "11ce968c4c9994b2789ceb72a92703b9",
     "grade": false,
     "grade_id": "cell-3fb42f25de586f74",
     "locked": true,
     "schema_version": 1,
     "solution": false
    }
   },
   "outputs": [],
   "source": [
    "a = np.array([1,1,0,0,1])\n",
    "b = np.array([0,1,1,0,1])\n",
    "print('Manhattan Distance: %.2f' % manhattan_distance(a, b))"
   ]
  },
  {
   "cell_type": "markdown",
   "metadata": {
    "deletable": false,
    "editable": false,
    "nbgrader": {
     "checksum": "5273a017d833998487b83abbb9148048",
     "grade": false,
     "grade_id": "cell-09f4da96b0c78a8c",
     "locked": true,
     "schema_version": 1,
     "solution": false
    }
   },
   "source": [
    "Expected output:\n",
    "\n",
    "    Manhattan Distance: 2.00"
   ]
  },
  {
   "cell_type": "code",
   "execution_count": null,
   "metadata": {
    "deletable": false,
    "editable": false,
    "nbgrader": {
     "checksum": "3929c26b0217a0bf2b6b5bf8547d0bb2",
     "grade": true,
     "grade_id": "cell-f993782ca88df9dc",
     "locked": true,
     "points": 4,
     "schema_version": 1,
     "solution": false
    }
   },
   "outputs": [],
   "source": [
    "a = np.array([1,0,1,1,1,1,0])\n",
    "b = np.array([1,0,1,0,1,0,1])\n",
    "assert np.isclose(manhattan_distance(a, b), 3)\n"
   ]
  },
  {
   "cell_type": "markdown",
   "metadata": {
    "deletable": false,
    "editable": false,
    "nbgrader": {
     "checksum": "db4bbff372122689a0675961318b507b",
     "grade": false,
     "grade_id": "cell-203870c25fd21efe",
     "locked": true,
     "schema_version": 1,
     "solution": false
    }
   },
   "source": [
    "# Exercise 2: Initialize Centroids\n",
    "\n",
    "The next step is to implement a function that initializes a set of k centroids.\n",
    "\n",
    "The main idea is that we will shuffle the data that we receive and then grab the first $k$ observations of the shuffled data. To shuffle a numpy array `data`, we would only have to do the following:\n",
    "\n",
    "```python\n",
    "np.random.shuffle(data)\n",
    "```\n",
    "\n",
    "`np.random.shuffle` already shuffles the data inplace, so we only have to do that.\n",
    "\n",
    "**Complete here:**"
   ]
  },
  {
   "cell_type": "code",
   "execution_count": null,
   "metadata": {
    "deletable": false,
    "nbgrader": {
     "checksum": "d8c4a8a41d4c73b4e9c2b5b18ec7efa0",
     "grade": false,
     "grade_id": "cell-894202af0ab74135",
     "locked": false,
     "schema_version": 1,
     "solution": true
    }
   },
   "outputs": [],
   "source": [
    "def initialize_centroids(data, k, seed = None):\n",
    "    \"\"\" \n",
    "    Implementation of a function that initializes a set of k centroid coordinates from existing data points\n",
    "    \n",
    "    Args:\n",
    "        data (np.array): a numpy array of shape (m,n)\n",
    "            - m: number of observations\n",
    "            - n: number of variables\n",
    "        k (np.int64): the number of centroids to initialize\n",
    "        seed (np.int64): the random seed for result reproducibility\n",
    "\n",
    "    Returns:\n",
    "        C (np.array): the initialized centroid centers of shape (k, n)\n",
    "\n",
    "    \"\"\"\n",
    "    # this step is just to make the results reproducible\n",
    "    if seed is not None:    \n",
    "        np.random.seed(seed)\n",
    "        \n",
    "    # copy the data in order not to modify the original one\n",
    "    # clue: use np.copy() \n",
    "    new_data = None\n",
    "    # YOUR CODE HERE\n",
    "    raise NotImplementedError()\n",
    "    \n",
    "    # shuffle new_data\n",
    "    # clue: use np.random.shuffle()\n",
    "    # note: np.random.shuffle() modifies the data inplace!\n",
    "    # YOUR CODE HERE\n",
    "    raise NotImplementedError()\n",
    "    \n",
    "    # get the first k observations from shuffle new_data\n",
    "    C = None\n",
    "    # YOUR CODE HERE\n",
    "    raise NotImplementedError()\n",
    "\n",
    "    return C"
   ]
  },
  {
   "cell_type": "code",
   "execution_count": null,
   "metadata": {
    "deletable": false,
    "editable": false,
    "nbgrader": {
     "checksum": "0b4f6eb85eb576c3a46bb82cf1bf68b8",
     "grade": false,
     "grade_id": "cell-62c3e67d3ac3a191",
     "locked": true,
     "schema_version": 1,
     "solution": false
    }
   },
   "outputs": [],
   "source": [
    "x = np.array([[0,1,0], [1,0,0], [0,0,0], [1,1,1], [1,0,1]])\n",
    "k = 2\n",
    "print(\"Obtained centroids:\")\n",
    "print(initialize_centroids(x, k, seed=0))"
   ]
  },
  {
   "cell_type": "markdown",
   "metadata": {
    "deletable": false,
    "editable": false,
    "nbgrader": {
     "checksum": "8f4b1aa447b62536953e314858bb5ef4",
     "grade": false,
     "grade_id": "cell-d7b3a51dc4a0e19f",
     "locked": true,
     "schema_version": 1,
     "solution": false
    }
   },
   "source": [
    "Expected output:\n",
    "\n",
    "    Obtained centroids:\n",
    "    [[0 0 0]\n",
    "     [0 1 0]]"
   ]
  },
  {
   "cell_type": "code",
   "execution_count": null,
   "metadata": {
    "deletable": false,
    "editable": false,
    "nbgrader": {
     "checksum": "8ae0926c013320a1d0a0fa14fac41a68",
     "grade": true,
     "grade_id": "cell-19060aeba9240ec1",
     "locked": true,
     "points": 2,
     "schema_version": 1,
     "solution": false
    }
   },
   "outputs": [],
   "source": [
    "x = np.array([[0,1,0,1], [1,0,0,0], [0,0,0,1], [0,1,1,0], [1,1,1,0]])\n",
    "k = 2\n",
    "assert np.allclose(initialize_centroids(x, k, seed=10),np.array([[0,0,0,1],[0,1,1,0]]))\n"
   ]
  },
  {
   "cell_type": "markdown",
   "metadata": {
    "deletable": false,
    "editable": false,
    "nbgrader": {
     "checksum": "f2f12d78f1a060374860f8497e12deab",
     "grade": false,
     "grade_id": "cell-6dca2f132e03427c",
     "locked": true,
     "schema_version": 1,
     "solution": false
    }
   },
   "source": [
    "# Exercise 3: Implement the Data Assignment Step\n",
    "\n",
    "In this step, each data point is assigned to its nearest centroid, based on the manhattan distance. More formally, if $c_i$ is the collection of centroids in set $C$, then each data point $x$ is assigned to a cluster based on\n",
    "\n",
    "$$\\underset{c_i \\in C}{\\arg\\min} \\; d_{manhattan}(c_i,x)$$\n",
    "\n",
    "**Complete here:**"
   ]
  },
  {
   "cell_type": "code",
   "execution_count": null,
   "metadata": {
    "deletable": false,
    "nbgrader": {
     "checksum": "56eceeb2a22f5e7ac34d81ea2d2c29a4",
     "grade": false,
     "grade_id": "cell-3ca53e907991339c",
     "locked": false,
     "schema_version": 1,
     "solution": true
    }
   },
   "outputs": [],
   "source": [
    "def assign_data(data, C, labels):\n",
    "    \"\"\" \n",
    "    Implementation of the data assignment step of the K-means algorithm\n",
    "    \n",
    "    Args:\n",
    "        data (np.array): a numpy array containing the data of shape (m,n)\n",
    "            - m: number of observations\n",
    "            - n: number of variables\n",
    "        C (np.array): a numpy array containing the centroid coordinates of shape (k,n)\n",
    "            - k: number of centroids\n",
    "            - n: number of variables\n",
    "        labels (np.array): a numpy array containing the cluster labels assigned to each observation\n",
    "    Returns:\n",
    "        labels (np.array): the updated cluster labels assigned to each observation\n",
    "\n",
    "    \"\"\"\n",
    "    \n",
    "    # implement the first step of the k-means algorithm\n",
    "    for i in range(None):                # iterate through each data observation index i (clue: use len() or .shape[0])\n",
    "        cluster_index = None             # initialize the first cluster index with a zero\n",
    "        min_dist = None                  # initialize the minimum observation distance with a np.inf\n",
    "        for centroid in None:            # iterate through each centroid array C\n",
    "            distance = None              # compute the manhattan distance between the observation i and centroid\n",
    "            if distance < None:          # see if the new distance is smaller than minimum observation distance\n",
    "                min_dist = None          # update the minimum observation distance with the new distance\n",
    "                labels[i] = None         # update the cluster label of observation i with the current cluster index\n",
    "            cluster_index += None        # increment the cluster index\n",
    "    \n",
    "    # YOUR CODE HERE\n",
    "    raise NotImplementedError()\n",
    "    return labels"
   ]
  },
  {
   "cell_type": "code",
   "execution_count": null,
   "metadata": {
    "deletable": false,
    "editable": false,
    "nbgrader": {
     "checksum": "f2e488d35a50c020e4c3a8d726703eed",
     "grade": false,
     "grade_id": "cell-87211e2dbf4f5cbc",
     "locked": true,
     "schema_version": 1,
     "solution": false
    }
   },
   "outputs": [],
   "source": [
    "x = np.array([[0,1,1], [0,0,0], [0,1,0], [1,1,1]])\n",
    "C = np.array([[0,0,0], [1,1,1]])\n",
    "labels = np.array([0,0,0,0])\n",
    "print(\"The following labels were assigned:\")\n",
    "print(assign_data(x, C, labels))"
   ]
  },
  {
   "cell_type": "markdown",
   "metadata": {
    "deletable": false,
    "editable": false,
    "nbgrader": {
     "checksum": "a68e5e819fcdf2bf12ba7d4b564c0a17",
     "grade": false,
     "grade_id": "cell-732831947f255e63",
     "locked": true,
     "schema_version": 1,
     "solution": false
    }
   },
   "source": [
    "Expected output:\n",
    "    \n",
    "    The following labels were assigned:\n",
    "    [1 0 0 1]"
   ]
  },
  {
   "cell_type": "code",
   "execution_count": null,
   "metadata": {
    "deletable": false,
    "editable": false,
    "nbgrader": {
     "checksum": "55a431145d5792b1ff2f2193da7e1195",
     "grade": true,
     "grade_id": "cell-de11d4371fc5885f",
     "locked": true,
     "points": 4,
     "schema_version": 1,
     "solution": false
    }
   },
   "outputs": [],
   "source": [
    "x = np.array([[0,1,1,1], [0,0,1,0], [1,0,1,0], [0,1,1,1]])\n",
    "C = np.array([[0,0,0,1], [1,1,1,0], [0,1,1,0]])\n",
    "labels = np.array([0,0,0,0])\n",
    "assert np.allclose(assign_data(x, C, labels), np.array([2, 2, 1, 2]))\n"
   ]
  },
  {
   "cell_type": "markdown",
   "metadata": {
    "deletable": false,
    "editable": false,
    "nbgrader": {
     "checksum": "1b699924c190c277d331376f7c1d8624",
     "grade": false,
     "grade_id": "cell-54991aaaa090e3c4",
     "locked": true,
     "schema_version": 1,
     "solution": false
    }
   },
   "source": [
    "# Exercise 4: Implement the Centroid Update Step\n",
    "\n",
    "In this step, the centroids are recomputed. This is done by taking the mean of all data points assigned to that centroid's cluster. With the set of data observation assignments for each ith cluster centroid being $S_i$, remember that:\n",
    "\n",
    "$$c_i=\\frac{1}{|S_i|}\\sum_{x_i \\in S_i}x_i$$\n",
    "\n",
    "Remember that when we want to filter a numpy array `data` that matches a specific `label` value, such as $3$, we do the following:\n",
    "\n",
    "\n",
    "```python\n",
    "filtered_data = data[label==3]\n",
    "```\n",
    "\n",
    "Additionally, remember that when obtaining the new centroid coordinates, every feature will be the mean of that specific feature over all observations assigned to the cluster. Thus, we would obtain the new coordinates this way:\n",
    "\n",
    "```python\n",
    "centroid = np.mean(data,axis=0)\n",
    "```\n",
    "\n",
    "We use `axis=0`, because we want the mean of each individual feature.\n",
    "\n",
    "**Complete here:**"
   ]
  },
  {
   "cell_type": "code",
   "execution_count": null,
   "metadata": {
    "deletable": false,
    "nbgrader": {
     "checksum": "4f5005a98ab9219d06d1f006e1884829",
     "grade": false,
     "grade_id": "cell-85a062a5baa85fac",
     "locked": false,
     "schema_version": 1,
     "solution": true
    }
   },
   "outputs": [],
   "source": [
    "def update_centroids(data, C, labels):\n",
    "    \"\"\" \n",
    "    Implementation of the data assignment step of the K-means algorithm\n",
    "    \n",
    "    Args:\n",
    "        data (np.array): a numpy array containing the data of shape (m,n)\n",
    "            - m: number of observations\n",
    "            - n: number of variables\n",
    "        C (np.array): a numpy array containing the centroid coordinates of shape (k,n)\n",
    "            - k: number of centroids\n",
    "            - n: number of variables\n",
    "        labels (np.array): a numpy array containing the cluster labels assigned to each observation\n",
    "    Returns:\n",
    "        C (np.array): the updated centroid coordinates\n",
    "\n",
    "    \"\"\"\n",
    "    # implement the second step of the k-means algorithm\n",
    "    for i in range(None):            # iterate through each centroid index i\n",
    "        assigned_data = None         # use a mask to filter the data observations that have label i\n",
    "        C[i] = None                  # compute the mean of the assigned data's features (clue: use np.mean())\n",
    "    # YOUR CODE HERE\n",
    "    raise NotImplementedError()\n",
    "    return C"
   ]
  },
  {
   "cell_type": "code",
   "execution_count": null,
   "metadata": {
    "deletable": false,
    "editable": false,
    "nbgrader": {
     "checksum": "141233382e55b1c54fb2fc02cbc0bd51",
     "grade": false,
     "grade_id": "cell-12d56514aedc7ebf",
     "locked": true,
     "schema_version": 1,
     "solution": false
    }
   },
   "outputs": [],
   "source": [
    "x = np.array([[0,1,1], [0,0,0], [0,1,0], [1,1,1]])\n",
    "C = np.array([[0,0,0], [1,1,1]])\n",
    "labels = np.array([1,1,1,0])\n",
    "print(\"The following labels were assigned:\")\n",
    "print(update_centroids(x, C, labels))"
   ]
  },
  {
   "cell_type": "markdown",
   "metadata": {
    "deletable": false,
    "editable": false,
    "nbgrader": {
     "checksum": "3b8bbedd8cb0133b50fe3464dc5d8086",
     "grade": false,
     "grade_id": "cell-6002363ea7f4cf2f",
     "locked": true,
     "schema_version": 1,
     "solution": false
    }
   },
   "source": [
    "Expected output:\n",
    "    \n",
    "    The following labels were assigned:\n",
    "    [[1 1 1]\n",
    "     [0 0 0]]"
   ]
  },
  {
   "cell_type": "code",
   "execution_count": null,
   "metadata": {
    "deletable": false,
    "editable": false,
    "nbgrader": {
     "checksum": "d3d3f84db29beb8b678886d5a1f68e23",
     "grade": true,
     "grade_id": "cell-b08dae097a865af9",
     "locked": true,
     "points": 3,
     "schema_version": 1,
     "solution": false
    }
   },
   "outputs": [],
   "source": [
    "x = np.array([[0,1,1,0], [1,0,0,0], [1,0,1,0], [0,1,1,1], [1,0,0,1]])\n",
    "C = np.array([[0,0,1,0], [1,1,0,1]])\n",
    "labels = np.array([0,0,1,0,0])\n",
    "assert np.allclose(update_centroids(x,C,labels), np.array([[0,0,0,0],[1,0,1,0]]))\n"
   ]
  },
  {
   "cell_type": "markdown",
   "metadata": {
    "deletable": false,
    "editable": false,
    "nbgrader": {
     "checksum": "a8ae8708b9977b2cf52dde0720b39916",
     "grade": false,
     "grade_id": "cell-5559e0b771ccc002",
     "locked": true,
     "schema_version": 1,
     "solution": false
    }
   },
   "source": [
    "# Exercise 5: Implementing K-Means\n",
    "\n",
    "Now that you've implemented all of the main K-means functions, you can now easily implement your own K-Means! \n",
    "\n",
    "Remember that when initializing a numpy array of zeros we need to specify its shape inside a tuple. For instance, if we wanted a numpy array of zeros with the same shape as `data`, we would do the following:\n",
    "\n",
    "```python\n",
    "zeros = np.zeros((data.shape[0], data.shape[1]))\n",
    "```\n",
    "\n",
    "where `data.shape[0]` is the number of observations and `data.shape[1]` is the number of features. Notice the inner parenthesis!\n",
    "\n",
    "Let's finish this.\n",
    "\n",
    "**Complete here:**"
   ]
  },
  {
   "cell_type": "code",
   "execution_count": null,
   "metadata": {
    "deletable": false,
    "nbgrader": {
     "checksum": "f7b257ce821f6f12d13096d0c543d780",
     "grade": false,
     "grade_id": "cell-e84f894a587b9a35",
     "locked": false,
     "schema_version": 1,
     "solution": true
    }
   },
   "outputs": [],
   "source": [
    "def KMeans(data, k=3, n_iter=10, seed=0):\n",
    "    \"\"\" \n",
    "    Implementation of the K-Means algorithm\n",
    "    \n",
    "    Args:\n",
    "        data (np.array): a numpy array containing the data of shape (m,n)\n",
    "            - m: number of observations\n",
    "            - n: number of variables\n",
    "        k (np.int64): the number of centroids to use\n",
    "        n_iter (np.int64): the number of iterations to perform K-Means\n",
    "        seed (np.int64): the random seed for result reproducibility\n",
    "\n",
    "    Returns:\n",
    "        labels (np.array): the cluster label of each observation\n",
    "\n",
    "    \"\"\"    \n",
    "    # initialize the centroids and labels\n",
    "    # clue: initialize the labels with np.zeros()\n",
    "    C = None                 # initialize the centroids for the given k and seed (clue: we already implemented this)\n",
    "    labels = None            # initialize the labels with zeros and shape (m,) m: number of observations of data\n",
    "    # YOUR CODE HERE\n",
    "    raise NotImplementedError()\n",
    "    \n",
    "    # the main K-Means loop\n",
    "    for i in range(None):    # iterate n_iter times   \n",
    "        labels = None        # Assign each observation to its closest cluster (step one, we implemented this)\n",
    "        C = None             # Find the new centroids (step two, we also implemented this)\n",
    "    # YOUR CODE HERE\n",
    "    raise NotImplementedError()\n",
    "    \n",
    "    return labels"
   ]
  },
  {
   "cell_type": "code",
   "execution_count": null,
   "metadata": {
    "deletable": false,
    "editable": false,
    "nbgrader": {
     "checksum": "543530846e1d87ded6f948e74dce0777",
     "grade": false,
     "grade_id": "cell-6218d609425329b9",
     "locked": true,
     "schema_version": 1,
     "solution": false
    }
   },
   "outputs": [],
   "source": [
    "x = np.array([[0,1,1,0], [0,0,1,0], [0,1,0,0], [0,1,1,1], [1,1,1,1]])\n",
    "print(\"The clustered labels are the following:\")\n",
    "print(KMeans(x, k=3, seed=3))"
   ]
  },
  {
   "cell_type": "markdown",
   "metadata": {
    "deletable": false,
    "editable": false,
    "nbgrader": {
     "checksum": "61c9602b607af7d28d191a2944f355ec",
     "grade": false,
     "grade_id": "cell-1648c15004e04b34",
     "locked": true,
     "schema_version": 1,
     "solution": false
    }
   },
   "source": [
    "Expected output:\n",
    "    \n",
    "    The clustered labels are the following:\n",
    "    [ 0.  2.  0.  1.  1.]"
   ]
  },
  {
   "cell_type": "code",
   "execution_count": null,
   "metadata": {
    "deletable": false,
    "editable": false,
    "nbgrader": {
     "checksum": "f59c844265cda348c244621fa93fbc3d",
     "grade": true,
     "grade_id": "cell-faa5d6c8590f838c",
     "locked": true,
     "points": 4,
     "schema_version": 1,
     "solution": false
    }
   },
   "outputs": [],
   "source": [
    "x = np.array([[0,1,1,1], [1,0,1,0], [0,0,0,0], [0,1,1,1], [1,0,1,1]])\n",
    "assert np.allclose(KMeans(x, k=2, seed=10), np.array([ 1.,  0.,  0.,  1.,  1.]))\n"
   ]
  },
  {
   "cell_type": "markdown",
   "metadata": {
    "deletable": false,
    "editable": false,
    "nbgrader": {
     "checksum": "34f9ad4afe0588a015c754ce887f9502",
     "grade": false,
     "grade_id": "cell-29e3dd1b1dc4731b",
     "locked": true,
     "schema_version": 1,
     "solution": false
    }
   },
   "source": [
    "# Exercise 6: Exploring with K-Means\n",
    "\n",
    "First, a bit of context regarding the data we will use. \n",
    "\n",
    ">_Bob Ross was a consummate teacher. He guided fans along as he painted “happy trees,” “almighty mountains” and “fluffy clouds” over the course of his 11-year television career on his PBS show, “The Joy of Painting.” In total, Ross painted 381 works on the show, relying on a distinct set of elements, scenes and themes, and thereby providing thousands of data points._\n",
    "\n",
    "The dataset that we will use was gathered for this story https://fivethirtyeight.com/features/a-statistical-analysis-of-the-work-of-bob-ross/\n",
    "\n",
    "The data consists of 403 paintings with 67 binary features telling whether or not a particular element was present in each painting. As all features are binary, that was why we implemented the manhattan distance function. The manhattan distance is is equivalent to the [Hamming Distance](https://en.wikipedia.org/wiki/Hamming_distance) when we only have binary features, which is the most suited distance metric for this dataset.\n",
    "\n",
    "Your task in this exercise is to run your freshly made K-Means algorithm and try to find some interesting findings about his painting style.\n",
    "\n",
    "Let me prepare the data for you!"
   ]
  },
  {
   "cell_type": "code",
   "execution_count": null,
   "metadata": {
    "deletable": false,
    "editable": false,
    "nbgrader": {
     "checksum": "8fe26d8358b676f9ee244fdf29b03d27",
     "grade": false,
     "grade_id": "cell-6be756d874bc8a1b",
     "locked": true,
     "schema_version": 1,
     "solution": false
    }
   },
   "outputs": [],
   "source": [
    "bob_ross = pd.read_csv(\"data/elements-by-episode.csv\").drop(\"EPISODE\",axis=1)\n",
    "TITLES = bob_ross.TITLE.copy()\n",
    "bob_ross = bob_ross.drop(\"TITLE\",axis=1)\n",
    "data = bob_ross.values\n",
    "bob_ross.head()"
   ]
  },
  {
   "cell_type": "markdown",
   "metadata": {
    "deletable": false,
    "editable": false,
    "nbgrader": {
     "checksum": "e9ba6a2425e3efdb091758cb1479e00f",
     "grade": false,
     "grade_id": "cell-aa6d7fe9d9929337",
     "locked": true,
     "schema_version": 1,
     "solution": false
    }
   },
   "source": [
    "Again, remember that when we want to filter a numpy array called `happy_trees` that matches a specific `label` value, such as $3$, we do the following:\n",
    "\n",
    "```python\n",
    "really_happy_trees = happy_trees[label==3]\n",
    "```\n",
    "\n",
    "In this exercise you will be asked to sum the values of each column and sort them in descending order. To do so, imagine that you have a dataframe called fluffy_clouds. Let's to this with two steps. To sum the values of each column we would do the following:\n",
    "\n",
    "```python\n",
    "flattened_clouds = fluffy_clouds.sum()\n",
    "```\n",
    "This would return a `pd.Series` object with the summed feature values. Now, if wanted to sort those values in descending order, we would then do the following:\n",
    "\n",
    "```python\n",
    "staired_clouds = flattened_clouds.sort_values(ascending=False)\n",
    "```\n",
    "Or we could simply do all of this at once:\n",
    "\n",
    "```python\n",
    "staired_clouds = fluffy_clouds.sum().sort_values(ascending=False)\n",
    "```\n",
    "\n",
    "Finally, if we then wanted to know the two features with the highest values, we only had to do the following:\n",
    "\n",
    "```python\n",
    "top2_clouds = staired_clouds.index[:2]\n",
    "```\n",
    "As the features are in the index (because it is now a `pd.Series`), and the values are already sorted. \n",
    "\n",
    "Let's just define the number of clusters k and our random seed before continuing."
   ]
  },
  {
   "cell_type": "code",
   "execution_count": null,
   "metadata": {
    "deletable": false,
    "editable": false,
    "nbgrader": {
     "checksum": "215c470dfbf420517f1d047ac7f0eaf2",
     "grade": false,
     "grade_id": "cell-b78e8e4f67e61315",
     "locked": true,
     "schema_version": 1,
     "solution": false
    }
   },
   "outputs": [],
   "source": [
    "k = 3\n",
    "n_iter = 3\n",
    "seed = 0"
   ]
  },
  {
   "cell_type": "markdown",
   "metadata": {
    "deletable": false,
    "editable": false,
    "nbgrader": {
     "checksum": "9d00ac82d6dad696fdb932693d38be20",
     "grade": false,
     "grade_id": "cell-76d48c614d32c26d",
     "locked": true,
     "schema_version": 1,
     "solution": false
    }
   },
   "source": [
    "This is the last one. Go and get it!\n",
    "\n",
    "**Complete here:**"
   ]
  },
  {
   "cell_type": "code",
   "execution_count": null,
   "metadata": {
    "deletable": false,
    "nbgrader": {
     "checksum": "0ab0487fc50a4718f78c38ce48c08699",
     "grade": false,
     "grade_id": "cell-64ce8f97f71d1c98",
     "locked": false,
     "schema_version": 1,
     "solution": true
    }
   },
   "outputs": [],
   "source": [
    "# apply kmeans with the hyperparameters above and return the clustered labels\n",
    "labels = None\n",
    "# YOUR CODE HERE\n",
    "raise NotImplementedError()\n",
    "\n",
    "# for each label (0 to 2), obtain the filtered bob_ross dataframe with the corresponding labels\n",
    "label_0 = None\n",
    "label_1 = None\n",
    "label_2 = None\n",
    "# YOUR CODE HERE\n",
    "raise NotImplementedError()\n",
    "\n",
    "# for each created label_0 to 2 dataframes, sum the values of each column and sort them in descending order\n",
    "# clue: use .sum() and .sort_values()\n",
    "label_0_counts = None\n",
    "label_1_counts = None\n",
    "label_2_counts = None\n",
    "# YOUR CODE HERE\n",
    "raise NotImplementedError()\n",
    "\n",
    "# for each created label_0-2_counts dataframes, obtain the three most common features (clue: use .index)\n",
    "label_0_common_features = None\n",
    "label_1_common_features = None\n",
    "label_2_common_features = None\n",
    "# YOUR CODE HERE\n",
    "raise NotImplementedError()\n"
   ]
  },
  {
   "cell_type": "code",
   "execution_count": null,
   "metadata": {
    "deletable": false,
    "editable": false,
    "nbgrader": {
     "checksum": "9c2c46222ce19cffa61d0775fa4153b4",
     "grade": false,
     "grade_id": "cell-5295a4ddcfe81b33",
     "locked": true,
     "schema_version": 1,
     "solution": false
    }
   },
   "outputs": [],
   "source": [
    "print('After applying your freshly make KMeans algorithm with k=3, you start analysing your clusters. '\n",
    "      'You see that your first, second and third clusters had %s, %s and %s rows, respectively. '\n",
    "      'You then decide to go through each one. \\n\\nYou see that your first cluster had the highest value count '\n",
    "      'of %s and that the three most common painting features were %s, %s and %s, thus more florest themed.\\n\\n'\n",
    "      'Then you visit the second cluster and see that the highest value count was %s and that the three most '\n",
    "      'common painting features were %s, %s and %s, thus more pure and white themed.\\n\\nFinally, you visit the '\n",
    "      'last cluster and see something strange. You see that the highest value count was %s! You then go take a '\n",
    "      'look at the dataset and confirm that those three clustered rows were completely empty and your K-Means '\n",
    "      'simply clustered them together.'\n",
    "      % (label_0.shape[0], label_1.shape[0], label_2.shape[0], label_0_counts[0], label_0_common_features[0],\n",
    "        label_0_common_features[1],label_0_common_features[2], label_1_counts[0], label_1_common_features[0],\n",
    "        label_1_common_features[1],label_1_common_features[2], label_2_counts[0]))"
   ]
  },
  {
   "cell_type": "markdown",
   "metadata": {
    "collapsed": true,
    "deletable": false,
    "editable": false,
    "nbgrader": {
     "checksum": "c0e8a13c4c1f3e43a0c553458f243e9f",
     "grade": false,
     "grade_id": "cell-5f211e7929ed6703",
     "locked": true,
     "schema_version": 1,
     "solution": false
    }
   },
   "source": [
    "**Test output (don't change code here)**"
   ]
  },
  {
   "cell_type": "code",
   "execution_count": null,
   "metadata": {
    "deletable": false,
    "editable": false,
    "nbgrader": {
     "checksum": "5e34a0ce9c92f97162a70b811152bbdb",
     "grade": true,
     "grade_id": "cell-b6076039b2b42af5",
     "locked": true,
     "points": 0,
     "schema_version": 1,
     "solution": false
    }
   },
   "outputs": [],
   "source": []
  }
 ],
 "metadata": {
  "kernelspec": {
   "display_name": "Python 3",
   "language": "python",
   "name": "python3"
  },
  "language_info": {
   "codemirror_mode": {
    "name": "ipython",
    "version": 3
   },
   "file_extension": ".py",
   "mimetype": "text/x-python",
   "name": "python",
   "nbconvert_exporter": "python",
   "pygments_lexer": "ipython3",
   "version": "3.6.4"
  }
 },
 "nbformat": 4,
 "nbformat_minor": 2
}
