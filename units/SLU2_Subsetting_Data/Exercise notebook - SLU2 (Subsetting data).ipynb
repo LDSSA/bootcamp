{
 "cells": [
  {
   "cell_type": "markdown",
   "metadata": {
    "deletable": false,
    "editable": false,
    "nbgrader": {
     "checksum": "c4d31766c3d03ba5be64fad581dd241e",
     "grade": false,
     "grade_id": "cell-57d3837dc5445a17",
     "locked": true,
     "schema_version": 1,
     "solution": false
    }
   },
   "source": [
    "# SLU2 - Subsetting data: Exercise notebook"
   ]
  },
  {
   "cell_type": "markdown",
   "metadata": {
    "deletable": false,
    "editable": false,
    "nbgrader": {
     "checksum": "3a42db7cec7e31af79e665567b39579a",
     "grade": false,
     "grade_id": "cell-abe59b022aa59952",
     "locked": true,
     "schema_version": 1,
     "solution": false
    }
   },
   "source": [
    "In this notebook you'll practice the following:\n",
    "\n",
    "    - Selecting columns (brackets and dot notation)\n",
    "    - Selecting rows (loc and iloc)\n",
    "    - Chain indexing (not good) vs Multi-axis indexing (good)\n",
    "    - Masks\n",
    "    - Where\n",
    "    - Subsetting on conditions\n",
    "    - Dtypes\n",
    "    - Select Dtypes\n",
    "    - nlargest\n",
    "    - nsmallest"
   ]
  },
  {
   "cell_type": "markdown",
   "metadata": {
    "deletable": false,
    "editable": false,
    "nbgrader": {
     "checksum": "38fa6f7e463f44856173d45cc8ee7f3a",
     "grade": false,
     "grade_id": "cell-0e0b5446748e143e",
     "locked": true,
     "schema_version": 1,
     "solution": false
    }
   },
   "source": [
    "In each exercise, you'll be asked to implement a function.\n",
    "In order to test it before you submit the assignement, add a new cell and call the function to inspect it's output."
   ]
  },
  {
   "cell_type": "code",
   "execution_count": null,
   "metadata": {
    "deletable": false,
    "editable": false,
    "nbgrader": {
     "checksum": "b179fcd117bfce1963906851d0757fe0",
     "grade": false,
     "grade_id": "cell-d44b1bb1ea9a0f99",
     "locked": true,
     "schema_version": 1,
     "solution": false
    }
   },
   "outputs": [],
   "source": [
    "import pandas as pd\n",
    "\n",
    "pd.options.display.max_rows = 10"
   ]
  },
  {
   "cell_type": "code",
   "execution_count": null,
   "metadata": {
    "deletable": false,
    "editable": false,
    "nbgrader": {
     "checksum": "384eefe0be5b84428f5d64fd15885bf1",
     "grade": false,
     "grade_id": "cell-336ccc73ac1bf3fc",
     "locked": true,
     "schema_version": 1,
     "solution": false
    }
   },
   "outputs": [],
   "source": [
    "df = pd.read_csv('data/airbnb_rooms.csv', index_col='room_id').sort_index()\n",
    "df.head()"
   ]
  },
  {
   "cell_type": "markdown",
   "metadata": {
    "deletable": false,
    "editable": false,
    "nbgrader": {
     "checksum": "188595edc516b4cd71cbfcf36aa825c6",
     "grade": false,
     "grade_id": "cell-e6851ea17c147856",
     "locked": true,
     "schema_version": 1,
     "solution": false
    }
   },
   "source": [
    "## Exercise 1\n",
    "\n",
    "__Selecting columns__\n",
    "\n",
    "Select the column _neighborhood_ of the DataFrame."
   ]
  },
  {
   "cell_type": "code",
   "execution_count": null,
   "metadata": {
    "deletable": false,
    "nbgrader": {
     "checksum": "e134a4dd1ebf6fed30df967478382e90",
     "grade": false,
     "grade_id": "cell-4e69ec666dfa6ec5",
     "locked": false,
     "schema_version": 1,
     "solution": true
    }
   },
   "outputs": [],
   "source": [
    "def exercise_1(df):\n",
    "    \"\"\" \n",
    "    Select the column neighborhood of the DataFrame\n",
    "    \n",
    "    Args:\n",
    "        df (pd.DataFrame): the input DataFrame\n",
    "\n",
    "    Returns:\n",
    "        (pd.Series): neighborhood column\n",
    "\n",
    "    \"\"\"\n",
    "    \n",
    "    # return ...\n",
    "    \n",
    "    # YOUR CODE HERE\n",
    "    raise NotImplementedError()\n"
   ]
  },
  {
   "cell_type": "code",
   "execution_count": null,
   "metadata": {
    "deletable": false,
    "editable": false,
    "nbgrader": {
     "checksum": "81a15def2dd988f2e4fab5fe1099770e",
     "grade": true,
     "grade_id": "cell-c81bb4ea7c674970",
     "locked": true,
     "points": 1,
     "schema_version": 1,
     "solution": false
    }
   },
   "outputs": [],
   "source": [
    "# This cell is what will test your code, please ignore it!\n"
   ]
  },
  {
   "cell_type": "markdown",
   "metadata": {
    "deletable": false,
    "editable": false,
    "nbgrader": {
     "checksum": "7ac9494e2f8e7334a78ee8a6c6e00887",
     "grade": false,
     "grade_id": "cell-9f9bba607c54479f",
     "locked": true,
     "schema_version": 1,
     "solution": false
    }
   },
   "source": [
    "## Exercise 2\n",
    "\n",
    "__Selecting columns__\n",
    "\n",
    "Select columns _reviews_ and _price_."
   ]
  },
  {
   "cell_type": "code",
   "execution_count": null,
   "metadata": {
    "deletable": false,
    "nbgrader": {
     "checksum": "41878c92b0fe89627e30eddb07686eac",
     "grade": false,
     "grade_id": "cell-26203223f0d34fc1",
     "locked": false,
     "schema_version": 1,
     "solution": true
    }
   },
   "outputs": [],
   "source": [
    "def exercise_2(df):\n",
    "    \"\"\" \n",
    "    Select columns reviews and price\n",
    "    \n",
    "    Args:\n",
    "        df (pd.DataFrame): the input DataFrame\n",
    "\n",
    "    Returns:\n",
    "        (pd.DataFrame): reviews and price columns\n",
    "\n",
    "    \"\"\"\n",
    "    \n",
    "    # YOUR CODE HERE\n",
    "    raise NotImplementedError()\n"
   ]
  },
  {
   "cell_type": "code",
   "execution_count": null,
   "metadata": {
    "deletable": false,
    "editable": false,
    "nbgrader": {
     "checksum": "b2c34bf0ea1235e1f6d392fb7bb3ac58",
     "grade": true,
     "grade_id": "cell-b21cbeba2fe8bf5e",
     "locked": true,
     "points": 1,
     "schema_version": 1,
     "solution": false
    }
   },
   "outputs": [],
   "source": [
    "# This cell is what will test your code, please ignore it!\n"
   ]
  },
  {
   "cell_type": "markdown",
   "metadata": {
    "deletable": false,
    "editable": false,
    "nbgrader": {
     "checksum": "ff19198ebb3e1b7933a30c095f2996d0",
     "grade": false,
     "grade_id": "cell-420406ef6df69b90",
     "locked": true,
     "schema_version": 1,
     "solution": false
    }
   },
   "source": [
    "## Exercise 3\n",
    "\n",
    "__Selecting rows__\n",
    "\n",
    "Select the 100th, the 201st and the 307th rows."
   ]
  },
  {
   "cell_type": "code",
   "execution_count": null,
   "metadata": {
    "deletable": false,
    "nbgrader": {
     "checksum": "4916b79f7adbe2ce2fcd3299a2b01f6b",
     "grade": false,
     "grade_id": "cell-98f141026c532823",
     "locked": false,
     "schema_version": 1,
     "solution": true
    }
   },
   "outputs": [],
   "source": [
    "def exercise_3(df):\n",
    "    \"\"\" \n",
    "    Select the 100th, the 201st and the 307th rows\n",
    "    \n",
    "    Args:\n",
    "        df (pd.DataFrame): the input DataFrame\n",
    "\n",
    "    Returns:\n",
    "        (pd.DataFrame): subsetted df\n",
    "\n",
    "    \"\"\"\n",
    "    \n",
    "    \n",
    "    # YOUR CODE HERE\n",
    "    raise NotImplementedError()\n"
   ]
  },
  {
   "cell_type": "code",
   "execution_count": null,
   "metadata": {
    "deletable": false,
    "editable": false,
    "nbgrader": {
     "checksum": "e28017b573344c5fbc4d1021943c0699",
     "grade": true,
     "grade_id": "cell-6fd8f54fe0e720de",
     "locked": true,
     "points": 1,
     "schema_version": 1,
     "solution": false
    }
   },
   "outputs": [],
   "source": [
    "# This cell is what will test your code, please ignore it!\n"
   ]
  },
  {
   "cell_type": "markdown",
   "metadata": {
    "deletable": false,
    "editable": false,
    "nbgrader": {
     "checksum": "db3010e26d95a116f163a7c729d96e23",
     "grade": false,
     "grade_id": "cell-e9b784c3f75c77f8",
     "locked": true,
     "schema_version": 1,
     "solution": false
    }
   },
   "source": [
    "## Exercise 4\n",
    "\n",
    "__Selecting rows and columns__\n",
    "\n",
    "Select columns _accommodates_ and _price_ for rooms 11836150 and 16479504."
   ]
  },
  {
   "cell_type": "code",
   "execution_count": null,
   "metadata": {
    "deletable": false,
    "nbgrader": {
     "checksum": "abe72df761640fa191ea210909a4340b",
     "grade": false,
     "grade_id": "cell-e92975b510f2a2bd",
     "locked": false,
     "schema_version": 1,
     "solution": true
    }
   },
   "outputs": [],
   "source": [
    "def exercise_4(df):\n",
    "    \"\"\" \n",
    "    Select columns accommodates and price for rooms 11836150 and 16479504\n",
    "    \n",
    "    Args:\n",
    "        df (pd.DataFrame): the input DataFrame\n",
    "\n",
    "    Returns:\n",
    "        (pd.DataFrame): subsetted df\n",
    "\n",
    "    \"\"\"\n",
    "    \n",
    "    \n",
    "    # YOUR CODE HERE\n",
    "    raise NotImplementedError()\n"
   ]
  },
  {
   "cell_type": "code",
   "execution_count": null,
   "metadata": {
    "deletable": false,
    "editable": false,
    "nbgrader": {
     "checksum": "60bef438f752e37c94b7ebb16a9ef015",
     "grade": true,
     "grade_id": "cell-b519fec27bdb2a2f",
     "locked": true,
     "points": 2,
     "schema_version": 1,
     "solution": false
    }
   },
   "outputs": [],
   "source": [
    "# This cell is what will test your code, please ignore it!"
   ]
  },
  {
   "cell_type": "markdown",
   "metadata": {
    "deletable": false,
    "editable": false,
    "nbgrader": {
     "checksum": "ba9da3dc590cf8ac6f5ced6c5d2f318d",
     "grade": false,
     "grade_id": "cell-7ba67f78d59c84b7",
     "locked": true,
     "schema_version": 1,
     "solution": false
    }
   },
   "source": [
    "## Exercise 5\n",
    "\n",
    "__Using the mask function__\n",
    "\n",
    "Use the mask function to hide all the rooms in Santa Maria Maior."
   ]
  },
  {
   "cell_type": "code",
   "execution_count": null,
   "metadata": {
    "deletable": false,
    "nbgrader": {
     "checksum": "c267732bfcd38fecd347ecce7e2e5115",
     "grade": false,
     "grade_id": "cell-7161fb74fa162050",
     "locked": false,
     "schema_version": 1,
     "solution": true
    }
   },
   "outputs": [],
   "source": [
    "def exercise_5(df):\n",
    "    \"\"\" \n",
    "    Use the mask function to hide all the rooms in Santa Maria Maior\n",
    "    \n",
    "    Args:\n",
    "        df (pd.DataFrame): the input DataFrame\n",
    "\n",
    "    Returns:\n",
    "        (pd.DataFrame): df with hidden (NaN) rows\n",
    "\n",
    "    \"\"\"\n",
    "    \n",
    "    \n",
    "    # YOUR CODE HERE\n",
    "    raise NotImplementedError()\n"
   ]
  },
  {
   "cell_type": "code",
   "execution_count": null,
   "metadata": {
    "deletable": false,
    "editable": false,
    "nbgrader": {
     "checksum": "6bb67a52e6570dd01d03d1b691238dbd",
     "grade": true,
     "grade_id": "cell-cc52abc804869cf9",
     "locked": true,
     "points": 1,
     "schema_version": 1,
     "solution": false
    }
   },
   "outputs": [],
   "source": [
    "# This cell is what will test your code, please ignore it!"
   ]
  },
  {
   "cell_type": "markdown",
   "metadata": {
    "deletable": false,
    "editable": false,
    "nbgrader": {
     "checksum": "6a4726eae871e8b4dd2d2c8b3e47f01a",
     "grade": false,
     "grade_id": "cell-c6115b7850a18828",
     "locked": true,
     "schema_version": 1,
     "solution": false
    }
   },
   "source": [
    "## Exercise 6\n",
    "\n",
    "__Using the where function__\n",
    "\n",
    "Use the where function to hide all the rooms that are not an Entire home/apt."
   ]
  },
  {
   "cell_type": "code",
   "execution_count": null,
   "metadata": {
    "deletable": false,
    "nbgrader": {
     "checksum": "c088ef7d18ad97b988007757e7df11b5",
     "grade": false,
     "grade_id": "cell-f7d915017a7de4ff",
     "locked": false,
     "schema_version": 1,
     "solution": true
    }
   },
   "outputs": [],
   "source": [
    "def exercise_6(df):\n",
    "    \"\"\" \n",
    "    Use the where function to hide all the rooms that are not an Entire home/apt\n",
    "    \n",
    "    Args:\n",
    "        df (pd.DataFrame): the input DataFrame\n",
    "\n",
    "    Returns:\n",
    "        (pd.DataFrame): df with hidden (NaN) rows\n",
    "\n",
    "    \"\"\"\n",
    "    \n",
    "    \n",
    "    # YOUR CODE HERE\n",
    "    raise NotImplementedError()\n"
   ]
  },
  {
   "cell_type": "code",
   "execution_count": null,
   "metadata": {
    "deletable": false,
    "editable": false,
    "nbgrader": {
     "checksum": "18f5c009e976efba26c5c79fa22427bc",
     "grade": true,
     "grade_id": "cell-da2409d4774d62d1",
     "locked": true,
     "points": 1,
     "schema_version": 1,
     "solution": false
    }
   },
   "outputs": [],
   "source": [
    "# This cell is what will test your code, please ignore it!"
   ]
  },
  {
   "cell_type": "markdown",
   "metadata": {
    "deletable": false,
    "editable": false,
    "nbgrader": {
     "checksum": "8cc0716598db940948e932cdf4d3eae1",
     "grade": false,
     "grade_id": "cell-630b8f7408eb0a7d",
     "locked": true,
     "schema_version": 1,
     "solution": false
    }
   },
   "source": [
    "## Exercise 7\n",
    "\n",
    "__Selecting Dtypes__\n",
    "\n",
    "Exclude all the columns that are integers."
   ]
  },
  {
   "cell_type": "code",
   "execution_count": null,
   "metadata": {
    "deletable": false,
    "nbgrader": {
     "checksum": "c7abbfa06b1915314db7fd00b31f095b",
     "grade": false,
     "grade_id": "cell-47480449b449efc1",
     "locked": false,
     "schema_version": 1,
     "solution": true
    }
   },
   "outputs": [],
   "source": [
    "def exercise_7(df):\n",
    "    \"\"\" \n",
    "    Exclude all the columns that are integers\n",
    "    \n",
    "    Args:\n",
    "        df (pd.DataFrame): the input DataFrame\n",
    "\n",
    "    Returns:\n",
    "        (pd.DataFrame): subsetted df without integer columns\n",
    "\n",
    "    \"\"\"\n",
    "    \n",
    "    \n",
    "    # YOUR CODE HERE\n",
    "    raise NotImplementedError()\n"
   ]
  },
  {
   "cell_type": "code",
   "execution_count": null,
   "metadata": {
    "deletable": false,
    "editable": false,
    "nbgrader": {
     "checksum": "16143a3e1b96776fdb0d2a025209499b",
     "grade": true,
     "grade_id": "cell-4004b4704b4ced9a",
     "locked": true,
     "points": 1,
     "schema_version": 1,
     "solution": false
    }
   },
   "outputs": [],
   "source": [
    "# This cell is what will test your code, please ignore it!"
   ]
  },
  {
   "cell_type": "markdown",
   "metadata": {
    "deletable": false,
    "editable": false,
    "nbgrader": {
     "checksum": "c291a2d315181c474e2b9068774e3061",
     "grade": false,
     "grade_id": "cell-1f5f3ba98162a3f1",
     "locked": true,
     "schema_version": 1,
     "solution": false
    }
   },
   "source": [
    "## Exercise 8\n",
    "\n",
    "__Subsetting__\n",
    "\n",
    "Select the row that correpsonds to the most expensive room."
   ]
  },
  {
   "cell_type": "code",
   "execution_count": null,
   "metadata": {
    "deletable": false,
    "nbgrader": {
     "checksum": "2cd955101b03980d6a56ab595498566b",
     "grade": false,
     "grade_id": "cell-f0c56f3d92199dcd",
     "locked": false,
     "schema_version": 1,
     "solution": true
    }
   },
   "outputs": [],
   "source": [
    "def exercise_8(df):\n",
    "    \"\"\" \n",
    "    Select the most expensive room\n",
    "    \n",
    "    Args:\n",
    "        df (pd.DataFrame): the input DataFrame\n",
    "\n",
    "    Returns:\n",
    "        (pd.DataFrame): the most expensive room\n",
    "\n",
    "    \"\"\"\n",
    "    \n",
    "    \n",
    "    # YOUR CODE HERE\n",
    "    raise NotImplementedError()\n"
   ]
  },
  {
   "cell_type": "code",
   "execution_count": null,
   "metadata": {
    "deletable": false,
    "editable": false,
    "nbgrader": {
     "checksum": "4be3bc7947039393676bad51bce0cc92",
     "grade": true,
     "grade_id": "cell-abe969634262ead1",
     "locked": true,
     "points": 1,
     "schema_version": 1,
     "solution": false
    }
   },
   "outputs": [],
   "source": [
    "# This cell is what will test your code, please ignore it!"
   ]
  },
  {
   "cell_type": "markdown",
   "metadata": {
    "deletable": false,
    "editable": false,
    "nbgrader": {
     "checksum": "db1d0facb4f01bf8922b6a88eed17a06",
     "grade": false,
     "grade_id": "cell-a036533f92d98723",
     "locked": true,
     "schema_version": 1,
     "solution": false
    }
   },
   "source": [
    "## Exercise 9\n",
    "\n",
    "__Pick a place for Anna!__\n",
    "\n",
    "Anna is coming to Lisbon for one week with her big familly. They are looking for an apartment with at least 4 rooms. \n",
    "\n",
    "Anna is very picky, so she only accept places with more than 20 reviews and with overall satisfaction over 4.5. When selecting the best places for them, make sure that places with better overall satisfaction are shown at the top, and between places with the same overall satisfaction, those with more reviews are shown first. \n",
    "\n",
    "In the end, show them the top 3 places and only the following information:\n",
    "* neighborhood\n",
    "* reviews\n",
    "* overall_satisfaction\n",
    "* bedrooms\n",
    "* price"
   ]
  },
  {
   "cell_type": "code",
   "execution_count": null,
   "metadata": {
    "deletable": false,
    "nbgrader": {
     "checksum": "1d27a327b84d30463abc41121b9864d0",
     "grade": false,
     "grade_id": "cell-b73a7ab66a53f9d8",
     "locked": false,
     "schema_version": 1,
     "solution": true
    }
   },
   "outputs": [],
   "source": [
    "def exercise_9(df):\n",
    "    \"\"\" \n",
    "    Pick a place for Anna\n",
    "    \n",
    "    Args:\n",
    "        df (pd.DataFrame): the input DataFrame\n",
    "\n",
    "    Returns:\n",
    "        (pd.DataFrame): subsetted df\n",
    "\n",
    "    \"\"\"\n",
    "    \n",
    "    # YOUR CODE HERE\n",
    "    raise NotImplementedError()\n"
   ]
  },
  {
   "cell_type": "code",
   "execution_count": null,
   "metadata": {
    "deletable": false,
    "editable": false,
    "nbgrader": {
     "checksum": "8528be09817bb3fb912bc4ea8e0b2529",
     "grade": true,
     "grade_id": "cell-a85e2b22cdde5583",
     "locked": true,
     "points": 6,
     "schema_version": 1,
     "solution": false
    }
   },
   "outputs": [],
   "source": [
    "# This cell is what will test your code, please ignore it!"
   ]
  },
  {
   "cell_type": "markdown",
   "metadata": {
    "deletable": false,
    "editable": false,
    "nbgrader": {
     "checksum": "2330a8129c525ca4d5fee9afd894328e",
     "grade": false,
     "grade_id": "cell-aa0cea7f54b78a71",
     "locked": true,
     "schema_version": 1,
     "solution": false
    }
   },
   "source": [
    "## Exercise 10\n",
    "\n",
    "__Find a place for James!__\n",
    "\n",
    "James is coming to Lisbon for 3 nights and he really wants to meet new people. He has a 50€ budget to spend with accommodation. So, find him the 10 cheapest shared bedrooms, with overall satisfaction score over 3.5.\n",
    "\n",
    "In the end, present only the price, room_type and overall_satisfaction."
   ]
  },
  {
   "cell_type": "code",
   "execution_count": null,
   "metadata": {
    "deletable": false,
    "nbgrader": {
     "checksum": "b0bf100df8972b4890163ba9146db70b",
     "grade": false,
     "grade_id": "cell-85852f2fce228deb",
     "locked": false,
     "schema_version": 1,
     "solution": true
    }
   },
   "outputs": [],
   "source": [
    "def exercise_10(df):\n",
    "    \"\"\" \n",
    "    Pick a place for James\n",
    "    \n",
    "    Args:\n",
    "        df (pd.DataFrame): the input DataFrame\n",
    "\n",
    "    Returns:\n",
    "        (pd.DataFrame): subsetted df\n",
    "\n",
    "    \"\"\"\n",
    "    \n",
    "    # YOUR CODE HERE\n",
    "    raise NotImplementedError()\n"
   ]
  },
  {
   "cell_type": "code",
   "execution_count": null,
   "metadata": {
    "deletable": false,
    "editable": false,
    "nbgrader": {
     "checksum": "29913006fa1c7fd1f9e99973a00e0d71",
     "grade": true,
     "grade_id": "cell-64bde5af551ba921",
     "locked": true,
     "points": 5,
     "schema_version": 1,
     "solution": false
    }
   },
   "outputs": [],
   "source": [
    "# This cell is what will test your code, please ignore it!"
   ]
  }
 ],
 "metadata": {
  "kernelspec": {
   "display_name": "Python 3",
   "language": "python",
   "name": "python3"
  },
  "language_info": {
   "codemirror_mode": {
    "name": "ipython",
    "version": 3
   },
   "file_extension": ".py",
   "mimetype": "text/x-python",
   "name": "python",
   "nbconvert_exporter": "python",
   "pygments_lexer": "ipython3",
   "version": "3.6.4"
  }
 },
 "nbformat": 4,
 "nbformat_minor": 2
}
