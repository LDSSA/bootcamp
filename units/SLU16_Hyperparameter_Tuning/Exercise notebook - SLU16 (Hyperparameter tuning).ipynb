{
 "cells": [
  {
   "cell_type": "markdown",
   "metadata": {},
   "source": [
    "In this ocasion we are going to use a dataset containing information for Airbnb rooms in Lisbon. The target variable (we want to predict) is the numerical variable `price`. Thus, this is a regression problem."
   ]
  },
  {
   "cell_type": "code",
   "execution_count": null,
   "metadata": {},
   "outputs": [],
   "source": [
    "import pandas as pd\n",
    "import numpy as np\n",
    "np.random.seed()\n",
    "import random\n",
    "random.seed()"
   ]
  },
  {
   "cell_type": "code",
   "execution_count": null,
   "metadata": {},
   "outputs": [],
   "source": [
    "airbnb = pd.read_csv(\"data/airbnb.csv\")"
   ]
  },
  {
   "cell_type": "code",
   "execution_count": null,
   "metadata": {},
   "outputs": [],
   "source": [
    "airbnb.head()"
   ]
  },
  {
   "cell_type": "markdown",
   "metadata": {},
   "source": [
    "We clean the dataset. First we remove the columns we dont need (the host_id and room_id have no predictive power for us in this scenario."
   ]
  },
  {
   "cell_type": "code",
   "execution_count": null,
   "metadata": {},
   "outputs": [],
   "source": [
    "airbnb = airbnb.drop([\"room_id\", \"host_id\"], axis=1)"
   ]
  },
  {
   "cell_type": "markdown",
   "metadata": {},
   "source": [
    "Now we replace null values in numerical columns by the column mean."
   ]
  },
  {
   "cell_type": "code",
   "execution_count": null,
   "metadata": {},
   "outputs": [],
   "source": [
    "numerical_columns = airbnb.select_dtypes([int, float]).columns\n",
    "airbnb = airbnb.replace({col:airbnb[col].mean() for col in numerical_columns})"
   ]
  },
  {
   "cell_type": "markdown",
   "metadata": {},
   "source": [
    "Now we turn the categorical variables (text) into numerical with `get_dummies`."
   ]
  },
  {
   "cell_type": "code",
   "execution_count": null,
   "metadata": {},
   "outputs": [],
   "source": [
    "airbnb = pd.get_dummies(airbnb)"
   ]
  },
  {
   "cell_type": "code",
   "execution_count": null,
   "metadata": {},
   "outputs": [],
   "source": [
    "airbnb.head()"
   ]
  },
  {
   "cell_type": "markdown",
   "metadata": {},
   "source": [
    "### 1.Create a gridsearch with a Decision Tree Regressor using this hyperparameters space:\n",
    "\n",
    "- max_depth: range(2, 10)\n",
    "- max_features: range(3, 10)\n",
    "\n",
    "### Set the scoring function as the MAE (use the scikit-learn scorer)\n",
    "\n",
    "*Note: Name the grid search `\"grid_search\"` (without the quotes) so it can be validated*"
   ]
  },
  {
   "cell_type": "code",
   "execution_count": null,
   "metadata": {
    "deletable": false,
    "nbgrader": {
     "checksum": "27225be9d5491e5cec5445fd60b385bc",
     "grade": false,
     "grade_id": "cell-7db2107d016b5313",
     "locked": false,
     "schema_version": 1,
     "solution": true
    }
   },
   "outputs": [],
   "source": [
    "# YOUR CODE HERE\n",
    "raise NotImplementedError()"
   ]
  },
  {
   "cell_type": "code",
   "execution_count": null,
   "metadata": {
    "deletable": false,
    "editable": false,
    "nbgrader": {
     "checksum": "39c7a32c322f19115365bec81e9088e2",
     "grade": true,
     "grade_id": "cell-f17ae330eedfcd89",
     "locked": true,
     "points": 5,
     "schema_version": 1,
     "solution": false
    }
   },
   "outputs": [],
   "source": [
    "assert grid_search.param_grid[\"max_features\"][1] == 4\n",
    "assert grid_search.param_grid[\"max_depth\"][-1] == 9\n",
    "assert str(grid_search.__class__) == \"<class 'sklearn.model_selection._search.GridSearchCV'>\"\n",
    "assert grid_search.scoring == \"neg_mean_absolute_error\""
   ]
  },
  {
   "cell_type": "markdown",
   "metadata": {},
   "source": [
    "### 2. Adjust it to the data, and save the score for the best model to the variable `grid_search_tree_best_score`"
   ]
  },
  {
   "cell_type": "code",
   "execution_count": null,
   "metadata": {
    "deletable": false,
    "nbgrader": {
     "checksum": "989ac0edd7d3b573f493843242b79a19",
     "grade": false,
     "grade_id": "cell-26e8979bed7b5896",
     "locked": false,
     "schema_version": 1,
     "solution": true
    }
   },
   "outputs": [],
   "source": [
    "# YOUR CODE HERE\n",
    "raise NotImplementedError()"
   ]
  },
  {
   "cell_type": "code",
   "execution_count": null,
   "metadata": {
    "deletable": false,
    "editable": false,
    "nbgrader": {
     "checksum": "6c3fc6c8b1051afc192396a9b1033cbe",
     "grade": true,
     "grade_id": "cell-1b5ba1a7272ba05d",
     "locked": true,
     "points": 5,
     "schema_version": 1,
     "solution": false
    }
   },
   "outputs": [],
   "source": [
    "assert -45< grid_search_tree_best_score<-35"
   ]
  },
  {
   "cell_type": "markdown",
   "metadata": {},
   "source": [
    "### 3. Create a randomsearch with a KNN regressor and a random search distribution with the following hyperparameter distribution. Set the random_state to 42, and the number of iterations to 10. Set the scoring to MAE too:\n",
    "\n",
    "- Number of neighbours between 3 and 20\n",
    "- distante weight `uniform` or `weight`\n",
    "\n",
    "*Note: Name the random search `\"random_search\"` so it can be validated*\n"
   ]
  },
  {
   "cell_type": "code",
   "execution_count": null,
   "metadata": {
    "deletable": false,
    "nbgrader": {
     "checksum": "6b58ee61f5dd1999277c03b3bb47c227",
     "grade": false,
     "grade_id": "cell-277007cae66b40cc",
     "locked": false,
     "schema_version": 1,
     "solution": true
    }
   },
   "outputs": [],
   "source": [
    "# YOUR CODE HERE\n",
    "raise NotImplementedError()"
   ]
  },
  {
   "cell_type": "code",
   "execution_count": null,
   "metadata": {
    "deletable": false,
    "editable": false,
    "nbgrader": {
     "checksum": "8280088a7e30724609fca44bf4cfaee9",
     "grade": true,
     "grade_id": "cell-38229db7eeb31f44",
     "locked": true,
     "points": 5,
     "schema_version": 1,
     "solution": false
    }
   },
   "outputs": [],
   "source": [
    "assert \"uniform\" in random_search.param_distributions[\"weights\"]    \n",
    "assert str(random_search.param_distributions[\"n_neighbors\"].__class__) ==\"<class 'scipy.stats._distn_infrastructure.rv_frozen'>\"\n",
    "assert random_search.random_state == 42\n",
    "assert random_search.n_iter == 10\n",
    "assert str(random_search.estimator.__class__) == \"<class 'sklearn.neighbors.regression.KNeighborsRegressor'>\"\n",
    "assert random_search.scoring == \"neg_mean_absolute_error\""
   ]
  },
  {
   "cell_type": "markdown",
   "metadata": {},
   "source": [
    "### 4. Adjust the KNN random search to the data, and save the score for the best model to the variable `random_search_knn_best_score`, and the best parameters to the variable `random_search_knn_best_params`."
   ]
  },
  {
   "cell_type": "code",
   "execution_count": null,
   "metadata": {
    "deletable": false,
    "nbgrader": {
     "checksum": "238d89aaf01cf7ee1e6646771b7c39d9",
     "grade": false,
     "grade_id": "cell-958ce717623e71c5",
     "locked": false,
     "schema_version": 1,
     "solution": true
    }
   },
   "outputs": [],
   "source": [
    "# YOUR CODE HERE\n",
    "raise NotImplementedError()"
   ]
  },
  {
   "cell_type": "code",
   "execution_count": null,
   "metadata": {
    "deletable": false,
    "editable": false,
    "nbgrader": {
     "checksum": "fe7bfb36db501b6f6744ba7bf8c315bb",
     "grade": true,
     "grade_id": "cell-aed988faddbb1e35",
     "locked": true,
     "points": 5,
     "schema_version": 1,
     "solution": false
    }
   },
   "outputs": [],
   "source": [
    "import math\n",
    "assert math.isclose(random_search_knn_best_score, -45, abs_tol=1.0)"
   ]
  }
 ],
 "metadata": {
  "celltoolbar": "Create Assignment",
  "kernelspec": {
   "display_name": "Python 3",
   "language": "python",
   "name": "python3"
  },
  "language_info": {
   "codemirror_mode": {
    "name": "ipython",
    "version": 3
   },
   "file_extension": ".py",
   "mimetype": "text/x-python",
   "name": "python",
   "nbconvert_exporter": "python",
   "pygments_lexer": "ipython3",
   "version": "3.5.5"
  }
 },
 "nbformat": 4,
 "nbformat_minor": 2
}
