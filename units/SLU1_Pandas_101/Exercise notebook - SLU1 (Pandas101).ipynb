{
 "cells": [
  {
   "cell_type": "markdown",
   "metadata": {
    "deletable": false,
    "editable": false,
    "nbgrader": {
     "checksum": "3c675ff7794109f451edbd6691b851ec",
     "grade": false,
     "grade_id": "cell-46d843154dcd7d0f",
     "locked": true,
     "schema_version": 1,
     "solution": false
    }
   },
   "source": [
    "# SLU1 - Pandas 101: Exercise notebook"
   ]
  },
  {
   "cell_type": "code",
   "execution_count": null,
   "metadata": {},
   "outputs": [],
   "source": [
    "import pandas as pd"
   ]
  },
  {
   "cell_type": "markdown",
   "metadata": {
    "deletable": false,
    "editable": false,
    "nbgrader": {
     "checksum": "124e37792cddc330d7ab11af5c6fdd9b",
     "grade": false,
     "grade_id": "cell-4a34bd8a41530e62",
     "locked": true,
     "schema_version": 1,
     "solution": false
    }
   },
   "source": [
    "In this notebook the following is tested:\n",
    "\n",
    "- Pandas Series\n",
    "- Pandas DataFrames\n",
    "- Adding columns to a dataframe\n",
    "- Printing the columns\n",
    "- Load a dataset\n",
    "- Preview a dataframe\n",
    "- Make use of info, describe and shape"
   ]
  },
  {
   "cell_type": "markdown",
   "metadata": {
    "deletable": false,
    "editable": false,
    "nbgrader": {
     "checksum": "ed1e2948f8b61dcf83909b8cf3e9aa39",
     "grade": false,
     "grade_id": "cell-13b85f82dcf86759",
     "locked": true,
     "schema_version": 1,
     "solution": false
    }
   },
   "source": [
    "## Useful information"
   ]
  },
  {
   "cell_type": "markdown",
   "metadata": {
    "deletable": false,
    "editable": false,
    "nbgrader": {
     "checksum": "4c2281357f5f738d054c384788dc2457",
     "grade": false,
     "grade_id": "cell-e7798beaadda7ece",
     "locked": true,
     "schema_version": 1,
     "solution": false
    }
   },
   "source": [
    "|    Country    | Population |   Capital  | Area (km^2) | Population Density (/km^2) | Main Religion | GDP (B) | Has Sovereign State? |\n",
    "|:-------------:|:----------:|:----------:|:-----------:|:--------------------------:|:-------------:|:-------:|:--------------------:|\n",
    "|    Denmark    |   5724456  | Copenhagen |    43094    |            129.5           |    Lutheran   |  306.7  |          No          |\n",
    "|    Finland    |   5498211  |  Helsinki  |    338145   |            16.2            |    Lutheran   |  236.8  |          No          |\n",
    "|    Iceland    |   335878   |  Reykjavík |    103000   |             3.2            |    Lutheran   |   20.0  |          No          |\n",
    "|     Norway    |   5265158  |    Oslo    |    323802   |            16.1            |    Lutheran   |  370.4  |          No          |\n",
    "|   Greenland   |    56483   |    Nuuk    |   2166086   |            0.028           |    Lutheran   |   2.22  |          Yes         |\n",
    "| Faroe Islands |    49188   |  Tórshavn  |     1393    |            35.5            |    Lutheran   |   2.77  |          Yes         |"
   ]
  },
  {
   "cell_type": "markdown",
   "metadata": {
    "deletable": false,
    "editable": false,
    "nbgrader": {
     "checksum": "ed469a6ecf660e844affca048965aa4d",
     "grade": false,
     "grade_id": "cell-8cb295450c798c5e",
     "locked": true,
     "schema_version": 1,
     "solution": false
    }
   },
   "source": [
    "---"
   ]
  },
  {
   "cell_type": "markdown",
   "metadata": {
    "deletable": false,
    "editable": false,
    "nbgrader": {
     "checksum": "4688f7e4789cb9defdd2812404405c24",
     "grade": false,
     "grade_id": "cell-338b88f7b1299ed2",
     "locked": true,
     "schema_version": 1,
     "solution": false
    }
   },
   "source": [
    "## Exercise 1: Series\n",
    "\n",
    "In this first exercise the goal is to get used to creating series."
   ]
  },
  {
   "cell_type": "markdown",
   "metadata": {
    "deletable": false,
    "editable": false,
    "nbgrader": {
     "checksum": "7aca197f692de4e7cdfdbc3d1176b101",
     "grade": false,
     "grade_id": "cell-546708e14b12ee66",
     "locked": true,
     "schema_version": 1,
     "solution": false
    }
   },
   "source": [
    "#### 1.1) Create a series for the countries"
   ]
  },
  {
   "cell_type": "code",
   "execution_count": null,
   "metadata": {
    "deletable": false,
    "nbgrader": {
     "checksum": "1ed01cbd39a8c784e708c95855970cf6",
     "grade": false,
     "grade_id": "cell-6e62f4a661edbaf0",
     "locked": false,
     "schema_version": 1,
     "solution": true
    }
   },
   "outputs": [],
   "source": [
    "# Create a series with the countries, using the order provided\n",
    "# in \"Useful Information\". Don't forget to delete the raise error\n",
    "\n",
    "# Create a series for the countries\n",
    "# countries = ...\n",
    "\n",
    "# YOUR CODE HERE\n",
    "raise NotImplementedError()"
   ]
  },
  {
   "cell_type": "code",
   "execution_count": null,
   "metadata": {
    "deletable": false,
    "editable": false,
    "nbgrader": {
     "checksum": "b14b9c56f44342f87c006b0cccfec32a",
     "grade": true,
     "grade_id": "cell-e1f0144e6b6e35ff",
     "locked": true,
     "points": 3,
     "schema_version": 1,
     "solution": false
    }
   },
   "outputs": [],
   "source": [
    "countries"
   ]
  },
  {
   "cell_type": "markdown",
   "metadata": {
    "deletable": false,
    "editable": false,
    "nbgrader": {
     "checksum": "72d43e033fd1878ac6f872a54c0545f6",
     "grade": false,
     "grade_id": "cell-6067ad8a05fb3ecb",
     "locked": true,
     "schema_version": 1,
     "solution": false
    }
   },
   "source": [
    "#### 1.2) Create a series for the capitals (using Country as index)"
   ]
  },
  {
   "cell_type": "code",
   "execution_count": null,
   "metadata": {
    "deletable": false,
    "nbgrader": {
     "checksum": "298b3127eb0358c07edd6bff17ea6d2e",
     "grade": false,
     "grade_id": "cell-7c2e90bd431de044",
     "locked": false,
     "schema_version": 1,
     "solution": true
    }
   },
   "outputs": [],
   "source": [
    "# Create a series with the capitals, using the order provided\n",
    "# in \"Useful Information\", with Country as index\n",
    "\n",
    "# Create a series for the capitals\n",
    "# capitals = ...\n",
    "\n",
    "# YOUR CODE HERE\n",
    "raise NotImplementedError()"
   ]
  },
  {
   "cell_type": "code",
   "execution_count": null,
   "metadata": {
    "deletable": false,
    "editable": false,
    "nbgrader": {
     "checksum": "bf96f6d0b76c0645aca6906826cc7184",
     "grade": true,
     "grade_id": "cell-2a4b1b45d511997f",
     "locked": true,
     "points": 2,
     "schema_version": 1,
     "solution": false
    }
   },
   "outputs": [],
   "source": [
    "capitals"
   ]
  },
  {
   "cell_type": "markdown",
   "metadata": {
    "deletable": false,
    "editable": false,
    "nbgrader": {
     "checksum": "8fde95d1345a0dab60f5840fc8bf7b08",
     "grade": false,
     "grade_id": "cell-56d12908a339a588",
     "locked": true,
     "schema_version": 1,
     "solution": false
    }
   },
   "source": [
    "---"
   ]
  },
  {
   "cell_type": "markdown",
   "metadata": {
    "deletable": false,
    "editable": false,
    "nbgrader": {
     "checksum": "c82c0964367e4646e244297404add8d0",
     "grade": false,
     "grade_id": "cell-87852a65f0e6efec",
     "locked": true,
     "schema_version": 1,
     "solution": false
    }
   },
   "source": [
    "## Exercise 2: DataFrames\n",
    "\n",
    "In this exercise the goal is to create a simple DataFrame comprising the information provided in the \"Useful Information\" section."
   ]
  },
  {
   "cell_type": "markdown",
   "metadata": {
    "deletable": false,
    "editable": false,
    "nbgrader": {
     "checksum": "aebebb9b561dad3c7bb6201e256cb6fd",
     "grade": false,
     "grade_id": "cell-527ef2a9563bc605",
     "locked": true,
     "schema_version": 1,
     "solution": false
    }
   },
   "source": [
    "#### 2.1) Create a DataFrame with Country/Capital/Population columns"
   ]
  },
  {
   "cell_type": "code",
   "execution_count": null,
   "metadata": {
    "deletable": false,
    "nbgrader": {
     "checksum": "1df31d0506daa2a42cd3228c0f70a3b1",
     "grade": false,
     "grade_id": "cell-1203e8c99879dd1a",
     "locked": false,
     "schema_version": 1,
     "solution": true
    }
   },
   "outputs": [],
   "source": [
    "# Create a dataframe with columns country/capital/population\n",
    "# columns. \n",
    "# nordic_countries is the final dataframe.\n",
    "\n",
    "# First create lists with the values\n",
    "# countries_list = ...\n",
    "# capitals_list = ...\n",
    "# population_list = ...\n",
    "\n",
    "# Then use them to create Series\n",
    "# countries = ...\n",
    "# capitals = ...\n",
    "# population = ...\n",
    "\n",
    "# Finally create the DataFrame\n",
    "# nordic_countries = ...\n",
    "\n",
    "# YOUR CODE HERE\n",
    "raise NotImplementedError()"
   ]
  },
  {
   "cell_type": "code",
   "execution_count": null,
   "metadata": {
    "deletable": false,
    "editable": false,
    "nbgrader": {
     "checksum": "98d2d7196a0cd3d9bee61b72914352b0",
     "grade": true,
     "grade_id": "cell-59ff17beb4240534",
     "locked": true,
     "points": 3,
     "schema_version": 1,
     "solution": false
    }
   },
   "outputs": [],
   "source": [
    "nordic_countries"
   ]
  },
  {
   "cell_type": "markdown",
   "metadata": {
    "deletable": false,
    "editable": false,
    "nbgrader": {
     "checksum": "1e0e538dea6f09e7cc0b7f3dd17f33af",
     "grade": false,
     "grade_id": "cell-d52d8de1b6c31df5",
     "locked": true,
     "schema_version": 1,
     "solution": false
    }
   },
   "source": [
    "The expected output is a dataframe with columns named \"capital\", \"countries\" and \"population\", indexed from 0 to 5."
   ]
  },
  {
   "cell_type": "markdown",
   "metadata": {
    "deletable": false,
    "editable": false,
    "nbgrader": {
     "checksum": "62e6584ada7fa880686f0c00aecf7357",
     "grade": false,
     "grade_id": "cell-64ecee72dc5a83a1",
     "locked": true,
     "schema_version": 1,
     "solution": false
    }
   },
   "source": [
    "#### 2.2) Create a DataFrame with the Capital/Population columns, but with Countries as row indexes"
   ]
  },
  {
   "cell_type": "code",
   "execution_count": null,
   "metadata": {
    "deletable": false,
    "nbgrader": {
     "checksum": "6a0200b8ba85116364c6242fca5e4dac",
     "grade": false,
     "grade_id": "cell-689992e365127432",
     "locked": false,
     "schema_version": 1,
     "solution": true
    }
   },
   "outputs": [],
   "source": [
    "# Create a dataframe with the columns Capital/Population\n",
    "# columns and with countries as Indexes.\n",
    "# You may use previously created lists\n",
    "# nordic_countries_ind is the final dataframe\n",
    "\n",
    "# Create the indexed Series\n",
    "# capitals_indexed = ...\n",
    "# population_indexed = ...\n",
    "\n",
    "# Create the DataFrame\n",
    "# nodic_countries_ind = ...\n",
    "\n",
    "# YOUR CODE HERE\n",
    "raise NotImplementedError()"
   ]
  },
  {
   "cell_type": "code",
   "execution_count": null,
   "metadata": {
    "deletable": false,
    "editable": false,
    "nbgrader": {
     "checksum": "6e4c3750a6d65f004f0ffce373101c51",
     "grade": true,
     "grade_id": "cell-aa4f3ae216111a48",
     "locked": true,
     "points": 2,
     "schema_version": 1,
     "solution": false
    }
   },
   "outputs": [],
   "source": [
    "nordic_countries_ind"
   ]
  },
  {
   "cell_type": "markdown",
   "metadata": {
    "deletable": false,
    "editable": false,
    "nbgrader": {
     "checksum": "769ed29fcabbdc14dd5ec6fccd7afe9d",
     "grade": false,
     "grade_id": "cell-9ee404bd4284013a",
     "locked": true,
     "schema_version": 1,
     "solution": false
    }
   },
   "source": [
    "The expected output is a dataframe with columns named \"capital\", \"population\", indexed with the correct countries."
   ]
  },
  {
   "cell_type": "markdown",
   "metadata": {
    "deletable": false,
    "editable": false,
    "nbgrader": {
     "checksum": "88531da6c7b9f208a5ac8c3584885324",
     "grade": false,
     "grade_id": "cell-578bc3cd1579d0d6",
     "locked": true,
     "schema_version": 1,
     "solution": false
    }
   },
   "source": [
    "#### 2.3) Going back to the 2.1 DataFrame, add columns with information concerning the GDP and the Main Religion (Do not create a dataframe from scratch)"
   ]
  },
  {
   "cell_type": "code",
   "execution_count": null,
   "metadata": {
    "deletable": false,
    "nbgrader": {
     "checksum": "169c4ca6956053ced75196022836e23e",
     "grade": false,
     "grade_id": "cell-ca9e66b218fd9ae1",
     "locked": false,
     "schema_version": 1,
     "solution": true
    }
   },
   "outputs": [],
   "source": [
    "# Using the dataframe created in 2.1) add columns with the GDP\n",
    "# and main religion information.\n",
    "# nordic_countries remains a dataframe\n",
    "\n",
    "# Write lists with gdp and religion information\n",
    "# gdp_list = ...\n",
    "# religion_list = ...\n",
    "\n",
    "# Write them as Series\n",
    "# gdp = ...\n",
    "# religion = ...\n",
    "\n",
    "# Add them to the dataframe\n",
    "# nordic_countries[\"gdp\"] = ...\n",
    "# nordic_countries[\"mainReligion\"] = ...\n",
    "\n",
    "# YOUR CODE HERE\n",
    "raise NotImplementedError()"
   ]
  },
  {
   "cell_type": "code",
   "execution_count": null,
   "metadata": {
    "deletable": false,
    "editable": false,
    "nbgrader": {
     "checksum": "ec3202513f1888649331a2cf2b0c8554",
     "grade": true,
     "grade_id": "cell-81a422801f205db6",
     "locked": true,
     "points": 2,
     "schema_version": 1,
     "solution": false
    }
   },
   "outputs": [],
   "source": [
    "nordic_countries"
   ]
  },
  {
   "cell_type": "markdown",
   "metadata": {
    "deletable": false,
    "editable": false,
    "nbgrader": {
     "checksum": "4db07f07a85375a5753ec42ee5873995",
     "grade": false,
     "grade_id": "cell-c1cce2bf31b015df",
     "locked": true,
     "schema_version": 1,
     "solution": false
    }
   },
   "source": [
    "The expected output is a dataframe with columns \"capital\", \"countries\", \"population\", \"gdp\" and \"mainReligion\", indexed from 0 to 5."
   ]
  },
  {
   "cell_type": "markdown",
   "metadata": {
    "deletable": false,
    "editable": false,
    "nbgrader": {
     "checksum": "657d126d1cac0afc3c7b090b22a95fef",
     "grade": false,
     "grade_id": "cell-b0d77baee0d016d1",
     "locked": true,
     "schema_version": 1,
     "solution": false
    }
   },
   "source": [
    "---"
   ]
  },
  {
   "cell_type": "markdown",
   "metadata": {
    "deletable": false,
    "editable": false,
    "nbgrader": {
     "checksum": "10f31ec8e9eb983bebe812b235b09463",
     "grade": false,
     "grade_id": "cell-da82179dfe5e2642",
     "locked": true,
     "schema_version": 1,
     "solution": false
    }
   },
   "source": [
    "## Exercise 3: Load the Iris csv data set"
   ]
  },
  {
   "cell_type": "markdown",
   "metadata": {
    "deletable": false,
    "editable": false,
    "nbgrader": {
     "checksum": "19b11c0ac9bc4e0a79cb1f0918811ec2",
     "grade": false,
     "grade_id": "cell-2fde7dcb875ebf32",
     "locked": true,
     "schema_version": 1,
     "solution": false
    }
   },
   "source": [
    "In this exercise you will load the iris data set ([source](https://gist.github.com/curran/a08a1080b88344b0c8a7)), one of the standard data sets for students of this field. You will then preview it and retrieve some information."
   ]
  },
  {
   "cell_type": "markdown",
   "metadata": {
    "deletable": false,
    "editable": false,
    "nbgrader": {
     "checksum": "90abbbf7685ff2356f3fc3b71ef2e877",
     "grade": false,
     "grade_id": "cell-3a53411f868133c2",
     "locked": true,
     "schema_version": 1,
     "solution": false
    }
   },
   "source": [
    "#### 3.1) Load the Iris data set"
   ]
  },
  {
   "cell_type": "code",
   "execution_count": null,
   "metadata": {
    "deletable": false,
    "nbgrader": {
     "checksum": "ff97d8a2ec36d016a619ebd930981b8d",
     "grade": false,
     "grade_id": "cell-2a993c3e52e74d05",
     "locked": false,
     "schema_version": 1,
     "solution": true
    }
   },
   "outputs": [],
   "source": [
    "# Load the Iris data set\n",
    "# iris_df = ...\n",
    "\n",
    "# YOUR CODE HERE\n",
    "raise NotImplementedError()"
   ]
  },
  {
   "cell_type": "code",
   "execution_count": null,
   "metadata": {
    "deletable": false,
    "editable": false,
    "nbgrader": {
     "checksum": "720fe4d83c0b063feb5effb97d0fc314",
     "grade": true,
     "grade_id": "cell-3d25559c7d603e24",
     "locked": true,
     "points": 2,
     "schema_version": 1,
     "solution": false
    }
   },
   "outputs": [],
   "source": [
    "iris_df"
   ]
  },
  {
   "cell_type": "markdown",
   "metadata": {
    "deletable": false,
    "editable": false,
    "nbgrader": {
     "checksum": "286ee535acc18682edf599fac31d22cc",
     "grade": false,
     "grade_id": "cell-581659c2a002638a",
     "locked": true,
     "schema_version": 1,
     "solution": false
    }
   },
   "source": [
    "#### 3.2) Get general information about the dataframe"
   ]
  },
  {
   "cell_type": "code",
   "execution_count": null,
   "metadata": {
    "deletable": false,
    "nbgrader": {
     "checksum": "c06339421eecd1158e5ead7ab223a153",
     "grade": false,
     "grade_id": "cell-4e4fc6fed6166103",
     "locked": false,
     "schema_version": 1,
     "solution": true
    }
   },
   "outputs": [],
   "source": [
    "# Print iris_df info\n",
    "\n",
    "# ...\n",
    "\n",
    "# YOUR CODE HERE\n",
    "raise NotImplementedError()"
   ]
  },
  {
   "cell_type": "markdown",
   "metadata": {
    "deletable": false,
    "editable": false,
    "nbgrader": {
     "checksum": "97213d5cb8fff1b1f1f4fc49b94522da",
     "grade": false,
     "grade_id": "cell-4ef5a36ad2f38399",
     "locked": true,
     "schema_version": 1,
     "solution": false
    }
   },
   "source": [
    "#### 3.3) Preview the top 10 entries"
   ]
  },
  {
   "cell_type": "code",
   "execution_count": null,
   "metadata": {
    "deletable": false,
    "nbgrader": {
     "checksum": "1a7ff7c64e591be67e4063df6e22e2d9",
     "grade": false,
     "grade_id": "cell-061a4e39b26e985f",
     "locked": false,
     "schema_version": 1,
     "solution": true
    }
   },
   "outputs": [],
   "source": [
    "# Print the top 10 entries of iris_df\n",
    "\n",
    "# ...\n",
    "\n",
    "# YOUR CODE HERE\n",
    "raise NotImplementedError()"
   ]
  },
  {
   "cell_type": "markdown",
   "metadata": {
    "deletable": false,
    "editable": false,
    "nbgrader": {
     "checksum": "dcca6fc24784c908eed5260fdf6b73ca",
     "grade": false,
     "grade_id": "cell-c406f12fb9c52cc8",
     "locked": true,
     "schema_version": 1,
     "solution": false
    }
   },
   "source": [
    "#### 3.4) Preview the bottom 10 entries"
   ]
  },
  {
   "cell_type": "code",
   "execution_count": null,
   "metadata": {
    "deletable": false,
    "nbgrader": {
     "checksum": "4353bbfd965bf6ed62340b5f26bc376e",
     "grade": false,
     "grade_id": "cell-98235f4828bd77e5",
     "locked": false,
     "schema_version": 1,
     "solution": true
    }
   },
   "outputs": [],
   "source": [
    "# Print the bottom 10 entries of iris_df\n",
    "\n",
    "# YOUR CODE HERE\n",
    "raise NotImplementedError()"
   ]
  },
  {
   "cell_type": "markdown",
   "metadata": {
    "deletable": false,
    "editable": false,
    "nbgrader": {
     "checksum": "6d1c6346a692d5992477c8410a6ae037",
     "grade": false,
     "grade_id": "cell-52dbcc3ea12df118",
     "locked": true,
     "schema_version": 1,
     "solution": false
    }
   },
   "source": [
    "#### 3.5) Print the number of rows and the number of columns"
   ]
  },
  {
   "cell_type": "code",
   "execution_count": null,
   "metadata": {
    "deletable": false,
    "nbgrader": {
     "checksum": "d994e5e63b2e2ec5cd76057851ac3d9c",
     "grade": false,
     "grade_id": "cell-0c5b18b72aed8fc2",
     "locked": false,
     "schema_version": 1,
     "solution": true
    }
   },
   "outputs": [],
   "source": [
    "# Get the nr_rows and nr_cols from iris_df\n",
    "\n",
    "#nr_rows = ...\n",
    "#nr_cols = ...\n",
    "\n",
    "# YOUR CODE HERE\n",
    "raise NotImplementedError()"
   ]
  },
  {
   "cell_type": "code",
   "execution_count": null,
   "metadata": {
    "deletable": false,
    "editable": false,
    "nbgrader": {
     "checksum": "a250114fb75196a4691c2a47f22c5282",
     "grade": true,
     "grade_id": "cell-c985768142805f1a",
     "locked": true,
     "points": 2,
     "schema_version": 1,
     "solution": false
    }
   },
   "outputs": [],
   "source": [
    "print(\"There are {} rows and {} columns.\".format(nr_rows, nr_cols))"
   ]
  },
  {
   "cell_type": "markdown",
   "metadata": {
    "deletable": false,
    "editable": false,
    "nbgrader": {
     "checksum": "e6fdd0080ee4e980eac1cde69b7eac28",
     "grade": false,
     "grade_id": "cell-dbf32407dea0bc9f",
     "locked": true,
     "schema_version": 1,
     "solution": false
    }
   },
   "source": [
    "#### 3.6) Create a list with the variable (column) names"
   ]
  },
  {
   "cell_type": "code",
   "execution_count": null,
   "metadata": {
    "deletable": false,
    "nbgrader": {
     "checksum": "4d7958cfcb4b21cbd9417f364fde770e",
     "grade": false,
     "grade_id": "cell-5cab778da54f035c",
     "locked": false,
     "schema_version": 1,
     "solution": true
    }
   },
   "outputs": [],
   "source": [
    "# Create a list with the column names\n",
    "\n",
    "# list_of_variables = ...\n",
    "\n",
    "# YOUR CODE HERE\n",
    "raise NotImplementedError()"
   ]
  },
  {
   "cell_type": "code",
   "execution_count": null,
   "metadata": {
    "deletable": false,
    "editable": false,
    "nbgrader": {
     "checksum": "d97a261233c0fd509410024a88998b51",
     "grade": true,
     "grade_id": "cell-c4048ebebd4e4628",
     "locked": true,
     "points": 2,
     "schema_version": 1,
     "solution": false
    }
   },
   "outputs": [],
   "source": [
    "print(list_of_variables)"
   ]
  },
  {
   "cell_type": "markdown",
   "metadata": {
    "deletable": false,
    "editable": false,
    "nbgrader": {
     "checksum": "aa62e0828a9a31f6a03fc00fbf516ac7",
     "grade": false,
     "grade_id": "cell-aacfce484e77b1cb",
     "locked": true,
     "schema_version": 1,
     "solution": false
    }
   },
   "source": [
    "The expected output is a list with \"sepal_length\", \"sepal_width\", \"petal_length\", \"petal_width\" and \"species\"."
   ]
  },
  {
   "cell_type": "markdown",
   "metadata": {
    "deletable": false,
    "editable": false,
    "nbgrader": {
     "checksum": "f891d4d0c696b46167ada16cbff759f3",
     "grade": false,
     "grade_id": "cell-4c407fde66083178",
     "locked": true,
     "schema_version": 1,
     "solution": false
    }
   },
   "source": [
    "#### 3.7) Making use of describe() what is the mean value of the petal length?"
   ]
  },
  {
   "cell_type": "code",
   "execution_count": null,
   "metadata": {
    "deletable": false,
    "nbgrader": {
     "checksum": "ab08dbbc7ab648a725d0606a794be3e9",
     "grade": false,
     "grade_id": "cell-48a24d2e60beee08",
     "locked": false,
     "schema_version": 1,
     "solution": true
    }
   },
   "outputs": [],
   "source": [
    "# Print iris_df describe\n",
    "\n",
    "# ...\n",
    "\n",
    "# YOUR CODE HERE\n",
    "raise NotImplementedError()"
   ]
  },
  {
   "cell_type": "code",
   "execution_count": null,
   "metadata": {
    "deletable": false,
    "nbgrader": {
     "checksum": "d07e962b5cd2d672adfab83f8a7a899f",
     "grade": false,
     "grade_id": "cell-b619728041762ed8",
     "locked": false,
     "schema_version": 1,
     "solution": true
    }
   },
   "outputs": [],
   "source": [
    "# Manually input the petal length mean value\n",
    "# This is just to force the use of the previously obtained information\n",
    "\n",
    "# petal_length_mean = ...\n",
    "\n",
    "# YOUR CODE HERE\n",
    "raise NotImplementedError()"
   ]
  },
  {
   "cell_type": "code",
   "execution_count": null,
   "metadata": {
    "deletable": false,
    "editable": false,
    "nbgrader": {
     "checksum": "00041ccfecc1f639b727cfd7f84207e0",
     "grade": true,
     "grade_id": "cell-91a22885dd4121c5",
     "locked": true,
     "points": 2,
     "schema_version": 1,
     "solution": false
    }
   },
   "outputs": [],
   "source": [
    "print(\"Petal length mean value is {}.\".format(petal_length_mean))"
   ]
  }
 ],
 "metadata": {
  "kernelspec": {
   "display_name": "Python 3",
   "language": "python",
   "name": "python3"
  },
  "language_info": {
   "codemirror_mode": {
    "name": "ipython",
    "version": 3
   },
   "file_extension": ".py",
   "mimetype": "text/x-python",
   "name": "python",
   "nbconvert_exporter": "python",
   "pygments_lexer": "ipython3",
   "version": "3.5.2"
  }
 },
 "nbformat": 4,
 "nbformat_minor": 2
}
