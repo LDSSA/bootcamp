{
 "cells": [
  {
   "cell_type": "markdown",
   "metadata": {},
   "source": [
    "# SLU1 - Pandas 101: Exercise notebook"
   ]
  },
  {
   "cell_type": "code",
   "execution_count": null,
   "metadata": {},
   "outputs": [],
   "source": [
    "import pandas as pd"
   ]
  },
  {
   "cell_type": "markdown",
   "metadata": {},
   "source": [
    "In this notebook the following is tested:\n",
    "\n",
    "- Pandas Series\n",
    "- Pandas DataFrames\n",
    "- Adding columns to a dataframe\n",
    "- Printing the columns\n",
    "- Load a dataset\n",
    "- Preview a dataframe\n",
    "- Make use of info, describe and shape"
   ]
  },
  {
   "cell_type": "markdown",
   "metadata": {},
   "source": [
    "## Useful information"
   ]
  },
  {
   "cell_type": "markdown",
   "metadata": {},
   "source": [
    "|    Country    | Population |   Capital  | Area (km^2) | Population Density (/km^2) | Main Religion | GDP (B) | Has Sovereign State? |\n",
    "|:-------------:|:----------:|:----------:|:-----------:|:--------------------------:|:-------------:|:-------:|:--------------------:|\n",
    "|    Denmark    |   5724456  | Copenhagen |    43094    |            129.5           |    Lutheran   |  306.7  |          No          |\n",
    "|    Finland    |   5498211  |  Helsinki  |    338145   |            16.2            |    Lutheran   |  236.8  |          No          |\n",
    "|    Iceland    |   335878   |  Reykjavík |    103000   |             3.2            |    Lutheran   |   20.0  |          No          |\n",
    "|     Norway    |   5265158  |    Oslo    |    323802   |            16.1            |    Lutheran   |  370.4  |          No          |\n",
    "|   Greenland   |    56483   |    Nuuk    |   2166086   |            0.028           |    Lutheran   |   2.22  |          Yes         |\n",
    "| Faroe Islands |    49188   |  Tórshavn  |     1393    |            35.5            |    Lutheran   |   2.77  |          Yes         |"
   ]
  },
  {
   "cell_type": "markdown",
   "metadata": {},
   "source": [
    "---"
   ]
  },
  {
   "cell_type": "markdown",
   "metadata": {},
   "source": [
    "## Exercise 1: Series\n",
    "\n",
    "In this first exercise the goal is to get used to creating series."
   ]
  },
  {
   "cell_type": "markdown",
   "metadata": {},
   "source": [
    "#### 1.1) Create a series for the countries"
   ]
  },
  {
   "cell_type": "code",
   "execution_count": null,
   "metadata": {},
   "outputs": [],
   "source": [
    "# Create a series with the countries, using the order provided\n",
    "# in \"Useful Information\". Don't forget to delete the raise error\n",
    "\n",
    "# YOUR CODE HERE\n",
    "countries = None\n",
    "raise NotImplementedError()\n",
    "\n",
    "assert isinstance(countries, pd.Series), \"Should be of type pd.Series\"\n",
    "print(countries)"
   ]
  },
  {
   "cell_type": "markdown",
   "metadata": {},
   "source": [
    "#### 1.2) Create a series for the capitals"
   ]
  },
  {
   "cell_type": "code",
   "execution_count": null,
   "metadata": {},
   "outputs": [],
   "source": [
    "# Create a series with the capitals, using the order provided\n",
    "# in \"Useful Information\", using the Country as index\n",
    "\n",
    "# YOUR CODE HERE\n",
    "capitals = None\n",
    "raise NotImplementedError()\n",
    "\n",
    "assert isinstance(capitals, pd.Series), \"Should be of type pd.Series\"\n",
    "print(capitals)"
   ]
  },
  {
   "cell_type": "markdown",
   "metadata": {},
   "source": [
    "---"
   ]
  },
  {
   "cell_type": "markdown",
   "metadata": {},
   "source": [
    "## Exercise 2: DataFrames\n",
    "\n",
    "In this exercise the goal is to create a simple DataFrame comprising the information provided in the \"Useful Information\" section."
   ]
  },
  {
   "cell_type": "markdown",
   "metadata": {},
   "source": [
    "#### 2.1) Create a DataFrame with Country/Capital/Population columns"
   ]
  },
  {
   "cell_type": "code",
   "execution_count": null,
   "metadata": {},
   "outputs": [],
   "source": [
    "# Create a dataframe with the columns Country/Capital/Population\n",
    "# columns. Use the method that you think it's suitable for this task\n",
    "# nordic_countries is the final dataframe.\n",
    "\n",
    "# YOUR CODE HERE\n",
    "nordic_countries = None\n",
    "raise NotImplementedError()\n",
    "\n",
    "assert isinstance(nordic_countries, pd.DataFrame), \"Should be of type pd.DataFrame\"\n",
    "nordic_countries"
   ]
  },
  {
   "cell_type": "markdown",
   "metadata": {},
   "source": [
    "The expected output is a dataframe with columns named \"capital\", \"countries\" and \"population\", indexed from 0 to 5."
   ]
  },
  {
   "cell_type": "markdown",
   "metadata": {},
   "source": [
    "#### 2.2) Create a DataFrame with the Capital/Population columns, but with Countries as row indexes"
   ]
  },
  {
   "cell_type": "code",
   "execution_count": null,
   "metadata": {},
   "outputs": [],
   "source": [
    "# Create a dataframe with the columns Capital/Population\n",
    "# columns and with countries as Indexes. Use the method \n",
    "# of the SLU that you think it's suitable for this task\n",
    "# nordic_countries_ind is the final dataframe\n",
    "\n",
    "# YOUR CODE HERE\n",
    "nordic_countries_ind = None\n",
    "raise NotImplementedError()\n",
    "\n",
    "assert isinstance(nordic_countries_ind, pd.DataFrame), \"Should be of type pd.DataFrame\"\n",
    "nordic_countries_ind"
   ]
  },
  {
   "cell_type": "markdown",
   "metadata": {},
   "source": [
    "The expected output is a dataframe with columns named \"capital\", \"population\", indexed with the correct countries."
   ]
  },
  {
   "cell_type": "markdown",
   "metadata": {},
   "source": [
    "#### 2.3) Going back to the 2.1 DataFrame, add columns with information concerning the GDP and the Main Religion (Do not create a dataframe from scratch)"
   ]
  },
  {
   "cell_type": "code",
   "execution_count": null,
   "metadata": {},
   "outputs": [],
   "source": [
    "# Using the dataframe created in 2.1) add columns with the GDP\n",
    "# and main religion information.\n",
    "# nordic_countries remains a dataframe\n",
    "\n",
    "# YOUR CODE HERE\n",
    "raise NotImplementedError()\n",
    "\n",
    "assert isinstance(nordic_countries, pd.DataFrame), \"Should be of type pd.DataFrame\"\n",
    "nordic_countries"
   ]
  },
  {
   "cell_type": "markdown",
   "metadata": {},
   "source": [
    "The expected output is a dataframe with columns \"capital\", \"countries\", \"population\", \"gdp\" and \"mainReligion\", indexed from 0 to 5."
   ]
  },
  {
   "cell_type": "markdown",
   "metadata": {},
   "source": [
    "---"
   ]
  },
  {
   "cell_type": "markdown",
   "metadata": {},
   "source": [
    "## Exercise 3: Load the Iris csv data set"
   ]
  },
  {
   "cell_type": "markdown",
   "metadata": {},
   "source": [
    "In this exercise you will load the iris data set ([source](https://gist.github.com/curran/a08a1080b88344b0c8a7)), one of the standard data sets for students of this field. You will then preview it and retrieve some information."
   ]
  },
  {
   "cell_type": "markdown",
   "metadata": {},
   "source": [
    "#### 3.1) Load the Iris data set"
   ]
  },
  {
   "cell_type": "code",
   "execution_count": null,
   "metadata": {},
   "outputs": [],
   "source": [
    "# Load the Iris data set\n",
    "\n",
    "# YOUR CODE HERE\n",
    "iris_df = None\n",
    "raise NotImplementedError()"
   ]
  },
  {
   "cell_type": "markdown",
   "metadata": {},
   "source": [
    "#### 3.2) Get general information about the dataframe"
   ]
  },
  {
   "cell_type": "code",
   "execution_count": null,
   "metadata": {},
   "outputs": [],
   "source": [
    "# Print iris_df info\n",
    "\n",
    "# YOUR CODE HERE\n",
    "raise NotImplementedError()"
   ]
  },
  {
   "cell_type": "markdown",
   "metadata": {},
   "source": [
    "#### 3.3) Preview the top 10 entries"
   ]
  },
  {
   "cell_type": "code",
   "execution_count": null,
   "metadata": {},
   "outputs": [],
   "source": [
    "# Print the top 10 entries of iris_df\n",
    "\n",
    "#YOUR CODE HERE\n",
    "raise NotImplementedError()"
   ]
  },
  {
   "cell_type": "markdown",
   "metadata": {},
   "source": [
    "#### 3.4) Preview the bottom 10 entries"
   ]
  },
  {
   "cell_type": "code",
   "execution_count": null,
   "metadata": {},
   "outputs": [],
   "source": [
    "# Print the bottom 10 entries of iris_df\n",
    "\n",
    "# YOUR CODE HERE\n",
    "raise NotImplementedError()"
   ]
  },
  {
   "cell_type": "markdown",
   "metadata": {},
   "source": [
    "#### 3.5) Print the number of rows and the number of columns"
   ]
  },
  {
   "cell_type": "code",
   "execution_count": null,
   "metadata": {},
   "outputs": [],
   "source": [
    "# Get the nr_rows and nr_cols from iris_df\n",
    "\n",
    "# YOUR CODE HERE\n",
    "nr_rows = None\n",
    "nr_cols = None\n",
    "raise NotImplementedError()\n",
    "\n",
    "# Print the answer\n",
    "print(\"There are {} rows and {} columns.\".format(nr_rows, nr_cols))"
   ]
  },
  {
   "cell_type": "markdown",
   "metadata": {},
   "source": [
    "The expected output is 150 rows and 5 columns."
   ]
  },
  {
   "cell_type": "markdown",
   "metadata": {},
   "source": [
    "#### 3.6) Create a list with the variable (column) names"
   ]
  },
  {
   "cell_type": "code",
   "execution_count": null,
   "metadata": {},
   "outputs": [],
   "source": [
    "# Create a list with the column names\n",
    "\n",
    "# YOUR CODE HERE\n",
    "list_of_variables = None\n",
    "raise NotImplementedError()\n",
    "\n",
    "# Print the corresponding list\n",
    "print(list_of_variables)"
   ]
  },
  {
   "cell_type": "markdown",
   "metadata": {},
   "source": [
    "The expected output is a list with \"sepal_length\", \"sepal_width\", \"petal_length\", \"petal_width\" and \"species\"."
   ]
  },
  {
   "cell_type": "markdown",
   "metadata": {},
   "source": [
    "#### 3.7) Making use of describe() what is the mean value of the petal length?"
   ]
  },
  {
   "cell_type": "code",
   "execution_count": null,
   "metadata": {},
   "outputs": [],
   "source": [
    "# Print iris_df describe\n",
    "\n",
    "# YOUR CODE HERE\n",
    "raise NotImplementedError()"
   ]
  },
  {
   "cell_type": "code",
   "execution_count": null,
   "metadata": {},
   "outputs": [],
   "source": [
    "# Manually input the petal length mean value\n",
    "# This is just to force the use of the previously obtained information\n",
    "\n",
    "# YOUR CODE HERE\n",
    "petal_lenth_mean = None\n",
    "raise NotImplementedError()\n",
    "\n",
    "# Print the answer\n",
    "print(\"Petal length mean value is {}.\".format(petal_lenth_mean))"
   ]
  },
  {
   "cell_type": "markdown",
   "metadata": {},
   "source": [
    "The expected value starts with 3.75."
   ]
  },
  {
   "cell_type": "code",
   "execution_count": null,
   "metadata": {},
   "outputs": [],
   "source": []
  }
 ],
 "metadata": {
  "kernelspec": {
   "display_name": "Python 3",
   "language": "python",
   "name": "python3"
  },
  "language_info": {
   "codemirror_mode": {
    "name": "ipython",
    "version": 3
   },
   "file_extension": ".py",
   "mimetype": "text/x-python",
   "name": "python",
   "nbconvert_exporter": "python",
   "pygments_lexer": "ipython3",
   "version": "3.5.2"
  }
 },
 "nbformat": 4,
 "nbformat_minor": 2
}
