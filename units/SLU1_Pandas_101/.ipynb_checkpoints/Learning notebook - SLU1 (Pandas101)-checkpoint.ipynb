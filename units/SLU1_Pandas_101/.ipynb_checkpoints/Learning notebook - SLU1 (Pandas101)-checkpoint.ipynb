{
 "cells": [
  {
   "cell_type": "markdown",
   "metadata": {},
   "source": [
    "# SLU1 - Pandas 101: Learning notebook\n",
    "\n",
    "In this notebook we will be covering the following:\n",
    "\n",
    "- What is Pandas\n",
    "- Series\n",
    "- Dataframes\n",
    "- Previewing a dataframe\n",
    "- Columns\n",
    "- Count\n",
    "- Shape\n",
    "- Reading data from disk\n",
    "- Info\n",
    "- Describe"
   ]
  },
  {
   "cell_type": "markdown",
   "metadata": {},
   "source": [
    "## What is pandas?"
   ]
  },
  {
   "cell_type": "markdown",
   "metadata": {},
   "source": [
    "Using their own words\n",
    "\n",
    "> pandas is an open source, BSD-licensed library providing high-performance, easy-to-use data structures and data analysis tools for the Python programming language.\n",
    "\n",
    "What this means is that pandas is a framework for python that allows us to easily load data into a structure than we can read, print, manipulate and transform in order to extract the most from it.\n",
    "\n",
    "In this notebook the most basic functionalities will be covered."
   ]
  },
  {
   "cell_type": "markdown",
   "metadata": {},
   "source": [
    "### How do I call it?"
   ]
  },
  {
   "cell_type": "code",
   "execution_count": 1,
   "metadata": {},
   "outputs": [],
   "source": [
    "import pandas as pd"
   ]
  },
  {
   "cell_type": "markdown",
   "metadata": {},
   "source": [
    "Notice that we import pandas as \"pd\". This is not required, but it's standard."
   ]
  },
  {
   "cell_type": "markdown",
   "metadata": {},
   "source": [
    "### Pandas Data Structures"
   ]
  },
  {
   "cell_type": "markdown",
   "metadata": {},
   "source": [
    "There are two main data structures on pandas:\n",
    "- **Series** - An array of data of the same type.\n",
    "- **Dataframes**- Tabular structure that may be seen as a container of series (that may have different types)."
   ]
  },
  {
   "cell_type": "markdown",
   "metadata": {},
   "source": [
    "## Series\n",
    "\n",
    "Creating a series in pandas is really easy. We will start by creating a series of numbers and print it to see how it look likes.\n",
    "\n",
    "[Documentation](https://pandas.pydata.org/pandas-docs/stable/generated/pandas.Series.html)"
   ]
  },
  {
   "cell_type": "code",
   "execution_count": 2,
   "metadata": {},
   "outputs": [
    {
     "name": "stdout",
     "output_type": "stream",
     "text": [
      "0    10\n",
      "1     3\n",
      "2     5\n",
      "3     1\n",
      "4    12\n",
      "dtype: int64\n"
     ]
    }
   ],
   "source": [
    "s1 = pd.Series([10, 3, 5, 1, 12])\n",
    "print(s1)"
   ]
  },
  {
   "cell_type": "markdown",
   "metadata": {},
   "source": [
    "We can see that we see the values we have defined as data, with a given index (from 0 to the length of the data minus 1). Notice as well that the series has one and only one type of data, in this case int64."
   ]
  },
  {
   "cell_type": "code",
   "execution_count": 3,
   "metadata": {},
   "outputs": [
    {
     "name": "stdout",
     "output_type": "stream",
     "text": [
      "0       Google\n",
      "1    Microsoft\n",
      "2     Facebook\n",
      "3        Apple\n",
      "dtype: object\n"
     ]
    }
   ],
   "source": [
    "s2 = pd.Series([\"Google\", \"Microsoft\", \"Facebook\", \"Apple\"])\n",
    "print(s2)"
   ]
  },
  {
   "cell_type": "markdown",
   "metadata": {},
   "source": [
    "We can also create series of arrays. Notice that in this case the data type is an _object_. Objects are type of data that can point to different types of data as we may see in the example below."
   ]
  },
  {
   "cell_type": "code",
   "execution_count": 4,
   "metadata": {},
   "outputs": [
    {
     "name": "stdout",
     "output_type": "stream",
     "text": [
      "0    1\n",
      "1    2\n",
      "2    2\n",
      "3    d\n",
      "dtype: object\n"
     ]
    }
   ],
   "source": [
    "s3 = pd.Series([1, 2.0, 2, \"d\"])\n",
    "print(s3)"
   ]
  },
  {
   "cell_type": "code",
   "execution_count": 5,
   "metadata": {},
   "outputs": [
    {
     "name": "stdout",
     "output_type": "stream",
     "text": [
      "<class 'int'>\n",
      "<class 'float'>\n",
      "<class 'str'>\n"
     ]
    }
   ],
   "source": [
    "print(type(s3[0]))\n",
    "print(type(s3[1]))\n",
    "print(type(s3[3]))"
   ]
  },
  {
   "cell_type": "markdown",
   "metadata": {},
   "source": [
    "It is also possible to index the data as we wish."
   ]
  },
  {
   "cell_type": "code",
   "execution_count": 6,
   "metadata": {},
   "outputs": [
    {
     "name": "stdout",
     "output_type": "stream",
     "text": [
      "Google       Larry\n",
      "Microsoft     Bill\n",
      "Facebook      Mark\n",
      "Apple        Steve\n",
      "dtype: object\n"
     ]
    }
   ],
   "source": [
    "s4 = pd.Series(data=[\"Larry\", \"Bill\", \"Mark\", \"Steve\"], \n",
    "               index=[\"Google\", \"Microsoft\", \"Facebook\", \"Apple\"])\n",
    "print(s4)"
   ]
  },
  {
   "cell_type": "markdown",
   "metadata": {},
   "source": [
    "Notice as well that we are able to access the data by its index,"
   ]
  },
  {
   "cell_type": "code",
   "execution_count": 7,
   "metadata": {},
   "outputs": [
    {
     "data": {
      "text/plain": [
       "'Larry'"
      ]
     },
     "execution_count": 7,
     "metadata": {},
     "output_type": "execute_result"
    }
   ],
   "source": [
    "s4[\"Google\"]"
   ]
  },
  {
   "cell_type": "markdown",
   "metadata": {},
   "source": [
    "and also extract arrays with both the data or the indexes,"
   ]
  },
  {
   "cell_type": "code",
   "execution_count": 8,
   "metadata": {},
   "outputs": [
    {
     "data": {
      "text/plain": [
       "array(['Larry', 'Bill', 'Mark', 'Steve'], dtype=object)"
      ]
     },
     "execution_count": 8,
     "metadata": {},
     "output_type": "execute_result"
    }
   ],
   "source": [
    "s4.values"
   ]
  },
  {
   "cell_type": "code",
   "execution_count": 9,
   "metadata": {},
   "outputs": [
    {
     "data": {
      "text/plain": [
       "Index(['Google', 'Microsoft', 'Facebook', 'Apple'], dtype='object')"
      ]
     },
     "execution_count": 9,
     "metadata": {},
     "output_type": "execute_result"
    }
   ],
   "source": [
    "s4.index"
   ]
  },
  {
   "cell_type": "markdown",
   "metadata": {},
   "source": [
    "You may be noticing that this resembles a lot the behaviour of python dictionaries. Let's see how the Series function functions when a dictionary is used as data."
   ]
  },
  {
   "cell_type": "code",
   "execution_count": 10,
   "metadata": {},
   "outputs": [
    {
     "name": "stdout",
     "output_type": "stream",
     "text": [
      "Apple        Steve\n",
      "Facebook      Mark\n",
      "Google       Larry\n",
      "Microsoft     Bill\n",
      "dtype: object\n"
     ]
    }
   ],
   "source": [
    "my_dict = {\"Google\": \"Larry\",\n",
    "           \"Microsoft\": \"Bill\",\n",
    "           \"Facebook\": \"Mark\",\n",
    "           \"Apple\": \"Steve\"}\n",
    "\n",
    "s5 = pd.Series(my_dict)\n",
    "print(s5)"
   ]
  },
  {
   "cell_type": "markdown",
   "metadata": {},
   "source": [
    "The Series function will automatically use the keys of the dictionary as indexes of the series and its correponding data as the data of the series as well. The interesting part of using this is that we now are able to have some functionalities that we usually don't have in dictionaries."
   ]
  },
  {
   "cell_type": "code",
   "execution_count": 11,
   "metadata": {},
   "outputs": [
    {
     "name": "stdout",
     "output_type": "stream",
     "text": [
      "Illegal operation\n"
     ]
    }
   ],
   "source": [
    "try:\n",
    "    my_dict[-1:]\n",
    "    \n",
    "except:\n",
    "    print(\"Illegal operation\")"
   ]
  },
  {
   "cell_type": "code",
   "execution_count": 12,
   "metadata": {},
   "outputs": [
    {
     "data": {
      "text/plain": [
       "Microsoft    Bill\n",
       "dtype: object"
      ]
     },
     "execution_count": 12,
     "metadata": {},
     "output_type": "execute_result"
    }
   ],
   "source": [
    "s5[-1:]"
   ]
  },
  {
   "cell_type": "markdown",
   "metadata": {},
   "source": [
    "#### Key points:\n",
    "\n",
    "- Each series has only one data type (even if it is a more inclusive one, like object).\n",
    "- A list of indexes might be used (it has to have the same dimension).\n",
    "- It is possible to use dictionaries to create series."
   ]
  },
  {
   "cell_type": "markdown",
   "metadata": {},
   "source": [
    "---"
   ]
  },
  {
   "cell_type": "markdown",
   "metadata": {},
   "source": [
    "## DataFrames"
   ]
  },
  {
   "cell_type": "markdown",
   "metadata": {},
   "source": [
    "As mentioned previously, a dataframe is a tabular structure. This will become clear with the following examples.\n",
    "\n",
    "[Documentantion](https://pandas.pydata.org/pandas-docs/stable/generated/pandas.DataFrame.html)"
   ]
  },
  {
   "cell_type": "code",
   "execution_count": 13,
   "metadata": {},
   "outputs": [],
   "source": [
    "df1 = pd.DataFrame([10,122,1])"
   ]
  },
  {
   "cell_type": "code",
   "execution_count": 14,
   "metadata": {},
   "outputs": [
    {
     "data": {
      "text/html": [
       "<div>\n",
       "<style scoped>\n",
       "    .dataframe tbody tr th:only-of-type {\n",
       "        vertical-align: middle;\n",
       "    }\n",
       "\n",
       "    .dataframe tbody tr th {\n",
       "        vertical-align: top;\n",
       "    }\n",
       "\n",
       "    .dataframe thead th {\n",
       "        text-align: right;\n",
       "    }\n",
       "</style>\n",
       "<table border=\"1\" class=\"dataframe\">\n",
       "  <thead>\n",
       "    <tr style=\"text-align: right;\">\n",
       "      <th></th>\n",
       "      <th>0</th>\n",
       "    </tr>\n",
       "  </thead>\n",
       "  <tbody>\n",
       "    <tr>\n",
       "      <th>0</th>\n",
       "      <td>10</td>\n",
       "    </tr>\n",
       "    <tr>\n",
       "      <th>1</th>\n",
       "      <td>122</td>\n",
       "    </tr>\n",
       "    <tr>\n",
       "      <th>2</th>\n",
       "      <td>1</td>\n",
       "    </tr>\n",
       "  </tbody>\n",
       "</table>\n",
       "</div>"
      ],
      "text/plain": [
       "     0\n",
       "0   10\n",
       "1  122\n",
       "2    1"
      ]
     },
     "execution_count": 14,
     "metadata": {},
     "output_type": "execute_result"
    }
   ],
   "source": [
    "df1"
   ]
  },
  {
   "cell_type": "markdown",
   "metadata": {},
   "source": [
    "This first dataframe is a really simple one. We can see that in this case we have columns and indexes. This shows the tabular structure. But the next case will highlight this even further."
   ]
  },
  {
   "cell_type": "code",
   "execution_count": 15,
   "metadata": {},
   "outputs": [],
   "source": [
    "df2 = pd.DataFrame([ [1, 2, 3, 7], [4.2, 6.1, 8.9, -4.1], [\"a\", \"b\", \"c\", \"z\"] ])"
   ]
  },
  {
   "cell_type": "code",
   "execution_count": 16,
   "metadata": {},
   "outputs": [
    {
     "data": {
      "text/html": [
       "<div>\n",
       "<style scoped>\n",
       "    .dataframe tbody tr th:only-of-type {\n",
       "        vertical-align: middle;\n",
       "    }\n",
       "\n",
       "    .dataframe tbody tr th {\n",
       "        vertical-align: top;\n",
       "    }\n",
       "\n",
       "    .dataframe thead th {\n",
       "        text-align: right;\n",
       "    }\n",
       "</style>\n",
       "<table border=\"1\" class=\"dataframe\">\n",
       "  <thead>\n",
       "    <tr style=\"text-align: right;\">\n",
       "      <th></th>\n",
       "      <th>0</th>\n",
       "      <th>1</th>\n",
       "      <th>2</th>\n",
       "      <th>3</th>\n",
       "    </tr>\n",
       "  </thead>\n",
       "  <tbody>\n",
       "    <tr>\n",
       "      <th>0</th>\n",
       "      <td>1</td>\n",
       "      <td>2</td>\n",
       "      <td>3</td>\n",
       "      <td>7</td>\n",
       "    </tr>\n",
       "    <tr>\n",
       "      <th>1</th>\n",
       "      <td>4.2</td>\n",
       "      <td>6.1</td>\n",
       "      <td>8.9</td>\n",
       "      <td>-4.1</td>\n",
       "    </tr>\n",
       "    <tr>\n",
       "      <th>2</th>\n",
       "      <td>a</td>\n",
       "      <td>b</td>\n",
       "      <td>c</td>\n",
       "      <td>z</td>\n",
       "    </tr>\n",
       "  </tbody>\n",
       "</table>\n",
       "</div>"
      ],
      "text/plain": [
       "     0    1    2    3\n",
       "0    1    2    3    7\n",
       "1  4.2  6.1  8.9 -4.1\n",
       "2    a    b    c    z"
      ]
     },
     "execution_count": 16,
     "metadata": {},
     "output_type": "execute_result"
    }
   ],
   "source": [
    "df2"
   ]
  },
  {
   "cell_type": "markdown",
   "metadata": {},
   "source": [
    "Notice that the way this dataframe is being created leads to a row of values for each list of data provided. It is also possible to provide a list of names for each of the columns..."
   ]
  },
  {
   "cell_type": "code",
   "execution_count": 17,
   "metadata": {},
   "outputs": [],
   "source": [
    "df3 = pd.DataFrame([ [1, 2, 3, 7], [4.2, 6.1, 8.9, -4.1], [\"a\", \"b\", \"c\", \"z\"] ],\n",
    "                   columns=[\"col_1\", \"col_2\", \"col_3\", \"col_4\"])"
   ]
  },
  {
   "cell_type": "code",
   "execution_count": 18,
   "metadata": {},
   "outputs": [
    {
     "data": {
      "text/html": [
       "<div>\n",
       "<style scoped>\n",
       "    .dataframe tbody tr th:only-of-type {\n",
       "        vertical-align: middle;\n",
       "    }\n",
       "\n",
       "    .dataframe tbody tr th {\n",
       "        vertical-align: top;\n",
       "    }\n",
       "\n",
       "    .dataframe thead th {\n",
       "        text-align: right;\n",
       "    }\n",
       "</style>\n",
       "<table border=\"1\" class=\"dataframe\">\n",
       "  <thead>\n",
       "    <tr style=\"text-align: right;\">\n",
       "      <th></th>\n",
       "      <th>col_1</th>\n",
       "      <th>col_2</th>\n",
       "      <th>col_3</th>\n",
       "      <th>col_4</th>\n",
       "    </tr>\n",
       "  </thead>\n",
       "  <tbody>\n",
       "    <tr>\n",
       "      <th>0</th>\n",
       "      <td>1</td>\n",
       "      <td>2</td>\n",
       "      <td>3</td>\n",
       "      <td>7</td>\n",
       "    </tr>\n",
       "    <tr>\n",
       "      <th>1</th>\n",
       "      <td>4.2</td>\n",
       "      <td>6.1</td>\n",
       "      <td>8.9</td>\n",
       "      <td>-4.1</td>\n",
       "    </tr>\n",
       "    <tr>\n",
       "      <th>2</th>\n",
       "      <td>a</td>\n",
       "      <td>b</td>\n",
       "      <td>c</td>\n",
       "      <td>z</td>\n",
       "    </tr>\n",
       "  </tbody>\n",
       "</table>\n",
       "</div>"
      ],
      "text/plain": [
       "  col_1 col_2 col_3 col_4\n",
       "0     1     2     3     7\n",
       "1   4.2   6.1   8.9  -4.1\n",
       "2     a     b     c     z"
      ]
     },
     "execution_count": 18,
     "metadata": {},
     "output_type": "execute_result"
    }
   ],
   "source": [
    "df3"
   ]
  },
  {
   "cell_type": "markdown",
   "metadata": {},
   "source": [
    "as well for each of the rows."
   ]
  },
  {
   "cell_type": "code",
   "execution_count": 19,
   "metadata": {},
   "outputs": [],
   "source": [
    "df4 = pd.DataFrame([ [1, 2, 3, 7], [4.2, 6.1, 8.9, -4.1], [\"a\", \"b\", \"c\", \"z\"] ],\n",
    "                   columns=[\"col_1\", \"col_2\", \"col_3\", \"col_4\"],\n",
    "                   index=[\"row_1\", \"row_2\", \"row_3\"])"
   ]
  },
  {
   "cell_type": "code",
   "execution_count": 20,
   "metadata": {},
   "outputs": [
    {
     "data": {
      "text/html": [
       "<div>\n",
       "<style scoped>\n",
       "    .dataframe tbody tr th:only-of-type {\n",
       "        vertical-align: middle;\n",
       "    }\n",
       "\n",
       "    .dataframe tbody tr th {\n",
       "        vertical-align: top;\n",
       "    }\n",
       "\n",
       "    .dataframe thead th {\n",
       "        text-align: right;\n",
       "    }\n",
       "</style>\n",
       "<table border=\"1\" class=\"dataframe\">\n",
       "  <thead>\n",
       "    <tr style=\"text-align: right;\">\n",
       "      <th></th>\n",
       "      <th>col_1</th>\n",
       "      <th>col_2</th>\n",
       "      <th>col_3</th>\n",
       "      <th>col_4</th>\n",
       "    </tr>\n",
       "  </thead>\n",
       "  <tbody>\n",
       "    <tr>\n",
       "      <th>row_1</th>\n",
       "      <td>1</td>\n",
       "      <td>2</td>\n",
       "      <td>3</td>\n",
       "      <td>7</td>\n",
       "    </tr>\n",
       "    <tr>\n",
       "      <th>row_2</th>\n",
       "      <td>4.2</td>\n",
       "      <td>6.1</td>\n",
       "      <td>8.9</td>\n",
       "      <td>-4.1</td>\n",
       "    </tr>\n",
       "    <tr>\n",
       "      <th>row_3</th>\n",
       "      <td>a</td>\n",
       "      <td>b</td>\n",
       "      <td>c</td>\n",
       "      <td>z</td>\n",
       "    </tr>\n",
       "  </tbody>\n",
       "</table>\n",
       "</div>"
      ],
      "text/plain": [
       "      col_1 col_2 col_3 col_4\n",
       "row_1     1     2     3     7\n",
       "row_2   4.2   6.1   8.9  -4.1\n",
       "row_3     a     b     c     z"
      ]
     },
     "execution_count": 20,
     "metadata": {},
     "output_type": "execute_result"
    }
   ],
   "source": [
    "df4"
   ]
  },
  {
   "cell_type": "markdown",
   "metadata": {},
   "source": [
    "Let's now explore the creation of dataframes from dictionaries and series as well."
   ]
  },
  {
   "cell_type": "code",
   "execution_count": 21,
   "metadata": {},
   "outputs": [],
   "source": [
    "company = [\"Google\", \"Microsoft\", \"Facebook\", \"Apple\"]\n",
    "founder_name = [\"Larry\", \"Bill\", \"Mark\", \"Steve\"]\n",
    "founder_surname = [\"Page\", \"Gates\", \"Zuckerberg\", \"Jobs\"]\n",
    "\n",
    "df5 = pd.DataFrame( [ company, founder_name, founder_surname])"
   ]
  },
  {
   "cell_type": "code",
   "execution_count": 22,
   "metadata": {},
   "outputs": [
    {
     "data": {
      "text/html": [
       "<div>\n",
       "<style scoped>\n",
       "    .dataframe tbody tr th:only-of-type {\n",
       "        vertical-align: middle;\n",
       "    }\n",
       "\n",
       "    .dataframe tbody tr th {\n",
       "        vertical-align: top;\n",
       "    }\n",
       "\n",
       "    .dataframe thead th {\n",
       "        text-align: right;\n",
       "    }\n",
       "</style>\n",
       "<table border=\"1\" class=\"dataframe\">\n",
       "  <thead>\n",
       "    <tr style=\"text-align: right;\">\n",
       "      <th></th>\n",
       "      <th>0</th>\n",
       "      <th>1</th>\n",
       "      <th>2</th>\n",
       "      <th>3</th>\n",
       "    </tr>\n",
       "  </thead>\n",
       "  <tbody>\n",
       "    <tr>\n",
       "      <th>0</th>\n",
       "      <td>Google</td>\n",
       "      <td>Microsoft</td>\n",
       "      <td>Facebook</td>\n",
       "      <td>Apple</td>\n",
       "    </tr>\n",
       "    <tr>\n",
       "      <th>1</th>\n",
       "      <td>Larry</td>\n",
       "      <td>Bill</td>\n",
       "      <td>Mark</td>\n",
       "      <td>Steve</td>\n",
       "    </tr>\n",
       "    <tr>\n",
       "      <th>2</th>\n",
       "      <td>Page</td>\n",
       "      <td>Gates</td>\n",
       "      <td>Zuckerberg</td>\n",
       "      <td>Jobs</td>\n",
       "    </tr>\n",
       "  </tbody>\n",
       "</table>\n",
       "</div>"
      ],
      "text/plain": [
       "        0          1           2      3\n",
       "0  Google  Microsoft    Facebook  Apple\n",
       "1   Larry       Bill        Mark  Steve\n",
       "2    Page      Gates  Zuckerberg   Jobs"
      ]
     },
     "execution_count": 22,
     "metadata": {},
     "output_type": "execute_result"
    }
   ],
   "source": [
    "df5"
   ]
  },
  {
   "cell_type": "markdown",
   "metadata": {},
   "source": [
    "This is the behaviour that we have noticed in the previous examples."
   ]
  },
  {
   "cell_type": "code",
   "execution_count": 23,
   "metadata": {},
   "outputs": [],
   "source": [
    "df6 = pd.DataFrame({'company': company,\n",
    "                    'founder_name': founder_name,\n",
    "                    'founder_surname': founder_surname})"
   ]
  },
  {
   "cell_type": "code",
   "execution_count": 24,
   "metadata": {},
   "outputs": [
    {
     "data": {
      "text/html": [
       "<div>\n",
       "<style scoped>\n",
       "    .dataframe tbody tr th:only-of-type {\n",
       "        vertical-align: middle;\n",
       "    }\n",
       "\n",
       "    .dataframe tbody tr th {\n",
       "        vertical-align: top;\n",
       "    }\n",
       "\n",
       "    .dataframe thead th {\n",
       "        text-align: right;\n",
       "    }\n",
       "</style>\n",
       "<table border=\"1\" class=\"dataframe\">\n",
       "  <thead>\n",
       "    <tr style=\"text-align: right;\">\n",
       "      <th></th>\n",
       "      <th>company</th>\n",
       "      <th>founder_name</th>\n",
       "      <th>founder_surname</th>\n",
       "    </tr>\n",
       "  </thead>\n",
       "  <tbody>\n",
       "    <tr>\n",
       "      <th>0</th>\n",
       "      <td>Google</td>\n",
       "      <td>Larry</td>\n",
       "      <td>Page</td>\n",
       "    </tr>\n",
       "    <tr>\n",
       "      <th>1</th>\n",
       "      <td>Microsoft</td>\n",
       "      <td>Bill</td>\n",
       "      <td>Gates</td>\n",
       "    </tr>\n",
       "    <tr>\n",
       "      <th>2</th>\n",
       "      <td>Facebook</td>\n",
       "      <td>Mark</td>\n",
       "      <td>Zuckerberg</td>\n",
       "    </tr>\n",
       "    <tr>\n",
       "      <th>3</th>\n",
       "      <td>Apple</td>\n",
       "      <td>Steve</td>\n",
       "      <td>Jobs</td>\n",
       "    </tr>\n",
       "  </tbody>\n",
       "</table>\n",
       "</div>"
      ],
      "text/plain": [
       "     company founder_name founder_surname\n",
       "0     Google        Larry            Page\n",
       "1  Microsoft         Bill           Gates\n",
       "2   Facebook         Mark      Zuckerberg\n",
       "3      Apple        Steve            Jobs"
      ]
     },
     "execution_count": 24,
     "metadata": {},
     "output_type": "execute_result"
    }
   ],
   "source": [
    "df6"
   ]
  },
  {
   "cell_type": "markdown",
   "metadata": {},
   "source": [
    "By passing a dictionary as input to the creation of the dataframe, the dataframe is now able to use the key of the dictionary as the name of the column and present the data along a column, instead of along a row. This is becoming closer to how information is usually presented."
   ]
  },
  {
   "cell_type": "code",
   "execution_count": 25,
   "metadata": {},
   "outputs": [
    {
     "data": {
      "text/html": [
       "<div>\n",
       "<style scoped>\n",
       "    .dataframe tbody tr th:only-of-type {\n",
       "        vertical-align: middle;\n",
       "    }\n",
       "\n",
       "    .dataframe tbody tr th {\n",
       "        vertical-align: top;\n",
       "    }\n",
       "\n",
       "    .dataframe thead th {\n",
       "        text-align: right;\n",
       "    }\n",
       "</style>\n",
       "<table border=\"1\" class=\"dataframe\">\n",
       "  <thead>\n",
       "    <tr style=\"text-align: right;\">\n",
       "      <th></th>\n",
       "      <th>founder_name</th>\n",
       "      <th>founder_surname</th>\n",
       "    </tr>\n",
       "  </thead>\n",
       "  <tbody>\n",
       "    <tr>\n",
       "      <th>Google</th>\n",
       "      <td>Larry</td>\n",
       "      <td>Page</td>\n",
       "    </tr>\n",
       "    <tr>\n",
       "      <th>Microsoft</th>\n",
       "      <td>Bill</td>\n",
       "      <td>Gates</td>\n",
       "    </tr>\n",
       "    <tr>\n",
       "      <th>Facebook</th>\n",
       "      <td>Mark</td>\n",
       "      <td>Zuckerberg</td>\n",
       "    </tr>\n",
       "    <tr>\n",
       "      <th>Apple</th>\n",
       "      <td>Steve</td>\n",
       "      <td>Jobs</td>\n",
       "    </tr>\n",
       "  </tbody>\n",
       "</table>\n",
       "</div>"
      ],
      "text/plain": [
       "          founder_name founder_surname\n",
       "Google           Larry            Page\n",
       "Microsoft         Bill           Gates\n",
       "Facebook          Mark      Zuckerberg\n",
       "Apple            Steve            Jobs"
      ]
     },
     "execution_count": 25,
     "metadata": {},
     "output_type": "execute_result"
    }
   ],
   "source": [
    "series_names = pd.Series(data=founder_name, index=company)\n",
    "series_surnames = pd.Series(data=founder_surname, index=company)\n",
    "\n",
    "df7 = pd.DataFrame({'founder_name': series_names,\n",
    "                    'founder_surname': series_surnames})\n",
    "\n",
    "df7"
   ]
  },
  {
   "cell_type": "markdown",
   "metadata": {},
   "source": [
    "By passing series (in this case sharing the index) as values of a dictionary, the model is able to use the key value as column name and the index as the row name. The column and index(row) are also acessible, as will be shown below."
   ]
  },
  {
   "cell_type": "markdown",
   "metadata": {},
   "source": [
    "#### Creating a DataFrame to use for the next topics"
   ]
  },
  {
   "cell_type": "code",
   "execution_count": 26,
   "metadata": {},
   "outputs": [],
   "source": [
    "company = [\"Google\", \"Microsoft\", \"Facebook\", \"Apple\", \"Oracle\", \"Netflix\"]\n",
    "founder_name = [\"Larry\", \"Bill\", \"Mark\", \"Steve\", \"Larry\", \"Reed\"]\n",
    "founder_surname = [\"Page\", \"Gates\", \"Zuckerberg\", \"Jobs\", \"Ellison\", \"Hastings\"]\n",
    "year_found = [1998, 1975, 2004, 1976, 1977, 1997]\n",
    "\n",
    "series_company = pd.Series(data=company)\n",
    "series_names = pd.Series(data=founder_name)\n",
    "series_surnames = pd.Series(data=founder_surname)\n",
    "series_year_found = pd.Series(data=year_found)"
   ]
  },
  {
   "cell_type": "code",
   "execution_count": 27,
   "metadata": {},
   "outputs": [
    {
     "data": {
      "text/html": [
       "<div>\n",
       "<style scoped>\n",
       "    .dataframe tbody tr th:only-of-type {\n",
       "        vertical-align: middle;\n",
       "    }\n",
       "\n",
       "    .dataframe tbody tr th {\n",
       "        vertical-align: top;\n",
       "    }\n",
       "\n",
       "    .dataframe thead th {\n",
       "        text-align: right;\n",
       "    }\n",
       "</style>\n",
       "<table border=\"1\" class=\"dataframe\">\n",
       "  <thead>\n",
       "    <tr style=\"text-align: right;\">\n",
       "      <th></th>\n",
       "      <th>company</th>\n",
       "      <th>founder_name</th>\n",
       "      <th>founder_surname</th>\n",
       "      <th>year_founded</th>\n",
       "    </tr>\n",
       "  </thead>\n",
       "  <tbody>\n",
       "    <tr>\n",
       "      <th>0</th>\n",
       "      <td>Google</td>\n",
       "      <td>Larry</td>\n",
       "      <td>Page</td>\n",
       "      <td>1998</td>\n",
       "    </tr>\n",
       "    <tr>\n",
       "      <th>1</th>\n",
       "      <td>Microsoft</td>\n",
       "      <td>Bill</td>\n",
       "      <td>Gates</td>\n",
       "      <td>1975</td>\n",
       "    </tr>\n",
       "    <tr>\n",
       "      <th>2</th>\n",
       "      <td>Facebook</td>\n",
       "      <td>Mark</td>\n",
       "      <td>Zuckerberg</td>\n",
       "      <td>2004</td>\n",
       "    </tr>\n",
       "    <tr>\n",
       "      <th>3</th>\n",
       "      <td>Apple</td>\n",
       "      <td>Steve</td>\n",
       "      <td>Jobs</td>\n",
       "      <td>1976</td>\n",
       "    </tr>\n",
       "    <tr>\n",
       "      <th>4</th>\n",
       "      <td>Oracle</td>\n",
       "      <td>Larry</td>\n",
       "      <td>Ellison</td>\n",
       "      <td>1977</td>\n",
       "    </tr>\n",
       "    <tr>\n",
       "      <th>5</th>\n",
       "      <td>Netflix</td>\n",
       "      <td>Reed</td>\n",
       "      <td>Hastings</td>\n",
       "      <td>1997</td>\n",
       "    </tr>\n",
       "  </tbody>\n",
       "</table>\n",
       "</div>"
      ],
      "text/plain": [
       "     company founder_name founder_surname  year_founded\n",
       "0     Google        Larry            Page          1998\n",
       "1  Microsoft         Bill           Gates          1975\n",
       "2   Facebook         Mark      Zuckerberg          2004\n",
       "3      Apple        Steve            Jobs          1976\n",
       "4     Oracle        Larry         Ellison          1977\n",
       "5    Netflix         Reed        Hastings          1997"
      ]
     },
     "execution_count": 27,
     "metadata": {},
     "output_type": "execute_result"
    }
   ],
   "source": [
    "df = pd.DataFrame({'company': series_company,\n",
    "                   'founder_name': series_names,\n",
    "                   'founder_surname': series_surnames,\n",
    "                   'year_founded': series_year_found})\n",
    "\n",
    "df"
   ]
  },
  {
   "cell_type": "markdown",
   "metadata": {},
   "source": [
    "If it is necessary to add new columns to the dataframe it is not necessary to repeat this steps."
   ]
  },
  {
   "cell_type": "code",
   "execution_count": 28,
   "metadata": {},
   "outputs": [],
   "source": [
    "df[\"location\"] = [\"Mountain View\", \"Albuquerque\", \"Menlo Park\", \"Cupertino\", \"Santa Clara\", \"Scotts Valley\"]\n",
    "df[\"state\"] = [\"California\", \"New Mexico\", \"California\", \"California\", \"California\", \"California\"]\n",
    "df[\"number_employees\"] = [73992, 124000, 20658, 123000, 138000, 5400]"
   ]
  },
  {
   "cell_type": "code",
   "execution_count": 29,
   "metadata": {},
   "outputs": [
    {
     "data": {
      "text/html": [
       "<div>\n",
       "<style scoped>\n",
       "    .dataframe tbody tr th:only-of-type {\n",
       "        vertical-align: middle;\n",
       "    }\n",
       "\n",
       "    .dataframe tbody tr th {\n",
       "        vertical-align: top;\n",
       "    }\n",
       "\n",
       "    .dataframe thead th {\n",
       "        text-align: right;\n",
       "    }\n",
       "</style>\n",
       "<table border=\"1\" class=\"dataframe\">\n",
       "  <thead>\n",
       "    <tr style=\"text-align: right;\">\n",
       "      <th></th>\n",
       "      <th>company</th>\n",
       "      <th>founder_name</th>\n",
       "      <th>founder_surname</th>\n",
       "      <th>year_founded</th>\n",
       "      <th>location</th>\n",
       "      <th>state</th>\n",
       "      <th>number_employees</th>\n",
       "    </tr>\n",
       "  </thead>\n",
       "  <tbody>\n",
       "    <tr>\n",
       "      <th>0</th>\n",
       "      <td>Google</td>\n",
       "      <td>Larry</td>\n",
       "      <td>Page</td>\n",
       "      <td>1998</td>\n",
       "      <td>Mountain View</td>\n",
       "      <td>California</td>\n",
       "      <td>73992</td>\n",
       "    </tr>\n",
       "    <tr>\n",
       "      <th>1</th>\n",
       "      <td>Microsoft</td>\n",
       "      <td>Bill</td>\n",
       "      <td>Gates</td>\n",
       "      <td>1975</td>\n",
       "      <td>Albuquerque</td>\n",
       "      <td>New Mexico</td>\n",
       "      <td>124000</td>\n",
       "    </tr>\n",
       "    <tr>\n",
       "      <th>2</th>\n",
       "      <td>Facebook</td>\n",
       "      <td>Mark</td>\n",
       "      <td>Zuckerberg</td>\n",
       "      <td>2004</td>\n",
       "      <td>Menlo Park</td>\n",
       "      <td>California</td>\n",
       "      <td>20658</td>\n",
       "    </tr>\n",
       "    <tr>\n",
       "      <th>3</th>\n",
       "      <td>Apple</td>\n",
       "      <td>Steve</td>\n",
       "      <td>Jobs</td>\n",
       "      <td>1976</td>\n",
       "      <td>Cupertino</td>\n",
       "      <td>California</td>\n",
       "      <td>123000</td>\n",
       "    </tr>\n",
       "    <tr>\n",
       "      <th>4</th>\n",
       "      <td>Oracle</td>\n",
       "      <td>Larry</td>\n",
       "      <td>Ellison</td>\n",
       "      <td>1977</td>\n",
       "      <td>Santa Clara</td>\n",
       "      <td>California</td>\n",
       "      <td>138000</td>\n",
       "    </tr>\n",
       "    <tr>\n",
       "      <th>5</th>\n",
       "      <td>Netflix</td>\n",
       "      <td>Reed</td>\n",
       "      <td>Hastings</td>\n",
       "      <td>1997</td>\n",
       "      <td>Scotts Valley</td>\n",
       "      <td>California</td>\n",
       "      <td>5400</td>\n",
       "    </tr>\n",
       "  </tbody>\n",
       "</table>\n",
       "</div>"
      ],
      "text/plain": [
       "     company founder_name founder_surname  year_founded       location  \\\n",
       "0     Google        Larry            Page          1998  Mountain View   \n",
       "1  Microsoft         Bill           Gates          1975    Albuquerque   \n",
       "2   Facebook         Mark      Zuckerberg          2004     Menlo Park   \n",
       "3      Apple        Steve            Jobs          1976      Cupertino   \n",
       "4     Oracle        Larry         Ellison          1977    Santa Clara   \n",
       "5    Netflix         Reed        Hastings          1997  Scotts Valley   \n",
       "\n",
       "        state  number_employees  \n",
       "0  California             73992  \n",
       "1  New Mexico            124000  \n",
       "2  California             20658  \n",
       "3  California            123000  \n",
       "4  California            138000  \n",
       "5  California              5400  "
      ]
     },
     "execution_count": 29,
     "metadata": {},
     "output_type": "execute_result"
    }
   ],
   "source": [
    "df"
   ]
  },
  {
   "cell_type": "markdown",
   "metadata": {},
   "source": [
    "It is still possible to get the indexes of the dataframe and the columns as well."
   ]
  },
  {
   "cell_type": "code",
   "execution_count": 30,
   "metadata": {},
   "outputs": [
    {
     "data": {
      "text/plain": [
       "RangeIndex(start=0, stop=6, step=1)"
      ]
     },
     "execution_count": 30,
     "metadata": {},
     "output_type": "execute_result"
    }
   ],
   "source": [
    "df.index"
   ]
  },
  {
   "cell_type": "code",
   "execution_count": 31,
   "metadata": {},
   "outputs": [
    {
     "data": {
      "text/plain": [
       "Index(['company', 'founder_name', 'founder_surname', 'year_founded',\n",
       "       'location', 'state', 'number_employees'],\n",
       "      dtype='object')"
      ]
     },
     "execution_count": 31,
     "metadata": {},
     "output_type": "execute_result"
    }
   ],
   "source": [
    "df.columns"
   ]
  },
  {
   "cell_type": "markdown",
   "metadata": {},
   "source": [
    "Namely, this might be used to iterate over the column titles."
   ]
  },
  {
   "cell_type": "code",
   "execution_count": 32,
   "metadata": {},
   "outputs": [
    {
     "name": "stdout",
     "output_type": "stream",
     "text": [
      "company\n",
      "founder_name\n",
      "founder_surname\n",
      "year_founded\n",
      "location\n",
      "state\n",
      "number_employees\n"
     ]
    }
   ],
   "source": [
    "for col in df.columns:\n",
    "    print(col)"
   ]
  },
  {
   "cell_type": "markdown",
   "metadata": {},
   "source": [
    "#### Key points:\n",
    "\n",
    "- DataFrames may be seen as a tabular structure (named rows and columns).\n",
    "- We can define the indexes and columns as we create the dataframe.\n",
    "- It possible to take advantage of dictionaries and Series to create DataFrames.\n",
    "- To add the new columns of data it is not necessary to create a new dataframe."
   ]
  },
  {
   "cell_type": "markdown",
   "metadata": {},
   "source": [
    "---"
   ]
  },
  {
   "cell_type": "markdown",
   "metadata": {},
   "source": [
    "## Previewing a DataFrame"
   ]
  },
  {
   "cell_type": "markdown",
   "metadata": {},
   "source": [
    "#### Visualizing the DataFrame or part of it"
   ]
  },
  {
   "cell_type": "markdown",
   "metadata": {},
   "source": [
    "To visualize a DataFrame, using a jupyter-notebook, printing will display it (as seen previously)."
   ]
  },
  {
   "cell_type": "code",
   "execution_count": 33,
   "metadata": {},
   "outputs": [
    {
     "data": {
      "text/html": [
       "<div>\n",
       "<style scoped>\n",
       "    .dataframe tbody tr th:only-of-type {\n",
       "        vertical-align: middle;\n",
       "    }\n",
       "\n",
       "    .dataframe tbody tr th {\n",
       "        vertical-align: top;\n",
       "    }\n",
       "\n",
       "    .dataframe thead th {\n",
       "        text-align: right;\n",
       "    }\n",
       "</style>\n",
       "<table border=\"1\" class=\"dataframe\">\n",
       "  <thead>\n",
       "    <tr style=\"text-align: right;\">\n",
       "      <th></th>\n",
       "      <th>company</th>\n",
       "      <th>founder_name</th>\n",
       "      <th>founder_surname</th>\n",
       "      <th>year_founded</th>\n",
       "      <th>location</th>\n",
       "      <th>state</th>\n",
       "      <th>number_employees</th>\n",
       "    </tr>\n",
       "  </thead>\n",
       "  <tbody>\n",
       "    <tr>\n",
       "      <th>0</th>\n",
       "      <td>Google</td>\n",
       "      <td>Larry</td>\n",
       "      <td>Page</td>\n",
       "      <td>1998</td>\n",
       "      <td>Mountain View</td>\n",
       "      <td>California</td>\n",
       "      <td>73992</td>\n",
       "    </tr>\n",
       "    <tr>\n",
       "      <th>1</th>\n",
       "      <td>Microsoft</td>\n",
       "      <td>Bill</td>\n",
       "      <td>Gates</td>\n",
       "      <td>1975</td>\n",
       "      <td>Albuquerque</td>\n",
       "      <td>New Mexico</td>\n",
       "      <td>124000</td>\n",
       "    </tr>\n",
       "    <tr>\n",
       "      <th>2</th>\n",
       "      <td>Facebook</td>\n",
       "      <td>Mark</td>\n",
       "      <td>Zuckerberg</td>\n",
       "      <td>2004</td>\n",
       "      <td>Menlo Park</td>\n",
       "      <td>California</td>\n",
       "      <td>20658</td>\n",
       "    </tr>\n",
       "    <tr>\n",
       "      <th>3</th>\n",
       "      <td>Apple</td>\n",
       "      <td>Steve</td>\n",
       "      <td>Jobs</td>\n",
       "      <td>1976</td>\n",
       "      <td>Cupertino</td>\n",
       "      <td>California</td>\n",
       "      <td>123000</td>\n",
       "    </tr>\n",
       "    <tr>\n",
       "      <th>4</th>\n",
       "      <td>Oracle</td>\n",
       "      <td>Larry</td>\n",
       "      <td>Ellison</td>\n",
       "      <td>1977</td>\n",
       "      <td>Santa Clara</td>\n",
       "      <td>California</td>\n",
       "      <td>138000</td>\n",
       "    </tr>\n",
       "    <tr>\n",
       "      <th>5</th>\n",
       "      <td>Netflix</td>\n",
       "      <td>Reed</td>\n",
       "      <td>Hastings</td>\n",
       "      <td>1997</td>\n",
       "      <td>Scotts Valley</td>\n",
       "      <td>California</td>\n",
       "      <td>5400</td>\n",
       "    </tr>\n",
       "  </tbody>\n",
       "</table>\n",
       "</div>"
      ],
      "text/plain": [
       "     company founder_name founder_surname  year_founded       location  \\\n",
       "0     Google        Larry            Page          1998  Mountain View   \n",
       "1  Microsoft         Bill           Gates          1975    Albuquerque   \n",
       "2   Facebook         Mark      Zuckerberg          2004     Menlo Park   \n",
       "3      Apple        Steve            Jobs          1976      Cupertino   \n",
       "4     Oracle        Larry         Ellison          1977    Santa Clara   \n",
       "5    Netflix         Reed        Hastings          1997  Scotts Valley   \n",
       "\n",
       "        state  number_employees  \n",
       "0  California             73992  \n",
       "1  New Mexico            124000  \n",
       "2  California             20658  \n",
       "3  California            123000  \n",
       "4  California            138000  \n",
       "5  California              5400  "
      ]
     },
     "execution_count": 33,
     "metadata": {},
     "output_type": "execute_result"
    }
   ],
   "source": [
    "df"
   ]
  },
  {
   "cell_type": "markdown",
   "metadata": {},
   "source": [
    "In the case that the dataframe has a lot of entries, it will be only partially displayed. Nonetheless, it might still be too much information being displayed at once and the methods that are going to be used below often prove to be a better alternative. Namely, it is possible to print only a certain number of entries from the top or from the bottom using .head and .tail, respectively."
   ]
  },
  {
   "cell_type": "code",
   "execution_count": 44,
   "metadata": {},
   "outputs": [
    {
     "data": {
      "text/html": [
       "<div>\n",
       "<style scoped>\n",
       "    .dataframe tbody tr th:only-of-type {\n",
       "        vertical-align: middle;\n",
       "    }\n",
       "\n",
       "    .dataframe tbody tr th {\n",
       "        vertical-align: top;\n",
       "    }\n",
       "\n",
       "    .dataframe thead th {\n",
       "        text-align: right;\n",
       "    }\n",
       "</style>\n",
       "<table border=\"1\" class=\"dataframe\">\n",
       "  <thead>\n",
       "    <tr style=\"text-align: right;\">\n",
       "      <th></th>\n",
       "      <th>company</th>\n",
       "      <th>founder_name</th>\n",
       "      <th>founder_surname</th>\n",
       "      <th>year_founded</th>\n",
       "      <th>location</th>\n",
       "      <th>state</th>\n",
       "      <th>number_employees</th>\n",
       "    </tr>\n",
       "  </thead>\n",
       "  <tbody>\n",
       "    <tr>\n",
       "      <th>0</th>\n",
       "      <td>Google</td>\n",
       "      <td>Larry</td>\n",
       "      <td>Page</td>\n",
       "      <td>1998</td>\n",
       "      <td>Mountain View</td>\n",
       "      <td>California</td>\n",
       "      <td>73992</td>\n",
       "    </tr>\n",
       "    <tr>\n",
       "      <th>1</th>\n",
       "      <td>Microsoft</td>\n",
       "      <td>Bill</td>\n",
       "      <td>Gates</td>\n",
       "      <td>1975</td>\n",
       "      <td>Albuquerque</td>\n",
       "      <td>New Mexico</td>\n",
       "      <td>124000</td>\n",
       "    </tr>\n",
       "  </tbody>\n",
       "</table>\n",
       "</div>"
      ],
      "text/plain": [
       "     company founder_name founder_surname  year_founded       location  \\\n",
       "0     Google        Larry            Page          1998  Mountain View   \n",
       "1  Microsoft         Bill           Gates          1975    Albuquerque   \n",
       "\n",
       "        state  number_employees  \n",
       "0  California             73992  \n",
       "1  New Mexico            124000  "
      ]
     },
     "execution_count": 44,
     "metadata": {},
     "output_type": "execute_result"
    }
   ],
   "source": [
    "df.head(n=2)"
   ]
  },
  {
   "cell_type": "code",
   "execution_count": 45,
   "metadata": {},
   "outputs": [
    {
     "data": {
      "text/html": [
       "<div>\n",
       "<style scoped>\n",
       "    .dataframe tbody tr th:only-of-type {\n",
       "        vertical-align: middle;\n",
       "    }\n",
       "\n",
       "    .dataframe tbody tr th {\n",
       "        vertical-align: top;\n",
       "    }\n",
       "\n",
       "    .dataframe thead th {\n",
       "        text-align: right;\n",
       "    }\n",
       "</style>\n",
       "<table border=\"1\" class=\"dataframe\">\n",
       "  <thead>\n",
       "    <tr style=\"text-align: right;\">\n",
       "      <th></th>\n",
       "      <th>company</th>\n",
       "      <th>founder_name</th>\n",
       "      <th>founder_surname</th>\n",
       "      <th>year_founded</th>\n",
       "      <th>location</th>\n",
       "      <th>state</th>\n",
       "      <th>number_employees</th>\n",
       "    </tr>\n",
       "  </thead>\n",
       "  <tbody>\n",
       "    <tr>\n",
       "      <th>4</th>\n",
       "      <td>Oracle</td>\n",
       "      <td>Larry</td>\n",
       "      <td>Ellison</td>\n",
       "      <td>1977</td>\n",
       "      <td>Santa Clara</td>\n",
       "      <td>California</td>\n",
       "      <td>138000</td>\n",
       "    </tr>\n",
       "    <tr>\n",
       "      <th>5</th>\n",
       "      <td>Netflix</td>\n",
       "      <td>Reed</td>\n",
       "      <td>Hastings</td>\n",
       "      <td>1997</td>\n",
       "      <td>Scotts Valley</td>\n",
       "      <td>California</td>\n",
       "      <td>5400</td>\n",
       "    </tr>\n",
       "  </tbody>\n",
       "</table>\n",
       "</div>"
      ],
      "text/plain": [
       "   company founder_name founder_surname  year_founded       location  \\\n",
       "4   Oracle        Larry         Ellison          1977    Santa Clara   \n",
       "5  Netflix         Reed        Hastings          1997  Scotts Valley   \n",
       "\n",
       "        state  number_employees  \n",
       "4  California            138000  \n",
       "5  California              5400  "
      ]
     },
     "execution_count": 45,
     "metadata": {},
     "output_type": "execute_result"
    }
   ],
   "source": [
    "df.tail(n=2)"
   ]
  },
  {
   "cell_type": "markdown",
   "metadata": {},
   "source": [
    "#### Getting the relevant info"
   ]
  },
  {
   "cell_type": "markdown",
   "metadata": {},
   "source": [
    "[count](https://pandas.pydata.org/pandas-docs/stable/generated/pandas.DataFrame.count.html) may be used to get the count of entries that are not null."
   ]
  },
  {
   "cell_type": "code",
   "execution_count": 36,
   "metadata": {},
   "outputs": [
    {
     "data": {
      "text/plain": [
       "company             6\n",
       "founder_name        6\n",
       "founder_surname     6\n",
       "year_founded        6\n",
       "location            6\n",
       "state               6\n",
       "number_employees    6\n",
       "dtype: int64"
      ]
     },
     "execution_count": 36,
     "metadata": {},
     "output_type": "execute_result"
    }
   ],
   "source": [
    "df.count()"
   ]
  },
  {
   "cell_type": "markdown",
   "metadata": {},
   "source": [
    "With pandas' [info](https://pandas.pydata.org/pandas-docs/stable/generated/pandas.DataFrame.info.html) it possible to obtain:\n",
    "- How many entries it has.\n",
    "- The total number of columns.\n",
    "- The title of each column.\n",
    "- The number of entries that in fact exists in each column.\n",
    "- The type of data of the entries of a given column."
   ]
  },
  {
   "cell_type": "code",
   "execution_count": 37,
   "metadata": {},
   "outputs": [
    {
     "name": "stdout",
     "output_type": "stream",
     "text": [
      "<class 'pandas.core.frame.DataFrame'>\n",
      "RangeIndex: 6 entries, 0 to 5\n",
      "Data columns (total 7 columns):\n",
      "company             6 non-null object\n",
      "founder_name        6 non-null object\n",
      "founder_surname     6 non-null object\n",
      "year_founded        6 non-null int64\n",
      "location            6 non-null object\n",
      "state               6 non-null object\n",
      "number_employees    6 non-null int64\n",
      "dtypes: int64(2), object(5)\n",
      "memory usage: 416.0+ bytes\n"
     ]
    }
   ],
   "source": [
    "df.info()"
   ]
  },
  {
   "cell_type": "markdown",
   "metadata": {},
   "source": [
    "For the numerical variables it's also possible to print some more information using [describe](https://pandas.pydata.org/pandas-docs/stable/generated/pandas.DataFrame.describe.html), namely:\n",
    "\n",
    "- The number of rows for each of those columns.\n",
    "- The mean value.\n",
    "- The standard deviation.\n",
    "- The minimum and maximum value.\n",
    "- The median, the 25th and 75th percentile."
   ]
  },
  {
   "cell_type": "code",
   "execution_count": 38,
   "metadata": {},
   "outputs": [
    {
     "data": {
      "text/html": [
       "<div>\n",
       "<style scoped>\n",
       "    .dataframe tbody tr th:only-of-type {\n",
       "        vertical-align: middle;\n",
       "    }\n",
       "\n",
       "    .dataframe tbody tr th {\n",
       "        vertical-align: top;\n",
       "    }\n",
       "\n",
       "    .dataframe thead th {\n",
       "        text-align: right;\n",
       "    }\n",
       "</style>\n",
       "<table border=\"1\" class=\"dataframe\">\n",
       "  <thead>\n",
       "    <tr style=\"text-align: right;\">\n",
       "      <th></th>\n",
       "      <th>year_founded</th>\n",
       "      <th>number_employees</th>\n",
       "    </tr>\n",
       "  </thead>\n",
       "  <tbody>\n",
       "    <tr>\n",
       "      <th>count</th>\n",
       "      <td>6.000000</td>\n",
       "      <td>6.000000</td>\n",
       "    </tr>\n",
       "    <tr>\n",
       "      <th>mean</th>\n",
       "      <td>1987.833333</td>\n",
       "      <td>80841.666667</td>\n",
       "    </tr>\n",
       "    <tr>\n",
       "      <th>std</th>\n",
       "      <td>13.197222</td>\n",
       "      <td>57039.422527</td>\n",
       "    </tr>\n",
       "    <tr>\n",
       "      <th>min</th>\n",
       "      <td>1975.000000</td>\n",
       "      <td>5400.000000</td>\n",
       "    </tr>\n",
       "    <tr>\n",
       "      <th>25%</th>\n",
       "      <td>1976.250000</td>\n",
       "      <td>33991.500000</td>\n",
       "    </tr>\n",
       "    <tr>\n",
       "      <th>50%</th>\n",
       "      <td>1987.000000</td>\n",
       "      <td>98496.000000</td>\n",
       "    </tr>\n",
       "    <tr>\n",
       "      <th>75%</th>\n",
       "      <td>1997.750000</td>\n",
       "      <td>123750.000000</td>\n",
       "    </tr>\n",
       "    <tr>\n",
       "      <th>max</th>\n",
       "      <td>2004.000000</td>\n",
       "      <td>138000.000000</td>\n",
       "    </tr>\n",
       "  </tbody>\n",
       "</table>\n",
       "</div>"
      ],
      "text/plain": [
       "       year_founded  number_employees\n",
       "count      6.000000          6.000000\n",
       "mean    1987.833333      80841.666667\n",
       "std       13.197222      57039.422527\n",
       "min     1975.000000       5400.000000\n",
       "25%     1976.250000      33991.500000\n",
       "50%     1987.000000      98496.000000\n",
       "75%     1997.750000     123750.000000\n",
       "max     2004.000000     138000.000000"
      ]
     },
     "execution_count": 38,
     "metadata": {},
     "output_type": "execute_result"
    }
   ],
   "source": [
    "df.describe()"
   ]
  },
  {
   "cell_type": "markdown",
   "metadata": {},
   "source": [
    "Finally, [shape](https://pandas.pydata.org/pandas-docs/version/0.17.0/generated/pandas.DataFrame.shape.html) returns a tuple with the dimensions of the dataframe (nr_rows, nr_columns)."
   ]
  },
  {
   "cell_type": "code",
   "execution_count": 39,
   "metadata": {},
   "outputs": [
    {
     "data": {
      "text/plain": [
       "(6, 7)"
      ]
     },
     "execution_count": 39,
     "metadata": {},
     "output_type": "execute_result"
    }
   ],
   "source": [
    "df.shape"
   ]
  },
  {
   "cell_type": "markdown",
   "metadata": {},
   "source": [
    "### Key points:\n",
    "\n",
    "- It possible to print the dataframe (still shows too many lines, might be too \"noisy\").\n",
    "- head() and tail() print the n top and bottom, respectively, lines of the dataframe.\n",
    "- Count returns the number of entries for each column that are not null.\n",
    "- Info returns the number of entries, the number of columns, their counts and the data type.\n",
    "- Describe returns basic statistical information of the numeric columns."
   ]
  },
  {
   "cell_type": "markdown",
   "metadata": {},
   "source": [
    "---"
   ]
  },
  {
   "cell_type": "markdown",
   "metadata": {},
   "source": [
    "## Reading from the disk"
   ]
  },
  {
   "cell_type": "markdown",
   "metadata": {},
   "source": [
    "Pandas framework has implemented functions that allow us to create dataframes form several different types of data:\n",
    "\n",
    "- CSV\n",
    "- JSON\n",
    "- HTML\n",
    "- ... and [many more](https://pandas.pydata.org/pandas-docs/stable/io.html)\n",
    "\n",
    "All of this is possible by using the read_*dataFormat*. With it is possible to create a dataframe and apply all the previously shown techniques. \n",
    "\n",
    "For instance, using the 2010 census profile and housing characteristics of the city of Los Angeles ([source](https://catalog.data.gov/dataset?res_format=CSV)):"
   ]
  },
  {
   "cell_type": "code",
   "execution_count": 40,
   "metadata": {},
   "outputs": [],
   "source": [
    "data = pd.read_csv(\"data/2010_Census_Populations_by_Zip_Code.csv\")"
   ]
  },
  {
   "cell_type": "code",
   "execution_count": 41,
   "metadata": {},
   "outputs": [
    {
     "name": "stdout",
     "output_type": "stream",
     "text": [
      "<class 'pandas.core.frame.DataFrame'>\n",
      "RangeIndex: 319 entries, 0 to 318\n",
      "Data columns (total 7 columns):\n",
      "Zip Code                  319 non-null int64\n",
      "Total Population          319 non-null int64\n",
      "Median Age                319 non-null float64\n",
      "Total Males               319 non-null int64\n",
      "Total Females             319 non-null int64\n",
      "Total Households          319 non-null int64\n",
      "Average Household Size    319 non-null float64\n",
      "dtypes: float64(2), int64(5)\n",
      "memory usage: 17.5 KB\n"
     ]
    }
   ],
   "source": [
    "data.info()"
   ]
  },
  {
   "cell_type": "code",
   "execution_count": 42,
   "metadata": {},
   "outputs": [
    {
     "data": {
      "text/html": [
       "<div>\n",
       "<style scoped>\n",
       "    .dataframe tbody tr th:only-of-type {\n",
       "        vertical-align: middle;\n",
       "    }\n",
       "\n",
       "    .dataframe tbody tr th {\n",
       "        vertical-align: top;\n",
       "    }\n",
       "\n",
       "    .dataframe thead th {\n",
       "        text-align: right;\n",
       "    }\n",
       "</style>\n",
       "<table border=\"1\" class=\"dataframe\">\n",
       "  <thead>\n",
       "    <tr style=\"text-align: right;\">\n",
       "      <th></th>\n",
       "      <th>Zip Code</th>\n",
       "      <th>Total Population</th>\n",
       "      <th>Median Age</th>\n",
       "      <th>Total Males</th>\n",
       "      <th>Total Females</th>\n",
       "      <th>Total Households</th>\n",
       "      <th>Average Household Size</th>\n",
       "    </tr>\n",
       "  </thead>\n",
       "  <tbody>\n",
       "    <tr>\n",
       "      <th>count</th>\n",
       "      <td>319.000000</td>\n",
       "      <td>319.000000</td>\n",
       "      <td>319.000000</td>\n",
       "      <td>319.000000</td>\n",
       "      <td>319.000000</td>\n",
       "      <td>319.000000</td>\n",
       "      <td>319.000000</td>\n",
       "    </tr>\n",
       "    <tr>\n",
       "      <th>mean</th>\n",
       "      <td>91000.673981</td>\n",
       "      <td>33241.341693</td>\n",
       "      <td>36.527586</td>\n",
       "      <td>16391.564263</td>\n",
       "      <td>16849.777429</td>\n",
       "      <td>10964.570533</td>\n",
       "      <td>2.828119</td>\n",
       "    </tr>\n",
       "    <tr>\n",
       "      <th>std</th>\n",
       "      <td>908.360203</td>\n",
       "      <td>21644.417455</td>\n",
       "      <td>8.692999</td>\n",
       "      <td>10747.495566</td>\n",
       "      <td>10934.986468</td>\n",
       "      <td>6270.646400</td>\n",
       "      <td>0.835658</td>\n",
       "    </tr>\n",
       "    <tr>\n",
       "      <th>min</th>\n",
       "      <td>90001.000000</td>\n",
       "      <td>0.000000</td>\n",
       "      <td>0.000000</td>\n",
       "      <td>0.000000</td>\n",
       "      <td>0.000000</td>\n",
       "      <td>0.000000</td>\n",
       "      <td>0.000000</td>\n",
       "    </tr>\n",
       "    <tr>\n",
       "      <th>25%</th>\n",
       "      <td>90243.500000</td>\n",
       "      <td>19318.500000</td>\n",
       "      <td>32.400000</td>\n",
       "      <td>9763.500000</td>\n",
       "      <td>9633.500000</td>\n",
       "      <td>6765.500000</td>\n",
       "      <td>2.435000</td>\n",
       "    </tr>\n",
       "    <tr>\n",
       "      <th>50%</th>\n",
       "      <td>90807.000000</td>\n",
       "      <td>31481.000000</td>\n",
       "      <td>37.100000</td>\n",
       "      <td>15283.000000</td>\n",
       "      <td>16202.000000</td>\n",
       "      <td>10968.000000</td>\n",
       "      <td>2.830000</td>\n",
       "    </tr>\n",
       "    <tr>\n",
       "      <th>75%</th>\n",
       "      <td>91417.000000</td>\n",
       "      <td>44978.000000</td>\n",
       "      <td>41.000000</td>\n",
       "      <td>22219.500000</td>\n",
       "      <td>22690.500000</td>\n",
       "      <td>14889.500000</td>\n",
       "      <td>3.320000</td>\n",
       "    </tr>\n",
       "    <tr>\n",
       "      <th>max</th>\n",
       "      <td>93591.000000</td>\n",
       "      <td>105549.000000</td>\n",
       "      <td>74.000000</td>\n",
       "      <td>52794.000000</td>\n",
       "      <td>53185.000000</td>\n",
       "      <td>31087.000000</td>\n",
       "      <td>4.670000</td>\n",
       "    </tr>\n",
       "  </tbody>\n",
       "</table>\n",
       "</div>"
      ],
      "text/plain": [
       "           Zip Code  Total Population  Median Age   Total Males  \\\n",
       "count    319.000000        319.000000  319.000000    319.000000   \n",
       "mean   91000.673981      33241.341693   36.527586  16391.564263   \n",
       "std      908.360203      21644.417455    8.692999  10747.495566   \n",
       "min    90001.000000          0.000000    0.000000      0.000000   \n",
       "25%    90243.500000      19318.500000   32.400000   9763.500000   \n",
       "50%    90807.000000      31481.000000   37.100000  15283.000000   \n",
       "75%    91417.000000      44978.000000   41.000000  22219.500000   \n",
       "max    93591.000000     105549.000000   74.000000  52794.000000   \n",
       "\n",
       "       Total Females  Total Households  Average Household Size  \n",
       "count     319.000000        319.000000              319.000000  \n",
       "mean    16849.777429      10964.570533                2.828119  \n",
       "std     10934.986468       6270.646400                0.835658  \n",
       "min         0.000000          0.000000                0.000000  \n",
       "25%      9633.500000       6765.500000                2.435000  \n",
       "50%     16202.000000      10968.000000                2.830000  \n",
       "75%     22690.500000      14889.500000                3.320000  \n",
       "max     53185.000000      31087.000000                4.670000  "
      ]
     },
     "execution_count": 42,
     "metadata": {},
     "output_type": "execute_result"
    }
   ],
   "source": [
    "data.describe()"
   ]
  },
  {
   "cell_type": "code",
   "execution_count": 43,
   "metadata": {},
   "outputs": [
    {
     "data": {
      "text/html": [
       "<div>\n",
       "<style scoped>\n",
       "    .dataframe tbody tr th:only-of-type {\n",
       "        vertical-align: middle;\n",
       "    }\n",
       "\n",
       "    .dataframe tbody tr th {\n",
       "        vertical-align: top;\n",
       "    }\n",
       "\n",
       "    .dataframe thead th {\n",
       "        text-align: right;\n",
       "    }\n",
       "</style>\n",
       "<table border=\"1\" class=\"dataframe\">\n",
       "  <thead>\n",
       "    <tr style=\"text-align: right;\">\n",
       "      <th></th>\n",
       "      <th>Zip Code</th>\n",
       "      <th>Total Population</th>\n",
       "      <th>Median Age</th>\n",
       "      <th>Total Males</th>\n",
       "      <th>Total Females</th>\n",
       "      <th>Total Households</th>\n",
       "      <th>Average Household Size</th>\n",
       "    </tr>\n",
       "  </thead>\n",
       "  <tbody>\n",
       "    <tr>\n",
       "      <th>0</th>\n",
       "      <td>91371</td>\n",
       "      <td>1</td>\n",
       "      <td>73.5</td>\n",
       "      <td>0</td>\n",
       "      <td>1</td>\n",
       "      <td>1</td>\n",
       "      <td>1.00</td>\n",
       "    </tr>\n",
       "    <tr>\n",
       "      <th>1</th>\n",
       "      <td>90001</td>\n",
       "      <td>57110</td>\n",
       "      <td>26.6</td>\n",
       "      <td>28468</td>\n",
       "      <td>28642</td>\n",
       "      <td>12971</td>\n",
       "      <td>4.40</td>\n",
       "    </tr>\n",
       "    <tr>\n",
       "      <th>2</th>\n",
       "      <td>90002</td>\n",
       "      <td>51223</td>\n",
       "      <td>25.5</td>\n",
       "      <td>24876</td>\n",
       "      <td>26347</td>\n",
       "      <td>11731</td>\n",
       "      <td>4.36</td>\n",
       "    </tr>\n",
       "    <tr>\n",
       "      <th>3</th>\n",
       "      <td>90003</td>\n",
       "      <td>66266</td>\n",
       "      <td>26.3</td>\n",
       "      <td>32631</td>\n",
       "      <td>33635</td>\n",
       "      <td>15642</td>\n",
       "      <td>4.22</td>\n",
       "    </tr>\n",
       "    <tr>\n",
       "      <th>4</th>\n",
       "      <td>90004</td>\n",
       "      <td>62180</td>\n",
       "      <td>34.8</td>\n",
       "      <td>31302</td>\n",
       "      <td>30878</td>\n",
       "      <td>22547</td>\n",
       "      <td>2.73</td>\n",
       "    </tr>\n",
       "  </tbody>\n",
       "</table>\n",
       "</div>"
      ],
      "text/plain": [
       "   Zip Code  Total Population  Median Age  Total Males  Total Females  \\\n",
       "0     91371                 1        73.5            0              1   \n",
       "1     90001             57110        26.6        28468          28642   \n",
       "2     90002             51223        25.5        24876          26347   \n",
       "3     90003             66266        26.3        32631          33635   \n",
       "4     90004             62180        34.8        31302          30878   \n",
       "\n",
       "   Total Households  Average Household Size  \n",
       "0                 1                    1.00  \n",
       "1             12971                    4.40  \n",
       "2             11731                    4.36  \n",
       "3             15642                    4.22  \n",
       "4             22547                    2.73  "
      ]
     },
     "execution_count": 43,
     "metadata": {},
     "output_type": "execute_result"
    }
   ],
   "source": [
    "data.head()"
   ]
  },
  {
   "cell_type": "markdown",
   "metadata": {},
   "source": [
    "### Key points:\n",
    "\n",
    "- Pandas allows the creation of dataframes from several structures of data."
   ]
  },
  {
   "cell_type": "markdown",
   "metadata": {},
   "source": [
    "----"
   ]
  },
  {
   "cell_type": "markdown",
   "metadata": {},
   "source": [
    "## To learn more (optional)\n",
    "\n",
    "- [Intro to data structures](https://pandas.pydata.org/pandas-docs/stable/dsintro.html)"
   ]
  },
  {
   "cell_type": "code",
   "execution_count": null,
   "metadata": {},
   "outputs": [],
   "source": []
  }
 ],
 "metadata": {
  "kernelspec": {
   "display_name": "Python 3",
   "language": "python",
   "name": "python3"
  },
  "language_info": {
   "codemirror_mode": {
    "name": "ipython",
    "version": 3
   },
   "file_extension": ".py",
   "mimetype": "text/x-python",
   "name": "python",
   "nbconvert_exporter": "python",
   "pygments_lexer": "ipython3",
   "version": "3.5.2"
  }
 },
 "nbformat": 4,
 "nbformat_minor": 2
}
