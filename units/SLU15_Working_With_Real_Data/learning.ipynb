{
 "cells": [
  {
   "cell_type": "markdown",
   "metadata": {},
   "source": [
    "# SLU15: Working With Real Data\n",
    "---"
   ]
  },
  {
   "cell_type": "markdown",
   "metadata": {},
   "source": [
    "> Happy datasets are all alike; every unhappy dataset is unhappy in its own way.\n",
    "\n",
    "(Shamelessly adapted from [Tolstoy's Anna Karenina](https://en.wikipedia.org/wiki/Anna_Karenina_principle).)\n",
    "\n",
    "# 1 Tidy data principles\n",
    "\n",
    "At the begining of any project, it is critical to structure datasets in a way that facilitiates work.\n",
    "\n",
    "Most datasets are dataframes made up of rows and colums, containing a values that belong to a variable and an observation:\n",
    "* *Variables* contain all values that measure the same thing across observations\n",
    "* *Observations* contain all values measured on the same unit (e.g., same person) across variables.\n",
    "\n",
    "The ideas of *tidy data* ([Wickham, 2014](http://vita.had.co.nz/papers/tidy-data.html)) provide a standardized framework to organise and structure datasets, making them easy to manipulate, model and visualize.\n",
    "1. Each variable forms a column\n",
    "2. Each observation forms a row\n",
    "3. Each type of observational unit forms a table (or dataframe).\n",
    "\n",
    "We will be using a preprocessed version of the `avengers` dataset, by [FiveThirtyEight](http://fivethirtyeight.com/)."
   ]
  },
  {
   "cell_type": "code",
   "execution_count": 1,
   "metadata": {},
   "outputs": [
    {
     "data": {
      "text/html": [
       "<div>\n",
       "<style scoped>\n",
       "    .dataframe tbody tr th:only-of-type {\n",
       "        vertical-align: middle;\n",
       "    }\n",
       "\n",
       "    .dataframe tbody tr th {\n",
       "        vertical-align: top;\n",
       "    }\n",
       "\n",
       "    .dataframe thead th {\n",
       "        text-align: right;\n",
       "    }\n",
       "</style>\n",
       "<table border=\"1\" class=\"dataframe\">\n",
       "  <thead>\n",
       "    <tr style=\"text-align: right;\">\n",
       "      <th></th>\n",
       "      <th>Name</th>\n",
       "      <th>Active</th>\n",
       "      <th>Gender</th>\n",
       "      <th>Membership</th>\n",
       "      <th>Universe</th>\n",
       "      <th>IntroYear</th>\n",
       "      <th>Appearances</th>\n",
       "      <th>TotalDeaths</th>\n",
       "      <th>TotalReturns</th>\n",
       "    </tr>\n",
       "  </thead>\n",
       "  <tbody>\n",
       "    <tr>\n",
       "      <th>0</th>\n",
       "      <td>Henry Jonathan \"Hank\" Pym</td>\n",
       "      <td>YES</td>\n",
       "      <td>MALE</td>\n",
       "      <td>Full</td>\n",
       "      <td>Earth-616</td>\n",
       "      <td>1963</td>\n",
       "      <td>1269</td>\n",
       "      <td>1</td>\n",
       "      <td>0</td>\n",
       "    </tr>\n",
       "    <tr>\n",
       "      <th>1</th>\n",
       "      <td>Janet van Dyne</td>\n",
       "      <td>YES</td>\n",
       "      <td>FEMALE</td>\n",
       "      <td>Full</td>\n",
       "      <td>Earth-616</td>\n",
       "      <td>1963</td>\n",
       "      <td>1165</td>\n",
       "      <td>1</td>\n",
       "      <td>1</td>\n",
       "    </tr>\n",
       "    <tr>\n",
       "      <th>2</th>\n",
       "      <td>Anthony Edward \"Tony\" Stark</td>\n",
       "      <td>YES</td>\n",
       "      <td>MALE</td>\n",
       "      <td>Full</td>\n",
       "      <td>Earth-616</td>\n",
       "      <td>1963</td>\n",
       "      <td>3068</td>\n",
       "      <td>1</td>\n",
       "      <td>1</td>\n",
       "    </tr>\n",
       "  </tbody>\n",
       "</table>\n",
       "</div>"
      ],
      "text/plain": [
       "                          Name Active  Gender Membership   Universe  \\\n",
       "0    Henry Jonathan \"Hank\" Pym    YES    MALE       Full  Earth-616   \n",
       "1               Janet van Dyne    YES  FEMALE       Full  Earth-616   \n",
       "2  Anthony Edward \"Tony\" Stark    YES    MALE       Full  Earth-616   \n",
       "\n",
       "   IntroYear  Appearances  TotalDeaths  TotalReturns  \n",
       "0       1963         1269            1             0  \n",
       "1       1963         1165            1             1  \n",
       "2       1963         3068            1             1  "
      ]
     },
     "execution_count": 1,
     "metadata": {},
     "output_type": "execute_result"
    }
   ],
   "source": [
    "import numpy as np\n",
    "import pandas as pd\n",
    "import matplotlib.pyplot as plt\n",
    "%matplotlib inline\n",
    "import seaborn as sns\n",
    "\n",
    "import warnings\n",
    "warnings.filterwarnings('ignore')\n",
    "\n",
    "avengers = pd.read_csv('data/avengers.csv')\n",
    "avengers.head(3)"
   ]
  },
  {
   "cell_type": "markdown",
   "metadata": {},
   "source": [
    "# 2 Types of data in Pandas\n",
    "\n",
    "As stated above, a dataset is a collection of values, usually either numbers (quantitative) or strings (qualitative)."
   ]
  },
  {
   "cell_type": "code",
   "execution_count": 2,
   "metadata": {},
   "outputs": [
    {
     "data": {
      "text/plain": [
       "Name            object\n",
       "Active          object\n",
       "Gender          object\n",
       "Membership      object\n",
       "Universe        object\n",
       "IntroYear        int64\n",
       "Appearances      int64\n",
       "TotalDeaths      int64\n",
       "TotalReturns     int64\n",
       "dtype: object"
      ]
     },
     "execution_count": 2,
     "metadata": {},
     "output_type": "execute_result"
    }
   ],
   "source": [
    "avengers.dtypes"
   ]
  },
  {
   "cell_type": "markdown",
   "metadata": {},
   "source": [
    "Pandas main data types are:\n",
    "* Numeric (`int`, `float`)\n",
    "* Datetime (`datetime`, `timedelta`)\n",
    "* Object (for strings).\n",
    "\n",
    "The convenient `DataFrame.select_dtypes` allows us to select variables (columns in our dataframe) by type."
   ]
  },
  {
   "cell_type": "code",
   "execution_count": 3,
   "metadata": {},
   "outputs": [
    {
     "data": {
      "text/html": [
       "<div>\n",
       "<style scoped>\n",
       "    .dataframe tbody tr th:only-of-type {\n",
       "        vertical-align: middle;\n",
       "    }\n",
       "\n",
       "    .dataframe tbody tr th {\n",
       "        vertical-align: top;\n",
       "    }\n",
       "\n",
       "    .dataframe thead th {\n",
       "        text-align: right;\n",
       "    }\n",
       "</style>\n",
       "<table border=\"1\" class=\"dataframe\">\n",
       "  <thead>\n",
       "    <tr style=\"text-align: right;\">\n",
       "      <th></th>\n",
       "      <th>Name</th>\n",
       "      <th>Active</th>\n",
       "      <th>Gender</th>\n",
       "      <th>Membership</th>\n",
       "      <th>Universe</th>\n",
       "    </tr>\n",
       "  </thead>\n",
       "  <tbody>\n",
       "    <tr>\n",
       "      <th>0</th>\n",
       "      <td>Henry Jonathan \"Hank\" Pym</td>\n",
       "      <td>YES</td>\n",
       "      <td>MALE</td>\n",
       "      <td>Full</td>\n",
       "      <td>Earth-616</td>\n",
       "    </tr>\n",
       "    <tr>\n",
       "      <th>1</th>\n",
       "      <td>Janet van Dyne</td>\n",
       "      <td>YES</td>\n",
       "      <td>FEMALE</td>\n",
       "      <td>Full</td>\n",
       "      <td>Earth-616</td>\n",
       "    </tr>\n",
       "    <tr>\n",
       "      <th>2</th>\n",
       "      <td>Anthony Edward \"Tony\" Stark</td>\n",
       "      <td>YES</td>\n",
       "      <td>MALE</td>\n",
       "      <td>Full</td>\n",
       "      <td>Earth-616</td>\n",
       "    </tr>\n",
       "  </tbody>\n",
       "</table>\n",
       "</div>"
      ],
      "text/plain": [
       "                          Name Active  Gender Membership   Universe\n",
       "0    Henry Jonathan \"Hank\" Pym    YES    MALE       Full  Earth-616\n",
       "1               Janet van Dyne    YES  FEMALE       Full  Earth-616\n",
       "2  Anthony Edward \"Tony\" Stark    YES    MALE       Full  Earth-616"
      ]
     },
     "execution_count": 3,
     "metadata": {},
     "output_type": "execute_result"
    }
   ],
   "source": [
    "(avengers.select_dtypes(include='object')\n",
    "         .head(3))"
   ]
  },
  {
   "cell_type": "markdown",
   "metadata": {},
   "source": [
    "We can use `pandas.to_datetime` to convert values to `datetime`.\n",
    "\n",
    "We will use `df.assign` as an alternative to `avengers['IntroYear'] = ...` to return a new dataframe with all original columns, in addition to the new (or updated) ones."
   ]
  },
  {
   "cell_type": "code",
   "execution_count": 4,
   "metadata": {},
   "outputs": [
    {
     "data": {
      "text/html": [
       "<div>\n",
       "<style scoped>\n",
       "    .dataframe tbody tr th:only-of-type {\n",
       "        vertical-align: middle;\n",
       "    }\n",
       "\n",
       "    .dataframe tbody tr th {\n",
       "        vertical-align: top;\n",
       "    }\n",
       "\n",
       "    .dataframe thead th {\n",
       "        text-align: right;\n",
       "    }\n",
       "</style>\n",
       "<table border=\"1\" class=\"dataframe\">\n",
       "  <thead>\n",
       "    <tr style=\"text-align: right;\">\n",
       "      <th></th>\n",
       "      <th>Name</th>\n",
       "      <th>Active</th>\n",
       "      <th>Gender</th>\n",
       "      <th>Membership</th>\n",
       "      <th>Universe</th>\n",
       "      <th>IntroYear</th>\n",
       "      <th>Appearances</th>\n",
       "      <th>TotalDeaths</th>\n",
       "      <th>TotalReturns</th>\n",
       "    </tr>\n",
       "  </thead>\n",
       "  <tbody>\n",
       "    <tr>\n",
       "      <th>152</th>\n",
       "      <td>Victor Alvarez</td>\n",
       "      <td>YES</td>\n",
       "      <td>MALE</td>\n",
       "      <td>Full</td>\n",
       "      <td>Earth-616</td>\n",
       "      <td>2014-01-01</td>\n",
       "      <td>45</td>\n",
       "      <td>0</td>\n",
       "      <td>0</td>\n",
       "    </tr>\n",
       "    <tr>\n",
       "      <th>153</th>\n",
       "      <td>Ava Ayala</td>\n",
       "      <td>YES</td>\n",
       "      <td>FEMALE</td>\n",
       "      <td>Full</td>\n",
       "      <td>Earth-616</td>\n",
       "      <td>2014-01-01</td>\n",
       "      <td>49</td>\n",
       "      <td>0</td>\n",
       "      <td>0</td>\n",
       "    </tr>\n",
       "    <tr>\n",
       "      <th>154</th>\n",
       "      <td>Kaluu</td>\n",
       "      <td>YES</td>\n",
       "      <td>MALE</td>\n",
       "      <td>Full</td>\n",
       "      <td>Earth-616</td>\n",
       "      <td>2015-01-01</td>\n",
       "      <td>35</td>\n",
       "      <td>0</td>\n",
       "      <td>0</td>\n",
       "    </tr>\n",
       "  </tbody>\n",
       "</table>\n",
       "</div>"
      ],
      "text/plain": [
       "               Name Active  Gender Membership   Universe  IntroYear  \\\n",
       "152  Victor Alvarez    YES    MALE       Full  Earth-616 2014-01-01   \n",
       "153       Ava Ayala    YES  FEMALE       Full  Earth-616 2014-01-01   \n",
       "154           Kaluu    YES    MALE       Full  Earth-616 2015-01-01   \n",
       "\n",
       "     Appearances  TotalDeaths  TotalReturns  \n",
       "152           45            0             0  \n",
       "153           49            0             0  \n",
       "154           35            0             0  "
      ]
     },
     "execution_count": 4,
     "metadata": {},
     "output_type": "execute_result"
    }
   ],
   "source": [
    "(avengers.assign(IntroYear = pd.to_datetime(avengers['IntroYear'], format='%Y'))\n",
    "         .tail(3))"
   ]
  },
  {
   "cell_type": "markdown",
   "metadata": {},
   "source": [
    "This makes much more sense, we should keep it."
   ]
  },
  {
   "cell_type": "code",
   "execution_count": 5,
   "metadata": {},
   "outputs": [],
   "source": [
    "avengers = avengers.assign(IntroYear = pd.to_datetime(avengers['IntroYear'], \n",
    "                                                      format='%Y'))"
   ]
  },
  {
   "cell_type": "markdown",
   "metadata": {},
   "source": [
    "# 3 Apply functions over variables (or columns)"
   ]
  },
  {
   "cell_type": "markdown",
   "metadata": {},
   "source": [
    "Pandas provides us with a convient `df.apply` method that enable us to apply over entire columns. \n",
    "\n",
    "Let's use it to compute the mean and the mode for numeric and non-numeric values, respectively."
   ]
  },
  {
   "cell_type": "code",
   "execution_count": 6,
   "metadata": {},
   "outputs": [
    {
     "data": {
      "text/plain": [
       "Appearances     446.219355\n",
       "TotalDeaths       0.509677\n",
       "TotalReturns      0.348387\n",
       "dtype: float64"
      ]
     },
     "execution_count": 6,
     "metadata": {},
     "output_type": "execute_result"
    }
   ],
   "source": [
    "import numpy as np\n",
    "\n",
    "(avengers.select_dtypes(include='int')\n",
    "         .apply(np.mean))"
   ]
  },
  {
   "cell_type": "code",
   "execution_count": 7,
   "metadata": {},
   "outputs": [
    {
     "data": {
      "text/plain": [
       "Name                ([Vance Astrovik], [2])\n",
       "Active                         ([NO], [79])\n",
       "Gender                      ([MALE], [105])\n",
       "Membership                  ([Full], [124])\n",
       "Universe               ([Earth-616], [144])\n",
       "IntroYear     ([2013-01-01 00:00:00], [18])\n",
       "dtype: object"
      ]
     },
     "execution_count": 7,
     "metadata": {},
     "output_type": "execute_result"
    }
   ],
   "source": [
    "from scipy import stats\n",
    "\n",
    "(avengers.select_dtypes(exclude='int')\n",
    "         .apply(stats.mode))"
   ]
  },
  {
   "cell_type": "markdown",
   "metadata": {},
   "source": [
    "# 4 Apply functions over observations (or rows)"
   ]
  },
  {
   "cell_type": "markdown",
   "metadata": {},
   "source": [
    "Alternatively, we can use `df.apply` to apply functions over rows with a little adjustment, by setting `axis=1`.\n",
    "\n",
    "As an experiment, let's try to scale each row to a unit vector, by dividing each value by the norm of the row vector"
   ]
  },
  {
   "cell_type": "code",
   "execution_count": 8,
   "metadata": {},
   "outputs": [
    {
     "data": {
      "text/plain": [
       "85    1.0\n",
       "dtype: float64"
      ]
     },
     "execution_count": 8,
     "metadata": {},
     "output_type": "execute_result"
    }
   ],
   "source": [
    "from numpy.linalg import norm\n",
    "\n",
    "def normalize(row):\n",
    "    \"\"\"\n",
    "    Takes a vector of values and transforms it into a unit vector with length 1.\n",
    "    This is achieved by computing v / ||v|| for each value in the row vector.\n",
    "    \"\"\"\n",
    "    return row / norm(row)\n",
    "\n",
    "(avengers.select_dtypes(include='int')\n",
    "         .apply(normalize, axis=1)\n",
    "         .apply(norm, axis=1)\n",
    "         .sample())"
   ]
  },
  {
   "cell_type": "markdown",
   "metadata": {},
   "source": [
    "# 5 Types of statistical data"
   ]
  },
  {
   "cell_type": "markdown",
   "metadata": {},
   "source": [
    "There are three main types of statistical data:\n",
    "1. Numerical (discrete and continuous)\n",
    "2. Categorical (binary, low cardinality and high cardinality)\n",
    "3. Ordinal"
   ]
  },
  {
   "cell_type": "markdown",
   "metadata": {},
   "source": [
    "## 5.1 Numerical data\n",
    "\n",
    "Numerical data is information that is measurable. It's always collected in number form, although not all data in number form is numerical.\n",
    "\n",
    "Things we can do with numerical data:\n",
    "* Mathematical operations (e.g., from addition, to distances and the normalization above)\n",
    "* Sort it in ascending or descending order.\n",
    "\n",
    "**Discrete data**\n",
    "\n",
    "Discrete data take on certain values, although the list of values may be finite  or not. \n",
    "\n",
    "Some data can even be continuous, but measured in a discrete way (e.g., age). \n",
    "\n",
    "Likewise, `IntroYear`, `TotalDeaths` and `TotalReturns` in our `avengers` data are discrete variable.\n",
    "\n",
    "**Continuous data**\n",
    "\n",
    "Continuous data can take any value within a range: `Appearances` is an example in our data."
   ]
  },
  {
   "cell_type": "markdown",
   "metadata": {},
   "source": [
    "### 5.1.1 Scaling numerical values\n",
    "\n",
    "Often times, the numeric variables in our dataset have very different scales, that is, take on different ranges of values.\n",
    "\n",
    "It's usually a good practice to scale them during the preprocessing of our data, typically you will do one of two things:\n",
    "1. Scale variables to a given range\n",
    "2. Standardize all variables.\n",
    "\n",
    "These transformations change the data but not the distribution. Why is it important to scale the data:\n",
    "* When predictor values have different ranges, particular features can dominate the algorithm (e.g., think [euclidean distance](https://en.wikipedia.org/wiki/Euclidean_distance))\n",
    "* Different scales can make estimators unable to learn correctly from certain features in smaller ranges\n",
    "* You don't want your feature to rely on the scale of the measurement involved\n",
    "* Optimization methods such as gradient descent will converge faster.\n",
    "\n",
    "**Scale all variables to a given range**\n",
    "\n",
    "We would transform all variables so that the minimum and the maximum of the transformed data take certain values, e.g., 0 and 1:\n",
    "\n",
    "$$ x'_i = \\frac{x_i - x_{min}}{x_{max} - x_{min}} $$"
   ]
  },
  {
   "cell_type": "code",
   "execution_count": 9,
   "metadata": {},
   "outputs": [
    {
     "data": {
      "image/png": "[encoded data removed]",
      "text/plain": [
       "<Figure size 720x576 with 1 Axes>"
      ]
     },
     "metadata": {},
     "output_type": "display_data"
    },
    {
     "data": {
      "text/html": [
       "<div>\n",
       "<style scoped>\n",
       "    .dataframe tbody tr th:only-of-type {\n",
       "        vertical-align: middle;\n",
       "    }\n",
       "\n",
       "    .dataframe tbody tr th {\n",
       "        vertical-align: top;\n",
       "    }\n",
       "\n",
       "    .dataframe thead th {\n",
       "        text-align: right;\n",
       "    }\n",
       "</style>\n",
       "<table border=\"1\" class=\"dataframe\">\n",
       "  <thead>\n",
       "    <tr style=\"text-align: right;\">\n",
       "      <th></th>\n",
       "      <th>Appearances</th>\n",
       "      <th>TotalDeaths</th>\n",
       "      <th>TotalReturns</th>\n",
       "    </tr>\n",
       "  </thead>\n",
       "  <tbody>\n",
       "    <tr>\n",
       "      <th>count</th>\n",
       "      <td>155.000000</td>\n",
       "      <td>155.000000</td>\n",
       "      <td>155.000000</td>\n",
       "    </tr>\n",
       "    <tr>\n",
       "      <th>mean</th>\n",
       "      <td>0.102567</td>\n",
       "      <td>0.101935</td>\n",
       "      <td>0.069677</td>\n",
       "    </tr>\n",
       "    <tr>\n",
       "      <th>std</th>\n",
       "      <td>0.162742</td>\n",
       "      <td>0.153518</td>\n",
       "      <td>0.134055</td>\n",
       "    </tr>\n",
       "    <tr>\n",
       "      <th>min</th>\n",
       "      <td>0.000000</td>\n",
       "      <td>0.000000</td>\n",
       "      <td>0.000000</td>\n",
       "    </tr>\n",
       "    <tr>\n",
       "      <th>25%</th>\n",
       "      <td>0.014662</td>\n",
       "      <td>0.000000</td>\n",
       "      <td>0.000000</td>\n",
       "    </tr>\n",
       "    <tr>\n",
       "      <th>50%</th>\n",
       "      <td>0.036019</td>\n",
       "      <td>0.000000</td>\n",
       "      <td>0.000000</td>\n",
       "    </tr>\n",
       "    <tr>\n",
       "      <th>75%</th>\n",
       "      <td>0.121681</td>\n",
       "      <td>0.200000</td>\n",
       "      <td>0.200000</td>\n",
       "    </tr>\n",
       "    <tr>\n",
       "      <th>max</th>\n",
       "      <td>1.000000</td>\n",
       "      <td>1.000000</td>\n",
       "      <td>1.000000</td>\n",
       "    </tr>\n",
       "  </tbody>\n",
       "</table>\n",
       "</div>"
      ],
      "text/plain": [
       "       Appearances  TotalDeaths  TotalReturns\n",
       "count   155.000000   155.000000    155.000000\n",
       "mean      0.102567     0.101935      0.069677\n",
       "std       0.162742     0.153518      0.134055\n",
       "min       0.000000     0.000000      0.000000\n",
       "25%       0.014662     0.000000      0.000000\n",
       "50%       0.036019     0.000000      0.000000\n",
       "75%       0.121681     0.200000      0.200000\n",
       "max       1.000000     1.000000      1.000000"
      ]
     },
     "execution_count": 9,
     "metadata": {},
     "output_type": "execute_result"
    }
   ],
   "source": [
    "from sklearn.preprocessing import MinMaxScaler\n",
    "\n",
    "def scale_data(df, scaler):\n",
    "    df = df.copy()\n",
    "    cols = df.select_dtypes(include='int').columns\n",
    "    df[cols] = scaler.fit_transform(df[cols])\n",
    "    plot_scaled_data(df, cols)\n",
    "    return df\n",
    "\n",
    "def plot_scaled_data(df, cols):\n",
    "    plt.figure(figsize=(10, 8))\n",
    "    for col in cols:\n",
    "        sns.distplot(df[col])\n",
    "    plt.title('Distribution of numerical variables (after scaling)')\n",
    "    plt.show()\n",
    "    return None\n",
    "\n",
    "min_max_scaler = MinMaxScaler()\n",
    "(avengers.pipe(scale_data, min_max_scaler)\n",
    "         .describe())"
   ]
  },
  {
   "cell_type": "markdown",
   "metadata": {},
   "source": [
    "**Standardize all variables**\n",
    "\n",
    "Standardization means both centering the data around 0 (by removing the mean) and scaling it to unit variance:\n",
    "\n",
    "$$ z_i =  \\frac{x_i - \\mu}{\\sigma}$$"
   ]
  },
  {
   "cell_type": "code",
   "execution_count": 10,
   "metadata": {},
   "outputs": [
    {
     "data": {
      "image/png": "[encoded data removed]",
      "text/plain": [
       "<Figure size 720x576 with 1 Axes>"
      ]
     },
     "metadata": {},
     "output_type": "display_data"
    },
    {
     "data": {
      "text/html": [
       "<div>\n",
       "<style scoped>\n",
       "    .dataframe tbody tr th:only-of-type {\n",
       "        vertical-align: middle;\n",
       "    }\n",
       "\n",
       "    .dataframe tbody tr th {\n",
       "        vertical-align: top;\n",
       "    }\n",
       "\n",
       "    .dataframe thead th {\n",
       "        text-align: right;\n",
       "    }\n",
       "</style>\n",
       "<table border=\"1\" class=\"dataframe\">\n",
       "  <thead>\n",
       "    <tr style=\"text-align: right;\">\n",
       "      <th></th>\n",
       "      <th>Appearances</th>\n",
       "      <th>TotalDeaths</th>\n",
       "      <th>TotalReturns</th>\n",
       "    </tr>\n",
       "  </thead>\n",
       "  <tbody>\n",
       "    <tr>\n",
       "      <th>count</th>\n",
       "      <td>1.550000e+02</td>\n",
       "      <td>1.550000e+02</td>\n",
       "      <td>155.000000</td>\n",
       "    </tr>\n",
       "    <tr>\n",
       "      <th>mean</th>\n",
       "      <td>-6.876220e-17</td>\n",
       "      <td>6.876220e-17</td>\n",
       "      <td>0.000000</td>\n",
       "    </tr>\n",
       "    <tr>\n",
       "      <th>std</th>\n",
       "      <td>1.003241e+00</td>\n",
       "      <td>1.003241e+00</td>\n",
       "      <td>1.003241</td>\n",
       "    </tr>\n",
       "    <tr>\n",
       "      <th>min</th>\n",
       "      <td>-6.322885e-01</td>\n",
       "      <td>-6.661510e-01</td>\n",
       "      <td>-0.521453</td>\n",
       "    </tr>\n",
       "    <tr>\n",
       "      <th>25%</th>\n",
       "      <td>-5.419045e-01</td>\n",
       "      <td>-6.661510e-01</td>\n",
       "      <td>-0.521453</td>\n",
       "    </tr>\n",
       "    <tr>\n",
       "      <th>50%</th>\n",
       "      <td>-4.102428e-01</td>\n",
       "      <td>-6.661510e-01</td>\n",
       "      <td>-0.521453</td>\n",
       "    </tr>\n",
       "    <tr>\n",
       "      <th>75%</th>\n",
       "      <td>1.178275e-01</td>\n",
       "      <td>6.408541e-01</td>\n",
       "      <td>0.975311</td>\n",
       "    </tr>\n",
       "    <tr>\n",
       "      <th>max</th>\n",
       "      <td>5.532327e+00</td>\n",
       "      <td>5.868874e+00</td>\n",
       "      <td>6.962366</td>\n",
       "    </tr>\n",
       "  </tbody>\n",
       "</table>\n",
       "</div>"
      ],
      "text/plain": [
       "        Appearances   TotalDeaths  TotalReturns\n",
       "count  1.550000e+02  1.550000e+02    155.000000\n",
       "mean  -6.876220e-17  6.876220e-17      0.000000\n",
       "std    1.003241e+00  1.003241e+00      1.003241\n",
       "min   -6.322885e-01 -6.661510e-01     -0.521453\n",
       "25%   -5.419045e-01 -6.661510e-01     -0.521453\n",
       "50%   -4.102428e-01 -6.661510e-01     -0.521453\n",
       "75%    1.178275e-01  6.408541e-01      0.975311\n",
       "max    5.532327e+00  5.868874e+00      6.962366"
      ]
     },
     "execution_count": 10,
     "metadata": {},
     "output_type": "execute_result"
    }
   ],
   "source": [
    "from sklearn.preprocessing import StandardScaler\n",
    "\n",
    "standard_scaler = StandardScaler()\n",
    "(avengers.pipe(scale_data, standard_scaler)\n",
    "         .describe())"
   ]
  },
  {
   "cell_type": "markdown",
   "metadata": {},
   "source": [
    "## 5.2 Categorical data\n",
    "\n",
    "Categorical data represents categories (e.g., gender, marital status, hometown).\n",
    "\n",
    "Categorical variables can take on a limited, and usually fixed, number of possible values, also known as levels.\n",
    "\n",
    "The categories can also take on numerical values (e.g., ratings), but those numbers have no mathematical meaning:\n",
    "* You can't do mathematical operations, even if the computer says yes\n",
    "* Nor sort them in ascending or descending order.\n",
    "\n",
    "**Binary data**\n",
    "\n",
    "`Active` and `Gender`\n",
    "\n",
    "Algorithms can't read numerical data\n",
    "\n",
    "The method `Series.map` allows us to easily deal with this cases, mapping inputs to outputs."
   ]
  },
  {
   "cell_type": "code",
   "execution_count": 11,
   "metadata": {},
   "outputs": [
    {
     "data": {
      "text/plain": [
       "0    1\n",
       "1    1\n",
       "2    1\n",
       "Name: Active, dtype: int64"
      ]
     },
     "execution_count": 11,
     "metadata": {},
     "output_type": "execute_result"
    }
   ],
   "source": [
    "(avengers['Active'].map({'YES': 1, 'NO': 0})\n",
    "                   .head(n=3))"
   ]
  },
  {
   "cell_type": "markdown",
   "metadata": {},
   "source": [
    "Let's convert both columns to numerical values."
   ]
  },
  {
   "cell_type": "code",
   "execution_count": 12,
   "metadata": {},
   "outputs": [
    {
     "ename": "IndentationError",
     "evalue": "unexpected indent (<ipython-input-12-fb711311df2b>, line 3)",
     "output_type": "error",
     "traceback": [
      "\u001b[0;36m  File \u001b[0;32m\"<ipython-input-12-fb711311df2b>\"\u001b[0;36m, line \u001b[0;32m3\u001b[0m\n\u001b[0;31m    'FEMALE': 0}))\u001b[0m\n\u001b[0m    ^\u001b[0m\n\u001b[0;31mIndentationError\u001b[0m\u001b[0;31m:\u001b[0m unexpected indent\n"
     ]
    }
   ],
   "source": [
    "#avengers = avengers.assign(Active=avengers['Active'].map({'YES': 1, 'NO': 0}),\n",
    "#                           Gender=avengers['Gender'].map({'MALE': 1, \n",
    "                                                          'FEMALE': 0}))\n",
    "#avengers.head(3)"
   ]
  },
  {
   "cell_type": "markdown",
   "metadata": {},
   "source": [
    "**Low cardinality data**\n",
    "\n",
    "`Universe`\n",
    "\n",
    "Categorical dtype"
   ]
  },
  {
   "cell_type": "code",
   "execution_count": null,
   "metadata": {},
   "outputs": [],
   "source": []
  },
  {
   "cell_type": "markdown",
   "metadata": {},
   "source": [
    "get dummies"
   ]
  },
  {
   "cell_type": "code",
   "execution_count": null,
   "metadata": {},
   "outputs": [],
   "source": []
  },
  {
   "cell_type": "markdown",
   "metadata": {},
   "source": [
    "**High cardinality data**"
   ]
  },
  {
   "cell_type": "code",
   "execution_count": null,
   "metadata": {},
   "outputs": [],
   "source": []
  },
  {
   "cell_type": "markdown",
   "metadata": {},
   "source": [
    "## 5.3 Ordinal data\n",
    "\n",
    "`Membership`\n",
    "\n",
    "Label encoder (Series.map becomes unpractical)"
   ]
  },
  {
   "cell_type": "markdown",
   "metadata": {},
   "source": [
    "# 6 Bonus\n",
    "\n",
    "## 6.1 Scaling with outliers\n",
    "\n",
    "## 6.2 Other ways to dummify"
   ]
  }
 ],
 "metadata": {
  "kernelspec": {
   "display_name": "Python 3",
   "language": "python",
   "name": "python3"
  },
  "language_info": {
   "codemirror_mode": {
    "name": "ipython",
    "version": 3
   },
   "file_extension": ".py",
   "mimetype": "text/x-python",
   "name": "python",
   "nbconvert_exporter": "python",
   "pygments_lexer": "ipython3",
   "version": "3.6.3"
  }
 },
 "nbformat": 4,
 "nbformat_minor": 2
}
