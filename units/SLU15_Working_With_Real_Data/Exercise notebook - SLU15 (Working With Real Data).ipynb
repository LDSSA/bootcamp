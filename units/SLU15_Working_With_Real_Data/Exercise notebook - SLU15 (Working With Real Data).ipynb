{
 "cells": [
  {
   "cell_type": "markdown",
   "metadata": {
    "deletable": false,
    "editable": false,
    "nbgrader": {
     "checksum": "a9f8781f28f5729be5c4ed2804bdcddf",
     "grade": false,
     "grade_id": "cell-f16e3dd76b298ad4",
     "locked": true,
     "schema_version": 1,
     "solution": false
    }
   },
   "source": [
    "# SLU15 - Working With Real Data: Exercises notebook"
   ]
  },
  {
   "cell_type": "markdown",
   "metadata": {
    "deletable": false,
    "editable": false,
    "nbgrader": {
     "checksum": "d307df3fda1dfa3bfeab708b9c663e90",
     "grade": false,
     "grade_id": "cell-de4512a037d6b7ce",
     "locked": true,
     "schema_version": 1,
     "solution": false
    }
   },
   "source": [
    "## 1 About the data\n",
    "\n",
    "In this exercise we will be cleaning the data from the well-known titanic dataset. "
   ]
  },
  {
   "cell_type": "code",
   "execution_count": null,
   "metadata": {
    "deletable": false,
    "editable": false,
    "nbgrader": {
     "checksum": "2e60cfaab2835700d2915fd281d7c5af",
     "grade": false,
     "grade_id": "cell-159bcb71f42e3691",
     "locked": true,
     "schema_version": 1,
     "solution": false
    }
   },
   "outputs": [],
   "source": [
    "import pandas as pd\n",
    "import numpy as np\n",
    "import matplotlib.pyplot as plt\n",
    "import seaborn as sns\n",
    "\n",
    "titanic = pd.read_csv('data/titanic.csv', index_col='PassengerId')\n",
    "titanic.head(n=3)"
   ]
  },
  {
   "cell_type": "code",
   "execution_count": null,
   "metadata": {
    "deletable": false,
    "editable": false,
    "nbgrader": {
     "checksum": "cb0d735cccacb68caf3ac5bdb78331e2",
     "grade": false,
     "grade_id": "cell-5936bdea4958e13b",
     "locked": true,
     "schema_version": 1,
     "solution": false
    }
   },
   "outputs": [],
   "source": [
    "X = titanic.copy()\n",
    "y = X.pop('Survived')"
   ]
  },
  {
   "cell_type": "markdown",
   "metadata": {
    "deletable": false,
    "editable": false,
    "nbgrader": {
     "checksum": "0889e48c8af0b8529535fead7110b4f0",
     "grade": false,
     "grade_id": "cell-5b226bc3bf62c0ed",
     "locked": true,
     "schema_version": 1,
     "solution": false
    }
   },
   "source": [
    "The first thing we want to do is to check the dtypes of our features."
   ]
  },
  {
   "cell_type": "code",
   "execution_count": null,
   "metadata": {
    "deletable": false,
    "editable": false,
    "nbgrader": {
     "checksum": "5b22eb030cec41d76953c297740ed3c9",
     "grade": false,
     "grade_id": "cell-f632f5b88c090ec1",
     "locked": true,
     "schema_version": 1,
     "solution": false
    }
   },
   "outputs": [],
   "source": [
    "X.dtypes"
   ]
  },
  {
   "cell_type": "markdown",
   "metadata": {
    "deletable": false,
    "editable": false,
    "nbgrader": {
     "checksum": "432e4cb9527bcf5ec3f5f9a6154dd3df",
     "grade": false,
     "grade_id": "cell-46a98ad5fefa0ebe",
     "locked": true,
     "schema_version": 1,
     "solution": false
    }
   },
   "source": [
    "## 2 Cleaning the Titanic data"
   ]
  },
  {
   "cell_type": "markdown",
   "metadata": {
    "deletable": false,
    "editable": false,
    "nbgrader": {
     "checksum": "93be9ba394d37546fcba8010748036ee",
     "grade": false,
     "grade_id": "cell-2539330ad7ffa6a7",
     "locked": true,
     "schema_version": 1,
     "solution": false
    }
   },
   "source": [
    "### Exercise 1: Scaling numerical values (graded)\n",
    "\n",
    "As stated in the learning notebook, having variables in different scales may prevent our estimator from learning.\n",
    "\n",
    "The first thing we will do is to scale all numerical variables."
   ]
  },
  {
   "cell_type": "code",
   "execution_count": null,
   "metadata": {
    "deletable": false,
    "nbgrader": {
     "checksum": "8d1abe4bb83f3f2ed328db3c6cdee439",
     "grade": false,
     "grade_id": "cell-3e4465f2a536b366",
     "locked": false,
     "schema_version": 1,
     "solution": true
    }
   },
   "outputs": [],
   "source": [
    "from sklearn.preprocessing import MinMaxScaler\n",
    "\n",
    "def scale_numerical_features(X, range_min=0, range_max=1):\n",
    "    \"\"\" \n",
    "    Scales all numerical variables in the dataframe.\n",
    "    \n",
    "    Args:\n",
    "        X (pd.DataFrame): a dataframe containing all features\n",
    "    Returns:\n",
    "        X_s (pd.DataFrame): a scaled dataframe, with all features\n",
    "\n",
    "    \"\"\"\n",
    "    X_s = X.copy()\n",
    "    # use select_dtypes().columns to list the numerical columns\n",
    "    # cols = ... \n",
    "    # YOUR CODE HERE\n",
    "    raise NotImplementedError()\n",
    "    # initialize the min_max_scaler, with range_min and range_max\n",
    "    # as parameters for the feature_range (see MinMaxScaler docs)\n",
    "    # min_max_scaler = ...\n",
    "    # YOUR CODE HERE\n",
    "    raise NotImplementedError()\n",
    "    # use min_max_scaler to scale all variables\n",
    "    # X_s[cols] = ...\n",
    "    # YOUR CODE HERE\n",
    "    raise NotImplementedError()\n",
    "    return X_s"
   ]
  },
  {
   "cell_type": "code",
   "execution_count": null,
   "metadata": {
    "deletable": false,
    "editable": false,
    "nbgrader": {
     "checksum": "a4d99fdba63652ce60317316aa852fea",
     "grade": true,
     "grade_id": "cell-0c9076faa5559934",
     "locked": true,
     "points": 4,
     "schema_version": 1,
     "solution": false
    }
   },
   "outputs": [],
   "source": [
    "\"\"\"Check that the solution is correct.\"\"\"\n",
    "X_scaled = scale_numerical_features(X)\n",
    "\n",
    "assert all(X_scaled.select_dtypes(exclude='object').min() >= 0)\n",
    "assert all(X_scaled.select_dtypes(exclude='object').max() <= 1)"
   ]
  },
  {
   "cell_type": "markdown",
   "metadata": {
    "deletable": false,
    "editable": false,
    "nbgrader": {
     "checksum": "0fccd97e18482c2aa4ff77b7a16b44b4",
     "grade": false,
     "grade_id": "cell-531832e38e6f379e",
     "locked": true,
     "schema_version": 1,
     "solution": false
    }
   },
   "source": [
    "### Exercise 2: Binary categorical variables (graded)\n",
    "\n",
    "Now, we want to make sure we encode the binary categorical variables. We will use `df.nunique()` to identify them."
   ]
  },
  {
   "cell_type": "code",
   "execution_count": null,
   "metadata": {
    "deletable": false,
    "editable": false,
    "nbgrader": {
     "checksum": "184ea419bd6da07d6deee06bdee52c5f",
     "grade": false,
     "grade_id": "cell-d3b8deb1daee580b",
     "locked": true,
     "schema_version": 1,
     "solution": false
    }
   },
   "outputs": [],
   "source": [
    "(X_scaled.select_dtypes(include='object')\n",
    "         .nunique())"
   ]
  },
  {
   "cell_type": "code",
   "execution_count": null,
   "metadata": {
    "deletable": false,
    "editable": false,
    "nbgrader": {
     "checksum": "346973f14481489b3d2fe859dc1a85b4",
     "grade": false,
     "grade_id": "cell-9d711fd4283e03dd",
     "locked": true,
     "schema_version": 1,
     "solution": false
    }
   },
   "outputs": [],
   "source": [
    "X_scaled['Sex'].value_counts()"
   ]
  },
  {
   "cell_type": "markdown",
   "metadata": {
    "deletable": false,
    "editable": false,
    "nbgrader": {
     "checksum": "d4d6af485e9a4be4c24139da61fc643e",
     "grade": false,
     "grade_id": "cell-da6da745af7bdd89",
     "locked": true,
     "schema_version": 1,
     "solution": false
    }
   },
   "source": [
    "Let's save the counts for later use, while testing our solution."
   ]
  },
  {
   "cell_type": "code",
   "execution_count": null,
   "metadata": {
    "deletable": false,
    "editable": false,
    "nbgrader": {
     "checksum": "e8426c88abbf806f62dd64fffbc9b210",
     "grade": false,
     "grade_id": "cell-12f1a72f4e06009b",
     "locked": true,
     "schema_version": 1,
     "solution": false
    }
   },
   "outputs": [],
   "source": [
    "sex_string_counts = X_scaled['Sex'].value_counts()"
   ]
  },
  {
   "cell_type": "code",
   "execution_count": null,
   "metadata": {
    "deletable": false,
    "nbgrader": {
     "checksum": "8186b94ccb71f2e0a53a82098c0ab156",
     "grade": false,
     "grade_id": "cell-ec7b5600256b7523",
     "locked": false,
     "schema_version": 1,
     "solution": true
    }
   },
   "outputs": [],
   "source": [
    "def encode_sex(X):\n",
    "    \"\"\" \n",
    "    Converts 'Sex' from string to int, using an explicit mapping.\n",
    "    \n",
    "    Args:\n",
    "        X (pd.DataFrame): a dataframe containing all features\n",
    "    Returns:\n",
    "        X_e (pd.DataFrame): a dataframe, with Sex encoded as int\n",
    "\n",
    "    \"\"\"\n",
    "    X_e = X.copy()\n",
    "    # create a dictionary mapping the current values to int values\n",
    "    # 'male' should be mapped to 1 and 'female' to 0\n",
    "    # sex_to_int = ...\n",
    "    # YOUR CODE HERE\n",
    "    raise NotImplementedError()\n",
    "    # change Sex column from strings to ints, using the dictionary\n",
    "    # X_e = ... or X_e['Sex'] = ...\n",
    "    # YOUR CODE HERE\n",
    "    raise NotImplementedError()\n",
    "    return X_e"
   ]
  },
  {
   "cell_type": "code",
   "execution_count": null,
   "metadata": {
    "deletable": false,
    "editable": false,
    "nbgrader": {
     "checksum": "cac5540d520c601b1cf4f524b823ee12",
     "grade": true,
     "grade_id": "cell-a63ec6dac3b0a300",
     "locked": true,
     "points": 4,
     "schema_version": 1,
     "solution": false
    }
   },
   "outputs": [],
   "source": [
    "\"\"\"Check that the solution is correct.\"\"\"\n",
    "X_encoded = encode_sex(X_scaled)\n",
    "sex_int_counts = X_encoded['Sex'].value_counts()\n"
   ]
  },
  {
   "cell_type": "markdown",
   "metadata": {
    "deletable": false,
    "editable": false,
    "nbgrader": {
     "checksum": "8bb4a7450220527cdaa13efea63fbb36",
     "grade": false,
     "grade_id": "cell-1e0697ce8670cf79",
     "locked": true,
     "schema_version": 1,
     "solution": false
    }
   },
   "source": [
    "### Exercise 3: Low-cardinality categorical variables (graded)\n",
    "\n",
    "We will encode the `Embarked` variable as categorical with three possible, non-ordered values."
   ]
  },
  {
   "cell_type": "code",
   "execution_count": null,
   "metadata": {
    "deletable": false,
    "nbgrader": {
     "checksum": "837548d651bc516a82d10e3d6f84a4d8",
     "grade": false,
     "grade_id": "cell-4720ba22be810107",
     "locked": false,
     "schema_version": 1,
     "solution": true
    }
   },
   "outputs": [],
   "source": [
    "def encode_embarked(X):\n",
    "    \"\"\"\n",
    "    Converts 'Embarked' to the categorical type.\n",
    "    \n",
    "    Args:\n",
    "        X (pd.DataFrame): a dataframe containing all features\n",
    "    Returns:\n",
    "        X_cat (pd.DataFrame): a dataframe, with Embarked as categorical\n",
    "    \"\"\"\n",
    "    X_cat = X.copy()\n",
    "    # change Embarked to type category\n",
    "    # X_cat = ... or X_cat['Embarked'] = ...\n",
    "    # YOUR CODE HERE\n",
    "    raise NotImplementedError()\n",
    "    print('Is ordered: {}'.format(X_cat['Embarked'].cat.ordered))\n",
    "    print('Categories: {}'.format(X_cat['Embarked'].cat.categories.values))\n",
    "    return X_cat"
   ]
  },
  {
   "cell_type": "code",
   "execution_count": null,
   "metadata": {
    "deletable": false,
    "editable": false,
    "nbgrader": {
     "checksum": "4a88a9295038699cd277816ba9e638e5",
     "grade": true,
     "grade_id": "cell-3857c30743a25a50",
     "locked": true,
     "points": 4,
     "schema_version": 1,
     "solution": false
    }
   },
   "outputs": [],
   "source": [
    "\"\"\"Check that the solution is correct.\"\"\"\n",
    "X_cat = encode_embarked(X_encoded)\n",
    "\n",
    "assert X_cat['Embarked'].dtype == 'category'"
   ]
  },
  {
   "cell_type": "markdown",
   "metadata": {
    "deletable": false,
    "editable": false,
    "nbgrader": {
     "checksum": "6192b641547af90575f84297e2e755f2",
     "grade": false,
     "grade_id": "cell-a7e4b795f909ba28",
     "locked": true,
     "schema_version": 1,
     "solution": false
    }
   },
   "source": [
    "Please note that, despite the fact there's no order in our categories, we can call `codes` on our categorical variable."
   ]
  },
  {
   "cell_type": "code",
   "execution_count": null,
   "metadata": {
    "deletable": false,
    "editable": false,
    "nbgrader": {
     "checksum": "bec6f2fcd2e657d64c10d9f1359221f0",
     "grade": false,
     "grade_id": "cell-e2754286d55fe83d",
     "locked": true,
     "schema_version": 1,
     "solution": false
    }
   },
   "outputs": [],
   "source": [
    "X_cat['Embarked'].cat.codes.sample(n=3)"
   ]
  },
  {
   "cell_type": "markdown",
   "metadata": {
    "deletable": false,
    "editable": false,
    "nbgrader": {
     "checksum": "9781d8d8f83eba84046178a4e98b692c",
     "grade": false,
     "grade_id": "cell-c24bc27b2866af9d",
     "locked": true,
     "schema_version": 1,
     "solution": false
    }
   },
   "source": [
    "### Exercise 4: Dummy-encoding (graded)\n",
    "\n",
    "The higher-cardinality features we have in our dataset are, for the most part, identifiers and we will eventually drop them (for now).\n",
    "\n",
    "To keep a sense of people travelling together and family groups, we will keep the family name as a feature and drop the rest.\n",
    "\n",
    "To manage dimensionality, we only keep family names with more than two occurences, otherwise we mark passengers as travelling alone."
   ]
  },
  {
   "cell_type": "code",
   "execution_count": null,
   "metadata": {
    "deletable": false,
    "nbgrader": {
     "checksum": "245a38f03be616e50af7ca9afa79eba8",
     "grade": false,
     "grade_id": "cell-448ce1f0353e6cb8",
     "locked": false,
     "schema_version": 1,
     "solution": true
    }
   },
   "outputs": [],
   "source": [
    "def dummy_encode(X):\n",
    "    \"\"\"\n",
    "    Creates dummies for categorical features.\n",
    "    \n",
    "    Args:\n",
    "        X (pd.DataFrame): a dataframe containing all features\n",
    "    Returns:\n",
    "        X_cat (pd.DataFrame): a dataframe, with dummies\n",
    "    \"\"\"\n",
    "    X_dummies = X.copy()\n",
    "    X_dummies = extract_surname(X_dummies)\n",
    "    # drop features 'Name', 'Ticket' and 'Cabin'\n",
    "    # X_dummies = ...\n",
    "    # YOUR CODE HERE\n",
    "    raise NotImplementedError()\n",
    "    # list containing the names of the categorical columns, i.e.,\n",
    "    # 'Embarked' and 'Surname'\n",
    "    # cats = ...\n",
    "    # YOUR CODE HERE\n",
    "    raise NotImplementedError()\n",
    "    # create dummy variables for all categorical columns\n",
    "    # X_dummies = ...\n",
    "    # YOUR CODE HERE\n",
    "    raise NotImplementedError()\n",
    "    return X_dummies\n",
    "\n",
    "def extract_surname(X):\n",
    "    \"\"\"\n",
    "    Extracts relevant family names from data.\n",
    "    \n",
    "    Args:\n",
    "        X (pd.DataFrame): a dataframe containing all features\n",
    "    Returns:\n",
    "        X_family (pd.DataFrame): a dataframe, with surnames\n",
    "    \"\"\"\n",
    "    X_fam = X.copy()\n",
    "    X_fam = X_fam.assign(Surname=X_fam['Name'].str.extract('^(.+?),', \n",
    "                                                           expand=False))\n",
    "    X_fam = keep_families_only(X_fam)\n",
    "    X_fam = X_fam.assign(Surname=X_fam['Surname'].astype('category'))\n",
    "    return X_fam\n",
    "\n",
    "def keep_families_only(X):\n",
    "    \"\"\"\n",
    "    If family has more than one member, keep the name. Otherwise, use 'Alone'.\n",
    "    \n",
    "    Args:\n",
    "        X (pd.DataFrame): a dataframe containing all features\n",
    "    Returns:\n",
    "        X_family (pd.DataFrame): a dataframe, with familu surnames\n",
    "    \"\"\"\n",
    "    X_fam = X.copy()\n",
    "    name_counts = X_fam['Surname'].value_counts()\n",
    "    families = name_counts[name_counts > 1].index\n",
    "    X_fam.loc[(~X_fam['Surname'].isin(families)), 'Surname'] = 'Alone'\n",
    "    return X_fam"
   ]
  },
  {
   "cell_type": "code",
   "execution_count": null,
   "metadata": {
    "deletable": false,
    "editable": false,
    "nbgrader": {
     "checksum": "8682ca7ed3a56182b008e014d32c9686",
     "grade": true,
     "grade_id": "cell-4d170aec616b4864",
     "locked": true,
     "points": 4,
     "schema_version": 1,
     "solution": false
    }
   },
   "outputs": [],
   "source": [
    "\"\"\"Check that the solution is correct.\"\"\"\n",
    "X_dummies = dummy_encode(X_cat)\n",
    "\n",
    "assert X_dummies.shape == (183, 43)"
   ]
  },
  {
   "cell_type": "markdown",
   "metadata": {
    "deletable": false,
    "editable": false,
    "nbgrader": {
     "checksum": "12e7a5ec180080e8d90a7efc0607262f",
     "grade": false,
     "grade_id": "cell-99f58c18d48c5f61",
     "locked": true,
     "schema_version": 1,
     "solution": false
    }
   },
   "source": [
    "### Exercise 5: Ordinal variables\n",
    "\n",
    "Finally, we will deal with `Pclass`, or passenger class.\n",
    "\n",
    "We will have to encode it as a categorical variable with an explicit order."
   ]
  },
  {
   "cell_type": "code",
   "execution_count": null,
   "metadata": {
    "deletable": false,
    "nbgrader": {
     "checksum": "f8b26528f9e628fc3c9fba8d911205fd",
     "grade": false,
     "grade_id": "cell-19c253c171a6330a",
     "locked": false,
     "schema_version": 1,
     "solution": true
    }
   },
   "outputs": [],
   "source": [
    "def encode_class(X):\n",
    "    \"\"\"\n",
    "    Encodes 'Pclass' as an ordinal feature.\n",
    "    \n",
    "    Args:\n",
    "        X (pd.DataFrame): a dataframe containing all features\n",
    "    Returns:\n",
    "        X_cat (pd.DataFrame): a dataframe, with 'Pclass' ordinal\n",
    "    \"\"\"\n",
    "    X_class = X.copy()\n",
    "    order = ['third', 'second', 'first']\n",
    "    # change 'Pclass' dtype to category\n",
    "    # X_class = ... or X_class['Pclass'] = ...\n",
    "    # YOUR CODE HERE\n",
    "    raise NotImplementedError()\n",
    "    # set 'Pclass' categories as ordered in 'order'\n",
    "    # X_class = ... or X_class['Pclass'] = ...\n",
    "    # YOUR CODE HERE\n",
    "    raise NotImplementedError()\n",
    "    print('Is ordered: {}'.format(X_class['Pclass'].cat.ordered))\n",
    "    print('Categories: {}'.format(X_class['Pclass'].cat.categories.values))\n",
    "    # change from categories to codes using Series.cat.codes\n",
    "    # X_class = ... or X_class['Pclass'] = ...\n",
    "    # YOUR CODE HERE\n",
    "    raise NotImplementedError()\n",
    "    return X_class"
   ]
  },
  {
   "cell_type": "code",
   "execution_count": null,
   "metadata": {
    "deletable": false,
    "editable": false,
    "nbgrader": {
     "checksum": "fd1b77963544be285713024050e6c734",
     "grade": true,
     "grade_id": "cell-1c3c0246ee35e543",
     "locked": true,
     "points": 4,
     "schema_version": 1,
     "solution": false
    }
   },
   "outputs": [],
   "source": [
    "\"\"\"Check that the solution is correct.\"\"\"\n",
    "X_class = encode_class(X_dummies)\n",
    "class_string_counts = X_dummies['Pclass'].value_counts()\n",
    "class_int_counts = X_class['Pclass'].value_counts()"
   ]
  }
 ],
 "metadata": {
  "kernelspec": {
   "display_name": "Python 3",
   "language": "python",
   "name": "python3"
  },
  "language_info": {
   "codemirror_mode": {
    "name": "ipython",
    "version": 3
   },
   "file_extension": ".py",
   "mimetype": "text/x-python",
   "name": "python",
   "nbconvert_exporter": "python",
   "pygments_lexer": "ipython3",
   "version": "3.6.3"
  }
 },
 "nbformat": 4,
 "nbformat_minor": 2
}
