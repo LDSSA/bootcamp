{
 "cells": [
  {
   "cell_type": "markdown",
   "metadata": {
    "deletable": false,
    "editable": false,
    "nbgrader": {
     "checksum": "03637bd70a686a6f53f79ed59f0b4bb0",
     "grade": false,
     "grade_id": "cell-68fa160327bd350b",
     "locked": true,
     "schema_version": 1,
     "solution": false
    }
   },
   "source": [
    "# SLU12 - Validation metrics for regression: Exercise Notebook\n",
    "\n",
    "In this notebook, you will implement:\n",
    "    - Mean Absolute Error (MAE)\n",
    "    - Mean Squared Error (MSE)\n",
    "    - Root Mean Squared Error (RMSE)\n",
    "    - Coefficient of Determination (R²)\n",
    "    - Adjusted R²\n",
    "    - Regularized Linear Regression loss\n",
    "    - (BONUS) Partial derivatives for the Regularized Linear Regression loss"
   ]
  },
  {
   "cell_type": "markdown",
   "metadata": {
    "deletable": false,
    "editable": false,
    "nbgrader": {
     "checksum": "5821a4a3af156882ab4f382ff8246aec",
     "grade": false,
     "grade_id": "cell-517511ad73591944",
     "locked": true,
     "schema_version": 1,
     "solution": false
    }
   },
   "source": [
    "## 1 Metrics"
   ]
  },
  {
   "cell_type": "code",
   "execution_count": null,
   "metadata": {
    "deletable": false,
    "editable": false,
    "nbgrader": {
     "checksum": "6d53f55efb4042a2bf84a3019a3eec26",
     "grade": false,
     "grade_id": "cell-c3b5b62586587194",
     "locked": true,
     "schema_version": 1,
     "solution": false
    }
   },
   "outputs": [],
   "source": [
    "# This cell creates the data and parameters that \n",
    "# you can use to test your implementations.\n",
    "\n",
    "import numpy as np\n",
    "import pandas as pd\n",
    "from sklearn.datasets import load_boston\n",
    "from sklearn.linear_model import LinearRegression\n",
    "\n",
    "np.random.seed(60)\n",
    "\n",
    "data = load_boston()\n",
    "\n",
    "x = pd.DataFrame(data['data'], columns=data['feature_names'])\n",
    "y = pd.Series(data['target'])\n",
    "\n",
    "lr = LinearRegression()\n",
    "lr.fit(x, y)\n",
    "\n",
    "y_hat = lr.predict(x)\n",
    "\n",
    "betas = pd.Series([lr.intercept_] + list(lr.coef_))"
   ]
  },
  {
   "cell_type": "markdown",
   "metadata": {
    "deletable": false,
    "editable": false,
    "nbgrader": {
     "checksum": "657a1a6a12b34f8cfae64ec771744168",
     "grade": false,
     "grade_id": "cell-b4277453d93ffea7",
     "locked": true,
     "schema_version": 1,
     "solution": false
    }
   },
   "source": [
    "### 1.1 Mean Absolute Error\n",
    "\n",
    "$$MAE = \\frac{1}{N} \\sum_{n=1}^N \\left| y_n - \\hat{y}_n \\right|$$"
   ]
  },
  {
   "cell_type": "code",
   "execution_count": null,
   "metadata": {
    "deletable": false,
    "nbgrader": {
     "checksum": "f8c1a8bf8f9158071523b0528838600b",
     "grade": false,
     "grade_id": "cell-4959a7de3c3ad479",
     "locked": false,
     "schema_version": 1,
     "solution": true
    }
   },
   "outputs": [],
   "source": [
    "def mean_absolute_error(y, y_hat): \n",
    "    \"\"\"\n",
    "    Args: \n",
    "        y : pandas.Series with shape (num_observations,)\n",
    "            The targets\n",
    "        \n",
    "        y_hat : pandas.Series with shape (num_observations,)\n",
    "            The predictions\n",
    "        \n",
    "    Returns: \n",
    "        mae : pandas.Series with shape (num_observations,)\n",
    "    \"\"\"\n",
    "    # 1) Compute the difference.\n",
    "    # e = ...\n",
    "    # YOUR CODE HERE\n",
    "    raise NotImplementedError()\n",
    "    \n",
    "    # 2) Compute the absolute value of the difference.\n",
    "    # a = ...\n",
    "    # YOUR CODE HERE\n",
    "    raise NotImplementedError()\n",
    "    \n",
    "    # 3) Compute the mean of the absolute value of the difference.\n",
    "    # mae = ...\n",
    "    # YOUR CODE HERE\n",
    "    raise NotImplementedError()\n",
    "    \n",
    "    return mae"
   ]
  },
  {
   "cell_type": "code",
   "execution_count": null,
   "metadata": {
    "deletable": false,
    "editable": false,
    "nbgrader": {
     "checksum": "55d2d5b7ac4e8a1951502cbe535054a6",
     "grade": false,
     "grade_id": "cell-4bc5a8e9de443554",
     "locked": true,
     "schema_version": 1,
     "solution": false
    }
   },
   "outputs": [],
   "source": [
    "print(\"MAE: {}\".format(mean_absolute_error(y, y_hat)))"
   ]
  },
  {
   "cell_type": "markdown",
   "metadata": {
    "deletable": false,
    "editable": false,
    "nbgrader": {
     "checksum": "2e198ca84c4678bbc3ed29837b5b7cbf",
     "grade": false,
     "grade_id": "cell-e6d843593bc86290",
     "locked": true,
     "schema_version": 1,
     "solution": false
    }
   },
   "source": [
    "Expected output:\n",
    "```\n",
    "MAE: 3.2729446379969387\n",
    "```"
   ]
  },
  {
   "cell_type": "code",
   "execution_count": null,
   "metadata": {
    "deletable": false,
    "editable": false,
    "nbgrader": {
     "checksum": "ffcc5e9c0e0111586858531f5b697277",
     "grade": true,
     "grade_id": "cell-41455e2d039c8354",
     "locked": true,
     "points": 3,
     "schema_version": 1,
     "solution": false
    }
   },
   "outputs": [],
   "source": [
    "import math\n",
    "\n",
    "assert math.isclose(0.33316349496726444, \n",
    "                    mean_absolute_error(pd.Series(np.random.RandomState(10).rand(10)), \n",
    "                                        pd.Series(np.random.RandomState(20).rand(10))))\n",
    "\n",
    "assert math.isclose(0.39070816989559587, \n",
    "                    mean_absolute_error(pd.Series(np.random.RandomState(30).rand(10)), \n",
    "                                        pd.Series(np.random.RandomState(20).rand(10))))\n",
    "\n",
    "assert math.isclose(0.2567117528634928, \n",
    "                    mean_absolute_error(pd.Series(np.random.RandomState(30).rand(10)), \n",
    "                                        pd.Series(np.random.RandomState(500).rand(10))))"
   ]
  },
  {
   "cell_type": "markdown",
   "metadata": {
    "deletable": false,
    "editable": false,
    "nbgrader": {
     "checksum": "4999178a01762d82803be1562171a952",
     "grade": false,
     "grade_id": "cell-6e19afebf9f22bab",
     "locked": true,
     "schema_version": 1,
     "solution": false
    }
   },
   "source": [
    "### 1.2 Mean Squared Error\n",
    "\n",
    "$$MSE = \\frac{1}{N} \\sum_{n=1}^N (y_n - \\hat{y}_n)^2$$"
   ]
  },
  {
   "cell_type": "code",
   "execution_count": null,
   "metadata": {
    "deletable": false,
    "nbgrader": {
     "checksum": "8d0280ffc418813eb705db016e1e9299",
     "grade": false,
     "grade_id": "cell-d7a35367fa5f0f10",
     "locked": false,
     "schema_version": 1,
     "solution": true
    }
   },
   "outputs": [],
   "source": [
    "def mean_squared_error(y, y_hat):\n",
    "    \"\"\"\n",
    "    Args: \n",
    "        y : pandas.Series with shape (num_observations,)\n",
    "            The targets\n",
    "        \n",
    "        y_hat : pandas.Series with shape (num_observations,)\n",
    "            The predictions\n",
    "        \n",
    "    Returns: \n",
    "        mse : pandas.Series with shape (num_observations,)\n",
    "    \"\"\"\n",
    "    # 1) Compute the difference.\n",
    "    # e = ...\n",
    "    # YOUR CODE HERE\n",
    "    raise NotImplementedError()\n",
    "    \n",
    "    # 2) Compute the squares of the difference\n",
    "    # s = ...\n",
    "    # YOUR CODE HERE\n",
    "    raise NotImplementedError()\n",
    "    \n",
    "    # 3) Compute the mean of the squares of the difference.\n",
    "    # mse = ...\n",
    "    # YOUR CODE HERE\n",
    "    raise NotImplementedError()\n",
    "    \n",
    "    return mse"
   ]
  },
  {
   "cell_type": "code",
   "execution_count": null,
   "metadata": {
    "deletable": false,
    "editable": false,
    "nbgrader": {
     "checksum": "433e9e61555bc41d36c6d765877c1a55",
     "grade": false,
     "grade_id": "cell-73cca7bee0c9669f",
     "locked": true,
     "schema_version": 1,
     "solution": false
    }
   },
   "outputs": [],
   "source": [
    "print(\"MSE: {}\".format(mean_squared_error(y, y_hat)))"
   ]
  },
  {
   "cell_type": "markdown",
   "metadata": {
    "deletable": false,
    "editable": false,
    "nbgrader": {
     "checksum": "8d315f05682af68161ad60b492519427",
     "grade": false,
     "grade_id": "cell-4c113eb1042b710f",
     "locked": true,
     "schema_version": 1,
     "solution": false
    }
   },
   "source": [
    "Expected output: \n",
    "```\n",
    "MSE: 21.8977792176875\n",
    "```"
   ]
  },
  {
   "cell_type": "code",
   "execution_count": null,
   "metadata": {
    "deletable": false,
    "editable": false,
    "nbgrader": {
     "checksum": "0cb96607f38beb86a1c5b78a339f9b94",
     "grade": true,
     "grade_id": "cell-8ea8afca85e2b4bd",
     "locked": true,
     "points": 3,
     "schema_version": 1,
     "solution": false
    }
   },
   "outputs": [],
   "source": [
    "import math\n",
    "\n",
    "assert math.isclose(0.16469788257519086, \n",
    "                    mean_squared_error(pd.Series(np.random.RandomState(10).rand(10)), \n",
    "                                       pd.Series(np.random.RandomState(20).rand(10))))\n",
    "\n",
    "assert math.isclose(0.22325626250313846, \n",
    "                    mean_squared_error(pd.Series(np.random.RandomState(30).rand(10)), \n",
    "                                       pd.Series(np.random.RandomState(20).rand(10))))\n",
    "\n",
    "assert math.isclose(0.13478449093337383, \n",
    "                    mean_squared_error(pd.Series(np.random.RandomState(30).rand(10)), \n",
    "                                       pd.Series(np.random.RandomState(500).rand(10))))"
   ]
  },
  {
   "cell_type": "markdown",
   "metadata": {
    "deletable": false,
    "editable": false,
    "nbgrader": {
     "checksum": "2aa7abfaa2d4a3d486df432078926169",
     "grade": false,
     "grade_id": "cell-6d6fa40bc386a18f",
     "locked": true,
     "schema_version": 1,
     "solution": false
    }
   },
   "source": [
    "### 1.3 Root Mean Squared Error\n",
    "\n",
    "$$RMSE = \\sqrt{MSE}$$"
   ]
  },
  {
   "cell_type": "code",
   "execution_count": null,
   "metadata": {
    "deletable": false,
    "nbgrader": {
     "checksum": "cb32c824f4a14b69b7e0a84542349c9b",
     "grade": false,
     "grade_id": "cell-116b13594e8c311c",
     "locked": false,
     "schema_version": 1,
     "solution": true
    }
   },
   "outputs": [],
   "source": [
    "def root_mean_squared_error(y, y_hat): \n",
    "    \"\"\"\n",
    "    Args: \n",
    "        y : pandas.Series with shape (num_observations,)\n",
    "            The targets\n",
    "        \n",
    "        y_hat : pandas.Series with shape (num_observations,)\n",
    "            The predictions\n",
    "        \n",
    "    Returns: \n",
    "        rmse : pandas.Series with shape (num_observations,)\n",
    "    \"\"\"\n",
    "    # Compute the mean squared error.\n",
    "    # mse = ...\n",
    "    # YOUR CODE HERE\n",
    "    raise NotImplementedError()\n",
    "    \n",
    "    # Compute the root square.\n",
    "    # rmse = ...\n",
    "    # YOUR CODE HERE\n",
    "    raise NotImplementedError()\n",
    "    \n",
    "    return rmse"
   ]
  },
  {
   "cell_type": "code",
   "execution_count": null,
   "metadata": {
    "deletable": false,
    "editable": false,
    "nbgrader": {
     "checksum": "7013c2fb829fcfcddd028564f52a8cc6",
     "grade": false,
     "grade_id": "cell-958187135a37601f",
     "locked": true,
     "schema_version": 1,
     "solution": false
    }
   },
   "outputs": [],
   "source": [
    "print(\"RMSE: {}\".format(root_mean_squared_error(y, y_hat)))"
   ]
  },
  {
   "cell_type": "markdown",
   "metadata": {
    "deletable": false,
    "editable": false,
    "nbgrader": {
     "checksum": "6d2b2ccaf67909fa7fdb80f2a0a040b3",
     "grade": false,
     "grade_id": "cell-f98f1b5d71572bbb",
     "locked": true,
     "schema_version": 1,
     "solution": false
    }
   },
   "source": [
    "Expected output:\n",
    "```\n",
    "RMSE: 4.679506300635516\n",
    "```"
   ]
  },
  {
   "cell_type": "code",
   "execution_count": null,
   "metadata": {
    "deletable": false,
    "editable": false,
    "nbgrader": {
     "checksum": "bbf27245def62243580a820e6ad4f71e",
     "grade": true,
     "grade_id": "cell-774c0900c5f9193c",
     "locked": true,
     "points": 4,
     "schema_version": 1,
     "solution": false
    }
   },
   "outputs": [],
   "source": [
    "import math\n",
    "\n",
    "assert math.isclose(0.4058298690032448, \n",
    "                    root_mean_squared_error(pd.Series(np.random.RandomState(10).rand(10)), \n",
    "                                            pd.Series(np.random.RandomState(20).rand(10))))\n",
    "\n",
    "assert math.isclose(0.4725000132308342, \n",
    "                    root_mean_squared_error(pd.Series(np.random.RandomState(30).rand(10)), \n",
    "                                            pd.Series(np.random.RandomState(20).rand(10))))\n",
    "\n",
    "assert math.isclose(0.36713007358887645, \n",
    "                    root_mean_squared_error(pd.Series(np.random.RandomState(30).rand(10)), \n",
    "                                            pd.Series(np.random.RandomState(500).rand(10))))"
   ]
  },
  {
   "cell_type": "markdown",
   "metadata": {
    "deletable": false,
    "editable": false,
    "nbgrader": {
     "checksum": "518d7733d9bcd3470e8915b72a3c9816",
     "grade": false,
     "grade_id": "cell-7247af52a77608d5",
     "locked": true,
     "schema_version": 1,
     "solution": false
    }
   },
   "source": [
    "### 1.4 R² score\n",
    "\n",
    "$$\\bar{y} = \\frac{1}{N} \\sum_{n=1}^N y_n$$\n",
    "\n",
    "$$R² = 1 - \\frac{MSE(y, \\hat{y})}{MSE(y, \\bar{y})} \n",
    "= 1 - \\frac{\\frac{1}{N} \\sum_{n=1}^N (y_n - \\hat{y}_n)^2}{\\frac{1}{N} \\sum_{n=1}^N (y_n - \\bar{y})^2}\n",
    "= 1 - \\frac{\\sum_{n=1}^N (y_n - \\hat{y}_n)^2}{\\sum_{n=1}^N (y_n - \\bar{y})^2}$$"
   ]
  },
  {
   "cell_type": "code",
   "execution_count": null,
   "metadata": {
    "deletable": false,
    "nbgrader": {
     "checksum": "8fe86570ccecaf35985b3e2925a66212",
     "grade": false,
     "grade_id": "cell-51f11aef440a31c5",
     "locked": false,
     "schema_version": 1,
     "solution": true
    }
   },
   "outputs": [],
   "source": [
    "def r_squared(y, y_hat): \n",
    "    # Compute the mean squared error between \n",
    "    # the target and the predictions.\n",
    "    # mse_top = ...\n",
    "    # YOUR CODE HERE\n",
    "    raise NotImplementedError()\n",
    "    \n",
    "    # Compute the mean squared error between \n",
    "    # the target and the target mean.\n",
    "    # mse_bottom = ...\n",
    "    # YOUR CODE HERE\n",
    "    raise NotImplementedError()\n",
    "    \n",
    "    # Now, take both mean square errors\n",
    "    # and finish the computation of R².\n",
    "    # r2 = ...\n",
    "    # YOUR CODE HERE\n",
    "    raise NotImplementedError()\n",
    "    \n",
    "    return r2"
   ]
  },
  {
   "cell_type": "code",
   "execution_count": null,
   "metadata": {
    "deletable": false,
    "editable": false,
    "nbgrader": {
     "checksum": "4be6d9b3ab49d8a4f79d58d78df85373",
     "grade": false,
     "grade_id": "cell-8edd57ce8cf12b55",
     "locked": true,
     "schema_version": 1,
     "solution": false
    }
   },
   "outputs": [],
   "source": [
    "print(\"R²: {}\".format(r_squared(y, y_hat)))"
   ]
  },
  {
   "cell_type": "markdown",
   "metadata": {
    "deletable": false,
    "editable": false,
    "nbgrader": {
     "checksum": "e9b1cdf50e9533b14e64107eda112616",
     "grade": false,
     "grade_id": "cell-9edab24f359f7e79",
     "locked": true,
     "schema_version": 1,
     "solution": false
    }
   },
   "source": [
    "Expected output: \n",
    "```\n",
    "R²: 0.7406077428649427\n",
    "```"
   ]
  },
  {
   "cell_type": "code",
   "execution_count": null,
   "metadata": {
    "deletable": false,
    "editable": false,
    "nbgrader": {
     "checksum": "0c2a67f2a187faa2406bc8fb723ca3a5",
     "grade": true,
     "grade_id": "cell-7fb94c0cc204ea9b",
     "locked": true,
     "points": 3,
     "schema_version": 1,
     "solution": false
    }
   },
   "outputs": [],
   "source": [
    "import math\n",
    "\n",
    "assert math.isclose(-1.012757734643532, \n",
    "                    r_squared(pd.Series(np.random.RandomState(10).rand(10)), \n",
    "                              pd.Series(np.random.RandomState(20).rand(10))))\n",
    "\n",
    "assert math.isclose(-2.075782802360925, \n",
    "                    r_squared(pd.Series(np.random.RandomState(30).rand(10)), \n",
    "                              pd.Series(np.random.RandomState(20).rand(10))))\n",
    "\n",
    "assert math.isclose(-0.8569146262224803, \n",
    "                    r_squared(pd.Series(np.random.RandomState(30).rand(10)), \n",
    "                              pd.Series(np.random.RandomState(500).rand(10))))"
   ]
  },
  {
   "cell_type": "markdown",
   "metadata": {
    "deletable": false,
    "editable": false,
    "nbgrader": {
     "checksum": "01f6b7188cc584d846a3ab95f08f02be",
     "grade": false,
     "grade_id": "cell-e5687e52ae19a518",
     "locked": true,
     "schema_version": 1,
     "solution": false
    }
   },
   "source": [
    "### 1.5 Adjusted R² score\n",
    "\n",
    "$$\\bar{R}^2 = 1 - \\frac{N - 1}{N - K - 1} (1 - R^2)$$\n",
    "\n",
    "where $N$ is the number of observations in the dataset used for training the model (i.e. number of rows of the pandas dataframe) and $K$ is the number of features used by your model (i.e. number of columns of the pandas dataframe)"
   ]
  },
  {
   "cell_type": "code",
   "execution_count": null,
   "metadata": {
    "deletable": false,
    "nbgrader": {
     "checksum": "c15459c774c691265004eb0020ff20eb",
     "grade": false,
     "grade_id": "cell-b35baba302fa675b",
     "locked": false,
     "schema_version": 1,
     "solution": true
    }
   },
   "outputs": [],
   "source": [
    "def adjusted_r_squared(y, y_hat, K):\n",
    "    \"\"\"\n",
    "    Args: \n",
    "        y : pandas.Series with shape (num_observations,)\n",
    "            \n",
    "        y_hat : pandas.Series with shape (num_observations,)\n",
    "            \n",
    "        K : integer\n",
    "            Number of features used in the model \n",
    "            that computed y_hat.\n",
    "        \n",
    "    Returns:\n",
    "        adj_r2 : float\n",
    "            The adjusted value of R².\n",
    "    \"\"\"\n",
    "    # Compute R².\n",
    "    # r2 = ...\n",
    "    # YOUR CODE HERE\n",
    "    raise NotImplementedError()\n",
    "    \n",
    "    # Adjust R²\n",
    "    # adj_r2 = ...\n",
    "    # YOUR CODE HERE\n",
    "    raise NotImplementedError()\n",
    "    \n",
    "    return adj_r2"
   ]
  },
  {
   "cell_type": "code",
   "execution_count": null,
   "metadata": {
    "deletable": false,
    "editable": false,
    "nbgrader": {
     "checksum": "70c803faf37c79c3352241bf9cc0659a",
     "grade": false,
     "grade_id": "cell-3c74c33f25a842f1",
     "locked": true,
     "schema_version": 1,
     "solution": false
    }
   },
   "outputs": [],
   "source": [
    "print(\"Adj. R²: {}\".format(adjusted_r_squared(y, y_hat, x.shape[1])))"
   ]
  },
  {
   "cell_type": "markdown",
   "metadata": {
    "deletable": false,
    "editable": false,
    "nbgrader": {
     "checksum": "4889954283b7ee8c5cc5f526a087ad30",
     "grade": false,
     "grade_id": "cell-bb1d18e64ef934b8",
     "locked": true,
     "schema_version": 1,
     "solution": false
    }
   },
   "source": [
    "Expected output: \n",
    "```\n",
    "Adj. R²: 0.7337538824121872\n",
    "```"
   ]
  },
  {
   "cell_type": "code",
   "execution_count": null,
   "metadata": {
    "deletable": false,
    "editable": false,
    "nbgrader": {
     "checksum": "98fcdbd1b00605ce6b2dd02172ca50f8",
     "grade": true,
     "grade_id": "cell-2f310b9310e8fc38",
     "locked": true,
     "points": 3,
     "schema_version": 1,
     "solution": false
    }
   },
   "outputs": [],
   "source": [
    "import math\n",
    "\n",
    "\n",
    "assert math.isclose(-1.891075622505615, \n",
    "                    adjusted_r_squared(pd.Series(np.random.RandomState(65).rand(10)), \n",
    "                                       pd.Series(np.random.RandomState(10).rand(10)), 2))\n",
    "\n",
    "assert math.isclose(-3.0475058715078607, \n",
    "                    adjusted_r_squared(pd.Series(np.random.RandomState(65).rand(10)), \n",
    "                                       pd.Series(np.random.RandomState(10).rand(10)), 4))\n",
    "\n",
    "assert math.isclose(-5.745843119179767, \n",
    "                    adjusted_r_squared(pd.Series(np.random.RandomState(65).rand(10)), \n",
    "                                       pd.Series(np.random.RandomState(10).rand(10)), 6))\n",
    "\n",
    "\n",
    "assert math.isclose(-2.138572002282621, \n",
    "                    adjusted_r_squared(pd.Series(np.random.RandomState(1).rand(10)), \n",
    "                                       pd.Series(np.random.RandomState(42).rand(10)), 2))\n",
    "\n",
    "assert math.isclose(-3.394000803195669, \n",
    "                    adjusted_r_squared(pd.Series(np.random.RandomState(1).rand(10)), \n",
    "                                       pd.Series(np.random.RandomState(42).rand(10)), 4))\n",
    "\n",
    "assert math.isclose(-6.323334671992782, \n",
    "                    adjusted_r_squared(pd.Series(np.random.RandomState(1).rand(10)), \n",
    "                                       pd.Series(np.random.RandomState(42).rand(10)), 6))\n",
    "\n",
    "\n",
    "\n",
    "assert math.isclose(-3.6986284467219077, \n",
    "                    adjusted_r_squared(pd.Series(np.random.RandomState(23).rand(10)), \n",
    "                                       pd.Series(np.random.RandomState(13).rand(10)), 2))\n",
    "\n",
    "assert math.isclose(-5.57807982541067, \n",
    "                    adjusted_r_squared(pd.Series(np.random.RandomState(23).rand(10)), \n",
    "                                       pd.Series(np.random.RandomState(13).rand(10)), 4))\n",
    "\n",
    "assert math.isclose(-9.96346637568445, \n",
    "                    adjusted_r_squared(pd.Series(np.random.RandomState(23).rand(10)), \n",
    "                                       pd.Series(np.random.RandomState(13).rand(10)), 6))"
   ]
  },
  {
   "cell_type": "markdown",
   "metadata": {
    "deletable": false,
    "editable": false,
    "nbgrader": {
     "checksum": "cfff9c78b874ead3ef11e7530877d9e5",
     "grade": false,
     "grade_id": "cell-56bdb7b77c9bc15b",
     "locked": true,
     "schema_version": 1,
     "solution": false
    }
   },
   "source": [
    "## 2 Regularization"
   ]
  },
  {
   "cell_type": "markdown",
   "metadata": {
    "deletable": false,
    "editable": false,
    "nbgrader": {
     "checksum": "7c788b528df8f301076b50dbf0bb331c",
     "grade": false,
     "grade_id": "cell-649d810401fbc558",
     "locked": true,
     "schema_version": 1,
     "solution": false
    }
   },
   "source": [
    "#### 2.1 Compute Regularized Linear Regression loss\n",
    "\n",
    "$$L_{L_1} = \\lambda_1 \\|\\beta\\|_1^1 = \\lambda_1 \\sum_{k=1}^K \\left|\\beta_k\\right|$$\n",
    "\n",
    "$$L_{L_2} = \\lambda_2 \\|\\beta\\|_2^2 = \\lambda_2 \\sum_{k=1}^K \\beta_k^2$$\n",
    "\n",
    "$$L = \\frac{1}{N} \\sum_{n=1}^N (y_n - \\hat{y}_n)^2 + L_{L_1} + L_{L_2}$$"
   ]
  },
  {
   "cell_type": "code",
   "execution_count": null,
   "metadata": {
    "deletable": false,
    "nbgrader": {
     "checksum": "670fd577261ca06ee4454dd49600f020",
     "grade": false,
     "grade_id": "cell-44133719d81f028a",
     "locked": false,
     "schema_version": 1,
     "solution": true
    }
   },
   "outputs": [],
   "source": [
    "def regularized_linear_regression_loss(y, y_hat, betas, lamb1, lamb2):\n",
    "    \"\"\"\n",
    "    Args: \n",
    "        y : pandas.Series with shape (num_observations,)\n",
    "            The targets.\n",
    "        y_hat : pandas.Series with shape (num_observations,)\n",
    "            THe predictions.\n",
    "        betas : pandas.Series with shape (num_features+1,)\n",
    "            The parameters of your regression model. \n",
    "            The first value is the intercept and the \n",
    "            remaining ones are the feature coefficients.\n",
    "        lamb1 : float\n",
    "            The strength of the L1 regularizer.\n",
    "        lamb2 : float\n",
    "            The strength of the L2 regularizer.\n",
    "            \n",
    "    Returns:\n",
    "        loss : float\n",
    "    \"\"\"\n",
    "    # Compute the L1 part of \n",
    "    # the general loss function.\n",
    "    # l1_loss = ...\n",
    "    # YOUR CODE HERE\n",
    "    raise NotImplementedError()\n",
    "    \n",
    "    # Compute the L2 part of \n",
    "    # the general loss function.\n",
    "    # l2_loss = ...\n",
    "    # YOUR CODE HERE\n",
    "    raise NotImplementedError()\n",
    "    \n",
    "    # Compute the mean square loss part \n",
    "    # of the general loss function.\n",
    "    # mse = ...\n",
    "    # YOUR CODE HERE\n",
    "    raise NotImplementedError()\n",
    "    \n",
    "    # Compute the total loss by \n",
    "    # combining all 3 parts.\n",
    "    # L = ...\n",
    "    # YOUR CODE HERE\n",
    "    raise NotImplementedError()\n",
    "    \n",
    "    return L"
   ]
  },
  {
   "cell_type": "code",
   "execution_count": null,
   "metadata": {
    "deletable": false,
    "editable": false,
    "nbgrader": {
     "checksum": "dcd2c691ade41dc5d701a81cf13c96c4",
     "grade": false,
     "grade_id": "cell-214891b69c2a5573",
     "locked": true,
     "schema_version": 1,
     "solution": false
    }
   },
   "outputs": [],
   "source": [
    "lamb1 = 0.5\n",
    "lamb2 = 0.1\n",
    "L = regularized_linear_regression_loss(y, y_hat, betas, lamb1, lamb2)\n",
    "\n",
    "print(\"Regularized loss for lin. reg.: {}\".format(L))"
   ]
  },
  {
   "cell_type": "markdown",
   "metadata": {
    "deletable": false,
    "editable": false,
    "nbgrader": {
     "checksum": "e13558f453afb4f0cbc6f86a7d86a6a9",
     "grade": false,
     "grade_id": "cell-36f6c0b1081e9697",
     "locked": true,
     "schema_version": 1,
     "solution": false
    }
   },
   "source": [
    "Expected output\n",
    "```\n",
    "Regularized loss for lin. reg.: 69.95737104987452\n",
    "```"
   ]
  },
  {
   "cell_type": "code",
   "execution_count": null,
   "metadata": {
    "deletable": false,
    "editable": false,
    "nbgrader": {
     "checksum": "daf34de3afeaf2f727334590cf2db071",
     "grade": true,
     "grade_id": "cell-c1db0e6c0838ca7b",
     "locked": true,
     "points": 4,
     "schema_version": 1,
     "solution": false
    }
   },
   "outputs": [],
   "source": [
    "import math\n",
    "\n",
    "\n",
    "lamb1 = 1.5\n",
    "lamb2 = 0.1\n",
    "L = regularized_linear_regression_loss(y, y_hat, betas, lamb1, lamb2)\n",
    "assert math.isclose(L, 97.70368652856253)\n",
    "\n",
    "\n",
    "lamb1 = 0.5\n",
    "lamb2 = 1.1\n",
    "L = regularized_linear_regression_loss(y, y_hat, betas, lamb1, lamb2)\n",
    "assert math.isclose(L, 411.8217119783049)\n",
    "\n",
    "\n",
    "lamb1 = 0.5\n",
    "lamb2 = 1.2\n",
    "L = regularized_linear_regression_loss(y, y_hat, betas, lamb1, lamb2)\n",
    "assert math.isclose(L, 446.0081460711479)"
   ]
  },
  {
   "cell_type": "markdown",
   "metadata": {
    "deletable": false,
    "editable": false,
    "nbgrader": {
     "checksum": "510f3793f5a57ae55f5f258e5f850bfa",
     "grade": false,
     "grade_id": "cell-8c6f01f421c08293",
     "locked": true,
     "schema_version": 1,
     "solution": false
    }
   },
   "source": [
    "#### (BONUS) 2.3 Compute Regularized Linear Regression partial derivatives\n",
    "\n",
    "$$\\frac{\\partial L}{\\partial \\beta_0} = - \\sum_{n=1}^{N} 2 (y_n - \\hat{y}_n)$$\n",
    "\n",
    "$$\\frac{\\partial L}{\\partial \\beta_k}\n",
    "= - \\sum_{n=1}^{N} 2 (y_n - \\hat{y}_n) x_{k_n} + \\lambda_1 \\frac{\\beta_k}{\\left|\\beta_k\\right|} + 2 \\lambda_2 \\beta_k \n",
    "= - \\sum_{n=1}^{N} 2 (y_n - \\hat{y}_n) x_{k_n} + \\lambda_1 sign(\\beta_k) + 2 \\lambda_2 \\beta_k $$\n",
    "\n",
    "$$sign(\\beta_k) = \n",
    "\\begin{cases}\n",
    "    +1,& \\text{if } \\beta_k > 0\\\\\n",
    "    -1,& \\text{if } \\beta_k < 0\\\\\n",
    "    0,& \\text{if } \\beta_k = 0\n",
    "\\end{cases}$$"
   ]
  },
  {
   "cell_type": "code",
   "execution_count": null,
   "metadata": {
    "deletable": false,
    "nbgrader": {
     "checksum": "818bf99dc2320b0bc015073e6decc69c",
     "grade": false,
     "grade_id": "cell-d9723062e97ea55e",
     "locked": false,
     "schema_version": 1,
     "solution": true
    }
   },
   "outputs": [],
   "source": [
    "def regularized_linear_regression_partial_derivatives(x, y, betas, lamb1, lamb2):\n",
    "    \"\"\"\n",
    "    Args:\n",
    "        x : pandas.DataFrame with shape (num_observations, num_features)\n",
    "            The input features.\n",
    "        y : pandas.Series with shape (num_observations,)\n",
    "            The targets.\n",
    "        betas : pandas.Series with shape (num_features+1,)\n",
    "            The intercept at index 0.\n",
    "            The coefficients in the remaining indexes.\n",
    "        lamb1 : float\n",
    "            The strength of the L1 regularizer.\n",
    "        lamb2 : float\n",
    "            The strength of the L2 regularizer.\n",
    "    \n",
    "    Returns: \n",
    "        dL_dbetas : pandas.Series with shape (num_features+1,)\n",
    "    \"\"\"\n",
    "    # To make your life easier, extract \n",
    "    # the numpy array from x.\n",
    "    # YOUR CODE HERE\n",
    "    raise NotImplementedError()\n",
    "    \n",
    "    # Make predictions y_hat by using \n",
    "    # the dot product between x and betas. \n",
    "    # Don't forget to separate betas[0] \n",
    "    # from the remaining betas!\n",
    "    # YOUR CODE HERE\n",
    "    raise NotImplementedError()\n",
    "    \n",
    "    # Compute the difference between the \n",
    "    # target and the predictions.\n",
    "    # YOUR CODE HERE\n",
    "    raise NotImplementedError()\n",
    "    \n",
    "    # Initialize (with zeros) the pandas \n",
    "    # Series that will store the partial \n",
    "    # derivatives for the betas.\n",
    "    K = x.shape[1]\n",
    "    dL_dbetas = pd.Series(np.zeros(K))\n",
    "    \n",
    "    # Calculate the partial derivative \n",
    "    # for beta_0. Don't \n",
    "    # YOUR CODE HERE\n",
    "    raise NotImplementedError()\n",
    "    \n",
    "    # Calculate the partial derivatives \n",
    "    # for each beta_k, for k > 0.\n",
    "    for k in range(1, K):\n",
    "        # Perform 3 sums in order to make \n",
    "        # things clear. \n",
    "        # 1) First, add the part correspoding to the \n",
    "        #    MSE derivative in order to beta_k.\n",
    "        #    Don't forget to put the minus sign at \n",
    "        #    the beginning! \n",
    "        #    TIP: to get the k column of x, use x[:, k].\n",
    "        # YOUR CODE HERE\n",
    "        raise NotImplementedError()\n",
    "        \n",
    "        # 2) Add the part corresponding to the L1 \n",
    "        #    regularization. To make it simpler, \n",
    "        #    use numpy.sign function.\n",
    "        #    TIP: if you want to use the sign \n",
    "        #    operation that you saw in the formula, \n",
    "        #    take a look at np.sign.\n",
    "        # YOUR CODE HERE\n",
    "        raise NotImplementedError()\n",
    "        \n",
    "        # 3) Finally, add the part corresponding \n",
    "        #    to the L2 regularization.\n",
    "        # YOUR CODE HERE\n",
    "        raise NotImplementedError()\n",
    "    \n",
    "    return dL_dbetas"
   ]
  },
  {
   "cell_type": "code",
   "execution_count": null,
   "metadata": {
    "deletable": false,
    "editable": false,
    "nbgrader": {
     "checksum": "970d72bd905c84b96d67c33370ec41e9",
     "grade": false,
     "grade_id": "cell-3bf9f25463d4b654",
     "locked": true,
     "schema_version": 1,
     "solution": false
    }
   },
   "outputs": [],
   "source": [
    "lamb1 = 1\n",
    "lamb2 = 1\n",
    "print(regularized_linear_regression_partial_derivatives(x, y, betas, lamb1, lamb2))"
   ]
  },
  {
   "cell_type": "markdown",
   "metadata": {
    "deletable": false,
    "editable": false,
    "nbgrader": {
     "checksum": "44577495bf6e49c30ad31a154e8e491e",
     "grade": false,
     "grade_id": "cell-6f19a7980f931762",
     "locked": true,
     "schema_version": 1,
     "solution": false
    }
   },
   "source": [
    "Expected output: \n",
    "```\n",
    "0    -5.684342e-13\n",
    "1    -1.214341e+00\n",
    "2     1.092790e+00\n",
    "3     1.041720e+00\n",
    "4     6.377123e+00\n",
    "5    -3.659152e+01\n",
    "6     8.609505e+00\n",
    "7     1.001502e+00\n",
    "8    -3.951518e+00\n",
    "9     1.611310e+00\n",
    "10   -1.024659e+00\n",
    "11   -2.906927e+00\n",
    "12    1.018785e+00\n",
    "dtype: float64\n",
    "```"
   ]
  },
  {
   "cell_type": "code",
   "execution_count": null,
   "metadata": {
    "deletable": false,
    "editable": false,
    "nbgrader": {
     "checksum": "1e2cb6db48060c6ddba16ddd4a4dcaf3",
     "grade": true,
     "grade_id": "cell-25721d7f38c455a1",
     "locked": true,
     "points": 0,
     "schema_version": 1,
     "solution": false
    }
   },
   "outputs": [],
   "source": [
    "import math\n",
    "\n",
    "\n",
    "lamb1 = 2\n",
    "lamb2 = 2\n",
    "np.testing.assert_array_almost_equal(\n",
    "    regularized_linear_regression_partial_derivatives(x, y, betas, lamb1, lamb2).values, \n",
    "    np.array([-5.68434189e-13, -2.42868223e+00,  2.18558088e+00,  2.08344096e+00,\n",
    "              1.27542456e+01, -7.31830346e+01,  1.72190098e+01,  2.00300425e+00,\n",
    "              -7.90303519e+00,  3.22262015e+00, -2.04931739e+00, -5.81385422e+00,\n",
    "              2.03757005e+00]))\n",
    "\n",
    "\n",
    "lamb1 = 0\n",
    "lamb2 = 0\n",
    "np.testing.assert_array_almost_equal(\n",
    "    regularized_linear_regression_partial_derivatives(x, y, betas, lamb1, lamb2).values, \n",
    "    np.array([-5.68434189e-13, -1.81353244e-09,  1.40516931e-10,  1.13686838e-13,\n",
    "              3.49587026e-12, -3.02406988e-11,  1.00408215e-09, -9.45306056e-11,\n",
    "              -6.50288712e-11, -1.46974344e-09,  2.45563569e-11, -2.52475729e-09,\n",
    "              1.82808435e-10]))\n",
    "\n",
    "\n",
    "lamb1 = 0\n",
    "lamb2 = 3\n",
    "np.testing.assert_array_almost_equal(\n",
    "    regularized_linear_regression_partial_derivatives(x, y, betas, lamb1, lamb2).values, \n",
    "    np.array([-5.68434189e-13, -6.43023341e-01,  2.78371317e-01,  1.25161437e-01,\n",
    "              1.61313684e+01, -1.06774552e+02,  2.28285148e+01,  4.50637013e-03,\n",
    "              -8.85455278e+00,  1.83393023e+00, -7.39760778e-02, -5.72078133e+00,\n",
    "              5.63550765e-02]))"
   ]
  }
 ],
 "metadata": {
  "kernelspec": {
   "display_name": "Python 3",
   "language": "python",
   "name": "python3"
  },
  "language_info": {
   "codemirror_mode": {
    "name": "ipython",
    "version": 3
   },
   "file_extension": ".py",
   "mimetype": "text/x-python",
   "name": "python",
   "nbconvert_exporter": "python",
   "pygments_lexer": "ipython3",
   "version": "3.6.4"
  }
 },
 "nbformat": 4,
 "nbformat_minor": 2
}
