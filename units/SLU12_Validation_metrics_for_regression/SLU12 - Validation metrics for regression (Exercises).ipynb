{
 "cells": [
  {
   "cell_type": "markdown",
   "metadata": {},
   "source": [
    "# SLU12 - Validation metrics for regression: Exercise Notebook\n",
    "\n",
    "In this notebook, you will implement:\n",
    "* Mean Absolute Error (MAE)\n",
    "* Mean Squared Error (MSE)\n",
    "* Root Mean Squared Error (RMSE)\n",
    "* Coefficient of Determination (R²)\n",
    "* Adjusted R²\n",
    "* Regularized cost for linear regression\n",
    "* Partial derivatives TODO"
   ]
  },
  {
   "cell_type": "markdown",
   "metadata": {},
   "source": [
    "## Mean Absolute Error\n",
    "\n",
    "$$MAE = \\frac{1}{N} \\sum_{n=1}^N \\left| y_n - \\hat{y}_n \\right|$$"
   ]
  },
  {
   "cell_type": "code",
   "execution_count": null,
   "metadata": {},
   "outputs": [],
   "source": [
    "def mean_absolute_error(y, y_hat): \n",
    "    \"\"\"\n",
    "    Args: \n",
    "        y : pandas.Series with shape (num_observations,)\n",
    "            The targets\n",
    "        \n",
    "        y_hat : pandas.Series with shape (num_observations,)\n",
    "            The predictions\n",
    "        \n",
    "    Returns: \n",
    "        mae : pandas.Series with shape (num_observations,)\n",
    "    \"\"\"\n",
    "    # 1) Compute the difference.\n",
    "    e = y - y_hat\n",
    "    \n",
    "    # 2) Compute the absolute value of the difference.\n",
    "    a = e.abs()\n",
    "    \n",
    "    # 3) Compute the mean of the absolute value of the difference.\n",
    "    m = a.mean()\n",
    "    \n",
    "    return m"
   ]
  },
  {
   "cell_type": "markdown",
   "metadata": {},
   "source": [
    "## Mean Squared Error\n",
    "\n",
    "$$MSE = \\frac{1}{N} \\sum_{n=1}^N (y_n - \\hat{y}_n)^2$$"
   ]
  },
  {
   "cell_type": "code",
   "execution_count": null,
   "metadata": {},
   "outputs": [],
   "source": [
    "def mean_squared_error(y, y_hat):\n",
    "    \"\"\"\n",
    "    Args: \n",
    "        y : pandas.Series with shape (num_observations,)\n",
    "            The targets\n",
    "        \n",
    "        y_hat : pandas.Series with shape (num_observations,)\n",
    "            The predictions\n",
    "        \n",
    "    Returns: \n",
    "        mse : pandas.Series with shape (num_observations,)\n",
    "    \"\"\"\n",
    "    # 1) Compute the difference.\n",
    "    e = y - y_hat\n",
    "    \n",
    "    # 2) Compute the squares of the difference\n",
    "    s = e ** 2\n",
    "    \n",
    "    # 3) Compute the mean of the squares of the difference.\n",
    "    m = a.mean()\n",
    "    \n",
    "    return m"
   ]
  },
  {
   "cell_type": "markdown",
   "metadata": {},
   "source": [
    "## Root Mean Squared Error\n",
    "\n",
    "$$RMSE = \\sqrt{MSE}$$"
   ]
  },
  {
   "cell_type": "code",
   "execution_count": null,
   "metadata": {},
   "outputs": [],
   "source": [
    "def root_mean_squared_error(y, y_hat): \n",
    "    \"\"\"\n",
    "    Args: \n",
    "        y : pandas.Series with shape (num_observations,)\n",
    "            The targets\n",
    "        \n",
    "        y_hat : pandas.Series with shape (num_observations,)\n",
    "            The predictions\n",
    "        \n",
    "    Returns: \n",
    "        rmse : pandas.Series with shape (num_observations,)\n",
    "    \"\"\"\n",
    "    # TODO\n",
    "    pass"
   ]
  },
  {
   "cell_type": "markdown",
   "metadata": {},
   "source": [
    "## R² score\n",
    "\n",
    "$$\\bar{y} = \\frac{1}{N} \\sum_{n=1}^N y_n$$\n",
    "\n",
    "$$SS_{tot} = \\sum_{n=1}^N (y_n - \\bar{y}_n)^2$$\n",
    "\n",
    "$$SS_{reg} = \\sum_{n=1}^N (\\hat{y}_n - \\bar{y}_n)^2$$\n",
    "\n",
    "TODO"
   ]
  },
  {
   "cell_type": "code",
   "execution_count": null,
   "metadata": {},
   "outputs": [],
   "source": [
    "def r_squared(y, y_hat): \n",
    "    y_mean = y.mean()\n",
    "    \n",
    "    # TODO"
   ]
  },
  {
   "cell_type": "markdown",
   "metadata": {},
   "source": [
    "## Adjusted R² score\n",
    "\n",
    "$$\\bar{R}^2 = 1 - \\frac{N - 1}{N - K - 1} (1 - R^2)$$\n",
    "\n",
    "where $N$ is the number of observations in the dataset used for training the model (i.e. number of rows of the pandas dataframe) and $K$ is the number of features used by your model (i.e. number of columns of the pandas dataframe)"
   ]
  },
  {
   "cell_type": "code",
   "execution_count": 2,
   "metadata": {},
   "outputs": [],
   "source": [
    "def adjusted_r_squared(y, y_hat, N, K):\n",
    "    # TODO\n",
    "    return"
   ]
  },
  {
   "cell_type": "markdown",
   "metadata": {},
   "source": [
    "## Regularization"
   ]
  },
  {
   "cell_type": "markdown",
   "metadata": {},
   "source": [
    "#### Compute LASSO regression loss function\n",
    "\n",
    "$$L_{LASSO} = \\frac{1}{N} \\sum_{n=1}^N (y_n - \\hat{y}_n)^2 + \\lambda_1 \\|\\beta\\|_1^1 = \\frac{1}{N} \\sum_{n=1}^N (y_n - \\hat{y}_n)^2 +  \\lambda_1 \\sum_{k=1}^K \\left|\\beta_k\\right| $$"
   ]
  },
  {
   "cell_type": "code",
   "execution_count": 1,
   "metadata": {},
   "outputs": [],
   "source": [
    "def lasso_regression_loss(y, y_hat, betas, lamb1):\n",
    "    \"\"\"\n",
    "    Args: \n",
    "        y : pandas.Series with shape (num_observations,)\n",
    "            \n",
    "        y_hat : pandas.Series with shape (num_observations,)\n",
    "        \n",
    "        betas : pandas.Series with shape (num_features+1,)\n",
    "            The parameters of your regression model. \n",
    "            The first value is the intercept and the \n",
    "            remaining ones are the feature coefficients.\n",
    "        lamb1 : float\n",
    "            \n",
    "    Returns:\n",
    "        loss : float\n",
    "    \"\"\"\n",
    "    # Compute the L1 part of \n",
    "    # the general loss function.\n",
    "    l1_loss = lamb1 * betas.abs().sum()\n",
    "    \n",
    "    # Compute the mean square loss part \n",
    "    # of the general loss function.\n",
    "    mse = ((y - y_hat)**2).mean()\n",
    "    \n",
    "    # Compute the total loss by \n",
    "    # combining both parts.\n",
    "    loss = mse + l1_loss\n",
    "    \n",
    "    # TODO: check the type, shape and values.\n",
    "    return loss"
   ]
  },
  {
   "cell_type": "markdown",
   "metadata": {},
   "source": [
    "#### Compute LASSO regression partial derivatives\n",
    "\n",
    "$$\\frac{\\partial L_{LASSO}}{\\partial \\beta_0} = - \\sum_{n=1}^{N} 2 (y_n - \\hat{y}_n)$$\n",
    "\n",
    "$$\\frac{\\partial L_{LASSO}}{\\partial \\beta_k} = - \\sum_{n=1}^{N} 2 (y_n - \\hat{y}_n) x_{k_n} + 2 \\lambda_1 \\beta_k$$"
   ]
  },
  {
   "cell_type": "code",
   "execution_count": null,
   "metadata": {},
   "outputs": [],
   "source": [
    "def lasso_regression_partial_derivative(x, y, betas): \n",
    "    \"\"\"\n",
    "    Args: \n",
    "        x : pandas.DataFrame with shape (num_observations, num_features)\n",
    "        \n",
    "        y : pandas.Series with shape (num_observations,)\n",
    "        \n",
    "        betas : pandas.Series with shape (num_features+1,)\n",
    "        \n",
    "        lamb1 : float\n",
    "    \n",
    "    Returns:\n",
    "        loss : float\n",
    "    \"\"\"\n",
    "    # Compute the partial derivative of TODO\n",
    "    dJ_dlamb1 = \n",
    "    \n",
    "    # Compute the partial derivative of TODO\n",
    "    \n",
    "    return "
   ]
  },
  {
   "cell_type": "markdown",
   "metadata": {},
   "source": [
    "#### Compute Ridge regression loss function\n",
    "\n",
    "$$L_{Ridge} = \\frac{1}{N} \\sum_{n=1}^N (y_n - \\hat{y}_n)^2 +  \\lambda_2 \\| \\beta \\|_2^2 = \\frac{1}{N} \\sum_{n=1}^N (y_n - \\hat{y}_n)^2 + \\lambda_2 \\sum_{k=1}^K \\beta_k^2$$"
   ]
  },
  {
   "cell_type": "code",
   "execution_count": 2,
   "metadata": {},
   "outputs": [],
   "source": [
    "def ridge_regression_loss(y, y_hat, betas, lamb2):\n",
    "    \"\"\"\n",
    "    Args: \n",
    "        y : pandas.Series with shape (num_observations,)\n",
    "        \n",
    "        y_hat : pandas.Series with shape (num_observations,)\n",
    "        \n",
    "        betas : pandas.Series with shape (num_features+1,)\n",
    "        \n",
    "        lamb1 : float\n",
    "    \n",
    "    Returns:\n",
    "        loss : float\n",
    "    \"\"\"\n",
    "    # Compute the L2 part of \n",
    "    # the general loss function.\n",
    "    l2_loss = lamb2 * (betas**2).sum()\n",
    "    \n",
    "    # Compute the mean square loss part \n",
    "    # of the general loss function.\n",
    "    mse = ((y - y_hat)**2).mean()\n",
    "    \n",
    "    # Compute the total loss by \n",
    "    # combining both parts.\n",
    "    loss = mse + l2_loss\n",
    "    \n",
    "    # TODO: check the type, shape and values.\n",
    "    return loss"
   ]
  },
  {
   "cell_type": "markdown",
   "metadata": {},
   "source": [
    "#### Compute Elastic Net regression loss function\n",
    "\n",
    "$$L_{Elastic Net} = \\frac{1}{N} \\sum_{n=1}^N (y_n - \\hat{y}_n)^2 + \\lambda_1 \\|\\beta\\|_1^1+  \\lambda_2 \\| \\beta \\|_2^2 = \\frac{1}{N} \\sum_{n=1}^N (y_n - \\hat{y}_n)^2 +  \\lambda_1 \\sum_{k=1}^K \\left|\\beta_k\\right| + \\lambda_2 \\sum_{k=1}^K \\beta_k^2$$"
   ]
  },
  {
   "cell_type": "code",
   "execution_count": null,
   "metadata": {},
   "outputs": [],
   "source": [
    "def elastic_net_regression_loss(y, y_hat, betas, lamb1, lamb2):\n",
    "    \"\"\"\n",
    "    Args: \n",
    "        y : pandas.Series with shape (num_observations,)\n",
    "        \n",
    "        y_hat : pandas.Series with shape (num_observations,)\n",
    "        \n",
    "        betas : pandas.Series with shape (num_features+1,)\n",
    "        \n",
    "        lamb1 : float\n",
    "        \n",
    "        lamb2 : float\n",
    "    \n",
    "    Returns:\n",
    "        loss : float\n",
    "    \"\"\"\n",
    "    # Compute the L1 part of \n",
    "    # the general loss function.\n",
    "    l1_loss = lamb1 * betas.abs().sum()\n",
    "    \n",
    "    # Compute the L2 part of \n",
    "    # the general loss function.\n",
    "    l2_loss = lamb2 * (betas**2).sum()\n",
    "    \n",
    "    # Compute the mean square loss part \n",
    "    # of the general loss function.\n",
    "    mse = ((y - y_hat)**2).mean()\n",
    "    \n",
    "    # Compute the total loss by \n",
    "    # combining both parts.\n",
    "    loss = mse + l1_loss + l2_loss"
   ]
  }
 ],
 "metadata": {
  "kernelspec": {
   "display_name": "Python 3",
   "language": "python",
   "name": "python3"
  },
  "language_info": {
   "codemirror_mode": {
    "name": "ipython",
    "version": 3
   },
   "file_extension": ".py",
   "mimetype": "text/x-python",
   "name": "python",
   "nbconvert_exporter": "python",
   "pygments_lexer": "ipython3",
   "version": "3.6.3"
  }
 },
 "nbformat": 4,
 "nbformat_minor": 2
}
