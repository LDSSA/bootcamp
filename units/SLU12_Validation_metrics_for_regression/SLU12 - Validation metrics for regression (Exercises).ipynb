{
 "cells": [
  {
   "cell_type": "markdown",
   "metadata": {},
   "source": [
    "# SLU12 - Validation metrics for regression: Exercise Notebook\n",
    "\n",
    "In this notebook, you will implement:\n",
    "* Mean Absolute Error (MAE)\n",
    "* Mean Squared Error (MSE)\n",
    "* Root Mean Squared Error (RMSE)\n",
    "* Coefficient of Determination (R²)\n",
    "* Adjusted R²\n",
    "* Regularized cost for linear regression\n",
    "* Partial derivatives TODO"
   ]
  },
  {
   "cell_type": "markdown",
   "metadata": {},
   "source": [
    "## Mean Absolute Error\n",
    "\n",
    "$$MAE = \\frac{1}{N} \\sum_{n=1}^N \\left| y_n - \\hat{y}_n \\right|$$"
   ]
  },
  {
   "cell_type": "code",
   "execution_count": null,
   "metadata": {},
   "outputs": [],
   "source": [
    "def mean_absolute_error(y, y_hat): \n",
    "    \"\"\"\n",
    "    Args: \n",
    "        y : pandas.Series with shape (num_observations,)\n",
    "            The targets\n",
    "        \n",
    "        y_hat : pandas.Series with shape (num_observations,)\n",
    "            The predictions\n",
    "        \n",
    "    Returns: \n",
    "        mae : pandas.Series with shape (num_observations,)\n",
    "    \"\"\"\n",
    "    # 1) Compute the difference.\n",
    "    e = y - y_hat\n",
    "    \n",
    "    # 2) Compute the absolute value of the difference.\n",
    "    a = e.abs()\n",
    "    \n",
    "    # 3) Compute the mean of the absolute value of the difference.\n",
    "    m = a.mean()\n",
    "    \n",
    "    return m"
   ]
  },
  {
   "cell_type": "markdown",
   "metadata": {},
   "source": [
    "## Mean Squared Error\n",
    "\n",
    "$$MSE = \\frac{1}{N} \\sum_{n=1}^N (y_n - \\hat{y}_n)^2$$"
   ]
  },
  {
   "cell_type": "code",
   "execution_count": null,
   "metadata": {},
   "outputs": [],
   "source": [
    "def mean_squared_error(y, y_hat):\n",
    "    \"\"\"\n",
    "    Args: \n",
    "        y : pandas.Series with shape (num_observations,)\n",
    "            The targets\n",
    "        \n",
    "        y_hat : pandas.Series with shape (num_observations,)\n",
    "            The predictions\n",
    "        \n",
    "    Returns: \n",
    "        mse : pandas.Series with shape (num_observations,)\n",
    "    \"\"\"\n",
    "    # 1) Compute the difference.\n",
    "    e = y - y_hat\n",
    "    \n",
    "    # 2) Compute the squares of the difference\n",
    "    s = e ** 2\n",
    "    \n",
    "    # 3) Compute the mean of the squares of the difference.\n",
    "    m = a.mean()\n",
    "    \n",
    "    return m"
   ]
  },
  {
   "cell_type": "markdown",
   "metadata": {},
   "source": [
    "## Root Mean Squared Error\n",
    "\n",
    "$$RMSE = \\sqrt{MSE}$$"
   ]
  },
  {
   "cell_type": "code",
   "execution_count": null,
   "metadata": {},
   "outputs": [],
   "source": [
    "def root_mean_squared_error(y, y_hat): \n",
    "    \"\"\"\n",
    "    Args: \n",
    "        y : pandas.Series with shape (num_observations,)\n",
    "            The targets\n",
    "        \n",
    "        y_hat : pandas.Series with shape (num_observations,)\n",
    "            The predictions\n",
    "        \n",
    "    Returns: \n",
    "        rmse : pandas.Series with shape (num_observations,)\n",
    "    \"\"\"\n",
    "    # TODO\n",
    "    pass"
   ]
  },
  {
   "cell_type": "markdown",
   "metadata": {},
   "source": [
    "## R² score\n",
    "\n",
    "$$\\bar{y} = \\frac{1}{N} \\sum_{n=1}^N y_n$$\n",
    "\n",
    "$$SS_{tot} = \\sum_{n=1}^N (y_n - \\bar{y}_n)^2$$\n",
    "\n",
    "$$SS_{reg} = \\sum_{n=1}^N (\\hat{y}_n - \\bar{y}_n)^2$$\n",
    "\n",
    "TODO"
   ]
  },
  {
   "cell_type": "code",
   "execution_count": null,
   "metadata": {},
   "outputs": [],
   "source": [
    "def r_squared(y, y_hat): \n",
    "    y_mean = y.mean()\n",
    "    \n",
    "    # TODO"
   ]
  },
  {
   "cell_type": "markdown",
   "metadata": {},
   "source": [
    "## Adjusted R² score\n",
    "\n",
    "$$\\bar{R}^2 = 1 - \\frac{N - 1}{N - K - 1} (1 - R^2)$$\n",
    "\n",
    "where $N$ is the number of observations in the dataset used for training the model (i.e. number of rows of the pandas dataframe) and $K$ is the number of features used by your model (i.e. number of columns of the pandas dataframe)"
   ]
  },
  {
   "cell_type": "code",
   "execution_count": 2,
   "metadata": {},
   "outputs": [],
   "source": [
    "def adjusted_r_squared(y, y_hat, N, K):\n",
    "    # TODO\n",
    "    return"
   ]
  },
  {
   "cell_type": "markdown",
   "metadata": {},
   "source": [
    "## Regularization\n",
    "\n",
    "$$\\sum_{n=1}^N ()$$"
   ]
  },
  {
   "cell_type": "markdown",
   "metadata": {},
   "source": [
    "$$ \\begin{gather} \\dfrac{\\partial\\mathcal{L}(y,x,w)}{\\partial w} = -\\dfrac{1}{M} \\sum_{i=1}^{M} 2x_i\\big(\\hat{y}_i - (w^Tx_i+b)\\big)\n",
    "\\end{gather} $$\n",
    "$$ \\begin{gather} \\dfrac{\\partial\\mathcal{L}(y,x,w)}{\\partial b} = -\\dfrac{1}{M} \\sum_{i=1}^{M} 2\\big(\\hat{y}_i - (w^Tx_i+b)\\big)\\\\ \\end{gather} $$\n",
    "\n",
    "$$ \\begin{gather} w = w - \\alpha \\dfrac{\\partial\\mathcal{L}(y,x,w)}{\\partial w} \\end{gather} $$\n",
    "$$ \\begin{gather} b = b - \\alpha \\dfrac{\\partial\\mathcal{L}(y,x,w)}{\\partial b} \\end{gather} $$"
   ]
  },
  {
   "cell_type": "code",
   "execution_count": 1,
   "metadata": {},
   "outputs": [],
   "source": [
    "def simple_regularized_linear_regression_cost(x, y, b0, b1, lamb):\n",
    "    \"\"\"\n",
    "    \"\"\"\n",
    "    # TODO\n",
    "    pass"
   ]
  },
  {
   "cell_type": "code",
   "execution_count": 2,
   "metadata": {},
   "outputs": [],
   "source": [
    "def simple_regularized_linear_regression_gradient(x, y, b0, b1, lamb):\n",
    "    \"\"\"\n",
    "    \"\"\"\n",
    "    # TODO\n",
    "    pass"
   ]
  },
  {
   "cell_type": "code",
   "execution_count": 3,
   "metadata": {},
   "outputs": [],
   "source": [
    "def multiple_regularized_linear_regression_cost(x, betas, lamb):\n",
    "    \"\"\"\n",
    "    \"\"\"\n",
    "    # TODO\n",
    "    pass"
   ]
  },
  {
   "cell_type": "code",
   "execution_count": 7,
   "metadata": {},
   "outputs": [],
   "source": [
    "def multiple_regularized_linear_regression_gradient(x, y, betas, lamb): \n",
    "    \"\"\"\n",
    "    \"\"\"\n",
    "    # TODO\n",
    "    pass"
   ]
  }
 ],
 "metadata": {
  "kernelspec": {
   "display_name": "Python 3",
   "language": "python",
   "name": "python3"
  },
  "language_info": {
   "codemirror_mode": {
    "name": "ipython",
    "version": 3
   },
   "file_extension": ".py",
   "mimetype": "text/x-python",
   "name": "python",
   "nbconvert_exporter": "python",
   "pygments_lexer": "ipython3",
   "version": "3.6.3"
  }
 },
 "nbformat": 4,
 "nbformat_minor": 2
}
