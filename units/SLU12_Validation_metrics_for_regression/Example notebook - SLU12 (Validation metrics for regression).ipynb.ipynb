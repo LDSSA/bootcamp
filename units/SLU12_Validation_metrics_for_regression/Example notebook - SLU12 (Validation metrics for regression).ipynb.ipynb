{
 "cells": [
  {
   "cell_type": "markdown",
   "metadata": {},
   "source": [
    "# SLU12 - Validation metrics for regression: Example Notebook\n",
    "\n",
    "In this notebook one of the exercises of **SLU12 - Validation metrics for regression: Exercise Notebook** is implemented."
   ]
  },
  {
   "cell_type": "code",
   "execution_count": 3,
   "metadata": {},
   "outputs": [
    {
     "name": "stderr",
     "output_type": "stream",
     "text": [
      "/Users/hugo/.virtualenvs/ldsa/lib/python3.6/site-packages/scipy/linalg/basic.py:1226: RuntimeWarning: internal gelsd driver lwork query error, required iwork dimension not returned. This is likely the result of LAPACK bug 0038, fixed in LAPACK 3.2.2 (released July 21, 2010). Falling back to 'gelss' driver.\n",
      "  warnings.warn(mesg, RuntimeWarning)\n"
     ]
    }
   ],
   "source": [
    "# This cell creates the data and parameters that \n",
    "# you can use to test your implementations.\n",
    "\n",
    "import numpy as np\n",
    "import pandas as pd\n",
    "from sklearn.datasets import load_boston\n",
    "from sklearn.linear_model import LinearRegression\n",
    "\n",
    "np.random.seed(60)\n",
    "\n",
    "data = load_boston()\n",
    "\n",
    "x = pd.DataFrame(data['data'], columns=data['feature_names'])\n",
    "y = pd.Series(data['target'])\n",
    "\n",
    "lr = LinearRegression()\n",
    "lr.fit(x, y)\n",
    "\n",
    "y_hat = lr.predict(x)\n",
    "\n",
    "betas = pd.Series([lr.intercept_] + list(lr.coef_))"
   ]
  },
  {
   "cell_type": "markdown",
   "metadata": {},
   "source": [
    "## Mean Absolute Error\n",
    "\n",
    "$$MAE = \\frac{1}{N} \\sum_{n=1}^N \\left| y_n - \\hat{y}_n \\right|$$"
   ]
  },
  {
   "cell_type": "code",
   "execution_count": 4,
   "metadata": {},
   "outputs": [],
   "source": [
    "def mean_absolute_error(y, y_hat): \n",
    "    \"\"\"\n",
    "    Args: \n",
    "        y : pandas.Series with shape (num_observations,)\n",
    "            The targets\n",
    "        \n",
    "        y_hat : pandas.Series with shape (num_observations,)\n",
    "            The predictions\n",
    "        \n",
    "    Returns: \n",
    "        mae : pandas.Series with shape (num_observations,)\n",
    "    \"\"\"\n",
    "    # 1) Compute the difference.\n",
    "    e = y - y_hat\n",
    "    \n",
    "    # 2) Compute the absolute value of the difference.\n",
    "    a = np.abs(e)\n",
    "    \n",
    "    # 3) Compute the mean of the absolute value of the difference.\n",
    "    N = len(y)\n",
    "    mae = 1 / N * sum(a)\n",
    "    \n",
    "    return mae"
   ]
  },
  {
   "cell_type": "markdown",
   "metadata": {},
   "source": [
    "Let's test the function:"
   ]
  },
  {
   "cell_type": "code",
   "execution_count": 5,
   "metadata": {},
   "outputs": [
    {
     "data": {
      "text/plain": [
       "3.272944637996934"
      ]
     },
     "execution_count": 5,
     "metadata": {},
     "output_type": "execute_result"
    }
   ],
   "source": [
    "mean_absolute_error(y, y_hat)"
   ]
  },
  {
   "cell_type": "markdown",
   "metadata": {},
   "source": [
    "Done!"
   ]
  }
 ],
 "metadata": {
  "kernelspec": {
   "display_name": "Python 3",
   "language": "python",
   "name": "python3"
  },
  "language_info": {
   "codemirror_mode": {
    "name": "ipython",
    "version": 3
   },
   "file_extension": ".py",
   "mimetype": "text/x-python",
   "name": "python",
   "nbconvert_exporter": "python",
   "pygments_lexer": "ipython3",
   "version": "3.6.3"
  }
 },
 "nbformat": 4,
 "nbformat_minor": 2
}
