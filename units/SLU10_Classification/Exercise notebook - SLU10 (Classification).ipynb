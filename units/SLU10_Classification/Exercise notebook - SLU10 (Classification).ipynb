{
 "cells": [
  {
   "cell_type": "markdown",
   "metadata": {
    "collapsed": true,
    "deletable": false,
    "editable": false,
    "nbgrader": {
     "checksum": "754bed358a6842a53bd8a0d662a0baf0",
     "grade": false,
     "grade_id": "cell-bdd5aa2da3067e63",
     "locked": true,
     "schema_version": 1,
     "solution": false
    }
   },
   "source": [
    "# SLU10 - Classification: Exercise notebook"
   ]
  },
  {
   "cell_type": "code",
   "execution_count": null,
   "metadata": {
    "collapsed": true,
    "deletable": false,
    "editable": false,
    "nbgrader": {
     "checksum": "ac5c2d106d0ad0716ac515606ed037dc",
     "grade": false,
     "grade_id": "cell-e2a09fb80383b343",
     "locked": true,
     "schema_version": 1,
     "solution": false
    }
   },
   "outputs": [],
   "source": [
    "import pandas as pd \n",
    "import numpy as np \n",
    "from sklearn.linear_model import SGDClassifier"
   ]
  },
  {
   "cell_type": "markdown",
   "metadata": {
    "deletable": false,
    "editable": false,
    "nbgrader": {
     "checksum": "1919eb0f9b2caadd2806e24437cd075b",
     "grade": false,
     "grade_id": "cell-27488522ce0b142e",
     "locked": true,
     "schema_version": 1,
     "solution": false
    }
   },
   "source": [
    "In this notebook you will practice the following: \n",
    "\n",
    "    - What classification is for\n",
    "    - Logistic regression\n",
    "    - Cost function (concept)\n",
    "    - Binary classification\n",
    "    - Multiclass classification\n",
    "    - Sklearn logit\n",
    "    \n",
    "You thought that you would get away without implementing your own little Logistic Regression? Hah!\n",
    "\n",
    "\n",
    "# Exercise 1. Implement the Logistic Function\n",
    "*aka the sigmoid function*\n",
    "\n",
    "As a very simple warmup, you will implement the logistic function. Let's keep this simple!\n",
    "\n",
    "Here's a quick reminder of the formula:\n",
    "\n",
    "$$\\hat{p} = \\frac{1}{1 + e^{-z}}$$\n",
    "\n",
    "**Complete here:**"
   ]
  },
  {
   "cell_type": "code",
   "execution_count": null,
   "metadata": {
    "collapsed": true
   },
   "outputs": [],
   "source": [
    "def logistic_function(z):\n",
    "    \"\"\" \n",
    "    Implementation of the logistic function by hand\n",
    "    \n",
    "    Args:\n",
    "        z (np.float64): a float\n",
    "\n",
    "    Returns:\n",
    "        proba (np.float64): the predicted probability for a given observation\n",
    "\n",
    "    \"\"\"\n",
    "    \n",
    "    # define the numerator and the denominator and obtain the predicted probability \n",
    "    ### START CODE HERE ### (~3 lines)\n",
    "    numerator = None\n",
    "    denominator = None\n",
    "    proba = None\n",
    "    ### END CODE HERE ###\n",
    "    return proba"
   ]
  },
  {
   "cell_type": "code",
   "execution_count": null,
   "metadata": {
    "deletable": false,
    "editable": false,
    "nbgrader": {
     "checksum": "0f4f11c52bbbc7728836c7c4d9633011",
     "grade": false,
     "grade_id": "cell-9f387e5a9aa527fc",
     "locked": true,
     "schema_version": 1,
     "solution": false
    }
   },
   "outputs": [],
   "source": [
    "z = 1.2\n",
    "print('Predicted probability: %.2f' % logistic_function(z))"
   ]
  },
  {
   "cell_type": "markdown",
   "metadata": {
    "deletable": false,
    "editable": false,
    "nbgrader": {
     "checksum": "dc796dd3eeba03a9d7c4179d7cc2162d",
     "grade": false,
     "grade_id": "cell-b318c632b90c5f18",
     "locked": true,
     "schema_version": 1,
     "solution": false
    }
   },
   "source": [
    "Expected output:\n",
    "\n",
    "    Predicted probability: 0.77"
   ]
  },
  {
   "cell_type": "code",
   "execution_count": null,
   "metadata": {
    "collapsed": true,
    "deletable": false,
    "editable": false,
    "nbgrader": {
     "checksum": "8d4c55c46cb43df0a9ffc1db2c57808a",
     "grade": true,
     "grade_id": "cell-218ac735743f5bfb",
     "locked": true,
     "points": 2,
     "schema_version": 1,
     "solution": false
    }
   },
   "outputs": [],
   "source": [
    "z = 3.4\n",
    "assert np.isclose(np.round(logistic_function(z),2), 0.97)\n"
   ]
  },
  {
   "cell_type": "markdown",
   "metadata": {
    "deletable": false,
    "editable": false,
    "nbgrader": {
     "checksum": "ec5d9c01a9b8db0ec1299f63990216a6",
     "grade": false,
     "grade_id": "cell-6f40cf4a6bb066df",
     "locked": true,
     "schema_version": 1,
     "solution": false
    }
   },
   "source": [
    "# Exercise 2: Make Predictions From Observations\n",
    "\n",
    "The next step is to implement a function that receives observations and returns predicted probabilities.\n",
    "\n",
    "For instance, remember that for an observation with two variables we have:\n",
    "\n",
    "$$z = \\beta_0 + \\beta_1 x_1 + \\beta_2 x_2$$\n",
    "\n",
    "where $\\beta_0$ is the intercept and $\\beta_1, \\beta_2$ are the coefficients.\n",
    "\n",
    "**Complete here:**"
   ]
  },
  {
   "cell_type": "code",
   "execution_count": null,
   "metadata": {
    "collapsed": true
   },
   "outputs": [],
   "source": [
    "def predict_proba(x, coefficients):\n",
    "    \"\"\" \n",
    "    Implementation of a function that returns a predicted probability for a given data observation\n",
    "    \n",
    "    Args:\n",
    "        x (np.array): a numpy array of shape (n,)\n",
    "            - n: number of variables\n",
    "        coefficients (np.array): a numpy array of shape (n + 1,)\n",
    "            - coefficients[0]: intercept\n",
    "            - coefficients[1:]: remaining coefficients\n",
    "\n",
    "    Returns:\n",
    "        proba (np.array): the predicted probability for a given data observation\n",
    "\n",
    "    \"\"\"\n",
    "    \n",
    "    # start by assigning the intercept to z \n",
    "    # clue: the intercept is the first element of the list of coefficients\n",
    "    ### START CODE HERE ### (~1 line)\n",
    "    z = None\n",
    "    ### END CODE HERE ###\n",
    "    \n",
    "    # sum the remaining variable * coefficient products to z\n",
    "    # clue: the variables and coefficients indeces are not exactly aligned, but correctly ordered\n",
    "    ### START CODE HERE ### (~2 lines)\n",
    "    for i in range(None):                     # iterate through the observation variables\n",
    "        z += None                             # multiply the variable value by its coefficient and add to proba\n",
    "    ### END CODE HERE ###\n",
    "\n",
    "    # obtain the predicted probability from z\n",
    "    # clue: we already implemented something that can give us that\n",
    "    ### START CODE HERE ### (~1 line)\n",
    "    proba = None\n",
    "    ### END CODE HERE ###\n",
    "\n",
    "    return proba"
   ]
  },
  {
   "cell_type": "code",
   "execution_count": null,
   "metadata": {
    "collapsed": true,
    "deletable": false,
    "editable": false,
    "nbgrader": {
     "checksum": "5eb247125dff5aa85097c8d08df3f1f9",
     "grade": false,
     "grade_id": "cell-cb42278953481879",
     "locked": true,
     "schema_version": 1,
     "solution": false
    }
   },
   "outputs": [],
   "source": [
    "x = np.array([0.2,2.32,1.3,3.2])\n",
    "coefficients = np.array([2.1,0.22,-2, 0.4, 0.1])\n",
    "print('Predicted probability:  %.3f' % predict_proba(x, coefficients))"
   ]
  },
  {
   "cell_type": "markdown",
   "metadata": {
    "deletable": false,
    "editable": false,
    "nbgrader": {
     "checksum": "482a810b5c8e10488da526cbcaa94db4",
     "grade": false,
     "grade_id": "cell-c2afb353cd17406e",
     "locked": true,
     "schema_version": 1,
     "solution": false
    }
   },
   "source": [
    "Expected output:\n",
    "\n",
    "    Predicted probability:  0.160"
   ]
  },
  {
   "cell_type": "code",
   "execution_count": null,
   "metadata": {
    "collapsed": true,
    "deletable": false,
    "editable": false,
    "nbgrader": {
     "checksum": "9987a7adefa81a8e1c5849654d86f307",
     "grade": true,
     "grade_id": "cell-5d746da0f61f9d3a",
     "locked": true,
     "points": 2,
     "schema_version": 1,
     "solution": false
    }
   },
   "outputs": [],
   "source": [
    "x = np.array([1,0,2,3.2])\n",
    "coefficients = np.array([-0.2,2,-6, 1.2, -1])\n",
    "assert np.isclose(np.round(predict_proba(x, coefficients),2), 0.73)\n"
   ]
  },
  {
   "cell_type": "markdown",
   "metadata": {
    "deletable": false,
    "editable": false,
    "nbgrader": {
     "checksum": "b2160826b749c9175ff16c01eb0413d5",
     "grade": false,
     "grade_id": "cell-6444271eaf86b4f5",
     "locked": true,
     "schema_version": 1,
     "solution": false
    }
   },
   "source": [
    "# Exercise 3: Compute the Cross-Entropy Cost Function\n",
    "\n",
    "As you will implement stochastic gradient descent, you only have to do the following for each prediction: \n",
    "\n",
    "$$H_{\\hat{p}}(y) =  - (y \\log(\\hat{p}) + (1-y) \\log (1-\\hat{p}))$$\n"
   ]
  },
  {
   "cell_type": "code",
   "execution_count": null,
   "metadata": {
    "collapsed": true
   },
   "outputs": [],
   "source": [
    "def cross_entropy(y, proba):\n",
    "    \"\"\" \n",
    "    Implementation of a function that returns the Cross-Entropy loss\n",
    "    \n",
    "    Args:\n",
    "        y (np.int64): an integer\n",
    "        proba (np.float64): a float\n",
    "\n",
    "    Returns:\n",
    "        loss (np.float): a float with the resulting loss for a given prediction\n",
    "\n",
    "    \"\"\"\n",
    "    \n",
    "    # compute the inner left side of the loss function (for when y == 1)\n",
    "    ### START CODE HERE ### (~1 line)\n",
    "    left = None \n",
    "    ### END CODE HERE ###\n",
    "\n",
    "    # compute the inner right side of the loss function (for when y == 0)\n",
    "    ### START CODE HERE ### (~1 line)\n",
    "    right = None \n",
    "    ### END CODE HERE ###\n",
    "   \n",
    "    # compute the total loss\n",
    "    # clue: do not forget the minus sign\n",
    "    ### START CODE HERE ### (~1 line)\n",
    "    loss = None\n",
    "    ### END CODE HERE ###\n",
    "    \n",
    "    return loss"
   ]
  },
  {
   "cell_type": "code",
   "execution_count": null,
   "metadata": {
    "collapsed": true,
    "deletable": false,
    "editable": false,
    "nbgrader": {
     "checksum": "e42e72bcf76d64a0cf34bad99a1ea689",
     "grade": false,
     "grade_id": "cell-759edb2d638d14eb",
     "locked": true,
     "schema_version": 1,
     "solution": false
    }
   },
   "outputs": [],
   "source": [
    "y = 1\n",
    "proba = 0.7\n",
    "print('Computed loss:  %.3f' % cross_entropy(y, proba))"
   ]
  },
  {
   "cell_type": "markdown",
   "metadata": {
    "deletable": false,
    "editable": false,
    "nbgrader": {
     "checksum": "e27f2208134b664ac21d2be67c8551f1",
     "grade": false,
     "grade_id": "cell-73aa2b5fc2e95825",
     "locked": true,
     "schema_version": 1,
     "solution": false
    }
   },
   "source": [
    "Expected output:\n",
    "    \n",
    "    Computed loss:  0.357"
   ]
  },
  {
   "cell_type": "code",
   "execution_count": null,
   "metadata": {
    "collapsed": true,
    "deletable": false,
    "editable": false,
    "nbgrader": {
     "checksum": "af482483d340ff1000e0a23940b15c21",
     "grade": true,
     "grade_id": "cell-328918be0c37238a",
     "locked": true,
     "points": 2,
     "schema_version": 1,
     "solution": false
    }
   },
   "outputs": [],
   "source": [
    "y = 1\n",
    "proba = 0.35\n",
    "assert np.isclose(np.round(cross_entropy(y, proba),3), 1.050)\n"
   ]
  },
  {
   "cell_type": "markdown",
   "metadata": {
    "deletable": false,
    "editable": false,
    "nbgrader": {
     "checksum": "5870fe9a9ba9323f81de9a46b759bd4c",
     "grade": false,
     "grade_id": "cell-1ae1ddb651ef3499",
     "locked": true,
     "schema_version": 1,
     "solution": false
    }
   },
   "source": [
    "# Exercise 4: Obtain the Optimized Coefficients \n",
    "Now that the warmup is done, let's do the most interesting exercise. Here you will implement the optimized coefficients through Stochastic Gradient Descent.\n",
    "\n",
    "Quick reminders:\n",
    "\n",
    "$$H_{\\hat{p}}(y) = - \\frac{1}{N}\\sum_{i=1}^{N} \\left [{ y_i \\ \\log(\\hat{p}_i) + (1-y_i) \\ \\log (1-\\hat{p}_i)} \\right ]$$\n",
    "\n",
    "and\n",
    "\n",
    "$$\\beta_{0(t+1)} = \\beta_{0(t)} - learning\\_rate \\frac{\\partial H_{\\hat{p}}(y)}{\\partial \\beta_{0(t)}}$$\n",
    "\n",
    "$$\\beta_{t+1} = \\beta_t - learning\\_rate \\frac{\\partial H_{\\hat{p}}(y)}{\\partial \\beta_t}$$\n",
    "\n",
    "which can be simplified to\n",
    "\n",
    "$$\\beta_{0(t+1)} = \\beta_{0(t)} + learning\\_rate \\left [(y - \\hat{p}) \\ \\hat{p} \\ (1 - \\hat{p})\\right]$$\n",
    "\n",
    "$$\\beta_{t+1} = \\beta_t + learning\\_rate \\left [(y - \\hat{p}) \\ \\hat{p} \\ (1 - \\hat{p}) \\ x \\right]$$"
   ]
  },
  {
   "cell_type": "code",
   "execution_count": null,
   "metadata": {
    "collapsed": true
   },
   "outputs": [],
   "source": [
    "def compute_coefficients(x_train, y_train, learning_rate = 0.1, n_epoch = 50, verbose = False):\n",
    "    \"\"\" \n",
    "    Implementation of a function that returns the optimized intercept and coefficients\n",
    "    \n",
    "    Args:\n",
    "        x_train (np.array): a numpy array of shape (m, n)\n",
    "            m: number of training observations\n",
    "            n: number of variables\n",
    "        y_train (np.array): a numpy array of shape (m,)\n",
    "        learning_rate (np.float64): a float\n",
    "        n_epoch (np.int64): an integer of the number of full training cycles to perform on the training set\n",
    "\n",
    "    Returns:\n",
    "        coefficients (np.array): a numpy array of shape (n+1,)\n",
    "\n",
    "    \"\"\"\n",
    "    \n",
    "    # initialize the coefficients array with zeros\n",
    "    # clue: use np.zeros()\n",
    "    ### START CODE HERE ### (~1 line)\n",
    "    coefficients = None\n",
    "    ### END CODE HERE ###\n",
    "    \n",
    "    # run the stochastic gradient descent algorithm n_epoch times and update the coefficients\n",
    "    ### START CODE HERE ### (~9 lines)\n",
    "    for n_epoch in range(None):               # iterate n_epoch times\n",
    "        loss = None                         # initialize the cross entropy loss\n",
    "        for x, y in zip(None, None):        # iterate through the training set observations and labels\n",
    "            proba = None                    # compute the predicted probability\n",
    "            loss += None                    # compute the cross entropy loss and add it\n",
    "            coefficients[0] += None         # update the intercept            \n",
    "            for i in range(None):           # iterate through the observation variables\n",
    "                coefficients[i + 1] += None # update each coefficient\n",
    "        loss /= None                        # average the summed cross entropies\n",
    "    ### END CODE HERE ### \n",
    "        if(n_epoch%10):\n",
    "            print('>epoch=%d, learning_rate=%.3f, error=%.3f' % (n_epoch, learning_rate, loss))\n",
    "    return coefficients"
   ]
  },
  {
   "cell_type": "code",
   "execution_count": null,
   "metadata": {
    "collapsed": true,
    "deletable": false,
    "editable": false,
    "nbgrader": {
     "checksum": "4d849b86e059c2b10ee03ce31e131e10",
     "grade": false,
     "grade_id": "cell-75938557b03f02da",
     "locked": true,
     "schema_version": 1,
     "solution": false
    }
   },
   "outputs": [],
   "source": [
    "x_train = np.array([[1,2,3], [2,5,9], [3,1,4], [8,2,9]])\n",
    "y_train = np.array([0,1,0,1])\n",
    "learning_rate = 0.1\n",
    "n_epoch = 50\n",
    "coefficients = compute_coefficients(x_train, y_train, learning_rate=learning_rate, n_epoch=n_epoch, verbose=True)\n",
    "print('Computed coefficients:')\n",
    "print(coefficients)"
   ]
  },
  {
   "cell_type": "markdown",
   "metadata": {
    "deletable": false,
    "editable": false,
    "nbgrader": {
     "checksum": "84270a9731c925e2ec85e72b034f7720",
     "grade": false,
     "grade_id": "cell-32d1d154b7866d47",
     "locked": true,
     "schema_version": 1,
     "solution": false
    }
   },
   "source": [
    "Expected output:\n",
    "    \n",
    "    epoch=0, learning_rate=0.100, error=0.811\n",
    "    epoch=10, learning_rate=0.100, error=0.675\n",
    "    epoch=20, learning_rate=0.100, error=0.640\n",
    "    epoch=30, learning_rate=0.100, error=0.606\n",
    "    epoch=40, learning_rate=0.100, error=0.574\n",
    "    Computed coefficients:\n",
    "    [-0.82964483  0.02698239 -0.04632395  0.27761155]"
   ]
  },
  {
   "cell_type": "code",
   "execution_count": null,
   "metadata": {
    "collapsed": true,
    "deletable": false,
    "editable": false,
    "nbgrader": {
     "checksum": "e3f025606c881df554cf725888b3d0f4",
     "grade": true,
     "grade_id": "cell-eb728c1c8d19ad89",
     "locked": true,
     "points": 5,
     "schema_version": 1,
     "solution": false
    }
   },
   "outputs": [],
   "source": [
    "x_train = np.array([[3,1,3], [1,0,9], [3,3,4], [2,-1,10]])\n",
    "y_train = np.array([0,1,0,1])\n",
    "learning_rate = 0.3\n",
    "n_epoch = 100\n",
    "coefficients = compute_coefficients(x_train, y_train, learning_rate=learning_rate, n_epoch=n_epoch, verbose=False)\n",
    "assert np.allclose(coefficients, np.array([-0.25917811, -1.15128387, -0.85317139,  0.55286134]))\n"
   ]
  },
  {
   "cell_type": "markdown",
   "metadata": {
    "deletable": false,
    "editable": false,
    "nbgrader": {
     "checksum": "58198591c51f930ff9734c390937a2b8",
     "grade": false,
     "grade_id": "cell-3a1387ec5d3ac2d3",
     "locked": true,
     "schema_version": 1,
     "solution": false
    }
   },
   "source": [
    "# Exercise 5: Normalize Data\n",
    "\n",
    "Just a quick and easy function to normalize the data. It is crucial that your variables are adjusted between $[0;1]$ (normalized) or standardized so that you can correctly analyse some logistic regression coefficients for your possible future employer.\n",
    "\n",
    "You only have to implement this formula\n",
    "\n",
    "$$ x_{normalized} = \\frac{x - x_{min}}{x_{max} - x_{min}}$$"
   ]
  },
  {
   "cell_type": "code",
   "execution_count": null,
   "metadata": {
    "collapsed": true
   },
   "outputs": [],
   "source": [
    "def normalize_data(data):\n",
    "    \"\"\" \n",
    "    Implementation of a function that normalizes your data variables\n",
    "    \n",
    "    Args:\n",
    "        data (np.array): a numpy array of shape (m, n)\n",
    "            m: number of observations\n",
    "            n: number of variables\n",
    "\n",
    "    Returns:\n",
    "        normalized_data (np.array): a numpy array of shape (m, n)\n",
    "\n",
    "    \"\"\"\n",
    "    # compute the numerator\n",
    "    # clue: use np.min()\n",
    "    ### START CODE HERE ### (~1 line)\n",
    "    numerator = None\n",
    "    ### END CODE HERE ###\n",
    "    \n",
    "    # compute the numerator\n",
    "    # clue: use np.max() and np.min()\n",
    "    ### START CODE HERE ### (~1 line)\n",
    "    denominator = None\n",
    "    ### END CODE HERE ###\n",
    "    \n",
    "    # obtain the normalized data\n",
    "    ### START CODE HERE ### (~1 line)\n",
    "    normalized_data = None\n",
    "    ### END CODE HERE ###\n",
    "    \n",
    "    return normalized_data"
   ]
  },
  {
   "cell_type": "code",
   "execution_count": null,
   "metadata": {
    "collapsed": true,
    "deletable": false,
    "editable": false,
    "nbgrader": {
     "checksum": "37b6fee4b7a437db79f0b7bf66863831",
     "grade": false,
     "grade_id": "cell-334419ee9c78c698",
     "locked": true,
     "schema_version": 1,
     "solution": false
    }
   },
   "outputs": [],
   "source": [
    "data = np.array([[9,5,2], [7,7,3], [2,2,11], [1,5,2], [10,1,3], [0,9,5]])\n",
    "normalized_data = normalize_data(data)\n",
    "print('Before normalization:')\n",
    "print(data)\n",
    "print('\\n-------------------\\n')\n",
    "print('After normalization:')\n",
    "print(normalized_data)"
   ]
  },
  {
   "cell_type": "markdown",
   "metadata": {
    "deletable": false,
    "editable": false,
    "nbgrader": {
     "checksum": "16ac05cf8cd497022d411bbc8b6ed767",
     "grade": false,
     "grade_id": "cell-194d7aa04c4e007c",
     "locked": true,
     "schema_version": 1,
     "solution": false
    }
   },
   "source": [
    "Expected output:\n",
    "    \n",
    "    Before normalization:\n",
    "    [[ 9  5  2]\n",
    "     [ 7  7  3]\n",
    "     [ 2  2 11]\n",
    "     [ 1  5  2]\n",
    "     [10  1  3]\n",
    "     [ 0  9  5]]\n",
    "\n",
    "    -------------------\n",
    "\n",
    "    After normalization:\n",
    "    [[0.9        0.5        0.        ]\n",
    "     [0.7        0.75       0.11111111]\n",
    "     [0.2        0.125      1.        ]\n",
    "     [0.1        0.5        0.        ]\n",
    "     [1.         0.         0.11111111]\n",
    "     [0.         1.         0.33333333]]"
   ]
  },
  {
   "cell_type": "code",
   "execution_count": null,
   "metadata": {
    "collapsed": true,
    "deletable": false,
    "editable": false,
    "nbgrader": {
     "checksum": "4c09fc1beefe68e80a2c9a3d7a1f4afd",
     "grade": true,
     "grade_id": "cell-bc56ea3d8c9eb5dc",
     "locked": true,
     "points": 2,
     "schema_version": 1,
     "solution": false
    }
   },
   "outputs": [],
   "source": [
    "data = np.array([[9,5,2,6], [7,5,1,3], [2,2,11,1]])\n",
    "normalized_data = normalize_data(data)\n",
    "assert np.allclose(normalized_data, np.array([[1., 1., 0.1, 1.],[0.71428571, 1., 0., 0.4],[0., 0., 1., 0.]]))\n"
   ]
  },
  {
   "cell_type": "markdown",
   "metadata": {
    "deletable": false,
    "editable": false,
    "nbgrader": {
     "checksum": "0663ed999ffc150d054cef70be3323fc",
     "grade": false,
     "grade_id": "cell-8b05844ba9484bd9",
     "locked": true,
     "schema_version": 1,
     "solution": false
    }
   },
   "source": [
    "# Exercise 6: Putting it All Together\n",
    "\n"
   ]
  },
  {
   "cell_type": "markdown",
   "metadata": {
    "deletable": false,
    "editable": false,
    "nbgrader": {
     "checksum": "7a84e5448b19bd8c9579b36021bcddc0",
     "grade": false,
     "grade_id": "cell-9d3986c14c34ccc1",
     "locked": true,
     "schema_version": 1,
     "solution": false
    }
   },
   "source": [
    "The Wisconsin Breast Cancer Diagnostic dataset is another data science classic. It is the result of extraction of breast cell's nuclei characteristics to understand which of them are the most relevent for developing breast cancer.\n",
    "\n",
    "Your quest, is to first analyze this dataset from the materials that you've learned in the previous SLUs and then create a logistic regression model that can correctly classify cancer cells from healthy ones.\n",
    "\n",
    "Dataset description:\n",
    "\n",
    "    1. Sample code number: id number \n",
    "    2. Clump Thickness\n",
    "    3. Uniformity of Cell Size\n",
    "    4. Uniformity of Cell Shape\n",
    "    5. Marginal Adhesion \n",
    "    6. Single Epithelial Cell Size\n",
    "    7. Bare Nuclei\n",
    "    8. Bland Chromatin\n",
    "    9. Normal Nucleoli\n",
    "    10. Mitoses \n",
    "    11. Class: (2 for benign, 4 for malignant) > We will modify to (0 for benign, 1 for malignant) for simplicity\n",
    "    \n",
    "The data is loaded for you below."
   ]
  },
  {
   "cell_type": "code",
   "execution_count": null,
   "metadata": {
    "collapsed": true,
    "deletable": false,
    "editable": false,
    "nbgrader": {
     "checksum": "e9a64b4f1dad2f31317ffbaffac83796",
     "grade": false,
     "grade_id": "cell-27730d0e4d4ce257",
     "locked": true,
     "schema_version": 1,
     "solution": false
    }
   },
   "outputs": [],
   "source": [
    "columns = ['Sample code number','Clump Thickness','Uniformity of Cell Size','Uniformity of Cell Shape',\n",
    "           'Marginal Adhesion','Single Epithelial Cell Size','Bare Nuclei','Bland Chromatin','Normal Nucleoli',\n",
    "           'Mitoses','Class']\n",
    "data = pd.read_csv('data/breast-cancer-wisconsin.csv',names=columns, index_col=0)\n",
    "data[\"Bare Nuclei\"] = data[\"Bare Nuclei\"].replace(['?'],np.nan)\n",
    "data = data.dropna()\n",
    "data[\"Bare Nuclei\"] = data[\"Bare Nuclei\"].map(int)\n",
    "data.Class = data.Class.map(lambda x: 1 if x == 4 else 0)\n",
    "X = data.drop('Class').values\n",
    "y_train = data.Class.values"
   ]
  },
  {
   "cell_type": "markdown",
   "metadata": {
    "deletable": false,
    "editable": false,
    "nbgrader": {
     "checksum": "3ecc6839f0b3e3cf110e632d3b97fe06",
     "grade": false,
     "grade_id": "cell-52317b600d15bd9c",
     "locked": true,
     "schema_version": 1,
     "solution": false
    }
   },
   "source": [
    "And use these values for your logistic regression."
   ]
  },
  {
   "cell_type": "code",
   "execution_count": null,
   "metadata": {
    "collapsed": true,
    "deletable": false,
    "editable": false,
    "nbgrader": {
     "checksum": "3ae8f9b2786adf5a2b3371fd479666f7",
     "grade": false,
     "grade_id": "cell-918cbec1418dba4a",
     "locked": true,
     "schema_version": 1,
     "solution": false
    }
   },
   "outputs": [],
   "source": [
    "# Hyperparameters\n",
    "learning_rate = 0.01\n",
    "n_epoch = 100\n",
    "\n",
    "# For validation\n",
    "verbose = True"
   ]
  },
  {
   "cell_type": "markdown",
   "metadata": {
    "deletable": false,
    "editable": false,
    "nbgrader": {
     "checksum": "739a555638fd729adb0535b0cf9ac0bc",
     "grade": false,
     "grade_id": "cell-93e51fc58d5afe91",
     "locked": true,
     "schema_version": 1,
     "solution": false
    }
   },
   "source": [
    "Now let's do this!"
   ]
  },
  {
   "cell_type": "code",
   "execution_count": null,
   "metadata": {
    "collapsed": true
   },
   "outputs": [],
   "source": [
    "# Explore the dataset\n",
    "\n",
    "# How many patients have breast cancer?\n",
    "### START CODE HERE ### (~1 line)\n",
    "n_cancer = None\n",
    "### END CODE HERE ### \n",
    "\n",
    "# How many patients are healthy?\n",
    "### START CODE HERE ### (~1 line)\n",
    "n_healthy = None\n",
    "### END CODE HERE ### \n",
    "\n",
    "# Normalize the training data X\n",
    "### START CODE HERE ### (~1 line)\n",
    "x_train = None\n",
    "### END CODE HERE ### \n",
    "\n",
    "# What coefficients can we get?\n",
    "### START CODE HERE ### (~1 line)\n",
    "coefficients = None\n",
    "### END CODE HERE ### \n",
    "\n",
    "# Initialize the predicted probabilities list\n",
    "### START CODE HERE ### (~1 line)\n",
    "probas = None\n",
    "### END CODE HERE ### \n",
    "\n",
    "# What are the predicted probabilities on the training data?\n",
    "### START CODE HERE ### (~2 lines)\n",
    "for x in None:\n",
    "    probas.append(None)\n",
    "### END CODE HERE ### \n",
    "\n",
    "# If we had to say whether a patient had breast cancer, what are the predictions?\n",
    "# clue 1: Hard assign the predicted probabilities by rounding them to the nearest integer\n",
    "# clue 2: use np.round()\n",
    "### START CODE HERE ### (~1 line)\n",
    "preds = None\n",
    "### END CODE HERE ### \n",
    "\n",
    "# How many patients were predicted to have breast cancer?\n",
    "### START CODE HERE ### (~1 line)\n",
    "n_predicted_cancer = None\n",
    "### END CODE HERE ### \n",
    "\n",
    "# How many patients with cancer were correctly detected?\n",
    "### START CODE HERE ### (~1 line)\n",
    "n_correct_cancer_predictions = None\n",
    "### END CODE HERE ### "
   ]
  },
  {
   "cell_type": "code",
   "execution_count": null,
   "metadata": {
    "collapsed": true,
    "deletable": false,
    "editable": false,
    "nbgrader": {
     "checksum": "d85cdbed3875e55faa479755fd23af35",
     "grade": false,
     "grade_id": "cell-d94e5a7baeb83487",
     "locked": true,
     "schema_version": 1,
     "solution": false
    }
   },
   "outputs": [],
   "source": [
    "print('You have a dataset with %s cells with cancer and %s healthy cells. \\n\\n'\n",
    "     'After analysing the data and training your own logistic regression classifier you find out that it correctly '\n",
    "     'identified %s out of %s cancer cells which were all of them. You feel very lucky and happy. However, shortly '\n",
    "     'after you get somewhat suspicious after getting such amazing results. You feel that they should not be '\n",
    "     'that good, but you do not know how to be sure of it. You say to yourself that you will definitely be '\n",
    "     'present when doing the next Small Learning Unit 11, which will tackle exactly that.' % \n",
    "      (n_cancer, n_healthy, n_predicted_cancer, n_correct_cancer_predictions))"
   ]
  },
  {
   "cell_type": "markdown",
   "metadata": {
    "collapsed": true,
    "deletable": false,
    "editable": false,
    "nbgrader": {
     "checksum": "736800b8b9e62e59740a9428d22e3b24",
     "grade": false,
     "grade_id": "cell-9def1e5a3d8b03f2",
     "locked": true,
     "schema_version": 1,
     "solution": false
    }
   },
   "source": [
    "**Test output (don't change code here)**"
   ]
  },
  {
   "cell_type": "code",
   "execution_count": null,
   "metadata": {
    "collapsed": true,
    "deletable": false,
    "editable": false,
    "nbgrader": {
     "checksum": "389f8c6fe7b57e460c1054384d82487d",
     "grade": true,
     "grade_id": "cell-794404a6f96fa612",
     "locked": true,
     "points": 4,
     "schema_version": 1,
     "solution": false
    }
   },
   "outputs": [],
   "source": []
  },
  {
   "cell_type": "markdown",
   "metadata": {
    "deletable": false,
    "editable": false,
    "nbgrader": {
     "checksum": "a37f773588ad18ae44056e807f7d0efb",
     "grade": false,
     "grade_id": "cell-ce8c035959f8f902",
     "locked": true,
     "schema_version": 1,
     "solution": false
    }
   },
   "source": [
    "# Exercise 7: Using the Sklearn's SGDClassifier"
   ]
  },
  {
   "cell_type": "markdown",
   "metadata": {
    "deletable": false,
    "editable": false,
    "nbgrader": {
     "checksum": "6c34adddb17906b4f0248013bca9ae6c",
     "grade": false,
     "grade_id": "cell-41b73571a9c46d20",
     "locked": true,
     "schema_version": 1,
     "solution": false
    }
   },
   "source": [
    "As a final exercise, you will do exactly what you did in the previous one, but now by using the sklearn's Logistic Regression implementation.\n",
    "\n",
    "Let's just define the hyperparameters first, be sure to use them!"
   ]
  },
  {
   "cell_type": "code",
   "execution_count": null,
   "metadata": {
    "collapsed": true,
    "deletable": false,
    "editable": false,
    "nbgrader": {
     "checksum": "ae23f60aecf82482bddb448ea8a93547",
     "grade": false,
     "grade_id": "cell-dd7a04466182b8e8",
     "locked": true,
     "schema_version": 1,
     "solution": false
    }
   },
   "outputs": [],
   "source": [
    "# Hyperparameters\n",
    "learning_rate = 0.01\n",
    "learning_rate_schedule = \"constant\"\n",
    "n_epoch = 100\n",
    "loss = \"log\"\n",
    "random_state = 0\n",
    "penalty = None\n",
    "shuffle = False"
   ]
  },
  {
   "cell_type": "markdown",
   "metadata": {
    "deletable": false,
    "editable": false,
    "nbgrader": {
     "checksum": "b4c79700cea7abe0f3707c2b0f5e1ec9",
     "grade": false,
     "grade_id": "cell-a96caada003a46a3",
     "locked": true,
     "schema_version": 1,
     "solution": false
    }
   },
   "source": [
    "Now let's do this!"
   ]
  },
  {
   "cell_type": "code",
   "execution_count": null,
   "metadata": {
    "collapsed": true
   },
   "outputs": [],
   "source": [
    "# Create the sklearn's SGDClassifier object with the training data\n",
    "### START CODE HERE ### (~1 line)\n",
    "clf = None\n",
    "### END CODE HERE ### \n",
    "\n",
    "# Fit the classifier with the training data\n",
    "### START CODE HERE ### (~1 line)\n",
    "\n",
    "### END CODE HERE ### \n",
    " \n",
    "# What coefficients can we get?\n",
    "### START CODE HERE ### (~1 line)\n",
    "coefficients = None\n",
    "### END CODE HERE ### \n",
    "\n",
    "# What are the predicted probabilities on the training data?\n",
    "### START CODE HERE ### (~1 line)\n",
    "probas = None\n",
    "### END CODE HERE ### \n",
    "\n",
    "# If we had to say whether a patient had breast cancer, what are the predictions?\n",
    "# Suggestion: This time, try to do the same but with a logistic regression method\n",
    "### START CODE HERE ### (~1 line)\n",
    "preds = None\n",
    "### END CODE HERE ### \n",
    "\n",
    "# How many patients were predicted to have breast cancer?\n",
    "### START CODE HERE ### (~1 line)\n",
    "n_predicted_cancer = None\n",
    "### END CODE HERE ### \n",
    "\n",
    "# How many patients with cancer were correctly detected?\n",
    "### START CODE HERE ### (~1 line)\n",
    "n_correct_cancer_predictions = None\n",
    "### END CODE HERE ### "
   ]
  },
  {
   "cell_type": "code",
   "execution_count": null,
   "metadata": {
    "collapsed": true,
    "deletable": false,
    "editable": false,
    "nbgrader": {
     "checksum": "94004ed67fec65d3b20244608381904a",
     "grade": false,
     "grade_id": "cell-7f814770bfc5548f",
     "locked": true,
     "schema_version": 1,
     "solution": false
    }
   },
   "outputs": [],
   "source": [
    "print('You have a dataset with %s cells with cancer and %s healthy cells. \\n\\n'\n",
    "     'After analysing the data and training the sklearn\\'s SGDClassifier you find out that it correctly '\n",
    "     'identified %s out of %s cancer cells which were all of them. You feel very lucky and happy. However, shortly '\n",
    "     'after you get somewhat suspicious after getting such amazing results. You feel that they should not be '\n",
    "     'that good, but you do not know how to be sure of it. You say to yourself that you will definitely be '\n",
    "     'present when doing the next Small Learning Unit 11, which will tackle exactly that.' % \n",
    "      (n_cancer, n_healthy, n_predicted_cancer, n_correct_cancer_predictions))"
   ]
  },
  {
   "cell_type": "markdown",
   "metadata": {
    "deletable": false,
    "editable": false,
    "nbgrader": {
     "checksum": "3dc8a54e906ac2f0a97f611b66ef4a9b",
     "grade": false,
     "grade_id": "cell-6f81c5a2df89a994",
     "locked": true,
     "schema_version": 1,
     "solution": false
    }
   },
   "source": [
    "**Test output (don't change code here)**"
   ]
  },
  {
   "cell_type": "code",
   "execution_count": null,
   "metadata": {
    "collapsed": true,
    "deletable": false,
    "editable": false,
    "nbgrader": {
     "checksum": "33ae10c73e20427ee72b6dcc8ad5fa02",
     "grade": true,
     "grade_id": "cell-2fbcca163a9db18d",
     "locked": true,
     "points": 3,
     "schema_version": 1,
     "solution": false
    }
   },
   "outputs": [],
   "source": []
  }
 ],
 "metadata": {
  "kernelspec": {
   "display_name": "Python 3",
   "language": "python",
   "name": "python3"
  },
  "language_info": {
   "codemirror_mode": {
    "name": "ipython",
    "version": 3
   },
   "file_extension": ".py",
   "mimetype": "text/x-python",
   "name": "python",
   "nbconvert_exporter": "python",
   "pygments_lexer": "ipython3",
   "version": "3.6.3"
  }
 },
 "nbformat": 4,
 "nbformat_minor": 2
}
