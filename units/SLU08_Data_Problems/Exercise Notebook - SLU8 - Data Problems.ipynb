{
 "cells": [
  {
   "cell_type": "markdown",
   "metadata": {
    "deletable": false,
    "editable": false,
    "nbgrader": {
     "checksum": "0b0d3775309bed48af20258e9b245955",
     "grade": false,
     "grade_id": "cell-8de03764c3fadbb7",
     "locked": true,
     "schema_version": 1,
     "solution": false
    }
   },
   "source": [
    "# Exercise Notebook - SLU8 - Data Problems\n",
    "\n",
    "This notebook is associated with this [presentation](https://docs.google.com/presentation/d/1bu6ORtlvKfPI7ZwEA-BOSxpg1pHGvsemFHo0MhoR6ss/edit?usp=sharing). What we cover here:\n",
    "- Common data entry problems\n",
    "- Missing data\n",
    "- Duplicated data\n",
    "- Outlier detection\n",
    "- Dealing with outliers\n",
    "- Number of uniques (_nunique_)\n",
    "- Drop duplicates\n",
    "- Converting dtypes\n",
    "- Data imputation techniques\n",
    "\n",
    "The **main objective** is to arrive at the end of this notebook with our dataset \"cleaned\" of any problems: entry problems, duplicated eliminated, missing values all identified, and outliers handles.\n",
    "\n",
    "-----\n",
    "_By: Hugo Lopes  \n",
    "LDSA - SLU8_"
   ]
  },
  {
   "cell_type": "code",
   "execution_count": null,
   "metadata": {
    "deletable": false,
    "editable": false,
    "nbgrader": {
     "checksum": "8032d3767a5e3dec7d4bfa7652978eaa",
     "grade": false,
     "grade_id": "cell-5c7aeb95386944af",
     "locked": true,
     "schema_version": 1,
     "solution": false
    }
   },
   "outputs": [],
   "source": [
    "import pandas as pd\n",
    "import numpy as np\n",
    "\n",
    "% matplotlib inline\n",
    "from matplotlib import pyplot as plt "
   ]
  },
  {
   "cell_type": "markdown",
   "metadata": {
    "deletable": false,
    "editable": false,
    "nbgrader": {
     "checksum": "b38ab254545e188a7d4c5130f69e43a3",
     "grade": false,
     "grade_id": "cell-cce5c680443f5ed3",
     "locked": true,
     "schema_version": 1,
     "solution": false
    }
   },
   "source": [
    "# Load Data\n",
    "We will use an extraction **and altered** (!) set of the [Titanic Dataset](https://www.kaggle.com/c/titanic)."
   ]
  },
  {
   "cell_type": "code",
   "execution_count": null,
   "metadata": {
    "deletable": false,
    "editable": false,
    "nbgrader": {
     "checksum": "085c637b366d0ea98fd9f30a17e34dde",
     "grade": false,
     "grade_id": "cell-e4a7efe6d5ed3d75",
     "locked": true,
     "schema_version": 1,
     "solution": false
    }
   },
   "outputs": [],
   "source": [
    "df = pd.read_csv('titanic_exercise.csv')\n",
    "print('Initial Shape:', df.shape)\n",
    "df.head()"
   ]
  },
  {
   "cell_type": "markdown",
   "metadata": {
    "deletable": false,
    "editable": false,
    "nbgrader": {
     "checksum": "83ebcdab445db02e4db840a73cb8862f",
     "grade": false,
     "grade_id": "cell-f06de24313c07c92",
     "locked": true,
     "schema_version": 1,
     "solution": false
    }
   },
   "source": [
    "# Exercise 1: Data Entry Problems\n",
    "The feature `Sex` has a problem. Let's solve it."
   ]
  },
  {
   "cell_type": "code",
   "execution_count": null,
   "metadata": {
    "deletable": false,
    "nbgrader": {
     "checksum": "f1824162b10117dc1b8c42bfdf076feb",
     "grade": false,
     "grade_id": "cell-44d0fe77142624bb",
     "locked": false,
     "schema_version": 1,
     "solution": true
    }
   },
   "outputs": [],
   "source": [
    "# EXERCISE\n",
    "# Check the unique values of Sex, and assign it to a variable 'uniques' \n",
    "# uniques = ...\n",
    "# YOUR CODE HERE\n",
    "raise NotImplementedError()\n",
    "\n",
    "\n",
    "# For validation (do not modify):\n",
    "print('Unique values:', uniques)"
   ]
  },
  {
   "cell_type": "markdown",
   "metadata": {
    "deletable": false,
    "editable": false,
    "nbgrader": {
     "checksum": "251b2d9db3b2b629aa24be243f6deeb5",
     "grade": false,
     "grade_id": "cell-b13c11cb6f00d751",
     "locked": true,
     "schema_version": 1,
     "solution": false
    }
   },
   "source": [
    "Expected output:\n",
    "    \n",
    "    Unique values: ['male' 'female' 'Squirrel']"
   ]
  },
  {
   "cell_type": "code",
   "execution_count": null,
   "metadata": {
    "deletable": false,
    "editable": false,
    "nbgrader": {
     "checksum": "a9f226402f1bd6b7cd993c1ab4156b7e",
     "grade": true,
     "grade_id": "cell-709b00f7c20780f2",
     "locked": true,
     "points": 2,
     "schema_version": 1,
     "solution": false
    }
   },
   "outputs": [],
   "source": [
    "### BEGIN TESTS\n",
    "assert set(list(uniques)) == set(['male', 'female', 'Squirrel']) \n",
    "### END TESTS"
   ]
  },
  {
   "cell_type": "markdown",
   "metadata": {
    "deletable": false,
    "editable": false,
    "nbgrader": {
     "checksum": "71a52177421fd66084d7cc5d47587713",
     "grade": false,
     "grade_id": "cell-ea41714a27e6e0f3",
     "locked": true,
     "schema_version": 1,
     "solution": false
    }
   },
   "source": [
    "Looks like we found a _Squirrel_! This does not make sense!! Let's drop the rows where we can find `Squirrel`. First, let's check how many squirrels..."
   ]
  },
  {
   "cell_type": "code",
   "execution_count": null,
   "metadata": {
    "deletable": false,
    "nbgrader": {
     "checksum": "37e2787ce6cf852246ed1e919d2aba0e",
     "grade": false,
     "grade_id": "cell-a6e72eaaffeeacf5",
     "locked": false,
     "schema_version": 1,
     "solution": true
    }
   },
   "outputs": [],
   "source": [
    "# EXERCISE\n",
    "# Find the rows with Squirrel (create a boolean mask)\n",
    "# mask = ...\n",
    "# YOUR CODE HERE\n",
    "raise NotImplementedError()\n",
    "\n",
    "\n",
    "# For validation (do not modify):\n",
    "print('Number of Squirrels =', mask.sum())"
   ]
  },
  {
   "cell_type": "markdown",
   "metadata": {
    "deletable": false,
    "editable": false,
    "nbgrader": {
     "checksum": "9a1664528e6473a16e4de4fb1cd7ffc5",
     "grade": false,
     "grade_id": "cell-fbb9677e4a63207c",
     "locked": true,
     "schema_version": 1,
     "solution": false
    }
   },
   "source": [
    "Expected output:\n",
    "    \n",
    "    Number of Squirrels = 1"
   ]
  },
  {
   "cell_type": "code",
   "execution_count": null,
   "metadata": {
    "deletable": false,
    "editable": false,
    "nbgrader": {
     "checksum": "7c153571880dd616045d034f33c4c85c",
     "grade": true,
     "grade_id": "cell-9edeb7cb605f8b41",
     "locked": true,
     "points": 2,
     "schema_version": 1,
     "solution": false
    }
   },
   "outputs": [],
   "source": [
    "### BEGIN TESTS\n",
    "assert mask.sum() == 1\n",
    "assert mask.dtype == bool, 'Mask is not boolean'\n",
    "### END TESTS"
   ]
  },
  {
   "cell_type": "code",
   "execution_count": null,
   "metadata": {
    "deletable": false,
    "nbgrader": {
     "checksum": "cbaacfdb2bd473a53bf2ab800cce9937",
     "grade": false,
     "grade_id": "cell-8f48643883f8a197",
     "locked": false,
     "schema_version": 1,
     "solution": true
    }
   },
   "outputs": [],
   "source": [
    "# Now drop the rows that have Squirrel (update 'df')\n",
    "# df = ...\n",
    "# YOUR CODE HERE\n",
    "raise NotImplementedError()\n",
    "\n",
    "\n",
    "# For validation (do not modify):\n",
    "print('Shape after dropping:', df.shape)"
   ]
  },
  {
   "cell_type": "markdown",
   "metadata": {
    "deletable": false,
    "editable": false,
    "nbgrader": {
     "checksum": "e87970e2251e8fa95ac4f0abcd634465",
     "grade": false,
     "grade_id": "cell-b05ecafc537030fa",
     "locked": true,
     "schema_version": 1,
     "solution": false
    }
   },
   "source": [
    "Expected output:\n",
    "    \n",
    "    Shape after dropping: (895, 12)"
   ]
  },
  {
   "cell_type": "code",
   "execution_count": null,
   "metadata": {
    "deletable": false,
    "editable": false,
    "nbgrader": {
     "checksum": "2ac6bdd20cbbc207f8288fe9c114eef0",
     "grade": true,
     "grade_id": "cell-641ee100d76c157a",
     "locked": true,
     "points": 2,
     "schema_version": 1,
     "solution": false
    }
   },
   "outputs": [],
   "source": [
    "### BEGIN TESTS\n",
    "assert df.shape == (895, 12)\n",
    "### END TESTS"
   ]
  },
  {
   "cell_type": "markdown",
   "metadata": {
    "deletable": false,
    "editable": false,
    "nbgrader": {
     "checksum": "022fa2e184cce685ce305ea8da11f17d",
     "grade": false,
     "grade_id": "cell-3ad116a8f5ae2fc8",
     "locked": true,
     "schema_version": 1,
     "solution": false
    }
   },
   "source": [
    "# Exercise 2: Duplicated Data\n",
    "Time to check if we have duplicated observations (rows). "
   ]
  },
  {
   "cell_type": "code",
   "execution_count": null,
   "metadata": {
    "deletable": false,
    "nbgrader": {
     "checksum": "6071f795dc3e073d3b274fd46a76d97c",
     "grade": false,
     "grade_id": "cell-6d88fd848d6c9a56",
     "locked": false,
     "schema_version": 1,
     "solution": true
    }
   },
   "outputs": [],
   "source": [
    "# Find the duplicated lines according to the 'PassengerId' subset. \n",
    "# Create a mask out of it (hint: use 'duplicated()')\n",
    "# duplicates = ...\n",
    "# YOUR CODE HERE\n",
    "raise NotImplementedError()\n",
    "\n",
    "print('Number of duplicates:', duplicates.sum())"
   ]
  },
  {
   "cell_type": "markdown",
   "metadata": {
    "deletable": false,
    "editable": false,
    "nbgrader": {
     "checksum": "778d66e93ff4c2e4edfa51ef22c67af8",
     "grade": false,
     "grade_id": "cell-5890020756c54c64",
     "locked": true,
     "schema_version": 1,
     "solution": false
    }
   },
   "source": [
    "Expected output:\n",
    "\n",
    "    Number of duplicates: 5"
   ]
  },
  {
   "cell_type": "code",
   "execution_count": null,
   "metadata": {
    "deletable": false,
    "editable": false,
    "nbgrader": {
     "checksum": "fac1561f583c7cbf253c4e9007d7f685",
     "grade": true,
     "grade_id": "cell-449f9d2ba07dd384",
     "locked": true,
     "points": 2,
     "schema_version": 1,
     "solution": false
    }
   },
   "outputs": [],
   "source": [
    "### BEGIN TESTS\n",
    "assert duplicates.sum() == 5, 'Wrong number of duplicates'\n",
    "### END TESTS"
   ]
  },
  {
   "cell_type": "markdown",
   "metadata": {
    "deletable": false,
    "editable": false,
    "nbgrader": {
     "checksum": "23eaca41cd8bce7affaf6089824f82be",
     "grade": false,
     "grade_id": "cell-65e45640cea438ab",
     "locked": true,
     "schema_version": 1,
     "solution": false
    }
   },
   "source": [
    "Now, after verification, we know how many duplicates we have. It's time to drop the duplicated rows:"
   ]
  },
  {
   "cell_type": "code",
   "execution_count": null,
   "metadata": {
    "deletable": false,
    "nbgrader": {
     "checksum": "00532f27294a65c59c2a1f5ffee86678",
     "grade": false,
     "grade_id": "cell-77f4e93e1d7b5692",
     "locked": false,
     "schema_version": 1,
     "solution": true
    }
   },
   "outputs": [],
   "source": [
    "# Drop the duplicated lines according to the 'PassengerId' subset. \n",
    "# Create a mask out of it (hint: use 'duplicated()')\n",
    "# duplicates = ...\n",
    "# YOUR CODE HERE\n",
    "raise NotImplementedError()\n",
    "\n",
    "# For validation (do not modify):\n",
    "print('Number of duplicated lines after drop:', df.duplicated().sum())\n",
    "print('Shape after drop:', df.shape)"
   ]
  },
  {
   "cell_type": "markdown",
   "metadata": {
    "deletable": false,
    "editable": false,
    "nbgrader": {
     "checksum": "bc5231d17f155b741f69db0eb757c035",
     "grade": false,
     "grade_id": "cell-0c599103715d89ef",
     "locked": true,
     "schema_version": 1,
     "solution": false
    }
   },
   "source": [
    "Expected output:\n",
    "\n",
    "    Number of duplicated lines after drop: 0\n",
    "    Shape after drop: (890, 12)"
   ]
  },
  {
   "cell_type": "code",
   "execution_count": null,
   "metadata": {
    "deletable": false,
    "editable": false,
    "nbgrader": {
     "checksum": "c89487697e84809bda3c5693613200e8",
     "grade": true,
     "grade_id": "cell-30f8efef22074f36",
     "locked": true,
     "points": 2,
     "schema_version": 1,
     "solution": false
    }
   },
   "outputs": [],
   "source": [
    "### BEGIN TESTS\n",
    "assert df.duplicated().sum() == 0, 'You still have dulicates'\n",
    "assert df.shape == (890, 12), 'Dataframe shape is not correct'\n",
    "### END TESTS"
   ]
  },
  {
   "cell_type": "markdown",
   "metadata": {
    "deletable": false,
    "editable": false,
    "nbgrader": {
     "checksum": "ed16515af8f531d7145a9fb6f96700a5",
     "grade": false,
     "grade_id": "cell-29d505bdc172805c",
     "locked": true,
     "schema_version": 1,
     "solution": false
    }
   },
   "source": [
    "# Exercise 3: Missing Values\n",
    "The missing values are the single most complex and common data problems there is. There are several full books about handling missing values! \n",
    "\n",
    "You can think of cases where the presence of missing values is just completely random, or cases where missing values are _missing_ for some reason (e.g., I may not want to tell my income for a loan application because I'm a very small amount of money, or because I simply don't have income). \n",
    "\n",
    "Since this is a very complex topic we will focus on solving it the easy way (not optimal):\n",
    "- Dropping columns with a high percentage of missing values (rule of thumb >80-90%).\n",
    "- Numerical features: Replacing the missing values by a value.\n",
    "- Categorical features: Replacing the missing values by a new category (e.g. 'unknown')."
   ]
  },
  {
   "cell_type": "code",
   "execution_count": null,
   "metadata": {
    "deletable": false,
    "nbgrader": {
     "checksum": "1dec357956047d2f05f0194ab075a9d8",
     "grade": false,
     "grade_id": "cell-552e1b726a8a6011",
     "locked": false,
     "schema_version": 1,
     "solution": true
    }
   },
   "outputs": [],
   "source": [
    "def eliminate_missing_values(data):\n",
    "    \"\"\"\n",
    "    Eliminate the missing values, numpy.nan, of numerical features and\n",
    "    categorical features. Also, drop one of the features which has a lot of missing data.\n",
    "    \"\"\"    \n",
    "    # 1) Analysis\n",
    "    # Count the number of missing values in the full dataset. \n",
    "    # Use pandas '.isnull()'. Number_of_missing should be a single int number\n",
    "    # number_of_missing = ...\n",
    "    # YOUR CODE HERE\n",
    "    raise NotImplementedError()\n",
    "    \n",
    "    \n",
    "    # 2) Cleaning missing data on numerical features\n",
    "    # Fill the missing values of 'Age' by the median. \n",
    "    # You can use 'fillna'\n",
    "    # df.Age = ...\n",
    "    # YOUR CODE HERE\n",
    "    raise NotImplementedError()\n",
    "    \n",
    "    \n",
    "    # 3) Solving Categorical Features\n",
    "    # Replace the missing values in the feature 'Embarked' by 'unknown'\n",
    "    # You can use 'fillna()'\n",
    "    # df.Embarked = ...\n",
    "    # YOUR CODE HERE\n",
    "    raise NotImplementedError()\n",
    "    \n",
    "    \n",
    "    # 4) Drop the feature 'Cabin' which has a lot of missing values\n",
    "    # You can use the method 'drop(...)'. \n",
    "    # Hint: remember what you learned about the axis number\n",
    "    # df = ...\n",
    "    # YOUR CODE HERE\n",
    "    raise NotImplementedError()\n",
    "    \n",
    "    return number_of_missing, data"
   ]
  },
  {
   "cell_type": "code",
   "execution_count": null,
   "metadata": {
    "deletable": false,
    "editable": false,
    "nbgrader": {
     "checksum": "0adcc30670ef2e7f15c7fbd4c556c4a9",
     "grade": false,
     "grade_id": "cell-fa84cfb06127a968",
     "locked": true,
     "schema_version": 1,
     "solution": false
    }
   },
   "outputs": [],
   "source": [
    "# For validation (do not modify):\n",
    "number_of_missing, df = eliminate_missing_values(df)\n",
    "\n",
    "print('Number of missing values', number_of_missing)\n",
    "print('Uniques of Embarked', df.Embarked.unique())\n",
    "print('Age most common value:', df.Age.value_counts().index[0])\n",
    "print('Shape after handling missing values', df.shape)"
   ]
  },
  {
   "cell_type": "markdown",
   "metadata": {
    "deletable": false,
    "editable": false,
    "nbgrader": {
     "checksum": "496ed0966fe0c9b87f11b9dc602f0683",
     "grade": false,
     "grade_id": "cell-f7852cf665a4d1f7",
     "locked": true,
     "schema_version": 1,
     "solution": false
    }
   },
   "source": [
    "Expected output:\n",
    "\n",
    "    Number of missing values 865\n",
    "    Uniques of Embarked ['S' 'C' 'Q' 'unknown']\n",
    "    Age most common value: 28.0\n",
    "    Shape after handling missing values (890, 11)"
   ]
  },
  {
   "cell_type": "code",
   "execution_count": null,
   "metadata": {
    "deletable": false,
    "editable": false,
    "nbgrader": {
     "checksum": "0911b8af5f84231f5f974b93f0a1d2b8",
     "grade": true,
     "grade_id": "cell-ea7ba97ea7d284d1",
     "locked": true,
     "points": 4,
     "schema_version": 1,
     "solution": false
    }
   },
   "outputs": [],
   "source": [
    "### BEGIN TESTS\n",
    "assert number_of_missing == 865\n",
    "assert set(list(df.Embarked.unique())) == set(['S', 'C', 'Q', 'unknown'])\n",
    "assert np.isclose(df.Age.value_counts().index[0], 28)\n",
    "assert df.shape == (890, 11)\n",
    "### END TESTS"
   ]
  },
  {
   "cell_type": "markdown",
   "metadata": {
    "deletable": false,
    "editable": false,
    "nbgrader": {
     "checksum": "a41b0b5ec2b0a57250fdbe9d6d5176ec",
     "grade": false,
     "grade_id": "cell-468be3b369dc2d8e",
     "locked": true,
     "schema_version": 1,
     "solution": false
    }
   },
   "source": [
    "# Exercise 4: Outliers\n",
    "You suspect that the `Age` variable has some outliers. Time to take a look at it."
   ]
  },
  {
   "cell_type": "code",
   "execution_count": null,
   "metadata": {
    "deletable": false,
    "nbgrader": {
     "checksum": "0f2edbe3615f35bd89c473da7c0e8ca0",
     "grade": false,
     "grade_id": "cell-39e8900a6cbea07f",
     "locked": false,
     "schema_version": 1,
     "solution": true
    }
   },
   "outputs": [],
   "source": [
    "def eliminate_age_outliers(data, minimum, maximum):\n",
    "    \"\"\"\n",
    "    Eliminate the outliers in Age, and update full dataframe, \n",
    "    by dropping the rows with these outliers.\n",
    "    \"\"\"\n",
    "    data = data.copy()\n",
    "\n",
    "    # 1) Create a boolean mask with the values out of range [minimum, maximum]\n",
    "    # Make the minimum and maximum values inclusive. \n",
    "    # Also, count the number of outliers that were found\n",
    "    # Hint: beware of your parenthesis!\n",
    "    # mask = ...\n",
    "    # number_of_outliers = ...\n",
    "    # YOUR CODE HERE\n",
    "    raise NotImplementedError()\n",
    "    \n",
    "    # 2) Update the dataframe 'data'. Keep only the rows that do not\n",
    "    # have outliers in 'Age'. \n",
    "    # data = ...\n",
    "    # YOUR CODE HERE\n",
    "    raise NotImplementedError()\n",
    "    \n",
    "    assert mask.dtype == 'bool', \"The mask must be of bool type\"\n",
    "    return data, number_of_outliers"
   ]
  },
  {
   "cell_type": "code",
   "execution_count": null,
   "metadata": {
    "deletable": false,
    "editable": false,
    "nbgrader": {
     "checksum": "92879d5783b057931db6896bf8b1c0ee",
     "grade": false,
     "grade_id": "cell-f5543791ccb88747",
     "locked": true,
     "schema_version": 1,
     "solution": false
    }
   },
   "outputs": [],
   "source": [
    "# For validation (do not modify):\n",
    "print('Shape before removing outliers:', df.shape)\n",
    "\n",
    "df, num_of_outliers = eliminate_age_outliers(df, 0, 117)\n",
    "\n",
    "print('Number of outliers:', num_of_outliers)\n",
    "print('Final shape of dataset:', df.shape)"
   ]
  },
  {
   "cell_type": "markdown",
   "metadata": {
    "deletable": false,
    "editable": false,
    "nbgrader": {
     "checksum": "7e21b5b9086c2d2f7c4d5f5843f50aac",
     "grade": false,
     "grade_id": "cell-20bc552eef9d0a09",
     "locked": true,
     "schema_version": 1,
     "solution": false
    }
   },
   "source": [
    "Expected output:\n",
    "\n",
    "    Shape before removing outliers: (890, 11)\n",
    "    Number of outliers: 2\n",
    "    Final shape of dataset: (888, 11)"
   ]
  },
  {
   "cell_type": "code",
   "execution_count": null,
   "metadata": {
    "deletable": false,
    "editable": false,
    "nbgrader": {
     "checksum": "48132765d485fded7ac841a1cb0c7413",
     "grade": true,
     "grade_id": "cell-4cb8c79a8fdd5bdd",
     "locked": true,
     "points": 3,
     "schema_version": 1,
     "solution": false
    }
   },
   "outputs": [],
   "source": [
    "### BEGIN TESTS\n",
    "assert num_of_outliers == 2, 'Incorrect number of outliers'\n",
    "assert df.shape == (888, 11)\n",
    "### END TESTS"
   ]
  },
  {
   "cell_type": "markdown",
   "metadata": {
    "deletable": false,
    "editable": false,
    "nbgrader": {
     "checksum": "71f0d4ed71dc597eb0e11f46e81ab68f",
     "grade": false,
     "grade_id": "cell-764534232a55bd48",
     "locked": true,
     "schema_version": 1,
     "solution": false
    }
   },
   "source": [
    "# Exercise 5: Data Types\n",
    "The most common data types are:\n",
    "- `str` (in dataframe it is seen as `object`), e.g., `female`\n",
    "- `float`, e.g., `13.2`\n",
    "- `int`, e.g., `120` \n",
    "\n",
    "Sometimes you'll need to convert between datatypes. For example, you might have a variable with values `['3.1', '4.6', '???', '3.9']` that you are sure it is numerical. After you take care of that `???`, by any method you wish, you will need to convert to either `float` or `int`. The array does not automatically convert to numerical just because it only has numerical data.\n",
    "\n",
    "Let's convert the feature `Age` data type."
   ]
  },
  {
   "cell_type": "code",
   "execution_count": null,
   "metadata": {
    "deletable": false,
    "nbgrader": {
     "checksum": "fd4fe96e422382354740f21199373267",
     "grade": false,
     "grade_id": "cell-ea52b88623d3149c",
     "locked": false,
     "schema_version": 1,
     "solution": true
    }
   },
   "outputs": [],
   "source": [
    "# EXERCISE\n",
    "# Check the Age dtype, assign it to 'dtype' variable\n",
    "# dtype = ...\n",
    "# YOUR CODE HERE\n",
    "raise NotImplementedError()\n",
    "\n",
    "print('Current Age dtype:', dtype)"
   ]
  },
  {
   "cell_type": "markdown",
   "metadata": {
    "deletable": false,
    "editable": false,
    "nbgrader": {
     "checksum": "6728faa9ec435dd7fabc6192cb56d505",
     "grade": false,
     "grade_id": "cell-8bf307de79b8b13e",
     "locked": true,
     "schema_version": 1,
     "solution": false
    }
   },
   "source": [
    "Expected output:\n",
    "\n",
    "    Current Age dtype: float64"
   ]
  },
  {
   "cell_type": "code",
   "execution_count": null,
   "metadata": {
    "deletable": false,
    "editable": false,
    "nbgrader": {
     "checksum": "13e1c88dbf6aa0030e3c326e74d43be8",
     "grade": true,
     "grade_id": "cell-f19c24b25c6160e5",
     "locked": true,
     "points": 1,
     "schema_version": 1,
     "solution": false
    }
   },
   "outputs": [],
   "source": [
    "### BEGIN TESTS\n",
    "assert dtype == np.float64\n",
    "### END TESTS"
   ]
  },
  {
   "cell_type": "code",
   "execution_count": null,
   "metadata": {
    "deletable": false,
    "nbgrader": {
     "checksum": "009164bdf3259cb3b90facdcbb5c9b27",
     "grade": false,
     "grade_id": "cell-d2764b69e81a3588",
     "locked": false,
     "schema_version": 1,
     "solution": true
    }
   },
   "outputs": [],
   "source": [
    "# EXERCISE\n",
    "# Convert the feature Age to int. Update the dataframe.\n",
    "# Hint: Use the method `astype()`.\n",
    "# df.Age = ...\n",
    "# YOUR CODE HERE\n",
    "raise NotImplementedError()\n",
    "\n",
    "# For validation (do not modify):\n",
    "print('New Age dtype:', df.Age.dtype)"
   ]
  },
  {
   "cell_type": "markdown",
   "metadata": {
    "deletable": false,
    "editable": false,
    "nbgrader": {
     "checksum": "33629511cf6ffb52d757798c5b9cdf3d",
     "grade": false,
     "grade_id": "cell-2c131ec6536891f8",
     "locked": true,
     "schema_version": 1,
     "solution": false
    }
   },
   "source": [
    "Expected output:\n",
    "\n",
    "    New Age dtype: int64"
   ]
  },
  {
   "cell_type": "code",
   "execution_count": null,
   "metadata": {
    "deletable": false,
    "editable": false,
    "nbgrader": {
     "checksum": "7d019a2e94f7ba5117d516286e2e1edb",
     "grade": true,
     "grade_id": "cell-929605d4e13df683",
     "locked": true,
     "points": 2,
     "schema_version": 1,
     "solution": false
    }
   },
   "outputs": [],
   "source": [
    "### BEGIN TESTS\n",
    "assert df.Age.dtype == np.int64\n",
    "### END TESTS"
   ]
  },
  {
   "cell_type": "markdown",
   "metadata": {
    "deletable": false,
    "editable": false,
    "nbgrader": {
     "checksum": "239ad0180e121e0a6d86969f432c37bd",
     "grade": false,
     "grade_id": "cell-40e257159a597291",
     "locked": true,
     "schema_version": 1,
     "solution": false
    }
   },
   "source": [
    "# Final Dataset"
   ]
  },
  {
   "cell_type": "code",
   "execution_count": null,
   "metadata": {
    "deletable": false,
    "editable": false,
    "nbgrader": {
     "checksum": "9e220b02558c6c5659c5051244d88eb0",
     "grade": false,
     "grade_id": "cell-f98f76d299c6d6c1",
     "locked": true,
     "schema_version": 1,
     "solution": false
    }
   },
   "outputs": [],
   "source": [
    "df.head(10)"
   ]
  },
  {
   "cell_type": "markdown",
   "metadata": {
    "deletable": false,
    "editable": false,
    "nbgrader": {
     "checksum": "486e3d7849ca7681e7a1baf1ae64601f",
     "grade": false,
     "grade_id": "cell-c400e5543660e3f4",
     "locked": true,
     "schema_version": 1,
     "solution": false
    }
   },
   "source": [
    "# EXTRA (optional) Exercises: \n",
    "## 1) Our workflow might lead us to one problem. Can you find it out?\n",
    "(hint: replace with mean)\n",
    "\n",
    "## 2) Can you find people from the same family? [advanced!]\n",
    "(hint: use Python's `re`, regular expressions)\n",
    "\n",
    "## 3) Is there any outlier in feature `Fare`? Why?"
   ]
  }
 ],
 "metadata": {
  "kernelspec": {
   "display_name": "Python 3",
   "language": "python",
   "name": "python3"
  },
  "language_info": {
   "codemirror_mode": {
    "name": "ipython",
    "version": 3
   },
   "file_extension": ".py",
   "mimetype": "text/x-python",
   "name": "python",
   "nbconvert_exporter": "python",
   "pygments_lexer": "ipython3",
   "version": "3.6.4"
  }
 },
 "nbformat": 4,
 "nbformat_minor": 2
}
