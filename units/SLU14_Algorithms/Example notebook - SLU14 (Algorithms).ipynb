{
 "cells": [
  {
   "cell_type": "code",
   "execution_count": 3,
   "metadata": {},
   "outputs": [],
   "source": [
    "# Import pandas and numpy\n",
    "import pandas as pd\n",
    "import numpy as np\n",
    "\n",
    "# Import the classifiers we will be using\n",
    "from sklearn.neighbors import KNeighborsClassifier\n",
    "from sklearn.naive_bayes import GaussianNB\n",
    "from sklearn.tree import DecisionTreeClassifier\n",
    "from sklearn.ensemble import RandomForestClassifier\n",
    "\n",
    "# Import train/test split function\n",
    "from sklearn.model_selection import train_test_split\n",
    "\n",
    "# Import ROC AUC scoring function\n",
    "from sklearn.metrics import roc_auc_score"
   ]
  },
  {
   "cell_type": "markdown",
   "metadata": {},
   "source": [
    "[The Wisconsin breast cancer dataset](https://www.kaggle.com/uciml/breast-cancer-wisconsin-data) is a breast cancer diagnostic dataset: these features are computed from a digitized image of a fine needle aspirate (FNA) of a breast mass.\n",
    "\n",
    "`diagnosis` is our target: 0 for benign, 1 for malignant.\n",
    "\n",
    "First we'll read in our dataset and create the train/test split:"
   ]
  },
  {
   "cell_type": "code",
   "execution_count": 4,
   "metadata": {},
   "outputs": [],
   "source": [
    "dataset = pd.read_csv('data/breast_cancer.csv', index_col='id')\n",
    "\n",
    "features = dataset.drop('diagnosis', axis=1)\n",
    "label = dataset['diagnosis']\n",
    "\n",
    "X_train, X_test, y_train, y_test = train_test_split(features, label, test_size=0.33, random_state=0)"
   ]
  },
  {
   "cell_type": "markdown",
   "metadata": {},
   "source": [
    "We will briefly go through all the algorithms that were taught in the Learning Notebook."
   ]
  },
  {
   "cell_type": "markdown",
   "metadata": {},
   "source": [
    "# [K-Nearest-Neighbors Classifier](http://scikit-learn.org/stable/modules/generated/sklearn.neighbors.KNeighborsClassifier.html)"
   ]
  },
  {
   "cell_type": "code",
   "execution_count": 5,
   "metadata": {},
   "outputs": [
    {
     "name": "stdout",
     "output_type": "stream",
     "text": [
      "ROC AUC: 0.967497\n"
     ]
    }
   ],
   "source": [
    "# Choose the model\n",
    "knn = KNeighborsClassifier()\n",
    "\n",
    "# Fit the model\n",
    "knn = knn.fit(X_train, y_train)\n",
    "\n",
    "# Make the predictions\n",
    "knn_preds = knn.predict_proba(X_test)\n",
    "\n",
    "# Score the predictions\n",
    "score = roc_auc_score(y_test, knn_preds[:,1])\n",
    "\n",
    "print(\"ROC AUC: %f\" % score)"
   ]
  },
  {
   "cell_type": "markdown",
   "metadata": {},
   "source": [
    "# [Gaussian Naive Bayes Classifier](http://scikit-learn.org/stable/modules/generated/sklearn.naive_bayes.GaussianNB.html)"
   ]
  },
  {
   "cell_type": "code",
   "execution_count": 6,
   "metadata": {},
   "outputs": [
    {
     "name": "stdout",
     "output_type": "stream",
     "text": [
      "ROC AUC: 0.985568\n"
     ]
    }
   ],
   "source": [
    "# Choose the model\n",
    "naive_bayes = GaussianNB()\n",
    "\n",
    "# Fit the model\n",
    "naive_bayes = naive_bayes.fit(X_train, y_train)\n",
    "\n",
    "# Make the predictions\n",
    "naive_bayes_preds = naive_bayes.predict_proba(X_test)\n",
    "\n",
    "# Score the predictions\n",
    "score = roc_auc_score(y_test, naive_bayes_preds[:,1])\n",
    "\n",
    "print(\"ROC AUC: %f\" % score)"
   ]
  },
  {
   "cell_type": "markdown",
   "metadata": {},
   "source": [
    "# [Decision Tree Classifier](http://scikit-learn.org/stable/modules/generated/sklearn.tree.DecisionTreeClassifier.html)"
   ]
  },
  {
   "cell_type": "code",
   "execution_count": 8,
   "metadata": {},
   "outputs": [
    {
     "name": "stdout",
     "output_type": "stream",
     "text": [
      "ROC AUC: 0.913902\n"
     ]
    }
   ],
   "source": [
    "# Choose the model\n",
    "decision_tree = DecisionTreeClassifier()\n",
    "\n",
    "# Fit the model\n",
    "decision_tree = decision_tree.fit(X_train, y_train)\n",
    "\n",
    "# Make the predictions\n",
    "decision_tree_preds = decision_tree.predict_proba(X_test)\n",
    "\n",
    "# Score the predictions\n",
    "score = roc_auc_score(y_test, decision_tree_preds[:,1])\n",
    "\n",
    "print(\"ROC AUC: %f\" % score)"
   ]
  },
  {
   "cell_type": "markdown",
   "metadata": {},
   "source": [
    "# [Random Forest Classifier](http://scikit-learn.org/stable/modules/generated/sklearn.ensemble.RandomForestClassifier.html)"
   ]
  },
  {
   "cell_type": "code",
   "execution_count": 9,
   "metadata": {},
   "outputs": [
    {
     "name": "stdout",
     "output_type": "stream",
     "text": [
      "ROC AUC: 0.993462\n"
     ]
    }
   ],
   "source": [
    "# Choose the model\n",
    "random_forest = RandomForestClassifier()\n",
    "\n",
    "# Fit the model\n",
    "random_forest = random_forest.fit(X_train, y_train)\n",
    "\n",
    "# Make the predictions\n",
    "random_forest_preds = random_forest.predict_proba(X_test)\n",
    "\n",
    "# Score the predictions\n",
    "score = roc_auc_score(y_test, random_forest_preds[:,1])\n",
    "\n",
    "print(\"ROC AUC: %f\" % score)"
   ]
  }
 ],
 "metadata": {
  "kernelspec": {
   "display_name": "Python 3",
   "language": "python",
   "name": "python3"
  },
  "language_info": {
   "codemirror_mode": {
    "name": "ipython",
    "version": 3
   },
   "file_extension": ".py",
   "mimetype": "text/x-python",
   "name": "python",
   "nbconvert_exporter": "python",
   "pygments_lexer": "ipython3",
   "version": "3.6.3"
  }
 },
 "nbformat": 4,
 "nbformat_minor": 2
}
