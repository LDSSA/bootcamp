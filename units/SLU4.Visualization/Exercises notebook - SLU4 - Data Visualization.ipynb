{
 "cells": [
  {
   "cell_type": "markdown",
   "metadata": {
    "hide_input": false
   },
   "source": [
    "In this notebook you will practice the following:\n",
    "\n",
    "- Scatterplots\n",
    "- Line charts\n",
    "- Bar charts\n",
    "- Histograms\n",
    "- Box plots\n",
    "- Scaling plots"
   ]
  },
  {
   "cell_type": "markdown",
   "metadata": {},
   "source": [
    "To learn about data visualization, we are going to use a modified version of [The Movies Dataset](https://www.kaggle.com/rounakbanik/the-movies-dataset) which has information about movies\n",
    "\n",
    "The dataset is located at `data/movies.csv`, and has the following fields\n",
    "\n",
    "```\n",
    "    budget: Movie budget (in $).\n",
    "    genre: Genre the movie belongs to.\n",
    "    original_language: Language the movie was originally filmed in.\n",
    "    production_company: Name of the production company.\n",
    "    production_country: Country where the movie was produced.\n",
    "    release_year: Year the movie was released.\n",
    "    revenue: Movie ticket sales (in $).\n",
    "    runtime: Movie duration (in minutes).\n",
    "    title: Movie title.\n",
    "    vote_average: Average rating in MovieLens.\n",
    "    vote_count: Number of votes in MovieLens.\n",
    "    release_year: Year the movie was released\n",
    "```"
   ]
  },
  {
   "cell_type": "code",
   "execution_count": null,
   "metadata": {},
   "outputs": [],
   "source": [
    "import pandas as pd"
   ]
  },
  {
   "cell_type": "code",
   "execution_count": null,
   "metadata": {},
   "outputs": [],
   "source": [
    "movies = pd.read_csv(\"data/movies.csv\")"
   ]
  },
  {
   "cell_type": "code",
   "execution_count": null,
   "metadata": {},
   "outputs": [],
   "source": [
    "movies.shape"
   ]
  },
  {
   "cell_type": "code",
   "execution_count": null,
   "metadata": {},
   "outputs": [],
   "source": [
    "movies.head()"
   ]
  },
  {
   "cell_type": "markdown",
   "metadata": {},
   "source": [
    "Import matplotlib, pyplot and the matplotlib inline magic."
   ]
  },
  {
   "cell_type": "code",
   "execution_count": null,
   "metadata": {
    "deletable": false,
    "nbgrader": {
     "checksum": "bd928df8db70ac2421e81ff2f7108c03",
     "grade": false,
     "grade_id": "cell-96c602a1da8f81e5",
     "locked": false,
     "schema_version": 1,
     "solution": true
    }
   },
   "outputs": [],
   "source": [
    "# YOUR CODE HERE\n",
    "raise NotImplementedError()"
   ]
  },
  {
   "cell_type": "code",
   "execution_count": null,
   "metadata": {
    "deletable": false,
    "editable": false,
    "nbgrader": {
     "checksum": "f2ec22d7b3fad6b7e1fb039f598bebd9",
     "grade": true,
     "grade_id": "cell-f150c73eacb8515f",
     "locked": true,
     "points": 2,
     "schema_version": 1,
     "solution": false
    }
   },
   "outputs": [],
   "source": [
    "assert plt"
   ]
  },
  {
   "cell_type": "markdown",
   "metadata": {},
   "source": [
    "Change the default chart size to 10 inches width and 10 inches height"
   ]
  },
  {
   "cell_type": "code",
   "execution_count": null,
   "metadata": {
    "deletable": false,
    "nbgrader": {
     "checksum": "a0b6398c39048ffcef0df8e20db916a0",
     "grade": false,
     "grade_id": "rcParams_answer",
     "locked": false,
     "schema_version": 1,
     "solution": true
    }
   },
   "outputs": [],
   "source": [
    "# YOUR CODE HERE\n",
    "raise NotImplementedError()"
   ]
  },
  {
   "cell_type": "code",
   "execution_count": null,
   "metadata": {
    "deletable": false,
    "editable": false,
    "nbgrader": {
     "checksum": "386211f0665fb88387cdf9f6858a8ab4",
     "grade": true,
     "grade_id": "rcParams_test",
     "locked": true,
     "points": 2,
     "schema_version": 1,
     "solution": false
    }
   },
   "outputs": [],
   "source": []
  },
  {
   "cell_type": "markdown",
   "metadata": {},
   "source": [
    "<hr>"
   ]
  },
  {
   "cell_type": "markdown",
   "metadata": {},
   "source": [
    "### Note about the grading\n",
    "\n",
    "Grading plots is difficult, we are using `plotchecker` to grade the plots with nbgrader. \n",
    "For `plotchecker` to work with nbgrader, we need to add on each cell, the line\n",
    "\n",
    "`axis = plt.gca();`\n",
    "\n",
    "**After the code required to do the plot**.\n",
    "\n",
    "For example, if we want to plot a scatter plot showing the relationship between revenue and runtime we would do as follows:"
   ]
  },
  {
   "cell_type": "code",
   "execution_count": null,
   "metadata": {},
   "outputs": [],
   "source": [
    "# code required to plot\n",
    "movies[[\"budget\", \"revenue\"]].plot.scatter(x=\"budget\",y=\"revenue\" )\n",
    "\n",
    "# last line in the cell required to \"capture\" the cell and being able to grade it with nbgrader\n",
    "axis = plt.gca();"
   ]
  },
  {
   "cell_type": "markdown",
   "metadata": {},
   "source": [
    "<hr>"
   ]
  },
  {
   "cell_type": "markdown",
   "metadata": {},
   "source": [
    "### How does the budget correlate with the revenue?"
   ]
  },
  {
   "cell_type": "code",
   "execution_count": null,
   "metadata": {
    "deletable": false,
    "nbgrader": {
     "checksum": "f5a58bbfadbc91e519bf1b15d7988c6c",
     "grade": false,
     "grade_id": "budget_revenue_scatter_answer",
     "locked": false,
     "schema_version": 1,
     "solution": true
    }
   },
   "outputs": [],
   "source": [
    "# YOUR CODE HERE\n",
    "raise NotImplementedError()\n",
    "axis = plt.gca();"
   ]
  },
  {
   "cell_type": "code",
   "execution_count": null,
   "metadata": {
    "deletable": false,
    "editable": false,
    "nbgrader": {
     "checksum": "eaa2d1aa16e92734f3d422913f60bea5",
     "grade": true,
     "grade_id": "budget_revenue_scatter_test",
     "locked": true,
     "points": 3,
     "schema_version": 1,
     "solution": false
    }
   },
   "outputs": [],
   "source": []
  },
  {
   "cell_type": "markdown",
   "metadata": {},
   "source": [
    "### How does the average movie duration evolves over time? Set the plot title to \"Average Movie Duration by year\" "
   ]
  },
  {
   "cell_type": "code",
   "execution_count": null,
   "metadata": {
    "deletable": false,
    "nbgrader": {
     "checksum": "447e30b28354b36a5c060266af054724",
     "grade": false,
     "grade_id": "duration_year_line_answer",
     "locked": false,
     "schema_version": 1,
     "solution": true
    }
   },
   "outputs": [],
   "source": [
    "# YOUR CODE HERE\n",
    "raise NotImplementedError()\n",
    "axis = plt.gca();"
   ]
  },
  {
   "cell_type": "code",
   "execution_count": null,
   "metadata": {
    "deletable": false,
    "editable": false,
    "nbgrader": {
     "checksum": "02bfd1f4ba7dc4b7c20ddd5a2fabf990",
     "grade": true,
     "grade_id": "duration_year_line_test",
     "locked": true,
     "points": 3,
     "schema_version": 1,
     "solution": false
    }
   },
   "outputs": [],
   "source": []
  },
  {
   "cell_type": "markdown",
   "metadata": {},
   "source": [
    "### How does the average revenue vary by movie genre? Label the x-axis as \"Average Revenue\""
   ]
  },
  {
   "cell_type": "code",
   "execution_count": null,
   "metadata": {
    "deletable": false,
    "nbgrader": {
     "checksum": "e60a5008293aae41daad123942bfc08e",
     "grade": false,
     "grade_id": "revenue_genre_barh_answer",
     "locked": false,
     "schema_version": 1,
     "solution": true
    }
   },
   "outputs": [],
   "source": [
    "# YOUR CODE HERE\n",
    "raise NotImplementedError()\n",
    "\n",
    "axis = plt.gca();"
   ]
  },
  {
   "cell_type": "code",
   "execution_count": null,
   "metadata": {
    "deletable": false,
    "editable": false,
    "nbgrader": {
     "checksum": "2f7e4a9d6a50284e4be8d6173eb59beb",
     "grade": true,
     "grade_id": "revenue_genre_barh_test",
     "locked": true,
     "points": 3,
     "schema_version": 1,
     "solution": false
    }
   },
   "outputs": [],
   "source": []
  },
  {
   "cell_type": "markdown",
   "metadata": {},
   "source": [
    "### How is the variable vote_count distributed? (set the x axis limit to  < 2000)"
   ]
  },
  {
   "cell_type": "code",
   "execution_count": null,
   "metadata": {
    "deletable": false,
    "nbgrader": {
     "checksum": "49b05b90735d73f0d73bccbc02aac4d5",
     "grade": false,
     "grade_id": "hist_answer",
     "locked": false,
     "schema_version": 1,
     "solution": true
    }
   },
   "outputs": [],
   "source": [
    "# YOUR CODE HERE\n",
    "raise NotImplementedError()\n",
    "\n",
    "axis = plt.gca();"
   ]
  },
  {
   "cell_type": "code",
   "execution_count": null,
   "metadata": {
    "deletable": false,
    "editable": false,
    "nbgrader": {
     "checksum": "18e4081e7fcd38d28e0d70886f246830",
     "grade": true,
     "grade_id": "hist_test",
     "locked": true,
     "points": 3,
     "schema_version": 1,
     "solution": false
    }
   },
   "outputs": [],
   "source": []
  },
  {
   "cell_type": "markdown",
   "metadata": {},
   "source": [
    "Make a plot that displays the revenue broken by movie language and that allows us to check if there are outliers."
   ]
  },
  {
   "cell_type": "code",
   "execution_count": null,
   "metadata": {
    "deletable": false,
    "nbgrader": {
     "checksum": "7f3a29c56c0fb3ef5dcef8bad5efc2e0",
     "grade": false,
     "grade_id": "boxplot_answer",
     "locked": false,
     "schema_version": 1,
     "solution": true
    }
   },
   "outputs": [],
   "source": [
    "# YOUR CODE HERE\n",
    "raise NotImplementedError()\n",
    "\n",
    "axis = plt.gca();"
   ]
  },
  {
   "cell_type": "code",
   "execution_count": null,
   "metadata": {
    "deletable": false,
    "editable": false,
    "nbgrader": {
     "checksum": "cf16bd282c9f52a58e6f2d0c0f0bc0b7",
     "grade": true,
     "grade_id": "boxplot_test",
     "locked": true,
     "points": 4,
     "schema_version": 1,
     "solution": false
    }
   },
   "outputs": [],
   "source": []
  },
  {
   "cell_type": "markdown",
   "metadata": {},
   "source": [
    "\n",
    "# Ungraded Exercise\n",
    "Load the file misterious_data.csv and use data visualization to answer the following questions:\n",
    "\n",
    "* How is the distribution of x in general?\n",
    "* Are there any outlier in any of the fields?\n",
    "* Which 2 charts better represent the underlying data?. Change their style to `bmh` and add titles to each chart explaining them \n"
   ]
  },
  {
   "cell_type": "code",
   "execution_count": null,
   "metadata": {},
   "outputs": [],
   "source": []
  }
 ],
 "metadata": {
  "kernelspec": {
   "display_name": "Python 3",
   "language": "python",
   "name": "python3"
  },
  "language_info": {
   "codemirror_mode": {
    "name": "ipython",
    "version": 3
   },
   "file_extension": ".py",
   "mimetype": "text/x-python",
   "name": "python",
   "nbconvert_exporter": "python",
   "pygments_lexer": "ipython3",
   "version": "3.6.4"
  }
 },
 "nbformat": 4,
 "nbformat_minor": 2
}
